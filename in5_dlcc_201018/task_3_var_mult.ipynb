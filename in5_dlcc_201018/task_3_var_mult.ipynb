{
 "cells": [
  {
   "cell_type": "code",
   "execution_count": 1,
   "metadata": {},
   "outputs": [],
   "source": [
    "import numpy as np\n",
    "from collections import defaultdict"
   ]
  },
  {
   "cell_type": "code",
   "execution_count": 3,
   "metadata": {},
   "outputs": [
    {
     "name": "stdout",
     "output_type": "stream",
     "text": [
      "Variable(\n",
      "  (x + y),\n",
      "  8.00,\n",
      "  d[(x + y)]/d[y]=1.00; d[(x + y)]/d[x]=1.00\n",
      ")\n"
     ]
    }
   ],
   "source": [
    "from collections import defaultdict\n",
    "\n",
    "class Variable:\n",
    "    \n",
    "    \n",
    "    def __init__(self, name, value, derivative=None, is_number=False):\n",
    "        self.name = name\n",
    "        self.value = value\n",
    "        if derivative is None:\n",
    "            self.derivative = defaultdict(float) # returns zero for any absent key\n",
    "            if not is_number:\n",
    "                self.derivative[self.name] = 1\n",
    "        else:\n",
    "            self.derivative = derivative   \n",
    "        self.is_number = is_number\n",
    "\n",
    "        \n",
    "    def __add__(self, other):\n",
    "        derivative = defaultdict(float)\n",
    "        leafs = list(set(self.derivative.keys()).union(other.derivative.keys()))\n",
    "        for v in leafs:\n",
    "            derivative[v] = 1*self.derivative[v] + 1*other.derivative[v]\n",
    "        return Variable(\n",
    "            '(%s + %s)' % (self.name, other.name),\n",
    "            self.value + other.value,\n",
    "            derivative,\n",
    "            is_number=self.is_number and other.is_number\n",
    "        )\n",
    "        \n",
    "        \n",
    "    def __mul__(self, other):\n",
    "        derivative = defaultdict(float)\n",
    "        leafs = list(set(self.derivative.keys()).union(other.derivative.keys()))\n",
    "        for v in leafs:\n",
    "            # write correct code\n",
    "            derivative[v] = 0 # <<<--- REPLACE  IT\n",
    "        return Variable(\n",
    "            '(%s * %s)' % (self.name, other.name),\n",
    "            self.value * other.value,\n",
    "            derivative,\n",
    "            is_number=self.is_number and other.is_number\n",
    "        )\n",
    "    \n",
    "    \n",
    "    def __pow__(self, other):\n",
    "        if not other.is_number:\n",
    "            raise NotImplementedError()\n",
    "        derivative = defaultdict(float)\n",
    "        for k, v in self.derivative.items():\n",
    "            # write correct code\n",
    "            derivative[k] = 0 # <<<--- REPLACE  IT\n",
    "        return Variable(\n",
    "            '(%s^(%s))' % (self.name, other.name),\n",
    "            self.value**other.value,\n",
    "            derivative,\n",
    "            is_number=self.is_number\n",
    "        )\n",
    "    \n",
    "\n",
    "    def __repr__(self):\n",
    "        return 'Variable(\\n  %s,\\n  %0.2f,\\n  %s\\n)' % (\n",
    "            self.name, \n",
    "            self.value,\n",
    "            '' if self.derivative is None else '; '.join(\n",
    "                [('d[%s]/d[%s]=%0.2f' % (self.name, k, v)) \n",
    "                 for (k, v) in self.derivative.items()]\n",
    "            )\n",
    "        )\n",
    "    \n",
    "    \n",
    "print(Variable('x', 5) + Variable('y', 3))"
   ]
  },
  {
   "cell_type": "code",
   "execution_count": 4,
   "metadata": {},
   "outputs": [],
   "source": [
    "var_x = Variable('x', 5)\n",
    "var_y = Variable('y', 3)\n",
    "var_2 = Variable('2', 2, is_number=True)"
   ]
  },
  {
   "cell_type": "code",
   "execution_count": 5,
   "metadata": {},
   "outputs": [
    {
     "data": {
      "text/plain": [
       "Variable(\n",
       "  (x^(2)),\n",
       "  25.00,\n",
       "  d[(x^(2))]/d[x]=0.00\n",
       ")"
      ]
     },
     "execution_count": 5,
     "metadata": {},
     "output_type": "execute_result"
    }
   ],
   "source": [
    "var_x**var_2"
   ]
  },
  {
   "cell_type": "code",
   "execution_count": 6,
   "metadata": {},
   "outputs": [
    {
     "data": {
      "text/plain": [
       "Variable(\n",
       "  (y^(2)),\n",
       "  9.00,\n",
       "  d[(y^(2))]/d[y]=0.00\n",
       ")"
      ]
     },
     "execution_count": 6,
     "metadata": {},
     "output_type": "execute_result"
    }
   ],
   "source": [
    "var_y**var_2"
   ]
  },
  {
   "cell_type": "code",
   "execution_count": 7,
   "metadata": {},
   "outputs": [
    {
     "data": {
      "text/plain": [
       "Variable(\n",
       "  ((x^(2)) * y),\n",
       "  75.00,\n",
       "  d[((x^(2)) * y)]/d[y]=0.00; d[((x^(2)) * y)]/d[x]=0.00\n",
       ")"
      ]
     },
     "execution_count": 7,
     "metadata": {},
     "output_type": "execute_result"
    }
   ],
   "source": [
    "(var_x**var_2)*var_y"
   ]
  },
  {
   "cell_type": "code",
   "execution_count": 8,
   "metadata": {},
   "outputs": [
    {
     "data": {
      "text/plain": [
       "Variable(\n",
       "  (((x^(2)) * y) + (y^(2))),\n",
       "  84.00,\n",
       "  d[(((x^(2)) * y) + (y^(2)))]/d[y]=0.00; d[(((x^(2)) * y) + (y^(2)))]/d[x]=0.00\n",
       ")"
      ]
     },
     "execution_count": 8,
     "metadata": {},
     "output_type": "execute_result"
    }
   ],
   "source": [
    "(var_x**var_2)*var_y + var_y**var_2"
   ]
  },
  {
   "cell_type": "code",
   "execution_count": null,
   "metadata": {},
   "outputs": [],
   "source": []
  }
 ],
 "metadata": {
  "kernelspec": {
   "display_name": "Python 3",
   "language": "python",
   "name": "python3"
  },
  "language_info": {
   "codemirror_mode": {
    "name": "ipython",
    "version": 3
   },
   "file_extension": ".py",
   "mimetype": "text/x-python",
   "name": "python",
   "nbconvert_exporter": "python",
   "pygments_lexer": "ipython3",
   "version": "3.6.5"
  }
 },
 "nbformat": 4,
 "nbformat_minor": 2
}
