{
 "cells": [
  {
   "cell_type": "code",
   "execution_count": 1,
   "metadata": {},
   "outputs": [],
   "source": [
    "import numpy as np"
   ]
  },
  {
   "cell_type": "code",
   "execution_count": 12,
   "metadata": {},
   "outputs": [
    {
     "name": "stdout",
     "output_type": "stream",
     "text": [
      "f = 9.00, d f = 1.00\n"
     ]
    }
   ],
   "source": [
    "class Variable:\n",
    "    \n",
    "    def __init__(self, value, derivative, name=None):\n",
    "        self.value = value\n",
    "        self.derivative = derivative\n",
    "        self.name = name\n",
    "\n",
    "    def __add__(self, other): \n",
    "        return Variable(\n",
    "            self.value + other.value,\n",
    "            self.derivative + other.derivative\n",
    "        )\n",
    "    \n",
    "    def __mul__(self, other):\n",
    "        # fill correct value and derivative\n",
    "        return Variable(\n",
    "            0, # <<<--- REPLACE IT\n",
    "            0  # <<<--- REPLACE  IT\n",
    "        )\n",
    "    \n",
    "    def __pow__(self, other):\n",
    "        # fill correct value and derivative\n",
    "        # assume that other is a number wrapped into variable\n",
    "        return Variable(\n",
    "            0, # <<<--- REPLACE IT\n",
    "            0  # <<<--- REPLACE IT\n",
    "        )\n",
    "\n",
    "    def __repr__(self):\n",
    "        name = 'f' if self.name is None else self.name\n",
    "        return '%s = %0.2f, d %s = %0.2f' % (name, self.value, name, self.derivative)\n",
    "    \n",
    "print(Variable(5, 1) + Variable(4, 0))"
   ]
  },
  {
   "cell_type": "code",
   "execution_count": 13,
   "metadata": {},
   "outputs": [],
   "source": [
    "x = Variable(5, 1)\n",
    "v4 = Variable(4, 0)\n",
    "v2 = Variable(2, 0)\n",
    "vn1 = Variable(-1, 0)"
   ]
  },
  {
   "cell_type": "code",
   "execution_count": 14,
   "metadata": {},
   "outputs": [
    {
     "data": {
      "text/plain": [
       "f = 0.00, d f = 0.00"
      ]
     },
     "execution_count": 14,
     "metadata": {},
     "output_type": "execute_result"
    }
   ],
   "source": [
    "x**v2"
   ]
  },
  {
   "cell_type": "code",
   "execution_count": 15,
   "metadata": {},
   "outputs": [
    {
     "data": {
      "text/plain": [
       "f = 0.00, d f = 0.00"
      ]
     },
     "execution_count": 15,
     "metadata": {},
     "output_type": "execute_result"
    }
   ],
   "source": [
    "v4*x**v2"
   ]
  },
  {
   "cell_type": "code",
   "execution_count": 16,
   "metadata": {},
   "outputs": [
    {
     "data": {
      "text/plain": [
       "f = 0.00, d f = 0.00"
      ]
     },
     "execution_count": 16,
     "metadata": {},
     "output_type": "execute_result"
    }
   ],
   "source": [
    "v2*x"
   ]
  },
  {
   "cell_type": "code",
   "execution_count": 17,
   "metadata": {},
   "outputs": [
    {
     "data": {
      "text/plain": [
       "f = -1.00, d f = 0.00"
      ]
     },
     "execution_count": 17,
     "metadata": {},
     "output_type": "execute_result"
    }
   ],
   "source": [
    "v4*x**v2 + v2*x + vn1"
   ]
  },
  {
   "cell_type": "code",
   "execution_count": 18,
   "metadata": {},
   "outputs": [],
   "source": [
    "x = Variable(5, 1)\n",
    "y = Variable(3, 1)"
   ]
  },
  {
   "cell_type": "code",
   "execution_count": 19,
   "metadata": {},
   "outputs": [
    {
     "data": {
      "text/plain": [
       "f = 0.00, d f = 0.00"
      ]
     },
     "execution_count": 19,
     "metadata": {},
     "output_type": "execute_result"
    }
   ],
   "source": [
    "x*y"
   ]
  },
  {
   "cell_type": "code",
   "execution_count": null,
   "metadata": {},
   "outputs": [],
   "source": []
  }
 ],
 "metadata": {
  "kernelspec": {
   "display_name": "Python 3",
   "language": "python",
   "name": "python3"
  },
  "language_info": {
   "codemirror_mode": {
    "name": "ipython",
    "version": 3
   },
   "file_extension": ".py",
   "mimetype": "text/x-python",
   "name": "python",
   "nbconvert_exporter": "python",
   "pygments_lexer": "ipython3",
   "version": "3.6.5"
  }
 },
 "nbformat": 4,
 "nbformat_minor": 2
}
