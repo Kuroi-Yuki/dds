{
 "cells": [
  {
   "cell_type": "code",
   "execution_count": 5,
   "metadata": {},
   "outputs": [],
   "source": [
    "import numpy as np\n",
    "\n",
    "from sklearn.datasets import load_iris\n",
    "ds = load_iris()\n",
    "\n",
    "from sklearn.preprocessing import StandardScaler\n",
    "for i in range(ds['data'].shape[1]):\n",
    "    ds['data'][:, i] = StandardScaler().fit_transform(ds['data'][:, i].reshape(-1, 1)).flatten()"
   ]
  },
  {
   "cell_type": "code",
   "execution_count": 6,
   "metadata": {},
   "outputs": [
    {
     "name": "stdout",
     "output_type": "stream",
     "text": [
      "(150, 4)\n",
      "['setosa' 'versicolor' 'virginica']\n"
     ]
    },
    {
     "data": {
      "text/plain": [
       "2    50\n",
       "1    50\n",
       "0    50\n",
       "dtype: int64"
      ]
     },
     "execution_count": 6,
     "metadata": {},
     "output_type": "execute_result"
    }
   ],
   "source": [
    "import pandas as pd\n",
    "\n",
    "print(ds.data.shape)\n",
    "print(ds.target_names)\n",
    "pd.Series(ds.target).value_counts()"
   ]
  },
  {
   "cell_type": "code",
   "execution_count": 8,
   "metadata": {},
   "outputs": [],
   "source": [
    "from collections import defaultdict"
   ]
  },
  {
   "cell_type": "code",
   "execution_count": 15,
   "metadata": {},
   "outputs": [],
   "source": [
    "class Variable:\n",
    "    \n",
    "    \n",
    "    def __init__(self, name, value, derivative=None, is_number=False):\n",
    "        self.name = name\n",
    "        self.value = value\n",
    "        if derivative is None:\n",
    "            self.derivative = defaultdict(float)\n",
    "            if not is_number:\n",
    "                self.derivative[self.name] = 1\n",
    "        else:\n",
    "            self.derivative = derivative   \n",
    "        self.is_number = is_number\n",
    "        self.tolerance = 1e-8\n",
    "\n",
    "        \n",
    "    def __add__(self, other):\n",
    "        derivative = defaultdict(float)\n",
    "        leafs = list(set(self.derivative.keys()).union(other.derivative.keys()))\n",
    "        for v in leafs:\n",
    "            derivative[v] = 1*self.derivative[v] + 1*other.derivative[v]\n",
    "        return Variable(\n",
    "            '(%s + %s)' % (self.name, other.name),\n",
    "            self.value + other.value,\n",
    "            derivative,\n",
    "            is_number=self.is_number and other.is_number\n",
    "        )\n",
    "        \n",
    "        \n",
    "    def __mul__(self, other):\n",
    "        derivative = defaultdict(float)\n",
    "        leafs = list(set(self.derivative.keys()).union(other.derivative.keys()))\n",
    "        for v in leafs:\n",
    "            derivative[v] = other.value*self.derivative[v] + self.value*other.derivative[v]\n",
    "        return Variable(\n",
    "            '(%s * %s)' % (self.name, other.name),\n",
    "            self.value * other.value,\n",
    "            derivative,\n",
    "            is_number=self.is_number and other.is_number\n",
    "        )\n",
    "    \n",
    "    \n",
    "    def __neg__(self):\n",
    "        derivative = defaultdict(float)\n",
    "        for k, v in self.derivative.items():\n",
    "            # write correct code\n",
    "            derivative[k] = 0 # <<<--- REPLACE  IT\n",
    "        return Variable(\n",
    "            self.name[1:] if self.name.startswith('-') else '-%s' % self.name,\n",
    "            -self.value,\n",
    "            derivative,\n",
    "            is_number=self.is_number\n",
    "        )\n",
    "    \n",
    "    \n",
    "    def __sub__(self, other):\n",
    "        # write correct code\n",
    "        return 0 # <<<--- REPLACE  IT\n",
    "    \n",
    "    \n",
    "    def log(self):\n",
    "        derivative = defaultdict(float)\n",
    "        for k, v in self.derivative.items():\n",
    "            # write correct code\n",
    "            derivative[k] = 0 # <<<--- REPLACE  IT\n",
    "        return Variable(\n",
    "            'log(%s)' % self.name,\n",
    "            np.log(self.value),\n",
    "            derivative,\n",
    "            is_number=self.is_number\n",
    "        )\n",
    "    \n",
    "    \n",
    "    def exp(self):\n",
    "        derivative = defaultdict(float)\n",
    "        for k, v in self.derivative.items():\n",
    "            # write correct code\n",
    "            derivative[k] = 0 # <<<--- REPLACE  IT\n",
    "        return Variable(\n",
    "            'exp(%s)' % self.name,\n",
    "            np.exp(self.value),\n",
    "            derivative,\n",
    "            is_number=self.is_number\n",
    "        )\n",
    "    \n",
    "    \n",
    "    def __pow__(self, other):\n",
    "        if not other.is_number:\n",
    "            raise NotImplementedError()\n",
    "        derivative = defaultdict(float)\n",
    "        for k, v in self.derivative.items():\n",
    "            derivative[k] = other.value*(self.value**(other.value - 1))*v\n",
    "        return Variable(\n",
    "            '(%s^(%s))' % (self.name, other.name),\n",
    "            self.value**other.value,\n",
    "            derivative,\n",
    "            is_number=self.is_number\n",
    "        )\n",
    "    \n",
    "    \n",
    "    def __truediv__(self, other):\n",
    "        # write correct code\n",
    "        return 0 # <<<--- REPLACE  IT\n",
    "    \n",
    "\n",
    "    def __repr__(self):\n",
    "        return 'Variable(\\n  %s,\\n  %0.2f,\\n  %s\\n)' % (\n",
    "            self.name, \n",
    "            self.value,\n",
    "            '' if self.derivative is None else '; '.join(\n",
    "                [('d[%s]/d[%s]=%0.2f' % (self.name, k, v)) \n",
    "                 for (k, v) in self.derivative.items()]\n",
    "            )\n",
    "        )"
   ]
  },
  {
   "cell_type": "code",
   "execution_count": 16,
   "metadata": {},
   "outputs": [
    {
     "data": {
      "text/plain": [
       "Variable(\n",
       "  ((w0 * x0) + (w1 * x1)),\n",
       "  2.30,\n",
       "  d[((w0 * x0) + (w1 * x1))]/d[w0]=1.00; d[((w0 * x0) + (w1 * x1))]/d[w1]=5.00\n",
       ")"
      ]
     },
     "execution_count": 16,
     "metadata": {},
     "output_type": "execute_result"
    }
   ],
   "source": [
    "var_w0 = Variable('w0', 0.3)\n",
    "var_w1 = Variable('w1', 0.4)\n",
    "\n",
    "var_x0 = Variable('x0', 1, is_number=True)\n",
    "var_x1 = Variable('x1', 5, is_number=True)\n",
    "\n",
    "var_z = var_w0*var_x0 + var_w1*var_x1\n",
    "\n",
    "var_z"
   ]
  },
  {
   "cell_type": "code",
   "execution_count": 17,
   "metadata": {},
   "outputs": [
    {
     "data": {
      "text/plain": [
       "0"
      ]
     },
     "execution_count": 17,
     "metadata": {},
     "output_type": "execute_result"
    }
   ],
   "source": [
    "var_1 = Variable('1', 1, is_number=True)\n",
    "\n",
    "var_p = var_1 / (var_1 + (-var_z).exp())\n",
    "\n",
    "var_p"
   ]
  },
  {
   "cell_type": "code",
   "execution_count": 18,
   "metadata": {},
   "outputs": [
    {
     "ename": "AttributeError",
     "evalue": "'int' object has no attribute 'log'",
     "output_type": "error",
     "traceback": [
      "\u001b[0;31m---------------------------------------------------------------------------\u001b[0m",
      "\u001b[0;31mAttributeError\u001b[0m                            Traceback (most recent call last)",
      "\u001b[0;32m<ipython-input-18-cbf5736de9d4>\u001b[0m in \u001b[0;36m<module>\u001b[0;34m()\u001b[0m\n\u001b[1;32m      1\u001b[0m \u001b[0mvar_y\u001b[0m \u001b[0;34m=\u001b[0m \u001b[0mVariable\u001b[0m\u001b[0;34m(\u001b[0m\u001b[0;34m'1'\u001b[0m\u001b[0;34m,\u001b[0m \u001b[0;36m1\u001b[0m\u001b[0;34m,\u001b[0m \u001b[0mis_number\u001b[0m\u001b[0;34m=\u001b[0m\u001b[0;32mTrue\u001b[0m\u001b[0;34m)\u001b[0m\u001b[0;34m\u001b[0m\u001b[0m\n\u001b[1;32m      2\u001b[0m \u001b[0;34m\u001b[0m\u001b[0m\n\u001b[0;32m----> 3\u001b[0;31m \u001b[0mvar_loss\u001b[0m \u001b[0;34m=\u001b[0m \u001b[0;34m-\u001b[0m\u001b[0mvar_y\u001b[0m\u001b[0;34m*\u001b[0m\u001b[0mvar_p\u001b[0m\u001b[0;34m.\u001b[0m\u001b[0mlog\u001b[0m\u001b[0;34m(\u001b[0m\u001b[0;34m)\u001b[0m \u001b[0;34m-\u001b[0m \u001b[0;34m(\u001b[0m\u001b[0mvar_1\u001b[0m \u001b[0;34m-\u001b[0m \u001b[0mvar_y\u001b[0m\u001b[0;34m)\u001b[0m\u001b[0;34m*\u001b[0m\u001b[0;34m(\u001b[0m\u001b[0mvar_1\u001b[0m \u001b[0;34m-\u001b[0m \u001b[0mvar_p\u001b[0m\u001b[0;34m)\u001b[0m\u001b[0;34m.\u001b[0m\u001b[0mlog\u001b[0m\u001b[0;34m(\u001b[0m\u001b[0;34m)\u001b[0m\u001b[0;34m\u001b[0m\u001b[0m\n\u001b[0m\u001b[1;32m      4\u001b[0m \u001b[0;34m\u001b[0m\u001b[0m\n\u001b[1;32m      5\u001b[0m \u001b[0mvar_loss\u001b[0m\u001b[0;34m\u001b[0m\u001b[0m\n",
      "\u001b[0;31mAttributeError\u001b[0m: 'int' object has no attribute 'log'"
     ]
    }
   ],
   "source": [
    "var_y = Variable('1', 1, is_number=True)\n",
    "\n",
    "var_loss = -var_y*var_p.log() - (var_1 - var_y)*(var_1 - var_p).log()\n",
    "\n",
    "var_loss"
   ]
  },
  {
   "cell_type": "code",
   "execution_count": 19,
   "metadata": {},
   "outputs": [
    {
     "data": {
      "text/plain": [
       "(-0.09709677932757939, -0.006666838987567296)"
      ]
     },
     "execution_count": 19,
     "metadata": {},
     "output_type": "execute_result"
    }
   ],
   "source": [
    "var_loss.derivative['w0'], var_loss.derivative['w1']"
   ]
  },
  {
   "cell_type": "code",
   "execution_count": 20,
   "metadata": {},
   "outputs": [
    {
     "ename": "AttributeError",
     "evalue": "'int' object has no attribute 'value'",
     "output_type": "error",
     "traceback": [
      "\u001b[0;31m---------------------------------------------------------------------------\u001b[0m",
      "\u001b[0;31mAttributeError\u001b[0m                            Traceback (most recent call last)",
      "\u001b[0;32m<ipython-input-20-c5ccdeeafcb6>\u001b[0m in \u001b[0;36m<module>\u001b[0;34m()\u001b[0m\n\u001b[1;32m     22\u001b[0m         \u001b[0mvar_p\u001b[0m \u001b[0;34m=\u001b[0m \u001b[0mvar_1\u001b[0m\u001b[0;34m/\u001b[0m\u001b[0;34m(\u001b[0m\u001b[0mvar_1\u001b[0m \u001b[0;34m+\u001b[0m \u001b[0;34m(\u001b[0m\u001b[0;34m-\u001b[0m\u001b[0mvar_z\u001b[0m\u001b[0;34m)\u001b[0m\u001b[0;34m.\u001b[0m\u001b[0mexp\u001b[0m\u001b[0;34m(\u001b[0m\u001b[0;34m)\u001b[0m\u001b[0;34m)\u001b[0m\u001b[0;34m\u001b[0m\u001b[0m\n\u001b[1;32m     23\u001b[0m \u001b[0;34m\u001b[0m\u001b[0m\n\u001b[0;32m---> 24\u001b[0;31m         \u001b[0my_pred\u001b[0m \u001b[0;34m=\u001b[0m \u001b[0mint\u001b[0m\u001b[0;34m(\u001b[0m\u001b[0mvar_p\u001b[0m\u001b[0;34m.\u001b[0m\u001b[0mvalue\u001b[0m \u001b[0;34m>=\u001b[0m \u001b[0;36m0.5\u001b[0m\u001b[0;34m)\u001b[0m\u001b[0;34m\u001b[0m\u001b[0m\n\u001b[0m\u001b[1;32m     25\u001b[0m         \u001b[0;32mif\u001b[0m \u001b[0my_pred\u001b[0m \u001b[0;34m==\u001b[0m \u001b[0my\u001b[0m\u001b[0;34m:\u001b[0m\u001b[0;34m\u001b[0m\u001b[0m\n\u001b[1;32m     26\u001b[0m             \u001b[0macc_epoch\u001b[0m \u001b[0;34m+=\u001b[0m \u001b[0;36m1\u001b[0m\u001b[0;34m\u001b[0m\u001b[0m\n",
      "\u001b[0;31mAttributeError\u001b[0m: 'int' object has no attribute 'value'"
     ]
    }
   ],
   "source": [
    "var_w0 = Variable('w0', 0)\n",
    "var_w1 = Variable('w1', 0)\n",
    "var_w2 = Variable('w2', 0)\n",
    "var_w3 = Variable('w3', 0)\n",
    "var_w4 = Variable('w4', 0)\n",
    "\n",
    "learning_rate = 0.001\n",
    "n_epochs = 50\n",
    "var_1 = Variable('1', 1, is_number=True)\n",
    "\n",
    "for _ in range(n_epochs):\n",
    "    acc_epoch = 0\n",
    "    loss_epoch = 0\n",
    "    for i in range(ds['data'].shape[0]):\n",
    "        x = ds['data'][i, :]\n",
    "        y = int(ds['target'][i] != 0)\n",
    "\n",
    "        var_y = Variable(str(y), y, is_number=True)\n",
    "\n",
    "        var_z = \\\n",
    "            var_w0 + \\\n",
    "            var_w1*Variable('x1', x[0], is_number=True) + \\\n",
    "            var_w2*Variable('x2', x[1], is_number=True) + \\\n",
    "            var_w3*Variable('x3', x[2], is_number=True) + \\\n",
    "            var_w4*Variable('x4', x[3], is_number=True)\n",
    "\n",
    "        var_p = var_1/(var_1 + (-var_z).exp())\n",
    "            \n",
    "        y_pred = int(var_p.value >= 0.5)\n",
    "        if y_pred == y:\n",
    "            acc_epoch += 1\n",
    "\n",
    "        if y == 0:\n",
    "            var_loss = -(var_1 - var_p).log()\n",
    "        else:\n",
    "            var_loss = -var_p.log()\n",
    "        loss_epoch += var_loss.value                \n",
    "\n",
    "        var_w0.value -= learning_rate*var_loss.derivative[var_w0.name]\n",
    "        var_w1.value -= learning_rate*var_loss.derivative[var_w1.name]\n",
    "        var_w2.value -= learning_rate*var_loss.derivative[var_w2.name]\n",
    "        var_w3.value -= learning_rate*var_loss.derivative[var_w3.name]\n",
    "        var_w4.value -= learning_rate*var_loss.derivative[var_w4.name]\n",
    "\n",
    "    acc_epoch /= ds['data'].shape[0]\n",
    "    loss_epoch /= ds['data'].shape[0]\n",
    "    print(acc_epoch, loss_epoch)"
   ]
  },
  {
   "cell_type": "code",
   "execution_count": null,
   "metadata": {},
   "outputs": [],
   "source": []
  },
  {
   "cell_type": "code",
   "execution_count": null,
   "metadata": {},
   "outputs": [],
   "source": []
  },
  {
   "cell_type": "code",
   "execution_count": null,
   "metadata": {},
   "outputs": [],
   "source": []
  },
  {
   "cell_type": "code",
   "execution_count": null,
   "metadata": {},
   "outputs": [],
   "source": []
  },
  {
   "cell_type": "code",
   "execution_count": null,
   "metadata": {},
   "outputs": [],
   "source": []
  },
  {
   "cell_type": "code",
   "execution_count": null,
   "metadata": {},
   "outputs": [],
   "source": []
  }
 ],
 "metadata": {
  "kernelspec": {
   "display_name": "Python 3",
   "language": "python",
   "name": "python3"
  },
  "language_info": {
   "codemirror_mode": {
    "name": "ipython",
    "version": 3
   },
   "file_extension": ".py",
   "mimetype": "text/x-python",
   "name": "python",
   "nbconvert_exporter": "python",
   "pygments_lexer": "ipython3",
   "version": "3.6.5"
  }
 },
 "nbformat": 4,
 "nbformat_minor": 2
}
