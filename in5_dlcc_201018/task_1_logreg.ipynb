{
 "cells": [
  {
   "cell_type": "code",
   "execution_count": 1,
   "metadata": {},
   "outputs": [],
   "source": [
    "import numpy as np\n",
    "\n",
    "from sklearn.datasets import load_iris\n",
    "ds = load_iris()\n",
    "\n",
    "from sklearn.preprocessing import StandardScaler\n",
    "for i in range(ds['data'].shape[1]):\n",
    "    ds['data'][:, i] = StandardScaler().fit_transform(ds['data'][:, i].reshape(-1, 1)).flatten()"
   ]
  },
  {
   "cell_type": "code",
   "execution_count": 2,
   "metadata": {},
   "outputs": [
    {
     "name": "stdout",
     "output_type": "stream",
     "text": [
      "(150, 4)\n",
      "['setosa' 'versicolor' 'virginica']\n"
     ]
    },
    {
     "data": {
      "text/plain": [
       "2    50\n",
       "1    50\n",
       "0    50\n",
       "dtype: int64"
      ]
     },
     "execution_count": 2,
     "metadata": {},
     "output_type": "execute_result"
    }
   ],
   "source": [
    "import pandas as pd\n",
    "\n",
    "print(ds.data.shape)\n",
    "print(ds.target_names)\n",
    "pd.Series(ds.target).value_counts()"
   ]
  },
  {
   "cell_type": "code",
   "execution_count": 3,
   "metadata": {},
   "outputs": [
    {
     "name": "stdout",
     "output_type": "stream",
     "text": [
      "0.6666666666666666 10.0\n",
      "0.6666666666666666 10.0\n",
      "0.6666666666666666 10.0\n",
      "0.6666666666666666 10.0\n",
      "0.6666666666666666 10.0\n",
      "0.6666666666666666 10.0\n",
      "0.6666666666666666 10.0\n",
      "0.6666666666666666 10.0\n",
      "0.6666666666666666 10.0\n",
      "0.6666666666666666 10.0\n",
      "0.6666666666666666 10.0\n",
      "0.6666666666666666 10.0\n",
      "0.6666666666666666 10.0\n",
      "0.6666666666666666 10.0\n",
      "0.6666666666666666 10.0\n",
      "0.6666666666666666 10.0\n",
      "0.6666666666666666 10.0\n",
      "0.6666666666666666 10.0\n",
      "0.6666666666666666 10.0\n",
      "0.6666666666666666 10.0\n",
      "0.6666666666666666 10.0\n",
      "0.6666666666666666 10.0\n",
      "0.6666666666666666 10.0\n",
      "0.6666666666666666 10.0\n",
      "0.6666666666666666 10.0\n",
      "0.6666666666666666 10.0\n",
      "0.6666666666666666 10.0\n",
      "0.6666666666666666 10.0\n",
      "0.6666666666666666 10.0\n",
      "0.6666666666666666 10.0\n",
      "0.6666666666666666 10.0\n",
      "0.6666666666666666 10.0\n",
      "0.6666666666666666 10.0\n",
      "0.6666666666666666 10.0\n",
      "0.6666666666666666 10.0\n",
      "0.6666666666666666 10.0\n",
      "0.6666666666666666 10.0\n",
      "0.6666666666666666 10.0\n",
      "0.6666666666666666 10.0\n",
      "0.6666666666666666 10.0\n",
      "0.6666666666666666 10.0\n",
      "0.6666666666666666 10.0\n",
      "0.6666666666666666 10.0\n",
      "0.6666666666666666 10.0\n",
      "0.6666666666666666 10.0\n",
      "0.6666666666666666 10.0\n",
      "0.6666666666666666 10.0\n",
      "0.6666666666666666 10.0\n",
      "0.6666666666666666 10.0\n",
      "0.6666666666666666 10.0\n"
     ]
    }
   ],
   "source": [
    "learning_rate = 0.001\n",
    "n_epochs = 50\n",
    "\n",
    "# parameters of the model\n",
    "# four for features and one is bias\n",
    "w = np.zeros(5)\n",
    "\n",
    "for _ in range(n_epochs):\n",
    "    # accuracy and loss of one epoch\n",
    "    acc_epoch = 0\n",
    "    loss_epoch = 0\n",
    "    for i in range(ds['data'].shape[0]):\n",
    "        x = ds['data'][i, :]\n",
    "        y = int(ds['target'][i] != 0)\n",
    "\n",
    "        # calculate argument of a sigmoid\n",
    "        z = 0 # <<<--- REPLACE IT\n",
    "        \n",
    "        # calculate value of the sigmoid\n",
    "        p = 0.5 # <<<--- REPLACE IT\n",
    "        \n",
    "        # make a decision\n",
    "        y_pred = int(p >= 0.5)\n",
    "        \n",
    "        # update accuracy\n",
    "        if y_pred == y:\n",
    "            acc_epoch += 1\n",
    "\n",
    "        # calculate and update loss value\n",
    "        loss_epoch += 10 # <<<--- REPLACE IT\n",
    "        \n",
    "        # update parameters of the model\n",
    "        w[0] -= 0 # <<<--- REPLACE IT\n",
    "        for i in range(x.shape[0]):\n",
    "            w[i + 1] -= 0 # <<<--- REPLACE IT\n",
    "        \n",
    "    # average accuracy and loss and print it\n",
    "    acc_epoch /= ds['data'].shape[0]\n",
    "    loss_epoch /= ds['data'].shape[0]\n",
    "    print(acc_epoch, loss_epoch)"
   ]
  },
  {
   "cell_type": "code",
   "execution_count": null,
   "metadata": {},
   "outputs": [],
   "source": []
  }
 ],
 "metadata": {
  "kernelspec": {
   "display_name": "Python 3",
   "language": "python",
   "name": "python3"
  },
  "language_info": {
   "codemirror_mode": {
    "name": "ipython",
    "version": 3
   },
   "file_extension": ".py",
   "mimetype": "text/x-python",
   "name": "python",
   "nbconvert_exporter": "python",
   "pygments_lexer": "ipython3",
   "version": "3.6.5"
  }
 },
 "nbformat": 4,
 "nbformat_minor": 2
}
