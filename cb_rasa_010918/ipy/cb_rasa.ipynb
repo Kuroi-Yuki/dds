{
 "cells": [
  {
   "cell_type": "markdown",
   "metadata": {
    "slideshow": {
     "slide_type": "skip"
    }
   },
   "source": [
    "- jupyter nbconvert cb_rasa.ipynb --to slides --post serve --ServePostProcessor.port=8889 --SlidesExporter.reveal_scroll=True"
   ]
  },
  {
   "cell_type": "markdown",
   "metadata": {
    "slideshow": {
     "slide_type": "slide"
    }
   },
   "source": [
    "# Building chatbot for free with Rasa NLU and Rasa Core\n",
    "\n",
    "| Pavel Nesterov | Data Scientist |\n",
    "|---|---|\n",
    "| <img src=\"./images/ods.png\" />  | <img src=\"./images/r2.png\" />  |\n",
    "| http://DubaiDataScience.ae/ | https://www.reaktor.com/ |\n",
    "- http://pavelnesterov.info/\n",
    "- https://github.com/mephistopheies/dds/tree/master/ibm_290618"
   ]
  },
  {
   "cell_type": "markdown",
   "metadata": {
    "slideshow": {
     "slide_type": "slide"
    }
   },
   "source": [
    "# What is a chatbot?\n",
    "- a chatbot is software you have conversation with"
   ]
  },
  {
   "cell_type": "markdown",
   "metadata": {
    "slideshow": {
     "slide_type": "slide"
    }
   },
   "source": [
    "# Why do you want have a chatbot?\n",
    "- ~~because everyone has it~~\n",
    "- online mini-version of your business\n",
    "- extend your marketing\n",
    "- focus on automation"
   ]
  },
  {
   "cell_type": "markdown",
   "metadata": {
    "slideshow": {
     "slide_type": "slide"
    }
   },
   "source": [
    "# Chat API\n",
    "<img src=\"./images/api.png\" />"
   ]
  },
  {
   "cell_type": "markdown",
   "metadata": {
    "slideshow": {
     "slide_type": "slide"
    }
   },
   "source": [
    "# HYPE!!!!!1111\n",
    "- technology for conversational AI does not exist **yet**\n",
    "\n",
    "<img src=\"./images/f64.jpg\" />"
   ]
  },
  {
   "cell_type": "markdown",
   "metadata": {
    "slideshow": {
     "slide_type": "slide"
    }
   },
   "source": [
    "<img src=\"./images/cb_types.png\" />"
   ]
  },
  {
   "cell_type": "markdown",
   "metadata": {
    "slideshow": {
     "slide_type": "slide"
    }
   },
   "source": [
    "# Proprietary chatbot services and frameworks\n",
    "| Most prominent emaples |  |\n",
    "|---|---|\n",
    "| IBM Watson | <img src=\"./images/watson_conversations_icon.png\" width=64/>  |\n",
    "| LUIS.ai (Microsoft) | <img src=\"./images/luis.png\" width=64/> |\n",
    "| Microsoft Bot Framework | <img src=\"./images/mbf.png\" width=64/> |\n",
    "| Dialogflow (former API.ai, Google) | <img src=\"./images/df.jpg\" width=64/> |\n",
    "| WIT.ai (Facebook) | <img src=\"./images/witailogo-580x358.png\" width=64/> |"
   ]
  },
  {
   "cell_type": "markdown",
   "metadata": {
    "slideshow": {
     "slide_type": "slide"
    }
   },
   "source": [
    "# Proprietary chatbot services and frameworks\n",
    "\n",
    "## Pros\n",
    "- easy to build, you don't need senior data scientist\n",
    "- very good in the most popular use cases and happy scenarios\n",
    "- supports a lot of small talks\n",
    "\n",
    "## Cons\n",
    "- closed, no control of what is going on under the hood\n",
    "- hosted outside of your private network\n",
    "- not good in edge cases\n",
    "- do not cover unique use saces (e.g. DOTA player assistance)"
   ]
  },
  {
   "cell_type": "markdown",
   "metadata": {
    "slideshow": {
     "slide_type": "slide"
    }
   },
   "source": [
    "# Free open-source frameworks ~~services~~\n",
    "- DeepPavlov\n",
    "  - https://github.com/deepmipt/DeepPavlov\n",
    "  - 2k stars\n",
    "- Rasa NLU/CORE\n",
    "  - https://github.com/RasaHQ/rasa_nlu\n",
    "  - https://github.com/RasaHQ/rasa_core\n",
    "  - 4k start and 1k stars"
   ]
  },
  {
   "cell_type": "markdown",
   "metadata": {
    "slideshow": {
     "slide_type": "slide"
    }
   },
   "source": [
    "<img src=\"./images/rasa_logo_b.png\" />"
   ]
  },
  {
   "cell_type": "markdown",
   "metadata": {
    "slideshow": {
     "slide_type": "slide"
    }
   },
   "source": [
    "<img src=\"./images/rasa-nlu.png\" />"
   ]
  },
  {
   "cell_type": "markdown",
   "metadata": {
    "slideshow": {
     "slide_type": "slide"
    }
   },
   "source": [
    "<img src=\"./images/nlu_proc.png\" />"
   ]
  },
  {
   "cell_type": "markdown",
   "metadata": {
    "slideshow": {
     "slide_type": "slide"
    }
   },
   "source": [
    "```json\n",
    "{\n",
    "    \"text\": \"moderately priced restaurant that serves creative food\", \n",
    "    \"intent\": \"inform\", \n",
    "    \"entities\": [\n",
    "        {\n",
    "            \"start\": 41, \n",
    "            \"end\": 49, \n",
    "            \"value\": \"creative\", \n",
    "            \"entity\": \"cuisine\"\n",
    "        }, \n",
    "        {\n",
    "            \"start\": 0, \n",
    "            \"end\": 10, \n",
    "            \"value\": \"moderate\", \n",
    "            \"entity\": \"price\"\n",
    "        }\n",
    "    ]\n",
    "}\n",
    "```"
   ]
  },
  {
   "cell_type": "markdown",
   "metadata": {
    "slideshow": {
     "slide_type": "slide"
    }
   },
   "source": [
    "- https://github.com/RasaHQ/rasa-nlu-trainer\n",
    "<img src=\"./images/nlu-trainer.png\" />"
   ]
  },
  {
   "cell_type": "markdown",
   "metadata": {
    "slideshow": {
     "slide_type": "slide"
    }
   },
   "source": [
    "<img src=\"./images/rasa-core.png\" />"
   ]
  },
  {
   "cell_type": "markdown",
   "metadata": {
    "slideshow": {
     "slide_type": "slide"
    }
   },
   "source": [
    "<img src=\"./images/core_proc.png\" />"
   ]
  },
  {
   "cell_type": "markdown",
   "metadata": {
    "slideshow": {
     "slide_type": "slide"
    }
   },
   "source": [
    "## story_03812903\n",
    "* greet\n",
    " - utter_ask_howcanhelp\n",
    "* inform{\"location\": \"paris\", \"people\": \"six\", \"price\": \"cheap\"}\n",
    " - utter_on_it\n",
    " - utter_ask_cuisine\n",
    "* inform{\"cuisine\": \"indian\"}\n",
    " - utter_ask_moreupdates\n",
    "* inform{\"location\": \"bombay\"}\n",
    " - utter_ask_moreupdates\n",
    "* inform{\"people\": \"four\"}\n",
    " - utter_ask_moreupdates\n",
    "* inform{\"cuisine\": \"french\"}\n",
    " - utter_ask_moreupdates\n",
    "* deny\n",
    " - utter_ack_dosearch\n",
    " - action_search_restaurants\n",
    " - action_suggest\n",
    "* deny\n",
    " - utter_ack_findalternatives\n",
    " - action_suggest\n",
    "* deny\n",
    " - utter_ack_findalternatives\n",
    " - action_suggest\n",
    "* affirm\n",
    " - utter_ack_makereservation\n",
    "* thankyou\n",
    " - utter_goodbye"
   ]
  },
  {
   "cell_type": "markdown",
   "metadata": {
    "slideshow": {
     "slide_type": "slide"
    }
   },
   "source": [
    "<img src=\"./images/stories.png\" />"
   ]
  },
  {
   "cell_type": "markdown",
   "metadata": {
    "slideshow": {
     "slide_type": "slide"
    }
   },
   "source": [
    "<img src=\"./images/rasa_proc.png\" />"
   ]
  },
  {
   "cell_type": "markdown",
   "metadata": {
    "slideshow": {
     "slide_type": "slide"
    }
   },
   "source": [
    "# Let's build simple bot\n",
    "- https://github.com/RasaHQ/rasa_core/tree/master/examples/restaurantbot"
   ]
  },
  {
   "cell_type": "markdown",
   "metadata": {},
   "source": [
    "# NLU Config\n",
    "```yml\n",
    "language: \"en\"\n",
    "\n",
    "pipeline:\n",
    "- name: \"nlp_spacy\"\n",
    "  model: \"en_core_web_md\"\n",
    "  case_sensitive: false\n",
    "- name: \"tokenizer_spacy\"\n",
    "- name: \"intent_entity_featurizer_regex\"\n",
    "- name: \"intent_featurizer_spacy\"\n",
    "- name: \"ner_crf\"\n",
    "  features: [\n",
    "      [\"prefix5\", \"prefix2\", \"suffix5\", \"suffix3\", \"suffix2\", \"suffix1\"],\n",
    "      [\"suffix2\", \"suffix1\", \"pos\", \"pos2\", \"bias\", \"digit\", \"pattern\"],\n",
    "      [\"suffix3\", \"suffix2\", \"suffix1\", \"pos\", \"pos2\", \"bias\"]\n",
    "  ]\n",
    "  BILOU_flag: true\n",
    "  max_iterations: 500\n",
    "  L1_c: 1e-1\n",
    "  L2_c: 1e-3\n",
    "- name: \"ner_synonyms\"\n",
    "- name: \"intent_classifier_sklearn\"\n",
    "  C: [1, 2, 5, 10, 20, 100]\n",
    "  kernels: [\"linear\"]\n",
    "```"
   ]
  },
  {
   "cell_type": "code",
   "execution_count": 1,
   "metadata": {
    "slideshow": {
     "slide_type": "slide"
    }
   },
   "outputs": [],
   "source": [
    "import os\n",
    "from rasa_nlu.training_data import load_data\n",
    "from rasa_nlu import config\n",
    "from rasa_nlu.model import Trainer\n",
    "\n",
    "root_dir = './../../../rasa_core/examples/restaurantbot/'\n",
    "\n",
    "training_data = load_data(os.path.join(root_dir, 'data/franken_data.json'))"
   ]
  },
  {
   "cell_type": "code",
   "execution_count": 2,
   "metadata": {
    "slideshow": {
     "slide_type": "slide"
    }
   },
   "outputs": [
    {
     "name": "stdout",
     "output_type": "stream",
     "text": [
      "{'location', 'price', 'cuisine', 'info', 'people'}\n",
      "{'thankyou', 'inform', 'greet', 'affirm', 'deny', 'request_info'}\n"
     ]
    }
   ],
   "source": [
    "print(training_data.entities)\n",
    "print(training_data.intents)"
   ]
  },
  {
   "cell_type": "code",
   "execution_count": 7,
   "metadata": {
    "slideshow": {
     "slide_type": "slide"
    }
   },
   "outputs": [
    {
     "data": {
      "text/plain": [
       "cuisine     573\n",
       "price       354\n",
       "location    338\n",
       "info         16\n",
       "people       12\n",
       "dtype: int64"
      ]
     },
     "execution_count": 7,
     "metadata": {},
     "output_type": "execute_result"
    }
   ],
   "source": [
    "import functools as func\n",
    "import json\n",
    "from rasa_nlu.training_data import Message\n",
    "\n",
    "js = json.loads(training_data.as_json())\n",
    "examples = js['rasa_nlu_data']['common_examples']\n",
    "pd.Series(func.reduce(\n",
    "    lambda a, b: a + b, \n",
    "    [[g['entity'] for g in d['entities']] for d in examples if 'entities' in d])).value_counts()"
   ]
  },
  {
   "cell_type": "code",
   "execution_count": 8,
   "metadata": {
    "slideshow": {
     "slide_type": "slide"
    }
   },
   "outputs": [
    {
     "data": {
      "text/plain": [
       "inform          1014\n",
       "thankyou         589\n",
       "affirm           260\n",
       "deny              85\n",
       "request_info      16\n",
       "greet             13\n",
       "dtype: int64"
      ]
     },
     "execution_count": 8,
     "metadata": {},
     "output_type": "execute_result"
    }
   ],
   "source": [
    "pd.Series([d['intent'] for d in examples]).value_counts()"
   ]
  },
  {
   "cell_type": "code",
   "execution_count": 9,
   "metadata": {
    "slideshow": {
     "slide_type": "slide"
    }
   },
   "outputs": [
    {
     "name": "stdout",
     "output_type": "stream",
     "text": [
      "Fitting 2 folds for each of 6 candidates, totalling 12 fits\n"
     ]
    },
    {
     "name": "stderr",
     "output_type": "stream",
     "text": [
      "[Parallel(n_jobs=1)]: Done  12 out of  12 | elapsed:    5.2s finished\n"
     ]
    },
    {
     "name": "stdout",
     "output_type": "stream",
     "text": [
      "CPU times: user 24.7 s, sys: 1.48 s, total: 26.2 s\n",
      "Wall time: 22.9 s\n"
     ]
    }
   ],
   "source": [
    "%%time\n",
    "trainer = Trainer(config.load(os.path.join(root_dir, 'nlu_model_config.yml')))\n",
    "trainer.train(training_data)\n",
    "model_directory = trainer.persist(\n",
    "    os.path.join(root_dir, 'tmp/'),\n",
    "    fixed_model_name='current'\n",
    ")"
   ]
  },
  {
   "cell_type": "code",
   "execution_count": 10,
   "metadata": {
    "slideshow": {
     "slide_type": "slide"
    }
   },
   "outputs": [],
   "source": [
    "from rasa_nlu.model import Interpreter\n",
    "\n",
    "nlu = Interpreter.load(model_directory)"
   ]
  },
  {
   "cell_type": "code",
   "execution_count": 11,
   "metadata": {
    "slideshow": {
     "slide_type": "slide"
    }
   },
   "outputs": [
    {
     "data": {
      "text/plain": [
       "{'intent': {'name': 'greet', 'confidence': 0.9508392002298444},\n",
       " 'entities': [],\n",
       " 'intent_ranking': [{'name': 'greet', 'confidence': 0.9508392002298444},\n",
       "  {'name': 'affirm', 'confidence': 0.023417162583299917},\n",
       "  {'name': 'thankyou', 'confidence': 0.013442362916337932},\n",
       "  {'name': 'deny', 'confidence': 0.00568399271695979},\n",
       "  {'name': 'inform', 'confidence': 0.005056016685371877},\n",
       "  {'name': 'request_info', 'confidence': 0.0015612648681859868}],\n",
       " 'text': 'hello'}"
      ]
     },
     "execution_count": 11,
     "metadata": {},
     "output_type": "execute_result"
    }
   ],
   "source": [
    "nlu.parse('hello')"
   ]
  },
  {
   "cell_type": "code",
   "execution_count": 12,
   "metadata": {
    "slideshow": {
     "slide_type": "slide"
    }
   },
   "outputs": [
    {
     "data": {
      "text/plain": [
       "{'intent': {'name': 'inform', 'confidence': 0.9757723611117624},\n",
       " 'entities': [{'start': 0,\n",
       "   'end': 9,\n",
       "   'value': 'hi',\n",
       "   'entity': 'price',\n",
       "   'confidence': 0.9940886960399758,\n",
       "   'extractor': 'ner_crf',\n",
       "   'processors': ['ner_synonyms']},\n",
       "  {'start': 26,\n",
       "   'end': 32,\n",
       "   'value': 'indian',\n",
       "   'entity': 'cuisine',\n",
       "   'confidence': 0.9964799053442849,\n",
       "   'extractor': 'ner_crf'},\n",
       "  {'start': 45,\n",
       "   'end': 49,\n",
       "   'value': 'east',\n",
       "   'entity': 'location',\n",
       "   'confidence': 0.9353412350109295,\n",
       "   'extractor': 'ner_crf'}],\n",
       " 'intent_ranking': [{'name': 'inform', 'confidence': 0.9757723611117624},\n",
       "  {'name': 'affirm', 'confidence': 0.013422241845667222},\n",
       "  {'name': 'request_info', 'confidence': 0.007158413825471512},\n",
       "  {'name': 'deny', 'confidence': 0.002767319489355853},\n",
       "  {'name': 'thankyou', 'confidence': 0.000566557072031786},\n",
       "  {'name': 'greet', 'confidence': 0.0003131066557114439}],\n",
       " 'text': 'expensive restaurant with indian food in the east part of the town'}"
      ]
     },
     "execution_count": 12,
     "metadata": {},
     "output_type": "execute_result"
    }
   ],
   "source": [
    "nlu.parse('expensive restaurant with indian food in the east part of the town')"
   ]
  },
  {
   "cell_type": "code",
   "execution_count": 13,
   "metadata": {
    "slideshow": {
     "slide_type": "skip"
    }
   },
   "outputs": [],
   "source": [
    "from rasa_core.policies.keras_policy import KerasPolicy\n",
    "\n",
    "class RestaurantPolicy(KerasPolicy):\n",
    "    def model_architecture(self, input_shape, output_shape):\n",
    "        \"\"\"Build a Keras model and return a compiled model.\"\"\"\n",
    "        from keras.layers import LSTM, Activation, Masking, Dense\n",
    "        from keras.models import Sequential\n",
    "\n",
    "        from keras.models import Sequential\n",
    "        from keras.layers import \\\n",
    "            Masking, LSTM, Dense, TimeDistributed, Activation\n",
    "\n",
    "\n",
    "        model = Sequential()\n",
    "\n",
    "        # the shape of the y vector of the labels,\n",
    "        # determines which output from rnn will be used\n",
    "        # to calculate the loss\n",
    "        if len(output_shape) == 1:\n",
    "            # y is (num examples, num features) so\n",
    "            # only the last output from the rnn is used to\n",
    "            # calculate the loss\n",
    "            model.add(Masking(mask_value=-1, input_shape=input_shape))\n",
    "            model.add(LSTM(self.rnn_size))\n",
    "            model.add(Dense(input_dim=self.rnn_size, units=output_shape[-1]))\n",
    "        elif len(output_shape) == 2:\n",
    "            # y is (num examples, max_dialogue_len, num features) so\n",
    "            # all the outputs from the rnn are used to\n",
    "            # calculate the loss, therefore a sequence is returned and\n",
    "            # time distributed layer is used\n",
    "\n",
    "            # the first value in input_shape is max dialogue_len,\n",
    "            # it is set to None, to allow dynamic_rnn creation\n",
    "            # during prediction\n",
    "            model.add(Masking(mask_value=-1,\n",
    "                              input_shape=(None, input_shape[1])))\n",
    "            model.add(LSTM(self.rnn_size, return_sequences=True))\n",
    "            model.add(TimeDistributed(Dense(units=output_shape[-1])))\n",
    "        else:\n",
    "            raise ValueError(\"Cannot construct the model because\"\n",
    "                             \"length of output_shape = {} \"\n",
    "                             \"should be 1 or 2.\"\n",
    "                             \"\".format(len(output_shape)))\n",
    "\n",
    "        model.add(Activation('softmax'))\n",
    "\n",
    "        model.compile(loss='categorical_crossentropy',\n",
    "                      optimizer='adam',\n",
    "                      metrics=['accuracy'])\n",
    "        \n",
    "        return model"
   ]
  },
  {
   "cell_type": "code",
   "execution_count": 14,
   "metadata": {
    "scrolled": true,
    "slideshow": {
     "slide_type": "slide"
    }
   },
   "outputs": [
    {
     "name": "stderr",
     "output_type": "stream",
     "text": [
      "Using TensorFlow backend.\n",
      "/usr/local/lib/python3.6/site-packages/pykwalify/core.py:99: UnsafeLoaderWarning: \n",
      "The default 'Loader' for 'load(stream)' without further arguments can be unsafe.\n",
      "Use 'load(stream, Loader=ruamel.yaml.Loader)' explicitly if that is OK.\n",
      "Alternatively include the following in your code:\n",
      "\n",
      "  import warnings\n",
      "  warnings.simplefilter('ignore', ruamel.yaml.error.UnsafeLoaderWarning)\n",
      "\n",
      "In most other cases you should consider using 'safe_load(stream)'\n",
      "  data = yaml.load(stream)\n",
      "Processed Story Blocks: 100%|██████████| 1000/1000 [00:02<00:00, 384.96it/s, # trackers=1]\n",
      "Processed Story Blocks: 100%|██████████| 1000/1000 [00:03<00:00, 320.52it/s, # trackers=1]\n",
      "Processed Story Blocks: 100%|██████████| 1000/1000 [00:03<00:00, 294.79it/s, # trackers=1]\n",
      "Processed Story Blocks: 100%|██████████| 1000/1000 [00:03<00:00, 304.42it/s, # trackers=1]\n"
     ]
    },
    {
     "name": "stdout",
     "output_type": "stream",
     "text": [
      "CPU times: user 12.3 s, sys: 2.01 s, total: 14.3 s\n",
      "Wall time: 13.4 s\n"
     ]
    }
   ],
   "source": [
    "%%time\n",
    "from rasa_core.agent import Agent\n",
    "from rasa_core.policies.memoization import MemoizationPolicy\n",
    "from rasa_core.policies.keras_policy import KerasPolicy\n",
    "\n",
    "domain_file = os.path.join(root_dir, 'restaurant_domain_fixed.yml')\n",
    "training_data_file = os.path.join(root_dir, 'data/babi_stories_fixed.md')\n",
    "    \n",
    "agent = Agent(\n",
    "    domain_file,\n",
    "    policies=[\n",
    "        MemoizationPolicy(max_history=3),\n",
    "        KerasPolicy()\n",
    "    ])\n",
    "\n",
    "training_data = agent.load_data(training_data_file)"
   ]
  },
  {
   "cell_type": "code",
   "execution_count": 15,
   "metadata": {
    "scrolled": true,
    "slideshow": {
     "slide_type": "slide"
    }
   },
   "outputs": [
    {
     "name": "stderr",
     "output_type": "stream",
     "text": [
      "Processed trackers: 100%|██████████| 2911/2911 [03:26<00:00, 14.07it/s, # actions=236]\n",
      "Processed actions: 236it [00:00, 676.80it/s, # examples=227]\n",
      "Processed trackers: 100%|██████████| 2911/2911 [03:26<00:00, 14.10it/s, # actions=511]\n"
     ]
    },
    {
     "name": "stdout",
     "output_type": "stream",
     "text": [
      "Train on 408 samples, validate on 103 samples\n",
      "Epoch 1/100\n",
      "408/408 [==============================] - 1s 2ms/step - loss: 2.9575 - acc: 0.0245 - val_loss: 2.8598 - val_acc: 0.0583\n",
      "Epoch 2/100\n",
      "408/408 [==============================] - 0s 80us/step - loss: 2.8318 - acc: 0.0392 - val_loss: 2.7361 - val_acc: 0.3398\n",
      "Epoch 3/100\n",
      "408/408 [==============================] - 0s 81us/step - loss: 2.7125 - acc: 0.3799 - val_loss: 2.6110 - val_acc: 0.4272\n",
      "Epoch 4/100\n",
      "408/408 [==============================] - 0s 79us/step - loss: 2.5902 - acc: 0.4338 - val_loss: 2.4791 - val_acc: 0.4272\n",
      "Epoch 5/100\n",
      "408/408 [==============================] - 0s 80us/step - loss: 2.4606 - acc: 0.4412 - val_loss: 2.3399 - val_acc: 0.4272\n",
      "Epoch 6/100\n",
      "408/408 [==============================] - 0s 80us/step - loss: 2.3249 - acc: 0.4436 - val_loss: 2.1934 - val_acc: 0.4272\n",
      "Epoch 7/100\n",
      "408/408 [==============================] - 0s 80us/step - loss: 2.1788 - acc: 0.4436 - val_loss: 2.0471 - val_acc: 0.4272\n",
      "Epoch 8/100\n",
      "408/408 [==============================] - 0s 80us/step - loss: 2.0393 - acc: 0.4436 - val_loss: 1.9120 - val_acc: 0.4272\n",
      "Epoch 9/100\n",
      "408/408 [==============================] - 0s 83us/step - loss: 1.9204 - acc: 0.4436 - val_loss: 1.8015 - val_acc: 0.4272\n",
      "Epoch 10/100\n",
      "408/408 [==============================] - 0s 80us/step - loss: 1.8222 - acc: 0.4436 - val_loss: 1.7181 - val_acc: 0.4272\n",
      "Epoch 11/100\n",
      "408/408 [==============================] - 0s 78us/step - loss: 1.7572 - acc: 0.4436 - val_loss: 1.6486 - val_acc: 0.4272\n",
      "Epoch 12/100\n",
      "408/408 [==============================] - 0s 79us/step - loss: 1.6996 - acc: 0.4436 - val_loss: 1.5803 - val_acc: 0.4272\n",
      "Epoch 13/100\n",
      "408/408 [==============================] - 0s 80us/step - loss: 1.6485 - acc: 0.4436 - val_loss: 1.5222 - val_acc: 0.4272\n",
      "Epoch 14/100\n",
      "408/408 [==============================] - 0s 79us/step - loss: 1.6057 - acc: 0.4412 - val_loss: 1.4775 - val_acc: 0.4272\n",
      "Epoch 15/100\n",
      "408/408 [==============================] - 0s 79us/step - loss: 1.5782 - acc: 0.4412 - val_loss: 1.4495 - val_acc: 0.4272\n",
      "Epoch 16/100\n",
      "408/408 [==============================] - 0s 81us/step - loss: 1.5560 - acc: 0.4412 - val_loss: 1.4281 - val_acc: 0.4272\n",
      "Epoch 17/100\n",
      "408/408 [==============================] - 0s 89us/step - loss: 1.5373 - acc: 0.4412 - val_loss: 1.4060 - val_acc: 0.4272\n",
      "Epoch 18/100\n",
      "408/408 [==============================] - 0s 82us/step - loss: 1.5185 - acc: 0.4412 - val_loss: 1.3851 - val_acc: 0.4272\n",
      "Epoch 19/100\n",
      "408/408 [==============================] - 0s 86us/step - loss: 1.4982 - acc: 0.4412 - val_loss: 1.3648 - val_acc: 0.4272\n",
      "Epoch 20/100\n",
      "408/408 [==============================] - 0s 83us/step - loss: 1.4754 - acc: 0.4412 - val_loss: 1.3454 - val_acc: 0.4369\n",
      "Epoch 21/100\n",
      "408/408 [==============================] - 0s 79us/step - loss: 1.4512 - acc: 0.4485 - val_loss: 1.3244 - val_acc: 0.4369\n",
      "Epoch 22/100\n",
      "408/408 [==============================] - 0s 83us/step - loss: 1.4284 - acc: 0.4730 - val_loss: 1.3049 - val_acc: 0.4563\n",
      "Epoch 23/100\n",
      "408/408 [==============================] - 0s 80us/step - loss: 1.4061 - acc: 0.5000 - val_loss: 1.2855 - val_acc: 0.4563\n",
      "Epoch 24/100\n",
      "408/408 [==============================] - 0s 80us/step - loss: 1.3858 - acc: 0.5000 - val_loss: 1.2653 - val_acc: 0.4563\n",
      "Epoch 25/100\n",
      "408/408 [==============================] - 0s 78us/step - loss: 1.3638 - acc: 0.5049 - val_loss: 1.2463 - val_acc: 0.4563\n",
      "Epoch 26/100\n",
      "408/408 [==============================] - 0s 82us/step - loss: 1.3446 - acc: 0.4975 - val_loss: 1.2292 - val_acc: 0.4563\n",
      "Epoch 27/100\n",
      "408/408 [==============================] - 0s 79us/step - loss: 1.3240 - acc: 0.4975 - val_loss: 1.2094 - val_acc: 0.4563\n",
      "Epoch 28/100\n",
      "408/408 [==============================] - 0s 79us/step - loss: 1.3043 - acc: 0.4951 - val_loss: 1.1887 - val_acc: 0.4563\n",
      "Epoch 29/100\n",
      "408/408 [==============================] - 0s 80us/step - loss: 1.2838 - acc: 0.4975 - val_loss: 1.1668 - val_acc: 0.4854\n",
      "Epoch 30/100\n",
      "408/408 [==============================] - 0s 80us/step - loss: 1.2633 - acc: 0.5392 - val_loss: 1.1457 - val_acc: 0.6214\n",
      "Epoch 31/100\n",
      "408/408 [==============================] - 0s 79us/step - loss: 1.2455 - acc: 0.7279 - val_loss: 1.1288 - val_acc: 0.8155\n",
      "Epoch 32/100\n",
      "408/408 [==============================] - 0s 80us/step - loss: 1.2322 - acc: 0.7843 - val_loss: 1.1085 - val_acc: 0.8155\n",
      "Epoch 33/100\n",
      "408/408 [==============================] - 0s 81us/step - loss: 1.2140 - acc: 0.7868 - val_loss: 1.0866 - val_acc: 0.8155\n",
      "Epoch 34/100\n",
      "408/408 [==============================] - 0s 81us/step - loss: 1.1867 - acc: 0.7770 - val_loss: 1.0717 - val_acc: 0.6699\n",
      "Epoch 35/100\n",
      "408/408 [==============================] - 0s 80us/step - loss: 1.1678 - acc: 0.6201 - val_loss: 1.0683 - val_acc: 0.4563\n",
      "Epoch 36/100\n",
      "408/408 [==============================] - 0s 81us/step - loss: 1.1544 - acc: 0.5000 - val_loss: 1.0549 - val_acc: 0.4563\n",
      "Epoch 37/100\n",
      "408/408 [==============================] - 0s 81us/step - loss: 1.1360 - acc: 0.5000 - val_loss: 1.0296 - val_acc: 0.5437\n",
      "Epoch 38/100\n",
      "408/408 [==============================] - 0s 81us/step - loss: 1.1097 - acc: 0.6373 - val_loss: 1.0022 - val_acc: 0.6796\n",
      "Epoch 39/100\n",
      "408/408 [==============================] - 0s 79us/step - loss: 1.0871 - acc: 0.7525 - val_loss: 0.9775 - val_acc: 0.8058\n",
      "Epoch 40/100\n",
      "408/408 [==============================] - 0s 83us/step - loss: 1.0651 - acc: 0.7696 - val_loss: 0.9537 - val_acc: 0.7767\n",
      "Epoch 41/100\n",
      "408/408 [==============================] - 0s 80us/step - loss: 1.0429 - acc: 0.7696 - val_loss: 0.9314 - val_acc: 0.7961\n",
      "Epoch 42/100\n",
      "408/408 [==============================] - 0s 81us/step - loss: 1.0223 - acc: 0.7721 - val_loss: 0.9053 - val_acc: 0.8155\n",
      "Epoch 43/100\n",
      "408/408 [==============================] - 0s 83us/step - loss: 0.9963 - acc: 0.7868 - val_loss: 0.8808 - val_acc: 0.8155\n",
      "Epoch 44/100\n",
      "408/408 [==============================] - 0s 86us/step - loss: 0.9726 - acc: 0.7868 - val_loss: 0.8621 - val_acc: 0.8155\n",
      "Epoch 45/100\n",
      "408/408 [==============================] - 0s 80us/step - loss: 0.9513 - acc: 0.7868 - val_loss: 0.8389 - val_acc: 0.8155\n",
      "Epoch 46/100\n",
      "408/408 [==============================] - 0s 83us/step - loss: 0.9234 - acc: 0.7868 - val_loss: 0.8130 - val_acc: 0.8155\n",
      "Epoch 47/100\n",
      "408/408 [==============================] - 0s 83us/step - loss: 0.8965 - acc: 0.7868 - val_loss: 0.7841 - val_acc: 0.8252\n",
      "Epoch 48/100\n",
      "408/408 [==============================] - 0s 82us/step - loss: 0.8697 - acc: 0.7990 - val_loss: 0.7548 - val_acc: 0.8447\n",
      "Epoch 49/100\n",
      "408/408 [==============================] - 0s 80us/step - loss: 0.8471 - acc: 0.8039 - val_loss: 0.7302 - val_acc: 0.8447\n",
      "Epoch 50/100\n",
      "408/408 [==============================] - 0s 81us/step - loss: 0.8221 - acc: 0.8137 - val_loss: 0.7094 - val_acc: 0.8544\n",
      "Epoch 51/100\n",
      "408/408 [==============================] - 0s 82us/step - loss: 0.7970 - acc: 0.8113 - val_loss: 0.6884 - val_acc: 0.8447\n",
      "Epoch 52/100\n",
      "408/408 [==============================] - 0s 89us/step - loss: 0.7759 - acc: 0.8015 - val_loss: 0.6629 - val_acc: 0.8447\n",
      "Epoch 53/100\n",
      "408/408 [==============================] - 0s 82us/step - loss: 0.7523 - acc: 0.8039 - val_loss: 0.6369 - val_acc: 0.8544\n",
      "Epoch 54/100\n",
      "408/408 [==============================] - 0s 80us/step - loss: 0.7287 - acc: 0.8162 - val_loss: 0.6174 - val_acc: 0.8544\n",
      "Epoch 55/100\n",
      "408/408 [==============================] - 0s 81us/step - loss: 0.7070 - acc: 0.8162 - val_loss: 0.5959 - val_acc: 0.8544\n",
      "Epoch 56/100\n",
      "408/408 [==============================] - 0s 81us/step - loss: 0.6849 - acc: 0.8162 - val_loss: 0.5732 - val_acc: 0.8544\n",
      "Epoch 57/100\n",
      "408/408 [==============================] - 0s 80us/step - loss: 0.6665 - acc: 0.8162 - val_loss: 0.5530 - val_acc: 0.8544\n",
      "Epoch 58/100\n",
      "408/408 [==============================] - 0s 80us/step - loss: 0.6493 - acc: 0.8211 - val_loss: 0.5351 - val_acc: 0.8641\n",
      "Epoch 59/100\n",
      "408/408 [==============================] - 0s 79us/step - loss: 0.6318 - acc: 0.8309 - val_loss: 0.5212 - val_acc: 0.8641\n",
      "Epoch 60/100\n",
      "408/408 [==============================] - 0s 79us/step - loss: 0.6148 - acc: 0.8309 - val_loss: 0.5088 - val_acc: 0.8641\n",
      "Epoch 61/100\n"
     ]
    },
    {
     "name": "stdout",
     "output_type": "stream",
     "text": [
      "408/408 [==============================] - 0s 79us/step - loss: 0.5987 - acc: 0.8358 - val_loss: 0.4919 - val_acc: 0.8641\n",
      "Epoch 62/100\n",
      "408/408 [==============================] - 0s 79us/step - loss: 0.5836 - acc: 0.8358 - val_loss: 0.4800 - val_acc: 0.8641\n",
      "Epoch 63/100\n",
      "408/408 [==============================] - 0s 81us/step - loss: 0.5709 - acc: 0.8431 - val_loss: 0.4707 - val_acc: 0.8641\n",
      "Epoch 64/100\n",
      "408/408 [==============================] - 0s 80us/step - loss: 0.5577 - acc: 0.8407 - val_loss: 0.4623 - val_acc: 0.8641\n",
      "Epoch 65/100\n",
      "408/408 [==============================] - 0s 79us/step - loss: 0.5440 - acc: 0.8407 - val_loss: 0.4531 - val_acc: 0.8641\n",
      "Epoch 66/100\n",
      "408/408 [==============================] - 0s 81us/step - loss: 0.5328 - acc: 0.8480 - val_loss: 0.4417 - val_acc: 0.8544\n",
      "Epoch 67/100\n",
      "408/408 [==============================] - 0s 81us/step - loss: 0.5229 - acc: 0.8456 - val_loss: 0.4300 - val_acc: 0.8544\n",
      "Epoch 68/100\n",
      "408/408 [==============================] - 0s 80us/step - loss: 0.5143 - acc: 0.8382 - val_loss: 0.4223 - val_acc: 0.8544\n",
      "Epoch 69/100\n",
      "408/408 [==============================] - 0s 78us/step - loss: 0.5028 - acc: 0.8358 - val_loss: 0.4178 - val_acc: 0.8544\n",
      "Epoch 70/100\n",
      "408/408 [==============================] - 0s 81us/step - loss: 0.4932 - acc: 0.8382 - val_loss: 0.4129 - val_acc: 0.8544\n",
      "Epoch 71/100\n",
      "408/408 [==============================] - 0s 80us/step - loss: 0.4843 - acc: 0.8456 - val_loss: 0.4057 - val_acc: 0.8641\n",
      "Epoch 72/100\n",
      "408/408 [==============================] - 0s 81us/step - loss: 0.4748 - acc: 0.8505 - val_loss: 0.3991 - val_acc: 0.8738\n",
      "Epoch 73/100\n",
      "408/408 [==============================] - 0s 80us/step - loss: 0.4643 - acc: 0.8505 - val_loss: 0.3896 - val_acc: 0.8641\n",
      "Epoch 74/100\n",
      "408/408 [==============================] - 0s 80us/step - loss: 0.4574 - acc: 0.8554 - val_loss: 0.3832 - val_acc: 0.8641\n",
      "Epoch 75/100\n",
      "408/408 [==============================] - 0s 81us/step - loss: 0.4501 - acc: 0.8676 - val_loss: 0.3792 - val_acc: 0.8641\n",
      "Epoch 76/100\n",
      "408/408 [==============================] - 0s 80us/step - loss: 0.4401 - acc: 0.8701 - val_loss: 0.3771 - val_acc: 0.8738\n",
      "Epoch 77/100\n",
      "408/408 [==============================] - 0s 80us/step - loss: 0.4308 - acc: 0.8775 - val_loss: 0.3681 - val_acc: 0.8835\n",
      "Epoch 78/100\n",
      "408/408 [==============================] - 0s 82us/step - loss: 0.4226 - acc: 0.8775 - val_loss: 0.3635 - val_acc: 0.8835\n",
      "Epoch 79/100\n",
      "408/408 [==============================] - 0s 82us/step - loss: 0.4165 - acc: 0.8848 - val_loss: 0.3599 - val_acc: 0.8738\n",
      "Epoch 80/100\n",
      "408/408 [==============================] - 0s 78us/step - loss: 0.4095 - acc: 0.8848 - val_loss: 0.3485 - val_acc: 0.8738\n",
      "Epoch 81/100\n",
      "408/408 [==============================] - 0s 80us/step - loss: 0.4018 - acc: 0.8799 - val_loss: 0.3425 - val_acc: 0.8738\n",
      "Epoch 82/100\n",
      "408/408 [==============================] - 0s 80us/step - loss: 0.3953 - acc: 0.8725 - val_loss: 0.3401 - val_acc: 0.8738\n",
      "Epoch 83/100\n",
      "408/408 [==============================] - 0s 82us/step - loss: 0.3887 - acc: 0.8799 - val_loss: 0.3381 - val_acc: 0.8835\n",
      "Epoch 84/100\n",
      "408/408 [==============================] - 0s 79us/step - loss: 0.3830 - acc: 0.8995 - val_loss: 0.3347 - val_acc: 0.8932\n",
      "Epoch 85/100\n",
      "408/408 [==============================] - 0s 86us/step - loss: 0.3772 - acc: 0.9044 - val_loss: 0.3229 - val_acc: 0.8932\n",
      "Epoch 86/100\n",
      "408/408 [==============================] - 0s 81us/step - loss: 0.3720 - acc: 0.8946 - val_loss: 0.3130 - val_acc: 0.8932\n",
      "Epoch 87/100\n",
      "408/408 [==============================] - 0s 80us/step - loss: 0.3671 - acc: 0.8873 - val_loss: 0.3116 - val_acc: 0.8932\n",
      "Epoch 88/100\n",
      "408/408 [==============================] - 0s 81us/step - loss: 0.3596 - acc: 0.9020 - val_loss: 0.3129 - val_acc: 0.9029\n",
      "Epoch 89/100\n",
      "408/408 [==============================] - 0s 80us/step - loss: 0.3515 - acc: 0.9044 - val_loss: 0.3100 - val_acc: 0.8932\n",
      "Epoch 90/100\n",
      "408/408 [==============================] - 0s 80us/step - loss: 0.3471 - acc: 0.9044 - val_loss: 0.3089 - val_acc: 0.8932\n",
      "Epoch 91/100\n",
      "408/408 [==============================] - 0s 82us/step - loss: 0.3440 - acc: 0.9020 - val_loss: 0.2976 - val_acc: 0.8932\n",
      "Epoch 92/100\n",
      "408/408 [==============================] - 0s 81us/step - loss: 0.3350 - acc: 0.9142 - val_loss: 0.2929 - val_acc: 0.9320\n",
      "Epoch 93/100\n",
      "408/408 [==============================] - 0s 81us/step - loss: 0.3336 - acc: 0.9289 - val_loss: 0.2893 - val_acc: 0.9320\n",
      "Epoch 94/100\n",
      "408/408 [==============================] - 0s 81us/step - loss: 0.3262 - acc: 0.9289 - val_loss: 0.2838 - val_acc: 0.8932\n",
      "Epoch 95/100\n",
      "408/408 [==============================] - 0s 81us/step - loss: 0.3207 - acc: 0.9118 - val_loss: 0.2796 - val_acc: 0.8932\n",
      "Epoch 96/100\n",
      "408/408 [==============================] - 0s 80us/step - loss: 0.3156 - acc: 0.9289 - val_loss: 0.2783 - val_acc: 0.9417\n",
      "Epoch 97/100\n",
      "408/408 [==============================] - 0s 82us/step - loss: 0.3153 - acc: 0.9338 - val_loss: 0.2755 - val_acc: 0.9320\n",
      "Epoch 98/100\n",
      "408/408 [==============================] - 0s 80us/step - loss: 0.3082 - acc: 0.9387 - val_loss: 0.2773 - val_acc: 0.9126\n",
      "Epoch 99/100\n",
      "408/408 [==============================] - 0s 82us/step - loss: 0.3110 - acc: 0.9118 - val_loss: 0.2763 - val_acc: 0.8835\n",
      "Epoch 100/100\n",
      "408/408 [==============================] - 0s 81us/step - loss: 0.3048 - acc: 0.9142 - val_loss: 0.2678 - val_acc: 0.9029\n",
      "CPU times: user 6min 33s, sys: 1min 34s, total: 8min 8s\n",
      "Wall time: 7min 9s\n"
     ]
    }
   ],
   "source": [
    "%%time\n",
    "agent.train(\n",
    "    training_data,\n",
    "    epochs=100,\n",
    "    batch_size=100,\n",
    "    validation_split=0.2)\n",
    "\n",
    "agent_directory = agent.persist(os.path.join(root_dir, 'tmp/core/'))"
   ]
  },
  {
   "cell_type": "code",
   "execution_count": 16,
   "metadata": {
    "slideshow": {
     "slide_type": "slide"
    }
   },
   "outputs": [
    {
     "name": "stderr",
     "output_type": "stream",
     "text": [
      "/usr/local/lib/python3.6/site-packages/pykwalify/core.py:99: UnsafeLoaderWarning: \n",
      "The default 'Loader' for 'load(stream)' without further arguments can be unsafe.\n",
      "Use 'load(stream, Loader=ruamel.yaml.Loader)' explicitly if that is OK.\n",
      "Alternatively include the following in your code:\n",
      "\n",
      "  import warnings\n",
      "  warnings.simplefilter('ignore', ruamel.yaml.error.UnsafeLoaderWarning)\n",
      "\n",
      "In most other cases you should consider using 'safe_load(stream)'\n",
      "  data = yaml.load(stream)\n"
     ]
    }
   ],
   "source": [
    "from rasa_core.interpreter import RasaNLUInterpreter\n",
    "\n",
    "agent = Agent.load(\n",
    "    os.path.join(root_dir, 'tmp/core/'), \n",
    "    interpreter=RasaNLUInterpreter(model_directory))"
   ]
  },
  {
   "cell_type": "code",
   "execution_count": 134,
   "metadata": {
    "slideshow": {
     "slide_type": "slide"
    }
   },
   "outputs": [
    {
     "name": "stdout",
     "output_type": "stream",
     "text": [
      "241df086-0dd2-49ac-94df-09c142762ed1\n"
     ]
    }
   ],
   "source": [
    "import uuid\n",
    "\n",
    "sender_id = str(uuid.uuid4())\n",
    "print(sender_id)"
   ]
  },
  {
   "cell_type": "code",
   "execution_count": 135,
   "metadata": {
    "slideshow": {
     "slide_type": "slide"
    }
   },
   "outputs": [
    {
     "name": "stdout",
     "output_type": "stream",
     "text": [
      "how can I help you?\n"
     ]
    }
   ],
   "source": [
    "msg = 'hello'\n",
    "\n",
    "answer = agent.handle_message(msg, sender_id=sender_id)\n",
    "tracker = agent.tracker_store.get_or_create_tracker(sender_id)\n",
    "state = tracker.current_state()\n",
    "for a in answer:\n",
    "    print(a['text'])"
   ]
  },
  {
   "cell_type": "code",
   "execution_count": 136,
   "metadata": {
    "slideshow": {
     "slide_type": "slide"
    }
   },
   "outputs": [
    {
     "data": {
      "text/plain": [
       "{'sender_id': '241df086-0dd2-49ac-94df-09c142762ed1',\n",
       " 'slots': {'cuisine': None,\n",
       "  'info': None,\n",
       "  'location': None,\n",
       "  'matches': None,\n",
       "  'people': None,\n",
       "  'price': None},\n",
       " 'latest_message': {'intent': {'name': 'greet',\n",
       "   'confidence': 0.9508392002298444},\n",
       "  'entities': [],\n",
       "  'intent_ranking': [{'name': 'greet', 'confidence': 0.9508392002298444},\n",
       "   {'name': 'affirm', 'confidence': 0.023417162583299917},\n",
       "   {'name': 'thankyou', 'confidence': 0.013442362916337932},\n",
       "   {'name': 'deny', 'confidence': 0.00568399271695979},\n",
       "   {'name': 'inform', 'confidence': 0.005056016685371877},\n",
       "   {'name': 'request_info', 'confidence': 0.0015612648681859868}],\n",
       "  'text': 'hello'},\n",
       " 'latest_event_time': 1535745355.450332,\n",
       " 'paused': False,\n",
       " 'events': None}"
      ]
     },
     "execution_count": 136,
     "metadata": {},
     "output_type": "execute_result"
    }
   ],
   "source": [
    "state"
   ]
  },
  {
   "cell_type": "code",
   "execution_count": 137,
   "metadata": {
    "slideshow": {
     "slide_type": "slide"
    }
   },
   "outputs": [
    {
     "name": "stdout",
     "output_type": "stream",
     "text": [
      "I'm on it\n",
      "what kind of cuisine would you like?\n"
     ]
    }
   ],
   "source": [
    "msg = 'moderately priced restaurant in the south part of town'\n",
    "\n",
    "answer = agent.handle_message(msg, sender_id=sender_id)\n",
    "tracker = agent.tracker_store.get_or_create_tracker(sender_id)\n",
    "state = tracker.current_state()\n",
    "for a in answer:\n",
    "    print(a['text'])"
   ]
  },
  {
   "cell_type": "code",
   "execution_count": 138,
   "metadata": {
    "slideshow": {
     "slide_type": "slide"
    }
   },
   "outputs": [
    {
     "data": {
      "text/plain": [
       "{'sender_id': '241df086-0dd2-49ac-94df-09c142762ed1',\n",
       " 'slots': {'cuisine': None,\n",
       "  'info': None,\n",
       "  'location': 'south',\n",
       "  'matches': None,\n",
       "  'people': None,\n",
       "  'price': 'moderate'},\n",
       " 'latest_message': {'intent': {'name': 'inform',\n",
       "   'confidence': 0.9746576553738102},\n",
       "  'entities': [{'start': 0,\n",
       "    'end': 10,\n",
       "    'value': 'moderate',\n",
       "    'entity': 'price',\n",
       "    'confidence': 0.9965307924983892,\n",
       "    'extractor': 'ner_crf',\n",
       "    'processors': ['ner_synonyms']},\n",
       "   {'start': 36,\n",
       "    'end': 41,\n",
       "    'value': 'south',\n",
       "    'entity': 'location',\n",
       "    'confidence': 0.9490795643500979,\n",
       "    'extractor': 'ner_crf'}],\n",
       "  'intent_ranking': [{'name': 'inform', 'confidence': 0.9746576553738102},\n",
       "   {'name': 'affirm', 'confidence': 0.021239525703462523},\n",
       "   {'name': 'deny', 'confidence': 0.0020033534350543786},\n",
       "   {'name': 'request_info', 'confidence': 0.0013917180993503549},\n",
       "   {'name': 'thankyou', 'confidence': 0.0005153209797594731},\n",
       "   {'name': 'greet', 'confidence': 0.00019242640856293166}],\n",
       "  'text': 'moderately priced restaurant in the south part of town'},\n",
       " 'latest_event_time': 1535745356.609504,\n",
       " 'paused': False,\n",
       " 'events': None}"
      ]
     },
     "execution_count": 138,
     "metadata": {},
     "output_type": "execute_result"
    }
   ],
   "source": [
    "state"
   ]
  },
  {
   "cell_type": "code",
   "execution_count": 139,
   "metadata": {
    "slideshow": {
     "slide_type": "slide"
    }
   },
   "outputs": [
    {
     "name": "stdout",
     "output_type": "stream",
     "text": [
      "for how many people?\n"
     ]
    }
   ],
   "source": [
    "msg = 'what about indian style?'\n",
    "\n",
    "answer = agent.handle_message(msg, sender_id=sender_id)\n",
    "tracker = agent.tracker_store.get_or_create_tracker(sender_id)\n",
    "state = tracker.current_state()\n",
    "for a in answer:\n",
    "    print(a['text'])"
   ]
  },
  {
   "cell_type": "code",
   "execution_count": 140,
   "metadata": {
    "slideshow": {
     "slide_type": "slide"
    }
   },
   "outputs": [
    {
     "data": {
      "text/plain": [
       "{'sender_id': '241df086-0dd2-49ac-94df-09c142762ed1',\n",
       " 'slots': {'cuisine': 'indian',\n",
       "  'info': None,\n",
       "  'location': 'south',\n",
       "  'matches': None,\n",
       "  'people': None,\n",
       "  'price': 'moderate'},\n",
       " 'latest_message': {'intent': {'name': 'inform',\n",
       "   'confidence': 0.9658233952171321},\n",
       "  'entities': [{'start': 11,\n",
       "    'end': 17,\n",
       "    'value': 'indian',\n",
       "    'entity': 'cuisine',\n",
       "    'confidence': 0.9837364633497523,\n",
       "    'extractor': 'ner_crf'}],\n",
       "  'intent_ranking': [{'name': 'inform', 'confidence': 0.9658233952171321},\n",
       "   {'name': 'affirm', 'confidence': 0.02915325031086175},\n",
       "   {'name': 'thankyou', 'confidence': 0.0025338624138773287},\n",
       "   {'name': 'deny', 'confidence': 0.0011459007617097244},\n",
       "   {'name': 'greet', 'confidence': 0.000986190201556008},\n",
       "   {'name': 'request_info', 'confidence': 0.00035740109486263877}],\n",
       "  'text': 'what about indian style?'},\n",
       " 'latest_event_time': 1535745357.827314,\n",
       " 'paused': False,\n",
       " 'events': None}"
      ]
     },
     "execution_count": 140,
     "metadata": {},
     "output_type": "execute_result"
    }
   ],
   "source": [
    "state"
   ]
  },
  {
   "cell_type": "code",
   "execution_count": 141,
   "metadata": {
    "slideshow": {
     "slide_type": "slide"
    }
   },
   "outputs": [
    {
     "name": "stdout",
     "output_type": "stream",
     "text": [
      "if you'd like to modify anything else, please tell me what. This is what I currently have: south (price: moderate, cuisine: indian) for 6 people.\n"
     ]
    }
   ],
   "source": [
    "msg = 'six people'\n",
    "\n",
    "answer = agent.handle_message(msg, sender_id=sender_id)\n",
    "tracker = agent.tracker_store.get_or_create_tracker(sender_id)\n",
    "state = tracker.current_state()\n",
    "for a in answer:\n",
    "    print(a['text'])"
   ]
  },
  {
   "cell_type": "code",
   "execution_count": 142,
   "metadata": {
    "slideshow": {
     "slide_type": "slide"
    }
   },
   "outputs": [
    {
     "data": {
      "text/plain": [
       "{'sender_id': '241df086-0dd2-49ac-94df-09c142762ed1',\n",
       " 'slots': {'cuisine': 'indian',\n",
       "  'info': None,\n",
       "  'location': 'south',\n",
       "  'matches': None,\n",
       "  'people': '6',\n",
       "  'price': 'moderate'},\n",
       " 'latest_message': {'intent': {'name': 'inform',\n",
       "   'confidence': 0.732600112586828},\n",
       "  'entities': [{'start': 0,\n",
       "    'end': 3,\n",
       "    'value': '6',\n",
       "    'entity': 'people',\n",
       "    'confidence': 0.6296027592657509,\n",
       "    'extractor': 'ner_crf',\n",
       "    'processors': ['ner_synonyms']}],\n",
       "  'intent_ranking': [{'name': 'inform', 'confidence': 0.732600112586828},\n",
       "   {'name': 'request_info', 'confidence': 0.1366190653850414},\n",
       "   {'name': 'thankyou', 'confidence': 0.07173080451246215},\n",
       "   {'name': 'deny', 'confidence': 0.02771122608867573},\n",
       "   {'name': 'greet', 'confidence': 0.017306430013090193},\n",
       "   {'name': 'affirm', 'confidence': 0.014032361413902062}],\n",
       "  'text': 'six people'},\n",
       " 'latest_event_time': 1535745359.5551639,\n",
       " 'paused': False,\n",
       " 'events': None}"
      ]
     },
     "execution_count": 142,
     "metadata": {},
     "output_type": "execute_result"
    }
   ],
   "source": [
    "state"
   ]
  },
  {
   "cell_type": "code",
   "execution_count": 143,
   "metadata": {
    "slideshow": {
     "slide_type": "slide"
    }
   },
   "outputs": [
    {
     "name": "stdout",
     "output_type": "stream",
     "text": [
      "ok let me see what I can find\n",
      "MOCK action_search_restaurants\n",
      "MOCK action_suggest\n"
     ]
    }
   ],
   "source": [
    "msg = 'no'\n",
    "\n",
    "answer = agent.handle_message(msg, sender_id=sender_id)\n",
    "tracker = agent.tracker_store.get_or_create_tracker(sender_id)\n",
    "state = tracker.current_state()\n",
    "for a in answer:\n",
    "    print(a['text'])"
   ]
  },
  {
   "cell_type": "code",
   "execution_count": 144,
   "metadata": {
    "slideshow": {
     "slide_type": "slide"
    }
   },
   "outputs": [
    {
     "data": {
      "text/plain": [
       "{'sender_id': '241df086-0dd2-49ac-94df-09c142762ed1',\n",
       " 'slots': {'cuisine': 'indian',\n",
       "  'info': None,\n",
       "  'location': 'south',\n",
       "  'matches': None,\n",
       "  'people': '6',\n",
       "  'price': 'moderate'},\n",
       " 'latest_message': {'intent': {'name': 'deny',\n",
       "   'confidence': 0.9967124904217057},\n",
       "  'entities': [],\n",
       "  'intent_ranking': [{'name': 'deny', 'confidence': 0.9967124904217057},\n",
       "   {'name': 'greet', 'confidence': 0.002621788099360835},\n",
       "   {'name': 'inform', 'confidence': 0.000339662415716998},\n",
       "   {'name': 'request_info', 'confidence': 0.00017697615665696764},\n",
       "   {'name': 'thankyou', 'confidence': 0.00010985058434942631},\n",
       "   {'name': 'affirm', 'confidence': 3.923232220997178e-05}],\n",
       "  'text': 'no'},\n",
       " 'latest_event_time': 1535745361.13536,\n",
       " 'paused': False,\n",
       " 'events': None}"
      ]
     },
     "execution_count": 144,
     "metadata": {},
     "output_type": "execute_result"
    }
   ],
   "source": [
    "state"
   ]
  },
  {
   "cell_type": "code",
   "execution_count": 145,
   "metadata": {
    "slideshow": {
     "slide_type": "slide"
    }
   },
   "outputs": [
    {
     "name": "stdout",
     "output_type": "stream",
     "text": [
      "ok making a reservation for restaurant (price=moderate cuisine=indian) in location=south for count=6? \n"
     ]
    }
   ],
   "source": [
    "msg = 'yes'\n",
    "\n",
    "answer = agent.handle_message(msg, sender_id=sender_id)\n",
    "tracker = agent.tracker_store.get_or_create_tracker(sender_id)\n",
    "state = tracker.current_state()\n",
    "for a in answer:\n",
    "    print(a['text'])"
   ]
  },
  {
   "cell_type": "markdown",
   "metadata": {
    "slideshow": {
     "slide_type": "slide"
    }
   },
   "source": [
    "<img src=\"./images/end.png\" />"
   ]
  }
 ],
 "metadata": {
  "celltoolbar": "Slideshow",
  "kernelspec": {
   "display_name": "Python 3",
   "language": "python",
   "name": "python3"
  },
  "language_info": {
   "codemirror_mode": {
    "name": "ipython",
    "version": 3
   },
   "file_extension": ".py",
   "mimetype": "text/x-python",
   "name": "python",
   "nbconvert_exporter": "python",
   "pygments_lexer": "ipython3",
   "version": "3.6.5"
  }
 },
 "nbformat": 4,
 "nbformat_minor": 2
}
