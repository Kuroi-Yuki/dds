{
 "cells": [
  {
   "cell_type": "markdown",
   "metadata": {
    "slideshow": {
     "slide_type": "skip"
    }
   },
   "source": [
    "- `jupyter nbconvert pytorch_tutorial.ipynb --to slides --post serve --ServePostProcessor.port=8889 --SlidesExporter.reveal_scroll=True`"
   ]
  },
  {
   "cell_type": "markdown",
   "metadata": {
    "slideshow": {
     "slide_type": "slide"
    }
   },
   "source": [
    "<img src=\"images/ods.png\" />\n",
    "- http://pavelnesterov.info/\n",
    "- http://DubaiDataScience.ae/\n",
    "- https://github.com/mephistopheies/dds/tree/master/ibm_290618"
   ]
  },
  {
   "cell_type": "markdown",
   "metadata": {
    "slideshow": {
     "slide_type": "slide"
    }
   },
   "source": [
    "| Pavel Nesterov  | Data Scientist  |\n",
    "|---|---|\n",
    "| <img src=\"images/r2.png\" />  | <img src=\"images/r1.png\" />  |\n",
    "- http://reaktor.com/"
   ]
  },
  {
   "cell_type": "markdown",
   "metadata": {
    "slideshow": {
     "slide_type": "slide"
    }
   },
   "source": [
    "<img src=\"images/ds.png\" />"
   ]
  },
  {
   "cell_type": "markdown",
   "metadata": {
    "slideshow": {
     "slide_type": "slide"
    }
   },
   "source": [
    "# Introduction to pyPorch\n",
    "\n",
    "## Plan\n",
    "\n",
    "- Framework for Deep Learning\n",
    "- Automatic Differentiation\n",
    "- PyTorch Overview\n",
    "- Logistic Regression \n",
    "- Generative Adversarial Networks"
   ]
  },
  {
   "cell_type": "code",
   "execution_count": 1,
   "metadata": {
    "slideshow": {
     "slide_type": "skip"
    }
   },
   "outputs": [],
   "source": [
    "%matplotlib inline\n",
    "import matplotlib\n",
    "import matplotlib.pyplot as plt\n",
    "import seaborn as sns\n",
    "sns.set_style(\"dark\")\n",
    "plt.rcParams['figure.figsize'] = 16, 12"
   ]
  },
  {
   "cell_type": "code",
   "execution_count": 2,
   "metadata": {
    "slideshow": {
     "slide_type": "skip"
    }
   },
   "outputs": [],
   "source": [
    "plt.rcParams['figure.figsize'] = 16, 12"
   ]
  },
  {
   "cell_type": "markdown",
   "metadata": {
    "slideshow": {
     "slide_type": "slide"
    }
   },
   "source": [
    "<img src=\"images/allframeworks.png\" />"
   ]
  },
  {
   "cell_type": "markdown",
   "metadata": {
    "slideshow": {
     "slide_type": "subslide"
    }
   },
   "source": [
    "# Computational graph\n",
    "\n",
    "| Addition  | Affine transformation  |\n",
    "|---|---|\n",
    "| <img src=\"images/addition.png\" />  | <img src=\"images/affine_transformation.png\" />  |"
   ]
  },
  {
   "cell_type": "markdown",
   "metadata": {
    "slideshow": {
     "slide_type": "subslide"
    }
   },
   "source": [
    "# Functions of a deep learning framework\n",
    "\n",
    "Any DL framework have support:\n",
    "- definition of a computaional graph\n",
    "- differentiation of a computational graph\n",
    "- evaluation/computation of a computational graph"
   ]
  },
  {
   "cell_type": "markdown",
   "metadata": {
    "slideshow": {
     "slide_type": "subslide"
    }
   },
   "source": [
    "# Types of deep learning frameworks\n",
    "\n",
    "<img src=\"images/frameworks.png\" width=640 />"
   ]
  },
  {
   "cell_type": "markdown",
   "metadata": {
    "slideshow": {
     "slide_type": "slide"
    }
   },
   "source": [
    "<img src=\"images/mytorch.png\" />"
   ]
  },
  {
   "cell_type": "markdown",
   "metadata": {
    "slideshow": {
     "slide_type": "subslide"
    }
   },
   "source": [
    "## Simple function\n",
    "\n",
    "$$\\Large\n",
    "\\begin{array}{rcl}\n",
    "f\\left(x, y\\right) = y + y x + y x^2\n",
    "\\end{array}\n",
    "$$"
   ]
  },
  {
   "cell_type": "code",
   "execution_count": 3,
   "metadata": {
    "slideshow": {
     "slide_type": "subslide"
    }
   },
   "outputs": [
    {
     "name": "stdout",
     "output_type": "stream",
     "text": [
      "f(3, 2) = 26\n"
     ]
    }
   ],
   "source": [
    "# let's define a function\n",
    "\n",
    "def f(x, y):\n",
    "    return y + y*x + y*x**2\n",
    "\n",
    "print('f(3, 2) =', f(3, 2))"
   ]
  },
  {
   "cell_type": "markdown",
   "metadata": {
    "slideshow": {
     "slide_type": "subslide"
    }
   },
   "source": [
    "## Analytic derivative of the function\n",
    "\n",
    "$$\\Large\n",
    "\\begin{array}{rcl}\n",
    "f\\left(x, y\\right) &=& y + y x + y x^2 \\\\\n",
    "\\dfrac{\\partial}{\\partial x} f\\left(x, y\\right) &=& ?\n",
    "\\end{array}\n",
    "$$"
   ]
  },
  {
   "cell_type": "markdown",
   "metadata": {
    "slideshow": {
     "slide_type": "subslide"
    }
   },
   "source": [
    "## Analytic derivative of the function\n",
    "\n",
    "$$\\Large\n",
    "\\begin{array}{rcl}\n",
    "f\\left(x, y\\right) &=& y + y x + y x^2 \\\\\n",
    "\\dfrac{\\partial}{\\partial x} f\\left(x, y\\right) &=& y + 2 y x\n",
    "\\end{array}\n",
    "$$"
   ]
  },
  {
   "cell_type": "code",
   "execution_count": 4,
   "metadata": {
    "slideshow": {
     "slide_type": "subslide"
    }
   },
   "outputs": [
    {
     "name": "stdout",
     "output_type": "stream",
     "text": [
      "df_dx(3, 2) = 14\n"
     ]
    }
   ],
   "source": [
    "# let's define function which returns its derivative wrt x evaluated at a point\n",
    "\n",
    "def df_dx(x, y):\n",
    "    return y + 2*y*x\n",
    "\n",
    "print('df_dx(3, 2) =', df_dx(3, 2))"
   ]
  },
  {
   "cell_type": "markdown",
   "metadata": {
    "slideshow": {
     "slide_type": "subslide"
    }
   },
   "source": [
    "## Chain rule\n",
    "\n",
    "$$\\Large\n",
    "\\begin{array}{rcl}\n",
    "\\left(f \\circ g\\right)' &=& \\left(f' \\circ g\\right)\\cdot g' \\\\\n",
    "\\dfrac{\\partial f\\left(g\\left(x\\right)\\right)}{\\partial x} &=& \\dfrac{\\partial f\\left(g\\left(x\\right)\\right)}{\\partial g\\left(x\\right)}\\cdot\\dfrac{\\partial g\\left(x\\right)}{\\partial x}\n",
    "\\end{array}\n",
    "$$"
   ]
  },
  {
   "cell_type": "markdown",
   "metadata": {
    "slideshow": {
     "slide_type": "subslide"
    }
   },
   "source": [
    "## Function as Directed Acyclic Graph\n",
    "- each node is an elementary function\n",
    "$$\\Large\n",
    "\\begin{array}{rcl}\n",
    "f\\left(x, y\\right) &=& y + y x + y x^2 \\\\\n",
    "g_1\\left(x, y\\right) &=& x \\\\\n",
    "g_2\\left(x, y\\right) &=& y \\\\\n",
    "g_3\\left(x, y\\right) &=& x^2 = g_1^2 \\\\\n",
    "g_4\\left(x, y\\right) &=& y \\cdot x = g_2 \\cdot g_1 \\\\\n",
    "g_5\\left(x, y\\right) &=& y + y \\cdot x = g_2 + g_4 \\\\\n",
    "g_6\\left(x, y\\right) &=& y \\cdot x^2 = g_2 \\cdot g_3 \\\\\n",
    "g_7\\left(x, y\\right) &=& f\\left(x, y\\right) = g_5 + g_6 \\\\\n",
    "\\end{array}\n",
    "$$"
   ]
  },
  {
   "cell_type": "code",
   "execution_count": 5,
   "metadata": {
    "slideshow": {
     "slide_type": "subslide"
    }
   },
   "outputs": [
    {
     "data": {
      "image/png": "[encoded data removed]",
      "text/plain": [
       "<matplotlib.figure.Figure at 0x7f8f6c547860>"
      ]
     },
     "metadata": {},
     "output_type": "display_data"
    },
    {
     "name": "stdout",
     "output_type": "stream",
     "text": [
      ".\n",
      ".\n",
      ".\n",
      ".\n",
      ".\n"
     ]
    }
   ],
   "source": [
    "# let's draw computational graph\n",
    "import networkx as nx\n",
    "\n",
    "G = nx.OrderedDiGraph()\n",
    "G.add_node(r'$g_1$')\n",
    "G.add_node(r'$g_2$')\n",
    "G.add_node(r'$g_3$')\n",
    "G.add_edge(r'$g_1$', r'$g_3$')\n",
    "G.add_node(r'$g_4$')\n",
    "G.add_edge(r'$g_1$', r'$g_4$')\n",
    "G.add_edge(r'$g_2$', r'$g_4$')\n",
    "G.add_node(r'$g_5$')\n",
    "G.add_edge(r'$g_2$', r'$g_5$')\n",
    "G.add_edge(r'$g_4$', r'$g_5$')\n",
    "G.add_node(r'$g_6$')\n",
    "G.add_edge(r'$g_3$', r'$g_6$')\n",
    "G.add_edge(r'$g_2$', r'$g_6$')\n",
    "G.add_node(r'$g_7$')\n",
    "G.add_edge(r'$g_5$', r'$g_7$')\n",
    "G.add_edge(r'$g_6$', r'$g_7$')\n",
    "color_map = []\n",
    "for node in G:\n",
    "    if node == r'$g_1$' or node == r'$g_2$':\n",
    "        color_map.append('lightgreen')\n",
    "    elif node == r'$g_7$':\n",
    "        color_map.append('red')\n",
    "    else:\n",
    "        color_map.append('lightblue')\n",
    "\n",
    "nx.draw_circular(G, with_labels=True, node_size=1000, node_color=color_map)\n",
    "plt.show()\n",
    "\n",
    "for _ in range(5):\n",
    "    print('.')"
   ]
  },
  {
   "cell_type": "markdown",
   "metadata": {
    "slideshow": {
     "slide_type": "subslide"
    }
   },
   "source": [
    "## Differentiation of elementary funtions\n",
    "$$\\Large\n",
    "\\begin{array}{rcl}\n",
    "\\dfrac{\\partial g_1}{\\partial x} &=& \\left. \\dfrac{\\partial}{\\partial x} x = 1 \\right|_{x=3, y=2} = 1 \\\\ \\\\\n",
    "\\dfrac{\\partial g_2}{\\partial x} &=& \\left. \\dfrac{\\partial}{\\partial x} y = 0 \\right|_{x=3, y=2} = 0 \\\\ \\\\\n",
    "\\dfrac{\\partial g_3}{\\partial x} &=& \\left. \\dfrac{\\partial}{\\partial x} g_1^2 = 2 g_1 \\dfrac{\\partial g1}{\\partial x} = 2x \\right|_{x=3, y=2} = 6 \\\\ \\\\\n",
    "\\dfrac{\\partial g_4}{\\partial x} &=& \\left. \\dfrac{\\partial}{\\partial x} g_2 \\cdot g_1 = g_2 \\dfrac{\\partial g_1}{\\partial x} + \\dfrac{\\partial g_2}{\\partial x} g_1 = g_2 = y \\right|_{x=3, y=2} = 2 \\\\ \\\\\n",
    "\\dfrac{\\partial g_5}{\\partial x} &=& \\left. \\dfrac{\\partial}{\\partial x}\\left(g_2 + g_4\\right) = \\dfrac{\\partial g_2}{\\partial x} + \\dfrac{\\partial g_4}{\\partial x} = g_2 = y \\right|_{x=3, y=2} = 2 \\\\ \\\\\n",
    "\\dfrac{\\partial g_6}{\\partial x} &=& \\left. \\dfrac{\\partial}{\\partial x} g_2 \\cdot g_3 = g_2 \\dfrac{\\partial g_3}{\\partial x} + \\dfrac{\\partial g_2}{\\partial x} g_3 = y \\cdot 2x \\right|_{x=3, y=2} = 12 \\\\ \\\\\n",
    "\\dfrac{\\partial g_7}{\\partial x} &=& \\left. \\dfrac{\\partial}{\\partial x}\\left(g_5 + g_6\\right) = \\dfrac{\\partial g_5}{\\partial x} + \\dfrac{\\partial g_6}{\\partial x} = y + 2xy \\right|_{x=3, y=2} = 14 \\\\ \\\\\n",
    "\\dfrac{\\partial f}{\\partial x} &=& \\left. \\dfrac{\\partial f}{\\partial g_7} \\cdot \\dfrac{\\partial g_7}{\\partial x} = y + 2xy \\right|_{x=3, y=2} = 14\n",
    "\\end{array}\n",
    "$$\n",
    "\n",
    "###### .\n",
    "###### .\n",
    "###### .\n",
    "###### .\n",
    "###### ."
   ]
  },
  {
   "cell_type": "markdown",
   "metadata": {
    "slideshow": {
     "slide_type": "subslide"
    }
   },
   "source": [
    "## Auto differentiation\n",
    "- we calculate value of the function and its derivative w.r.t. $x$ in a point **simultaneously**"
   ]
  },
  {
   "cell_type": "code",
   "execution_count": 6,
   "metadata": {
    "slideshow": {
     "slide_type": "subslide"
    }
   },
   "outputs": [],
   "source": [
    "# let's write a class which can automaticall calculate derivative wrt x\n",
    "\n",
    "class Variable:\n",
    "    \n",
    "    def __init__(self, value, derivative):\n",
    "        self.value = value\n",
    "        self.derivative = derivative\n",
    "\n",
    "    def __add__(self, other):\n",
    "        return Variable(\n",
    "            self.value + other.value,\n",
    "            self.derivative + other.derivative\n",
    "        )\n",
    "    \n",
    "    def __mul__(self, other):\n",
    "        return Variable(\n",
    "            self.value * other.value,\n",
    "            self.derivative * other.value + self.value * other.derivative\n",
    "        )\n",
    "\n",
    "    def __pow__(self, other):\n",
    "        return Variable(\n",
    "            self.value ** other,\n",
    "            other * self.value ** (other - 1)\n",
    "        )\n",
    "    \n",
    "    def __repr__(self):\n",
    "        return 'v=%s, d=%s' % (str(self.value), str(self.derivative))"
   ]
  },
  {
   "cell_type": "code",
   "execution_count": 7,
   "metadata": {
    "slideshow": {
     "slide_type": "subslide"
    }
   },
   "outputs": [
    {
     "data": {
      "text/plain": [
       "v=26, d=14"
      ]
     },
     "execution_count": 7,
     "metadata": {},
     "output_type": "execute_result"
    }
   ],
   "source": [
    "# let's compare AD result with analytical calculation\n",
    "\n",
    "var_x = Variable(3, 1)\n",
    "var_y = Variable(2, 0)\n",
    "\n",
    "var_y + var_y*var_x + var_y*var_x**2"
   ]
  },
  {
   "cell_type": "markdown",
   "metadata": {
    "slideshow": {
     "slide_type": "slide"
    }
   },
   "source": [
    "<img src=\"images/pytorch.png\" />"
   ]
  },
  {
   "cell_type": "code",
   "execution_count": 8,
   "metadata": {
    "slideshow": {
     "slide_type": "subslide"
    }
   },
   "outputs": [],
   "source": [
    "import numpy as np\n",
    "\n",
    "import torch\n",
    "from torch.autograd import Variable"
   ]
  },
  {
   "cell_type": "code",
   "execution_count": 9,
   "metadata": {
    "slideshow": {
     "slide_type": "fragment"
    }
   },
   "outputs": [
    {
     "name": "stdout",
     "output_type": "stream",
     "text": [
      "tensor([ 26.]) tensor([ 14.]) tensor([ 13.])\n"
     ]
    }
   ],
   "source": [
    "# now let's use pyTorch Variable instead ours\n",
    "\n",
    "x = torch.FloatTensor(np.array([3]))\n",
    "y = torch.FloatTensor(np.array([2]))\n",
    "\n",
    "var_x = Variable(x, requires_grad=True)\n",
    "var_y = Variable(y, requires_grad=True)\n",
    "\n",
    "z = var_y + var_y*var_x + var_y*var_x**2\n",
    "z.backward()\n",
    "\n",
    "print(z, var_x.grad, var_y.grad)"
   ]
  },
  {
   "cell_type": "markdown",
   "metadata": {
    "slideshow": {
     "slide_type": "subslide"
    }
   },
   "source": [
    "<img src=\"images/tensor.png\" width=640 />"
   ]
  },
  {
   "cell_type": "markdown",
   "metadata": {
    "slideshow": {
     "slide_type": "subslide"
    }
   },
   "source": [
    "- A **torch.Tensor** is a multi-dimensional matrix containing elements of a single data type.\n",
    "  - https://pytorch.org/docs/stable/tensors.html\n",
    "- behaviour of **torch.Tensor** is more or less similar to what you expect from numpy\n",
    "  - constructors, type conversion, indexing, etc\n",
    "\n",
    "|Data type | dtype | CPU tensor |\n",
    "|----------|-------|------------|\n",
    "|32-bit floating point | torch.float32 or torch.float | torch.FloatTensor |\n",
    "|64-bit floating point | torch.float64 or torch.double | torch.DoubleTensor |\n",
    "|16-bit floating point | torch.float16 or torch.half | torch.HalfTensor |\n",
    "|8-bit integer (unsigned) | torch.uint8 | torch.ByteTensor |\n",
    "|8-bit integer (signed) | torch.int8 | torch.CharTensor |\n",
    "|16-bit integer (signed) | torch.int16 or torch.short | torch.ShortTensor |\n",
    "|32-bit integer (signed) | torch.int32 or torch.int | torch.IntTensor |\n",
    "|64-bit integer (signed) | torch.int64 or torch.long | torch.LongTensor |\n"
   ]
  },
  {
   "cell_type": "code",
   "execution_count": 10,
   "metadata": {
    "slideshow": {
     "slide_type": "subslide"
    }
   },
   "outputs": [
    {
     "name": "stdout",
     "output_type": "stream",
     "text": [
      "torch.Size([4, 2])\n",
      "torch.int32\n",
      "tensor([[-9.2362e+08,  3.2655e+04],\n",
      "        [ 5.0819e+07,  0.0000e+00],\n",
      "        [ 5.6951e+07,  1.5693e+05],\n",
      "        [-2.0972e+09,  1.6778e+09]], dtype=torch.int32)\n"
     ]
    }
   ],
   "source": [
    "# we can crate tensor given size with a garbage\n",
    "\n",
    "x = torch.IntTensor(4, 2)\n",
    "\n",
    "print(x.shape)\n",
    "print(x.dtype)\n",
    "print(x)"
   ]
  },
  {
   "cell_type": "code",
   "execution_count": 11,
   "metadata": {
    "slideshow": {
     "slide_type": "subslide"
    }
   },
   "outputs": [
    {
     "name": "stdout",
     "output_type": "stream",
     "text": [
      "torch.Size([2, 2])\n",
      "torch.int32\n",
      "tensor([[ 1,  2],\n",
      "        [ 3,  4]], dtype=torch.int32)\n"
     ]
    }
   ],
   "source": [
    "# we can crate tensor from list\n",
    "\n",
    "x = torch.IntTensor([[1, 2], [3, 4]])\n",
    "\n",
    "print(x.shape)\n",
    "print(x.dtype)\n",
    "print(x)"
   ]
  },
  {
   "cell_type": "code",
   "execution_count": 12,
   "metadata": {
    "slideshow": {
     "slide_type": "subslide"
    }
   },
   "outputs": [
    {
     "name": "stdout",
     "output_type": "stream",
     "text": [
      "torch.Size([3, 2])\n",
      "torch.uint8\n",
      "tensor([[ 2,  3],\n",
      "        [ 2,  3],\n",
      "        [ 7,  3]], dtype=torch.uint8)\n"
     ]
    }
   ],
   "source": [
    "# we can crate tensor numpy\n",
    "\n",
    "x = torch.from_numpy(\n",
    "    np.random.binomial(10, 0.25, size=(3, 2)).astype(np.uint8)\n",
    ")\n",
    "\n",
    "print(x.shape)\n",
    "print(x.dtype)\n",
    "print(x)"
   ]
  },
  {
   "cell_type": "code",
   "execution_count": 13,
   "metadata": {
    "slideshow": {
     "slide_type": "subslide"
    }
   },
   "outputs": [
    {
     "name": "stdout",
     "output_type": "stream",
     "text": [
      "torch.Size([3, 2])\n",
      "torch.float64\n",
      "tensor([[ 0.,  0.],\n",
      "        [ 0.,  0.],\n",
      "        [ 0.,  0.]], dtype=torch.float64)\n"
     ]
    }
   ],
   "source": [
    "# we can init tensor with zeros or ones of selected type\n",
    "\n",
    "x = torch.zeros((3, 2), dtype=torch.float64)\n",
    "y = torch.ones((3, 2), dtype=torch.float64)\n",
    "\n",
    "print(x.shape)\n",
    "print(x.dtype)\n",
    "print(x)"
   ]
  },
  {
   "cell_type": "code",
   "execution_count": 14,
   "metadata": {
    "slideshow": {
     "slide_type": "subslide"
    }
   },
   "outputs": [
    {
     "name": "stdout",
     "output_type": "stream",
     "text": [
      "torch.Size([3, 2])\n",
      "torch.float32\n",
      "tensor([[ 11.,  11.],\n",
      "        [ 11.,  11.],\n",
      "        [ 11.,  11.]])\n"
     ]
    }
   ],
   "source": [
    "# we can init tensor with any value\n",
    "\n",
    "x = torch.FloatTensor(3, 2).fill_(11)\n",
    "\n",
    "print(x.shape)\n",
    "print(x.dtype)\n",
    "print(x)"
   ]
  },
  {
   "cell_type": "code",
   "execution_count": 15,
   "metadata": {
    "slideshow": {
     "slide_type": "subslide"
    }
   },
   "outputs": [
    {
     "name": "stdout",
     "output_type": "stream",
     "text": [
      "torch.Size([3, 2, 2])\n",
      "torch.float32\n",
      "tensor([[[-2.4227,  1.1328],\n",
      "         [ 0.5044,  0.9749]],\n",
      "\n",
      "        [[ 0.3781, -0.3019],\n",
      "         [-0.1788, -0.2760]],\n",
      "\n",
      "        [[ 0.0301, -0.2363],\n",
      "         [-0.7303, -0.0875]]])\n"
     ]
    }
   ],
   "source": [
    "# we can sample random tensor from a distribution\n",
    "\n",
    "x = torch.zeros((3, 2, 2), dtype=torch.float32).normal_(0, 1)\n",
    "\n",
    "print(x.shape)\n",
    "print(x.dtype)\n",
    "print(x)"
   ]
  },
  {
   "cell_type": "code",
   "execution_count": 16,
   "metadata": {
    "slideshow": {
     "slide_type": "subslide"
    }
   },
   "outputs": [
    {
     "name": "stdout",
     "output_type": "stream",
     "text": [
      "torch.Size([3, 2, 2])\n",
      "torch.float64\n",
      "tensor([[[-0.7870,  0.4432],\n",
      "         [ 0.0158,  0.3479]],\n",
      "\n",
      "        [[-0.0815, -0.6786],\n",
      "         [ 0.0223, -1.1954]],\n",
      "\n",
      "        [[-0.0650,  1.5958],\n",
      "         [ 0.3475, -1.1905]]], dtype=torch.float64)\n"
     ]
    }
   ],
   "source": [
    "# we can change type of tensor\n",
    "\n",
    "x = torch.zeros((3, 2, 2), dtype=torch.float32).normal_(0, 1).double()\n",
    "\n",
    "print(x.shape)\n",
    "print(x.dtype)\n",
    "print(x)"
   ]
  },
  {
   "cell_type": "code",
   "execution_count": 17,
   "metadata": {
    "slideshow": {
     "slide_type": "subslide"
    }
   },
   "outputs": [
    {
     "name": "stdout",
     "output_type": "stream",
     "text": [
      "torch.Size([3, 2, 2])\n",
      "torch.int32\n",
      "tensor([[[  0,   1],\n",
      "         [  2,   3]],\n",
      "\n",
      "        [[  4,   5],\n",
      "         [  6,   7]],\n",
      "\n",
      "        [[  8,   9],\n",
      "         [ 10,  11]]], dtype=torch.int32)\n"
     ]
    }
   ],
   "source": [
    "# you can reshape it (yes, it still will be differentiable)\n",
    "\n",
    "x = torch.from_numpy(\n",
    "    np.arange(12).astype(np.int32).reshape((3, 4))\n",
    ").reshape((3, 2, 2))\n",
    "\n",
    "print(x.shape)\n",
    "print(x.dtype)\n",
    "print(x)"
   ]
  },
  {
   "cell_type": "code",
   "execution_count": 18,
   "metadata": {
    "slideshow": {
     "slide_type": "subslide"
    }
   },
   "outputs": [
    {
     "name": "stdout",
     "output_type": "stream",
     "text": [
      "torch.Size([10, 3, 100, 100])\n",
      "torch.float32\n",
      "tensor([[ 0.9451, -0.7073,  0.7275,  1.2828],\n",
      "        [-0.4464,  0.4972,  0.7575, -1.3215],\n",
      "        [-0.9275, -1.3144, -0.8558, -0.1081],\n",
      "        [-0.8058,  0.0397, -0.9029,  0.7289]])\n"
     ]
    }
   ],
   "source": [
    "# you can index tensors as numpy array\n",
    "\n",
    "batch_size = 10\n",
    "channels = 3\n",
    "wight = 100\n",
    "height = 100\n",
    "\n",
    "batch = torch.FloatTensor(batch_size, channels, wight, height).normal_(0, 1)\n",
    "\n",
    "print(batch.shape)\n",
    "print(batch.dtype)\n",
    "print(batch[1, 1, :4, :4])"
   ]
  },
  {
   "cell_type": "markdown",
   "metadata": {
    "slideshow": {
     "slide_type": "subslide"
    }
   },
   "source": [
    "# Operations \n",
    "<img src=\"images/implicit.png\" width=640 />"
   ]
  },
  {
   "cell_type": "code",
   "execution_count": 19,
   "metadata": {
    "slideshow": {
     "slide_type": "subslide"
    }
   },
   "outputs": [
    {
     "data": {
      "text/plain": [
       "tensor([[ 2.,  2.],\n",
       "        [ 2.,  2.]])"
      ]
     },
     "execution_count": 19,
     "metadata": {},
     "output_type": "execute_result"
    }
   ],
   "source": [
    "# if operation doesn't change shape and type then it has inplace alternative\n",
    "\n",
    "x = torch.ones((2, 2), dtype=torch.float32)\n",
    "y = torch.ones((2, 2), dtype=torch.float32)\n",
    "\n",
    "z = x.add(y)\n",
    "z = torch.add(x, y)\n",
    "z = x + y\n",
    "x.add_(y)"
   ]
  },
  {
   "cell_type": "markdown",
   "metadata": {
    "slideshow": {
     "slide_type": "subslide"
    }
   },
   "source": [
    "Too many of different operations:\n",
    "- Point-wise operations\n",
    "  - `abs`, `cos`, `atan`, ...\n",
    "- Reduction operations\n",
    "  - `cumsum`, `mean`, `sum`, ...\n",
    "- Comparison operation\n",
    "  - `eq`, `ge`, `max`, ...\n",
    "- Matrix-Matrix operations\n",
    "  - `dot`, `addmm`, ...\n",
    "- ..."
   ]
  },
  {
   "cell_type": "markdown",
   "metadata": {
    "slideshow": {
     "slide_type": "subslide"
    }
   },
   "source": [
    "# Broadcasting\n",
    "<img src=\"images/broadcasting.png\" width=640 />"
   ]
  },
  {
   "cell_type": "markdown",
   "metadata": {
    "slideshow": {
     "slide_type": "subslide"
    }
   },
   "source": [
    "Two tensors are _broadcastable_ if the following rules hold:\n",
    "- Each tensor has at least one dimension.\n",
    "- When iterating over the dimension sizes, starting at the trailing dimension, the dimension sizes must either be equal, one of them is 1, or one of them does not exist.\n",
    "\n",
    "If two tensors `x`, `y` are _broadcastable_, the resulting tensor size is calculated as follows:\n",
    "- If the number of dimensions of x and y are not equal, prepend 1 to the dimensions of the tensor with fewer dimensions to make them equal length.\n",
    "- Then, for each dimension size, the resulting dimension size is the max of the sizes of x and y along that dimension.\n",
    "\n",
    "https://pytorch.org/docs/stable/notes/broadcasting.html"
   ]
  },
  {
   "cell_type": "code",
   "execution_count": 20,
   "metadata": {
    "slideshow": {
     "slide_type": "subslide"
    }
   },
   "outputs": [
    {
     "name": "stdout",
     "output_type": "stream",
     "text": [
      "torch.Size([10, 3, 100, 100])\n",
      "torch.Size([10, 3, 100, 100])\n",
      "300000\n",
      "tensor([[ 1.,  1.,  1.],\n",
      "        [ 1.,  1.,  1.],\n",
      "        [ 1.,  1.,  1.]])\n"
     ]
    }
   ],
   "source": [
    "# image normalization, straightforward way\n",
    "\n",
    "batch_size = 10\n",
    "channels = 3\n",
    "wight = 100\n",
    "height = 100\n",
    "\n",
    "batch = torch.FloatTensor(batch_size, channels, wight, height).fill_(2)\n",
    "print(batch.shape)\n",
    "\n",
    "r_mean = torch.FloatTensor(100, 100).fill_(1)\n",
    "g_mean = torch.FloatTensor(100, 100).fill_(1)\n",
    "b_mean = torch.FloatTensor(100, 100).fill_(1)\n",
    "rgb_mean = torch.stack(\n",
    "    [torch.stack([r_mean, g_mean, b_mean])]*batch.shape[0]\n",
    ")\n",
    "print(rgb_mean.shape)\n",
    "print(np.prod(rgb_mean.shape))\n",
    "\n",
    "print((batch - rgb_mean)[0, 0, :3, :3])"
   ]
  },
  {
   "cell_type": "code",
   "execution_count": 21,
   "metadata": {
    "slideshow": {
     "slide_type": "subslide"
    }
   },
   "outputs": [
    {
     "name": "stdout",
     "output_type": "stream",
     "text": [
      "torch.Size([10, 3, 100, 100])\n",
      "torch.Size([3, 1, 1])\n",
      "tensor([[ 1.,  1.,  1.],\n",
      "        [ 1.,  1.,  1.],\n",
      "        [ 1.,  1.,  1.]])\n"
     ]
    }
   ],
   "source": [
    "# image normalization, broadcasting way\n",
    "\n",
    "batch_size = 10\n",
    "channels = 3\n",
    "wight = 100\n",
    "height = 100\n",
    "\n",
    "batch = torch.FloatTensor(batch_size, channels, wight, height).fill_(2)\n",
    "print(batch.shape)\n",
    "\n",
    "rgb_mean = torch.FloatTensor([1, 1, 1]).reshape((3, 1, 1))\n",
    "print(rgb_mean.shape)\n",
    "\n",
    "print((batch - rgb_mean)[0, 0, :3, :3])"
   ]
  },
  {
   "cell_type": "code",
   "execution_count": 22,
   "metadata": {
    "slideshow": {
     "slide_type": "subslide"
    }
   },
   "outputs": [],
   "source": [
    "# numpy <-> tensor\n",
    "\n",
    "x = torch.ones((3, 2))\n",
    "y = x.numpy()\n",
    "z = torch.from_numpy(y)"
   ]
  },
  {
   "cell_type": "markdown",
   "metadata": {
    "slideshow": {
     "slide_type": "subslide"
    }
   },
   "source": [
    "# Using GPU\n",
    "<img src=\"images/gpu.jpg\" width=480 />\n",
    "\n",
    "###### .\n",
    "###### .\n",
    "###### .\n",
    "###### .\n",
    "###### .\n",
    "###### .\n",
    "###### ."
   ]
  },
  {
   "cell_type": "code",
   "execution_count": 23,
   "metadata": {
    "slideshow": {
     "slide_type": "subslide"
    }
   },
   "outputs": [
    {
     "name": "stdout",
     "output_type": "stream",
     "text": [
      "False\n",
      "861.328125\n",
      "0.8251953125\n"
     ]
    }
   ],
   "source": [
    "x = torch.FloatTensor(1500, 3, 224, 224)\n",
    "print(x.is_cuda)\n",
    "print(np.prod(x.shape)*4/1024**2)\n",
    "print(torch.cuda.memory_allocated()/1024**2)"
   ]
  },
  {
   "cell_type": "code",
   "execution_count": 24,
   "metadata": {
    "slideshow": {
     "slide_type": "subslide"
    }
   },
   "outputs": [
    {
     "name": "stdout",
     "output_type": "stream",
     "text": [
      "Fri Jun 29 11:27:12 2018       \n",
      "+-----------------------------------------------------------------------------+\n",
      "| NVIDIA-SMI 384.81                 Driver Version: 384.81                    |\n",
      "|-------------------------------+----------------------+----------------------+\n",
      "| GPU  Name        Persistence-M| Bus-Id        Disp.A | Volatile Uncorr. ECC |\n",
      "| Fan  Temp  Perf  Pwr:Usage/Cap|         Memory-Usage | GPU-Util  Compute M. |\n",
      "|===============================+======================+======================|\n",
      "|   0  GeForce GTX 1080    Off  | 00000000:02:00.0 Off |                  N/A |\n",
      "|  0%   50C    P0    48W / 240W |     10MiB /  8112MiB |      0%      Default |\n",
      "+-------------------------------+----------------------+----------------------+\n",
      "|   1  GeForce GTX 108...  Off  | 00000000:03:00.0 Off |                  N/A |\n",
      "|  0%   39C    P2    73W / 320W |    521MiB / 11172MiB |     17%      Default |\n",
      "+-------------------------------+----------------------+----------------------+\n",
      "                                                                               \n",
      "+-----------------------------------------------------------------------------+\n",
      "| Processes:                                                       GPU Memory |\n",
      "|  GPU       PID   Type   Process name                             Usage      |\n",
      "|=============================================================================|\n",
      "|    1     32630      C   /usr/bin/python3                             511MiB |\n",
      "+-----------------------------------------------------------------------------+\n",
      ".\n",
      ".\n",
      ".\n",
      ".\n",
      ".\n",
      ".\n",
      ".\n",
      ".\n",
      ".\n",
      ".\n",
      ".\n",
      ".\n",
      ".\n",
      ".\n",
      ".\n"
     ]
    }
   ],
   "source": [
    "!nvidia-smi\n",
    "\n",
    "for _ in range(15):\n",
    "    print('.')"
   ]
  },
  {
   "cell_type": "code",
   "execution_count": 25,
   "metadata": {
    "slideshow": {
     "slide_type": "subslide"
    }
   },
   "outputs": [
    {
     "name": "stdout",
     "output_type": "stream",
     "text": [
      "True\n"
     ]
    }
   ],
   "source": [
    "x = x.cuda()\n",
    "print(x.is_cuda)"
   ]
  },
  {
   "cell_type": "code",
   "execution_count": 26,
   "metadata": {
    "slideshow": {
     "slide_type": "subslide"
    }
   },
   "outputs": [
    {
     "name": "stdout",
     "output_type": "stream",
     "text": [
      "Fri Jun 29 11:27:13 2018       \n",
      "+-----------------------------------------------------------------------------+\n",
      "| NVIDIA-SMI 384.81                 Driver Version: 384.81                    |\n",
      "|-------------------------------+----------------------+----------------------+\n",
      "| GPU  Name        Persistence-M| Bus-Id        Disp.A | Volatile Uncorr. ECC |\n",
      "| Fan  Temp  Perf  Pwr:Usage/Cap|         Memory-Usage | GPU-Util  Compute M. |\n",
      "|===============================+======================+======================|\n",
      "|   0  GeForce GTX 1080    Off  | 00000000:02:00.0 Off |                  N/A |\n",
      "|  0%   50C    P0    48W / 240W |     10MiB /  8112MiB |      0%      Default |\n",
      "+-------------------------------+----------------------+----------------------+\n",
      "|   1  GeForce GTX 108...  Off  | 00000000:03:00.0 Off |                  N/A |\n",
      "|  0%   40C    P2    96W / 320W |   1383MiB / 11172MiB |     95%      Default |\n",
      "+-------------------------------+----------------------+----------------------+\n",
      "                                                                               \n",
      "+-----------------------------------------------------------------------------+\n",
      "| Processes:                                                       GPU Memory |\n",
      "|  GPU       PID   Type   Process name                             Usage      |\n",
      "|=============================================================================|\n",
      "|    1     32630      C   /usr/bin/python3                            1373MiB |\n",
      "+-----------------------------------------------------------------------------+\n",
      ".\n",
      ".\n",
      ".\n",
      ".\n",
      ".\n",
      ".\n",
      ".\n",
      ".\n",
      ".\n",
      ".\n",
      ".\n",
      ".\n",
      ".\n",
      ".\n",
      ".\n"
     ]
    }
   ],
   "source": [
    "!nvidia-smi\n",
    "\n",
    "for _ in range(15):\n",
    "    print('.')"
   ]
  },
  {
   "cell_type": "code",
   "execution_count": 27,
   "metadata": {
    "slideshow": {
     "slide_type": "subslide"
    }
   },
   "outputs": [
    {
     "name": "stdout",
     "output_type": "stream",
     "text": [
      "861.328125\n",
      "862.2001953125\n"
     ]
    }
   ],
   "source": [
    "print(np.prod(x.shape)*4/1024**2)\n",
    "print(torch.cuda.memory_allocated()/1024**2)"
   ]
  },
  {
   "cell_type": "code",
   "execution_count": 28,
   "metadata": {
    "slideshow": {
     "slide_type": "fragment"
    }
   },
   "outputs": [
    {
     "name": "stdout",
     "output_type": "stream",
     "text": [
      "False\n",
      "0.8251953125\n"
     ]
    }
   ],
   "source": [
    "x = x.cpu()\n",
    "print(x.is_cuda)\n",
    "print(torch.cuda.memory_allocated()/1024**2)"
   ]
  },
  {
   "cell_type": "code",
   "execution_count": 29,
   "metadata": {
    "slideshow": {
     "slide_type": "fragment"
    }
   },
   "outputs": [
    {
     "name": "stdout",
     "output_type": "stream",
     "text": [
      "0.8251953125\n"
     ]
    }
   ],
   "source": [
    "import gc\n",
    "del(x)\n",
    "gc.collect()\n",
    "\n",
    "print(torch.cuda.memory_allocated()/1024**2)"
   ]
  },
  {
   "cell_type": "code",
   "execution_count": 30,
   "metadata": {
    "slideshow": {
     "slide_type": "subslide"
    }
   },
   "outputs": [
    {
     "name": "stdout",
     "output_type": "stream",
     "text": [
      "Fri Jun 29 11:27:14 2018       \n",
      "+-----------------------------------------------------------------------------+\n",
      "| NVIDIA-SMI 384.81                 Driver Version: 384.81                    |\n",
      "|-------------------------------+----------------------+----------------------+\n",
      "| GPU  Name        Persistence-M| Bus-Id        Disp.A | Volatile Uncorr. ECC |\n",
      "| Fan  Temp  Perf  Pwr:Usage/Cap|         Memory-Usage | GPU-Util  Compute M. |\n",
      "|===============================+======================+======================|\n",
      "|   0  GeForce GTX 1080    Off  | 00000000:02:00.0 Off |                  N/A |\n",
      "|  0%   50C    P0    48W / 240W |     10MiB /  8112MiB |      0%      Default |\n",
      "+-------------------------------+----------------------+----------------------+\n",
      "|   1  GeForce GTX 108...  Off  | 00000000:03:00.0 Off |                  N/A |\n",
      "|  0%   40C    P2    96W / 320W |   1383MiB / 11172MiB |      0%      Default |\n",
      "+-------------------------------+----------------------+----------------------+\n",
      "                                                                               \n",
      "+-----------------------------------------------------------------------------+\n",
      "| Processes:                                                       GPU Memory |\n",
      "|  GPU       PID   Type   Process name                             Usage      |\n",
      "|=============================================================================|\n",
      "|    1     32630      C   /usr/bin/python3                            1373MiB |\n",
      "+-----------------------------------------------------------------------------+\n",
      ".\n",
      ".\n",
      ".\n",
      ".\n",
      ".\n",
      ".\n",
      ".\n",
      ".\n",
      ".\n",
      ".\n",
      ".\n",
      ".\n",
      ".\n",
      ".\n",
      ".\n"
     ]
    }
   ],
   "source": [
    "!nvidia-smi\n",
    "\n",
    "for _ in range(15):\n",
    "    print('.')"
   ]
  },
  {
   "cell_type": "code",
   "execution_count": 31,
   "metadata": {
    "slideshow": {
     "slide_type": "subslide"
    }
   },
   "outputs": [],
   "source": [
    "with torch.cuda.device(0):\n",
    "    x = torch.FloatTensor(1500, 3, 224, 224).cuda()\n",
    "with torch.cuda.device(1):\n",
    "    y = torch.FloatTensor(1500, 3, 224, 224).cuda()"
   ]
  },
  {
   "cell_type": "code",
   "execution_count": 32,
   "metadata": {
    "slideshow": {
     "slide_type": "fragment"
    }
   },
   "outputs": [
    {
     "name": "stdout",
     "output_type": "stream",
     "text": [
      "Fri Jun 29 11:27:19 2018       \n",
      "+-----------------------------------------------------------------------------+\n",
      "| NVIDIA-SMI 384.81                 Driver Version: 384.81                    |\n",
      "|-------------------------------+----------------------+----------------------+\n",
      "| GPU  Name        Persistence-M| Bus-Id        Disp.A | Volatile Uncorr. ECC |\n",
      "| Fan  Temp  Perf  Pwr:Usage/Cap|         Memory-Usage | GPU-Util  Compute M. |\n",
      "|===============================+======================+======================|\n",
      "|   0  GeForce GTX 1080    Off  | 00000000:02:00.0 Off |                  N/A |\n",
      "|  0%   51C    P2    45W / 240W |   1343MiB /  8112MiB |     10%      Default |\n",
      "+-------------------------------+----------------------+----------------------+\n",
      "|   1  GeForce GTX 108...  Off  | 00000000:03:00.0 Off |                  N/A |\n",
      "|  0%   39C    P2    73W / 320W |   1383MiB / 11172MiB |      0%      Default |\n",
      "+-------------------------------+----------------------+----------------------+\n",
      "                                                                               \n",
      "+-----------------------------------------------------------------------------+\n",
      "| Processes:                                                       GPU Memory |\n",
      "|  GPU       PID   Type   Process name                             Usage      |\n",
      "|=============================================================================|\n",
      "|    0     32630      C   /usr/bin/python3                            1333MiB |\n",
      "|    1     32630      C   /usr/bin/python3                            1373MiB |\n",
      "+-----------------------------------------------------------------------------+\n",
      ".\n",
      ".\n",
      ".\n",
      ".\n",
      ".\n",
      ".\n",
      ".\n",
      ".\n",
      ".\n",
      ".\n",
      ".\n",
      ".\n",
      ".\n",
      ".\n",
      ".\n"
     ]
    }
   ],
   "source": [
    "!nvidia-smi\n",
    "\n",
    "for _ in range(15):\n",
    "    print('.')"
   ]
  },
  {
   "cell_type": "code",
   "execution_count": 33,
   "metadata": {
    "slideshow": {
     "slide_type": "subslide"
    }
   },
   "outputs": [
    {
     "data": {
      "text/plain": [
       "396"
      ]
     },
     "execution_count": 33,
     "metadata": {},
     "output_type": "execute_result"
    }
   ],
   "source": [
    "del(x, y)\n",
    "gc.collect()"
   ]
  },
  {
   "cell_type": "markdown",
   "metadata": {
    "slideshow": {
     "slide_type": "subslide"
    }
   },
   "source": [
    "# pyTorch = Numpy + AD + GPU\n",
    "\n",
    "<img src=\"images/puzzle.jpg\" width=640 />"
   ]
  },
  {
   "cell_type": "code",
   "execution_count": 34,
   "metadata": {
    "slideshow": {
     "slide_type": "slide"
    }
   },
   "outputs": [
    {
     "name": "stdout",
     "output_type": "stream",
     "text": [
      "(150, 4)\n",
      "['sepal length (cm)', 'sepal width (cm)', 'petal length (cm)', 'petal width (cm)']\n",
      "[[-0.90068117  1.03205722 -1.3412724  -1.31297673]\n",
      " [-1.14301691 -0.1249576  -1.3412724  -1.31297673]\n",
      " [-1.38535265  0.33784833 -1.39813811 -1.31297673]\n",
      " [-1.50652052  0.10644536 -1.2844067  -1.31297673]\n",
      " [-1.02184904  1.26346019 -1.3412724  -1.31297673]]\n",
      "['setosa' 'versicolor' 'virginica']\n",
      "Target:\n",
      "2    50\n",
      "1    50\n",
      "0    50\n",
      "dtype: int64\n"
     ]
    }
   ],
   "source": [
    "import pandas as pd\n",
    "from sklearn.datasets import load_iris\n",
    "from sklearn.preprocessing import StandardScaler\n",
    "\n",
    "data = load_iris()\n",
    "data.data = StandardScaler().fit_transform(data.data)\n",
    "print(data.data.shape)\n",
    "print(data.feature_names)\n",
    "print(data.data[:5, :])\n",
    "print(data.target_names)\n",
    "print('Target:')\n",
    "print(pd.Series(data.target).value_counts())"
   ]
  },
  {
   "cell_type": "markdown",
   "metadata": {
    "slideshow": {
     "slide_type": "subslide"
    }
   },
   "source": [
    "# Logistic Regression\n",
    "\n",
    "Assume we have $K$ classes and $N$ sample in a dataset $D$:\n",
    "\n",
    "$$\\Large\n",
    "\\begin{array}{rcl}\n",
    "P\\left(y = k \\mid \\vec{x}\\right) &=& \\dfrac{P\\left(\\vec{x} \\mid y = k\\right)P\\left(y = k\\right)}{\\sum_{i = 1}^k P\\left(\\vec{x} \\mid y = i\\right)P\\left(y = i\\right)} \\\\\n",
    "P\\left(y = k \\mid \\vec{x}\\right) &=& \\dfrac{e^{\\vec{w}_k \\cdot \\vec{x}}}{\\sum_{i = 1}^k e^{\\vec{w}_i \\cdot \\vec{x}}} = \\text{softmax}\\left(\\vec{w}_k \\cdot \\vec{x}\\right) \\\\\n",
    "\\hat{p}_{kn} &=& P\\left(y = k \\mid \\vec{x}_n\\right)\n",
    "\\end{array}\n",
    "$$"
   ]
  },
  {
   "cell_type": "markdown",
   "metadata": {
    "slideshow": {
     "slide_type": "subslide"
    }
   },
   "source": [
    "# Cost function\n",
    "\n",
    "We use cross entropy as a loss:\n",
    "\n",
    "$$\\Large\n",
    "\\begin{array}{rcl}\n",
    "\\mathcal{L}\\left(D\\right) &=& -\\sum_{n=1}^N \\sum_{k=1}^K p_{kn} \\log \\hat{p}_{kn} \\\\\n",
    "&=& -\\sum_{n=1}^N \\sum_{k=1}^K I\\left[y = k\\right] \\log P\\left(y = k \\mid \\vec{x}_n\\right)\n",
    "\\end{array}\n",
    "$$"
   ]
  },
  {
   "cell_type": "code",
   "execution_count": 35,
   "metadata": {
    "slideshow": {
     "slide_type": "subslide"
    }
   },
   "outputs": [
    {
     "name": "stdout",
     "output_type": "stream",
     "text": [
      "tensor([[-0.1225,  0.1429,  0.0274],\n",
      "        [ 0.1088, -0.2674,  0.0214],\n",
      "        [ 0.0039,  0.2854,  0.0889],\n",
      "        [ 0.0517, -0.0851, -0.0248],\n",
      "        [ 0.0765, -0.1409, -0.0288]])\n"
     ]
    }
   ],
   "source": [
    "# prepare data matrix\n",
    "X = torch.from_numpy(\n",
    "    np.column_stack([np.ones(data.data.shape[0]), \n",
    "                     data.data])\n",
    ").float()\n",
    "\n",
    "# prepare target variable\n",
    "y = data.target\n",
    "\n",
    "# initialize parameters of the logistic regression\n",
    "W = Variable(\n",
    "    torch.FloatTensor(X.shape[1], np.unique(y).shape[0]).normal_(0, 0.1), \n",
    "    requires_grad=True)\n",
    "\n",
    "print(W)"
   ]
  },
  {
   "cell_type": "code",
   "execution_count": 36,
   "metadata": {
    "slideshow": {
     "slide_type": "subslide"
    }
   },
   "outputs": [
    {
     "data": {
      "application/vnd.jupyter.widget-view+json": {
       "model_id": "4da9b4fcf4524d6fa8a523b07118cd5c",
       "version_major": 2,
       "version_minor": 0
      },
      "text/html": [
       "<p>Failed to display Jupyter Widget of type <code>HBox</code>.</p>\n",
       "<p>\n",
       "  If you're reading this message in the Jupyter Notebook or JupyterLab Notebook, it may mean\n",
       "  that the widgets JavaScript is still loading. If this message persists, it\n",
       "  likely means that the widgets JavaScript library is either not installed or\n",
       "  not enabled. See the <a href=\"https://ipywidgets.readthedocs.io/en/stable/user_install.html\">Jupyter\n",
       "  Widgets Documentation</a> for setup instructions.\n",
       "</p>\n",
       "<p>\n",
       "  If you're reading this message in another frontend (for example, a static\n",
       "  rendering on GitHub or <a href=\"https://nbviewer.jupyter.org/\">NBViewer</a>),\n",
       "  it may mean that your frontend doesn't currently support widgets.\n",
       "</p>\n"
      ],
      "text/plain": [
       "HBox(children=(IntProgress(value=0), HTML(value='')))"
      ]
     },
     "metadata": {},
     "output_type": "display_data"
    },
    {
     "name": "stdout",
     "output_type": "stream",
     "text": [
      "\n",
      "\n"
     ]
    }
   ],
   "source": [
    "from tqdm import tqdm_notebook\n",
    "\n",
    "# parameters of learning algorithm - SGD\n",
    "learning_rate = 0.001\n",
    "n_epoches = 100\n",
    "tolerance = 1e-8\n",
    "\n",
    "# logging\n",
    "loss_glog = []\n",
    "acc_glob = []\n",
    "\n",
    "# epoch - one pass through dataset\n",
    "for ix_epoch in tqdm_notebook(range(n_epoches)):\n",
    "    acc_epoch = 0\n",
    "    loss_epoch = 0\n",
    "    # iterate over dataset\n",
    "    for n in np.random.choice(range(X.shape[0]), size=X.shape[0]):\n",
    "        # prepare variable without gradients\n",
    "        x = Variable(X[n, :])\n",
    "\n",
    "        # compute softmax\n",
    "        log_p = torch.mv(W.t(), x)\n",
    "        p_numerator = torch.exp(log_p)\n",
    "        p_denominator = p_numerator.sum()\n",
    "        p = p_numerator/p_denominator\n",
    "\n",
    "        # check prediction\n",
    "        k = p.argmax(0).item()\n",
    "        acc_epoch += y[n] == k\n",
    "\n",
    "        # compute loss\n",
    "        loss = -torch.log(\n",
    "            torch.clamp(p[y[n]], tolerance, 1 - tolerance)\n",
    "        )\n",
    "        loss_epoch += loss.item()\n",
    "\n",
    "        # propagate grawients - modify current parameters\n",
    "        loss.backward()\n",
    "        W.data -= learning_rate*W.grad\n",
    "        W.grad.zero_()\n",
    "        \n",
    "    # save epoch stats\n",
    "    acc_glob.append(acc_epoch/X.shape[0])\n",
    "    loss_glog.append(loss_epoch/X.shape[0])\n",
    "    \n",
    "\n",
    "    \n",
    "    \n",
    "    \n",
    "    \n",
    "    \n",
    "    \n",
    "    \n",
    "    \n",
    "    \n",
    "print()"
   ]
  },
  {
   "cell_type": "code",
   "execution_count": 37,
   "metadata": {
    "slideshow": {
     "slide_type": "subslide"
    }
   },
   "outputs": [
    {
     "data": {
      "image/png": "[encoded data removed]",
      "text/plain": [
       "<matplotlib.figure.Figure at 0x7f8f2ec33e10>"
      ]
     },
     "metadata": {},
     "output_type": "display_data"
    },
    {
     "name": "stdout",
     "output_type": "stream",
     "text": [
      ".\n",
      ".\n",
      ".\n",
      ".\n",
      ".\n",
      ".\n",
      ".\n",
      ".\n",
      ".\n",
      ".\n"
     ]
    }
   ],
   "source": [
    "# plot logs\n",
    "plt.plot(loss_glog, label='loss')\n",
    "plt.plot(acc_glob, label='accuracy')\n",
    "plt.legend()\n",
    "plt.title('Learning curves')\n",
    "plt.show()\n",
    "\n",
    "for _ in range(10):\n",
    "    print('.')"
   ]
  },
  {
   "cell_type": "markdown",
   "metadata": {
    "slideshow": {
     "slide_type": "subslide"
    }
   },
   "source": [
    "# Logistic regression = NN with one linear layer + Softmax activation\n",
    "\n",
    "<img src=\"images/lr.png\" />"
   ]
  },
  {
   "cell_type": "code",
   "execution_count": 38,
   "metadata": {
    "slideshow": {
     "slide_type": "subslide"
    }
   },
   "outputs": [
    {
     "data": {
      "application/vnd.jupyter.widget-view+json": {
       "model_id": "f240306a93504801a50c27a863a9a98f",
       "version_major": 2,
       "version_minor": 0
      },
      "text/html": [
       "<p>Failed to display Jupyter Widget of type <code>HBox</code>.</p>\n",
       "<p>\n",
       "  If you're reading this message in the Jupyter Notebook or JupyterLab Notebook, it may mean\n",
       "  that the widgets JavaScript is still loading. If this message persists, it\n",
       "  likely means that the widgets JavaScript library is either not installed or\n",
       "  not enabled. See the <a href=\"https://ipywidgets.readthedocs.io/en/stable/user_install.html\">Jupyter\n",
       "  Widgets Documentation</a> for setup instructions.\n",
       "</p>\n",
       "<p>\n",
       "  If you're reading this message in another frontend (for example, a static\n",
       "  rendering on GitHub or <a href=\"https://nbviewer.jupyter.org/\">NBViewer</a>),\n",
       "  it may mean that your frontend doesn't currently support widgets.\n",
       "</p>\n"
      ],
      "text/plain": [
       "HBox(children=(IntProgress(value=0), HTML(value='')))"
      ]
     },
     "metadata": {},
     "output_type": "display_data"
    },
    {
     "name": "stdout",
     "output_type": "stream",
     "text": [
      "\n",
      "\n"
     ]
    }
   ],
   "source": [
    "from torch import nn\n",
    "from torch import optim\n",
    "\n",
    "# create one linear layer \n",
    "model = nn.Sequential()\n",
    "model.add_module(\n",
    "    'linear',\n",
    "    nn.Linear(X.shape[1], np.unique(y).shape[0], bias=False)\n",
    ")\n",
    "\n",
    "# create cross entropy loss\n",
    "criterion = nn.CrossEntropyLoss()\n",
    "\n",
    "# create SGD optimizer without momentum\n",
    "optimizer = optim.SGD(\n",
    "    model.parameters(), \n",
    "    lr=0.01, \n",
    "    momentum=0.0\n",
    ")\n",
    "\n",
    "loss_glog = []\n",
    "acc_glob = []\n",
    "\n",
    "for ix_epoch in tqdm_notebook(range(n_epoches)):\n",
    "    acc_epoch = 0\n",
    "    loss_epoch = 0\n",
    "    for n in np.random.choice(range(X.shape[0]), size=X.shape[0]):\n",
    "        x = Variable(X[n, :].reshape(1, X.shape[1]))\n",
    "        yi = Variable(torch.from_numpy(np.array([y[n]]).astype(np.int64)))\n",
    "        \n",
    "        # calculate log of probabilities\n",
    "        log_p = model(x)\n",
    "        \n",
    "        # calculate loss\n",
    "        loss = criterion(log_p, yi)\n",
    "        \n",
    "        # make gradient step\n",
    "        optimizer.zero_grad()\n",
    "        loss.backward()\n",
    "        optimizer.step()\n",
    "\n",
    "        loss_epoch += loss.item()\n",
    "        k = log_p.argmax(1).item()\n",
    "        acc_epoch += y[n] == k\n",
    "        \n",
    "    acc_glob.append(acc_epoch/X.shape[0])\n",
    "    loss_glog.append(loss_epoch/X.shape[0])\n",
    "    \n",
    "\n",
    "    \n",
    "    \n",
    "    \n",
    "    \n",
    "    \n",
    "    \n",
    "    \n",
    "    \n",
    "    \n",
    "print()"
   ]
  },
  {
   "cell_type": "code",
   "execution_count": 39,
   "metadata": {
    "slideshow": {
     "slide_type": "subslide"
    }
   },
   "outputs": [
    {
     "data": {
      "image/png": "[encoded data removed]",
      "text/plain": [
       "<matplotlib.figure.Figure at 0x7f8f240b3c18>"
      ]
     },
     "metadata": {},
     "output_type": "display_data"
    },
    {
     "name": "stdout",
     "output_type": "stream",
     "text": [
      ".\n",
      ".\n",
      ".\n",
      ".\n",
      ".\n",
      ".\n",
      ".\n",
      ".\n",
      ".\n",
      ".\n"
     ]
    }
   ],
   "source": [
    "plt.plot(loss_glog, label='loss')\n",
    "plt.plot(acc_glob, label='accuracy')\n",
    "plt.legend()\n",
    "plt.title('Learning curves')\n",
    "plt.show()\n",
    "\n",
    "for _ in range(10):\n",
    "    print('.')"
   ]
  },
  {
   "cell_type": "markdown",
   "metadata": {
    "slideshow": {
     "slide_type": "subslide"
    }
   },
   "source": [
    "# Module: torch.nn\n",
    "- Containers\n",
    "  - `nn.Sequential`\n",
    "  - `nn.ModuleList`\n",
    "  - ...\n",
    "- Convolution layers\n",
    "  - `nn.Conv2d`\n",
    "  - `nn.ConvTranspose2d`\n",
    "  - ...\n",
    "- Pooling layers\n",
    "  - `nn.MaxPool2d`\n",
    "  - `nn.AvgPool3d`\n",
    "  - ...\n",
    "- Padding layers\n",
    "  - `nn.ReflectionPad1d`\n",
    "  - `nn.ZeroPad2d`\n",
    "  - ...\n",
    "- Non-linear activations\n",
    "  - `nn.Sigmoid`\n",
    "  - `nn.ReLU6`\n",
    "  - ...\n",
    "- Normalization layers\n",
    "  - `nn.BatchNorm2d`\n",
    "  - `nn.LocalResponseNorm`\n",
    "  - ...\n",
    "- Recurrent layers\n",
    "  - `nn.LSTM`\n",
    "  - `nn.GRU`\n",
    "  - ...\n",
    "- Other layers\n",
    "  - Dropout layers\n",
    "  - Sparse layers\n",
    "- Distance functions\n",
    "- Loss functions\n",
    "- Vision layers\n",
    "- DataParallel layers\n",
    "\n",
    "###### .\n",
    "###### .\n",
    "###### .\n",
    "###### .\n",
    "###### .\n",
    "###### .\n",
    "###### ."
   ]
  },
  {
   "cell_type": "markdown",
   "metadata": {
    "slideshow": {
     "slide_type": "subslide"
    }
   },
   "source": [
    "# Module: torch.optim\n",
    "\n",
    "- `optim.Adadelta`\n",
    "  - ADADELTA: An Adaptive Learning Rate Method\n",
    "- `optim.Adagrad`\n",
    "  - Adaptive Subgradient Methods for Online Learning and Stochastic Optimization\n",
    "- `optim.Adam`\n",
    "  - Adam: A Method for Stochastic Optimization\n",
    "- `optim.SparseAdam`\n",
    "- `optim.Adamax`\n",
    "  - Adam: A Method for Stochastic Optimization\n",
    "- `optim.ASGD`\n",
    "  -  Acceleration of stochastic approximation by averaging\n",
    "- `torch.optim.LBFGS`\n",
    "- `optim.RMSprop`\n",
    "- `optim.Rprop`\n",
    "- `optim.SGD`\n",
    "  - On the importance of initialization and momentum in deep learning\n",
    "\n",
    "## Adjusting LR\n",
    "- `optim.lr_scheduler.LambdaLR`\n",
    "- `optim.lr_scheduler.StepLR`\n",
    "- `optim.lr_scheduler.MultiStepLR`\n",
    "- ...\n",
    "\n",
    "\n",
    "###### .\n",
    "###### .\n",
    "###### .\n",
    "###### .\n",
    "###### .\n",
    "###### .\n",
    "###### ."
   ]
  },
  {
   "cell_type": "markdown",
   "metadata": {
    "slideshow": {
     "slide_type": "slide"
    }
   },
   "source": [
    "# Generative Adversarial Networks\n",
    "<img src=\"images/gan.png\" width=640 />"
   ]
  },
  {
   "cell_type": "markdown",
   "metadata": {
    "slideshow": {
     "slide_type": "subslide"
    }
   },
   "source": [
    "# GAN cost function\n",
    "\n",
    "## Original cost\n",
    "\n",
    "$$\\Large\n",
    "\\begin{array}{rcl}\n",
    "\\min_G \\max_D V\\left(D, G\\right) &=& \\mathbb{E}_{x \\sim p_{\\text{data}}\\left(x\\right)} \\left[\\log D\\left(x\\right)\\right] + \\mathbb{E}_{z \\sim p_z\\left(z\\right)}\\left[\\log\\left(1 - D\\left(G\\left(z\\right)\\right)\\right)\\right]\n",
    "\\end{array}\n",
    "$$\n",
    "\n",
    "## Modified cost\n",
    "$$\\Large\n",
    "\\begin{array}{rcl}\n",
    "\\max_D V\\left(D, G\\right) &=&  \\mathbb{E}_{x \\sim p_{\\text{data}}\\left(x\\right)} \\left[\\log\\left(D\\left(x\\right)\\right)\\right] + \\mathbb{E}_{z \\sim p_z\\left(z\\right)}\\left[\\log\\left(1 - D\\left(G\\left(z\\right)\\right)\\right)\\right] \\\\\n",
    "\\max_G V\\left(D, G\\right) &=& \\mathbb{E}_{z \\sim p_z\\left(z\\right)}\\left[\\log\\left(D\\left(G\\left(z\\right)\\right)\\right)\\right]\n",
    "\\end{array}\n",
    "$$\n",
    "\n"
   ]
  },
  {
   "cell_type": "code",
   "execution_count": 40,
   "metadata": {
    "slideshow": {
     "slide_type": "subslide"
    }
   },
   "outputs": [
    {
     "name": "stdout",
     "output_type": "stream",
     "text": [
      "60000\n"
     ]
    }
   ],
   "source": [
    "from torchvision import datasets\n",
    "from torchvision import transforms\n",
    "\n",
    "# use one of available datasets\n",
    "ds = datasets.MNIST(\n",
    "    '/home/mephistopheies/tmp/mnist/', \n",
    "    download=True,\n",
    "    transform=transforms.ToTensor()\n",
    ")\n",
    "\n",
    "\n",
    "print(len(ds))"
   ]
  },
  {
   "cell_type": "code",
   "execution_count": 41,
   "metadata": {
    "slideshow": {
     "slide_type": "subslide"
    }
   },
   "outputs": [
    {
     "name": "stdout",
     "output_type": "stream",
     "text": [
      "torch.Size([1, 28, 28])\n"
     ]
    },
    {
     "data": {
      "image/png": "[encoded data removed]",
      "text/plain": [
       "<PIL.Image.Image image mode=L size=160x160 at 0x7F8F99087DD8>"
      ]
     },
     "execution_count": 41,
     "metadata": {},
     "output_type": "execute_result"
    }
   ],
   "source": [
    "from PIL import Image\n",
    "\n",
    "img, y = ds[0]\n",
    "\n",
    "print(img.shape)\n",
    "\n",
    "Image.fromarray((img[0, :, :].numpy()*255).astype(np.uint8)).resize((160, 160))"
   ]
  },
  {
   "cell_type": "code",
   "execution_count": 42,
   "metadata": {
    "slideshow": {
     "slide_type": "subslide"
    }
   },
   "outputs": [
    {
     "name": "stdout",
     "output_type": "stream",
     "text": [
      "60000\n"
     ]
    }
   ],
   "source": [
    "# move whole dataset to GPU memory\n",
    "ds = torch.utils.data.TensorDataset(\n",
    "    torch.stack([(ds[i][0]*2 - 1) for i in range(len(ds))]).cuda(),\n",
    "    torch.stack([ds[i][1] for i in range(len(ds))]).cuda()\n",
    ")\n",
    "\n",
    "print(len(ds))"
   ]
  },
  {
   "cell_type": "code",
   "execution_count": 43,
   "metadata": {
    "slideshow": {
     "slide_type": "subslide"
    }
   },
   "outputs": [
    {
     "data": {
      "application/vnd.jupyter.widget-view+json": {
       "model_id": "48964f3782c646c1b410a6c3a5ab2bda",
       "version_major": 2,
       "version_minor": 0
      },
      "text/html": [
       "<p>Failed to display Jupyter Widget of type <code>HBox</code>.</p>\n",
       "<p>\n",
       "  If you're reading this message in the Jupyter Notebook or JupyterLab Notebook, it may mean\n",
       "  that the widgets JavaScript is still loading. If this message persists, it\n",
       "  likely means that the widgets JavaScript library is either not installed or\n",
       "  not enabled. See the <a href=\"https://ipywidgets.readthedocs.io/en/stable/user_install.html\">Jupyter\n",
       "  Widgets Documentation</a> for setup instructions.\n",
       "</p>\n",
       "<p>\n",
       "  If you're reading this message in another frontend (for example, a static\n",
       "  rendering on GitHub or <a href=\"https://nbviewer.jupyter.org/\">NBViewer</a>),\n",
       "  it may mean that your frontend doesn't currently support widgets.\n",
       "</p>\n"
      ],
      "text/plain": [
       "HBox(children=(IntProgress(value=0, max=121), HTML(value='')))"
      ]
     },
     "metadata": {},
     "output_type": "display_data"
    },
    {
     "name": "stdout",
     "output_type": "stream",
     "text": [
      "torch.Size([500, 1, 28, 28]) True\n",
      "torch.Size([500]) True\n",
      "\n"
     ]
    }
   ],
   "source": [
    "import itertools as it\n",
    "\n",
    "batch_size = 500\n",
    "\n",
    "# create data loader without multithreading\n",
    "data_loader = torch.utils.data.DataLoader(    \n",
    "        ds,\n",
    "        batch_size=batch_size, \n",
    "        shuffle=True,\n",
    "        num_workers=0,\n",
    "        pin_memory=False\n",
    ")\n",
    "\n",
    "for X, y in tqdm_notebook(data_loader, total=int(np.floor(len(ds)/batch_size)) + 1):\n",
    "    print(X.shape, X.is_cuda)\n",
    "    print(y.shape, y.is_cuda)\n",
    "    break\n",
    "    \n",
    "# infinite source of data\n",
    "data_loader_cycle = it.cycle(data_loader)"
   ]
  },
  {
   "cell_type": "code",
   "execution_count": 44,
   "metadata": {
    "slideshow": {
     "slide_type": "subslide"
    }
   },
   "outputs": [],
   "source": [
    "# initializaton of weights\n",
    "def weights_init(m):\n",
    "    classname = m.__class__.__name__\n",
    "    if classname.find('Conv') != -1:\n",
    "        m.weight.data.normal_(0.0, 0.02)\n",
    "    elif classname.find('BatchNorm') != -1:\n",
    "        m.weight.data.normal_(1.0, 0.02)\n",
    "        m.bias.data.fill_(0)"
   ]
  },
  {
   "cell_type": "code",
   "execution_count": 47,
   "metadata": {
    "slideshow": {
     "slide_type": "subslide"
    }
   },
   "outputs": [
    {
     "name": "stdout",
     "output_type": "stream",
     "text": [
      "torch.Size([25, 25])\n",
      "torch.Size([25, 243])\n",
      "torch.Size([25, 3, 9, 9])\n",
      "torch.Size([25, 6, 16, 16])\n",
      "torch.Size([25, 9, 30, 30])\n",
      "torch.Size([25, 1, 28, 28])\n"
     ]
    },
    {
     "data": {
      "image/png": "[encoded data removed]",
      "text/plain": [
       "<PIL.Image.Image image mode=L size=320x320 at 0x7F8F04078F28>"
      ]
     },
     "execution_count": 47,
     "metadata": {},
     "output_type": "execute_result"
    }
   ],
   "source": [
    "import torch.nn.functional as F\n",
    "from collections import OrderedDict\n",
    "\n",
    "input_dim = 25\n",
    "\n",
    "class Generator(nn.Module):\n",
    "    \n",
    "    def __init__(self, input_dim=10):\n",
    "        super(Generator, self).__init__()\n",
    "        self.linear = nn.Linear(input_dim, 3*9*9, bias=False)\n",
    "        self.bn1 = nn.BatchNorm1d(3*9*9)\n",
    "        self.tconv1 = nn.ConvTranspose2d(\n",
    "            in_channels=3, \n",
    "            out_channels=6, \n",
    "            kernel_size=4, \n",
    "            stride=2, \n",
    "            padding=2, \n",
    "            bias=False)\n",
    "        self.bn2 = nn.BatchNorm2d(6)\n",
    "        self.tconv2 = nn.ConvTranspose2d(\n",
    "            in_channels=6, \n",
    "            out_channels=9, \n",
    "            kernel_size=4, \n",
    "            stride=2, \n",
    "            padding=2, \n",
    "            bias=False)\n",
    "        self.bn3 = nn.BatchNorm2d(9)\n",
    "        self.proj1 = nn.Conv2d(\n",
    "            in_channels=9, \n",
    "            out_channels=3, \n",
    "            kernel_size=3, \n",
    "            stride=1, \n",
    "            padding=0, \n",
    "            bias=False)\n",
    "        self.bn4 = nn.BatchNorm2d(3)\n",
    "        self.proj2 = nn.Conv2d(\n",
    "            in_channels=3, \n",
    "            out_channels=1, \n",
    "            kernel_size=3, \n",
    "            stride=1, \n",
    "            padding=1, \n",
    "            bias=False)\n",
    "    \n",
    "    def forward(self, X, debug=False):\n",
    "        if debug: \n",
    "            print(X.shape)\n",
    "        X = self.linear(X)\n",
    "        if debug: \n",
    "            print(X.shape)\n",
    "        X = self.bn1(X)\n",
    "        X = F.relu(X)   \n",
    "        X = X.view(-1, 3, 9, 9)\n",
    "        if debug: \n",
    "            print(X.shape)\n",
    "        X = self.tconv1(X)\n",
    "        if debug: \n",
    "            print(X.shape)\n",
    "        X = self.bn2(X)\n",
    "        X = F.relu(X)\n",
    "        X = self.tconv2(X)\n",
    "        if debug: \n",
    "            print(X.shape)\n",
    "        X = self.bn3(X)\n",
    "        X = F.relu(X)\n",
    "        X = self.proj1(X)\n",
    "        X = self.bn4(X)\n",
    "        X = F.relu(X)\n",
    "        X = self.proj2(X)\n",
    "        X = F.tanh(X)\n",
    "        if debug: \n",
    "            print(X.shape)\n",
    "        return X\n",
    "    \n",
    "generator = Generator(input_dim)\n",
    "generator.apply(weights_init)\n",
    "\n",
    "\n",
    "X = Variable(torch.FloatTensor(25, input_dim).normal_(0, 1))\n",
    "X = generator(X, debug=True)\n",
    "\n",
    "img = X[0, 0, :].data.numpy()\n",
    "\n",
    "Image.fromarray((255*(img + 1)/2).astype(np.uint8)).resize((320, 320))"
   ]
  },
  {
   "cell_type": "code",
   "execution_count": 49,
   "metadata": {
    "slideshow": {
     "slide_type": "fragment"
    }
   },
   "outputs": [
    {
     "name": "stdout",
     "output_type": "stream",
     "text": [
      ".\n",
      ".\n",
      ".\n",
      ".\n",
      ".\n"
     ]
    }
   ],
   "source": [
    "for _ in range(5):\n",
    "    print('.')"
   ]
  },
  {
   "cell_type": "code",
   "execution_count": 59,
   "metadata": {
    "slideshow": {
     "slide_type": "skip"
    }
   },
   "outputs": [],
   "source": [
    "# https://discuss.pytorch.org/t/print-autograd-graph/692/16\n",
    "\n",
    "from graphviz import Digraph\n",
    "\n",
    "\n",
    "def make_dot(var, params):\n",
    "    \"\"\" Produces Graphviz representation of PyTorch autograd graph\n",
    "    \n",
    "    Blue nodes are the Variables that require grad, orange are Tensors\n",
    "    saved for backward in torch.autograd.Function\n",
    "    \n",
    "    Args:\n",
    "        var: output Variable\n",
    "        params: dict of (name, Variable) to add names to node that\n",
    "            require grad (TODO: make optional)\n",
    "    \"\"\"\n",
    "    param_map = {id(v): k for k, v in params.items()}\n",
    "    print(param_map)\n",
    "    \n",
    "    node_attr = dict(style='filled',\n",
    "                     shape='box',\n",
    "                     align='left',\n",
    "                     fontsize='12',\n",
    "                     ranksep='0.1',\n",
    "                     height='0.2')\n",
    "    dot = Digraph(node_attr=node_attr, graph_attr=dict(size=\"12,12\"))\n",
    "    seen = set()\n",
    "    \n",
    "    def size_to_str(size):\n",
    "        return '('+(', ').join(['%d'% v for v in size])+')'\n",
    "\n",
    "    def add_nodes(var):\n",
    "        if var not in seen:\n",
    "            if torch.is_tensor(var):\n",
    "                dot.node(str(id(var)), size_to_str(var.size()), fillcolor='orange')\n",
    "            elif hasattr(var, 'variable'):\n",
    "                u = var.variable\n",
    "                node_name = '%s\\n %s' % (param_map.get(id(u)), size_to_str(u.size()))\n",
    "                dot.node(str(id(var)), node_name, fillcolor='lightblue')\n",
    "            else:\n",
    "                dot.node(str(id(var)), str(type(var).__name__))\n",
    "            seen.add(var)\n",
    "            if hasattr(var, 'next_functions'):\n",
    "                for u in var.next_functions:\n",
    "                    if u[0] is not None:\n",
    "                        dot.edge(str(id(u[0])), str(id(var)))\n",
    "                        add_nodes(u[0])\n",
    "            if hasattr(var, 'saved_tensors'):\n",
    "                for t in var.saved_tensors:\n",
    "                    dot.edge(str(id(t)), str(id(var)))\n",
    "                    add_nodes(t)\n",
    "    add_nodes(var.grad_fn)\n",
    "    return dot"
   ]
  },
  {
   "cell_type": "code",
   "execution_count": 110,
   "metadata": {
    "slideshow": {
     "slide_type": "subslide"
    }
   },
   "outputs": [
    {
     "name": "stdout",
     "output_type": "stream",
     "text": [
      "{140369733069632: 'bn1.bias', 140369614309200: 'bn2.weight', 140368992824272: 'tconv1.weight', 140369614309344: 'bn2.bias', 140369614309776: 'proj1.weight', 140371627257928: 'bn1.running_var', 140369614310496: 'tconv2.weight', 140369614307472: 'bn4.running_mean', 140369614310640: 'bn4.bias', 140369614309128: 'proj2.weight', 140369614308984: 'bn3.bias', 140369589329424: 'linear.weight', 140369733069704: 'bn1.weight', 140369614310784: 'bn3.weight', 140369614308264: 'bn4.running_var', 140369614308408: 'bn3.running_var', 140368992533024: 'bn2.running_mean', 140369589207616: 'bn1.running_mean', 140371627260088: 'bn3.running_mean', 140369732034632: 'bn2.running_var', 140369614308192: 'bn4.weight'}\n"
     ]
    },
    {
     "data": {
      "image/svg+xml": [
       "<?xml version=\"1.0\" encoding=\"UTF-8\" standalone=\"no\"?>\n",
       "<!DOCTYPE svg PUBLIC \"-//W3C//DTD SVG 1.1//EN\"\n",
       " \"http://www.w3.org/Graphics/SVG/1.1/DTD/svg11.dtd\">\n",
       "<!-- Generated by graphviz version 2.38.0 (20140413.2041)\n",
       " -->\n",
       "<!-- Title: %3 Pages: 1 -->\n",
       "<svg width=\"652pt\" height=\"864pt\"\n",
       " viewBox=\"0.00 0.00 651.67 864.00\" xmlns=\"http://www.w3.org/2000/svg\" xmlns:xlink=\"http://www.w3.org/1999/xlink\">\n",
       "<g id=\"graph0\" class=\"graph\" transform=\"scale(0.816635 0.816635) rotate(0) translate(4 1054)\">\n",
       "<title>%3</title>\n",
       "<polygon fill=\"white\" stroke=\"none\" points=\"-4,4 -4,-1054 794,-1054 794,4 -4,4\"/>\n",
       "<!-- 140369589197456 -->\n",
       "<g id=\"node1\" class=\"node\"><title>140369589197456</title>\n",
       "<polygon fill=\"lightgrey\" stroke=\"black\" points=\"751.5,-21 661.5,-21 661.5,-0 751.5,-0 751.5,-21\"/>\n",
       "<text text-anchor=\"middle\" x=\"706.5\" y=\"-7.4\" font-family=\"Times,serif\" font-size=\"12.00\">TanhBackward</text>\n",
       "</g>\n",
       "<!-- 140369589197792 -->\n",
       "<g id=\"node2\" class=\"node\"><title>140369589197792</title>\n",
       "<polygon fill=\"lightgrey\" stroke=\"black\" points=\"772.5,-78 640.5,-78 640.5,-57 772.5,-57 772.5,-78\"/>\n",
       "<text text-anchor=\"middle\" x=\"706.5\" y=\"-64.4\" font-family=\"Times,serif\" font-size=\"12.00\">ThnnConv2DBackward</text>\n",
       "</g>\n",
       "<!-- 140369589197792&#45;&gt;140369589197456 -->\n",
       "<g id=\"edge1\" class=\"edge\"><title>140369589197792&#45;&gt;140369589197456</title>\n",
       "<path fill=\"none\" stroke=\"black\" d=\"M706.5,-56.9197C706.5,-49.9083 706.5,-40.1442 706.5,-31.4652\"/>\n",
       "<polygon fill=\"black\" stroke=\"black\" points=\"710,-31.3408 706.5,-21.3408 703,-31.3409 710,-31.3408\"/>\n",
       "</g>\n",
       "<!-- 140369589198744 -->\n",
       "<g id=\"node3\" class=\"node\"><title>140369589198744</title>\n",
       "<polygon fill=\"lightgrey\" stroke=\"black\" points=\"702.5,-141.5 614.5,-141.5 614.5,-120.5 702.5,-120.5 702.5,-141.5\"/>\n",
       "<text text-anchor=\"middle\" x=\"658.5\" y=\"-127.9\" font-family=\"Times,serif\" font-size=\"12.00\">ReluBackward</text>\n",
       "</g>\n",
       "<!-- 140369589198744&#45;&gt;140369589197792 -->\n",
       "<g id=\"edge2\" class=\"edge\"><title>140369589198744&#45;&gt;140369589197792</title>\n",
       "<path fill=\"none\" stroke=\"black\" d=\"M666,-120.391C673.074,-111.327 683.854,-97.5149 692.515,-86.4188\"/>\n",
       "<polygon fill=\"black\" stroke=\"black\" points=\"695.501,-88.2815 698.894,-78.2449 689.982,-83.9746 695.501,-88.2815\"/>\n",
       "</g>\n",
       "<!-- 140369589197848 -->\n",
       "<g id=\"node4\" class=\"node\"><title>140369589197848</title>\n",
       "<polygon fill=\"lightgrey\" stroke=\"black\" points=\"731.5,-205 585.5,-205 585.5,-184 731.5,-184 731.5,-205\"/>\n",
       "<text text-anchor=\"middle\" x=\"658.5\" y=\"-191.4\" font-family=\"Times,serif\" font-size=\"12.00\">ThnnBatchNormBackward</text>\n",
       "</g>\n",
       "<!-- 140369589197848&#45;&gt;140369589198744 -->\n",
       "<g id=\"edge3\" class=\"edge\"><title>140369589197848&#45;&gt;140369589198744</title>\n",
       "<path fill=\"none\" stroke=\"black\" d=\"M658.5,-183.891C658.5,-175.366 658.5,-162.639 658.5,-151.923\"/>\n",
       "<polygon fill=\"black\" stroke=\"black\" points=\"662,-151.745 658.5,-141.745 655,-151.745 662,-151.745\"/>\n",
       "</g>\n",
       "<!-- 140369589197736 -->\n",
       "<g id=\"node5\" class=\"node\"><title>140369589197736</title>\n",
       "<polygon fill=\"lightgrey\" stroke=\"black\" points=\"613.5,-268.5 481.5,-268.5 481.5,-247.5 613.5,-247.5 613.5,-268.5\"/>\n",
       "<text text-anchor=\"middle\" x=\"547.5\" y=\"-254.9\" font-family=\"Times,serif\" font-size=\"12.00\">ThnnConv2DBackward</text>\n",
       "</g>\n",
       "<!-- 140369589197736&#45;&gt;140369589197848 -->\n",
       "<g id=\"edge4\" class=\"edge\"><title>140369589197736&#45;&gt;140369589197848</title>\n",
       "<path fill=\"none\" stroke=\"black\" d=\"M564.844,-247.391C582.927,-237.371 611.486,-221.548 632.316,-210.007\"/>\n",
       "<polygon fill=\"black\" stroke=\"black\" points=\"634.227,-212.95 641.278,-205.042 630.835,-206.827 634.227,-212.95\"/>\n",
       "</g>\n",
       "<!-- 140369589197568 -->\n",
       "<g id=\"node6\" class=\"node\"><title>140369589197568</title>\n",
       "<polygon fill=\"lightgrey\" stroke=\"black\" points=\"543.5,-338.5 455.5,-338.5 455.5,-317.5 543.5,-317.5 543.5,-338.5\"/>\n",
       "<text text-anchor=\"middle\" x=\"499.5\" y=\"-324.9\" font-family=\"Times,serif\" font-size=\"12.00\">ReluBackward</text>\n",
       "</g>\n",
       "<!-- 140369589197568&#45;&gt;140369589197736 -->\n",
       "<g id=\"edge5\" class=\"edge\"><title>140369589197568&#45;&gt;140369589197736</title>\n",
       "<path fill=\"none\" stroke=\"black\" d=\"M506.377,-317.257C513.72,-306.855 525.524,-290.133 534.606,-277.266\"/>\n",
       "<polygon fill=\"black\" stroke=\"black\" points=\"537.728,-278.913 540.636,-268.725 532.009,-274.876 537.728,-278.913\"/>\n",
       "</g>\n",
       "<!-- 140369589827904 -->\n",
       "<g id=\"node7\" class=\"node\"><title>140369589827904</title>\n",
       "<polygon fill=\"lightgrey\" stroke=\"black\" points=\"572.5,-402 426.5,-402 426.5,-381 572.5,-381 572.5,-402\"/>\n",
       "<text text-anchor=\"middle\" x=\"499.5\" y=\"-388.4\" font-family=\"Times,serif\" font-size=\"12.00\">ThnnBatchNormBackward</text>\n",
       "</g>\n",
       "<!-- 140369589827904&#45;&gt;140369589197568 -->\n",
       "<g id=\"edge6\" class=\"edge\"><title>140369589827904&#45;&gt;140369589197568</title>\n",
       "<path fill=\"none\" stroke=\"black\" d=\"M499.5,-380.891C499.5,-372.366 499.5,-359.639 499.5,-348.923\"/>\n",
       "<polygon fill=\"black\" stroke=\"black\" points=\"503,-348.745 499.5,-338.745 496,-348.745 503,-348.745\"/>\n",
       "</g>\n",
       "<!-- 140369589826392 -->\n",
       "<g id=\"node8\" class=\"node\"><title>140369589826392</title>\n",
       "<polygon fill=\"lightgrey\" stroke=\"black\" points=\"454,-465.5 273,-465.5 273,-444.5 454,-444.5 454,-465.5\"/>\n",
       "<text text-anchor=\"middle\" x=\"363.5\" y=\"-451.9\" font-family=\"Times,serif\" font-size=\"12.00\">ThnnConvTranspose2DBackward</text>\n",
       "</g>\n",
       "<!-- 140369589826392&#45;&gt;140369589827904 -->\n",
       "<g id=\"edge7\" class=\"edge\"><title>140369589826392&#45;&gt;140369589827904</title>\n",
       "<path fill=\"none\" stroke=\"black\" d=\"M384.75,-444.391C407.405,-434.146 443.48,-417.833 469.129,-406.234\"/>\n",
       "<polygon fill=\"black\" stroke=\"black\" points=\"470.73,-409.351 478.399,-402.042 467.845,-402.973 470.73,-409.351\"/>\n",
       "</g>\n",
       "<!-- 140369589227080 -->\n",
       "<g id=\"node9\" class=\"node\"><title>140369589227080</title>\n",
       "<polygon fill=\"lightgrey\" stroke=\"black\" points=\"359.5,-535.5 271.5,-535.5 271.5,-514.5 359.5,-514.5 359.5,-535.5\"/>\n",
       "<text text-anchor=\"middle\" x=\"315.5\" y=\"-521.9\" font-family=\"Times,serif\" font-size=\"12.00\">ReluBackward</text>\n",
       "</g>\n",
       "<!-- 140369589227080&#45;&gt;140369589826392 -->\n",
       "<g id=\"edge8\" class=\"edge\"><title>140369589227080&#45;&gt;140369589826392</title>\n",
       "<path fill=\"none\" stroke=\"black\" d=\"M322.377,-514.257C329.72,-503.855 341.524,-487.133 350.606,-474.266\"/>\n",
       "<polygon fill=\"black\" stroke=\"black\" points=\"353.728,-475.913 356.636,-465.725 348.009,-471.876 353.728,-475.913\"/>\n",
       "</g>\n",
       "<!-- 140369589223944 -->\n",
       "<g id=\"node10\" class=\"node\"><title>140369589223944</title>\n",
       "<polygon fill=\"lightgrey\" stroke=\"black\" points=\"388.5,-599 242.5,-599 242.5,-578 388.5,-578 388.5,-599\"/>\n",
       "<text text-anchor=\"middle\" x=\"315.5\" y=\"-585.4\" font-family=\"Times,serif\" font-size=\"12.00\">ThnnBatchNormBackward</text>\n",
       "</g>\n",
       "<!-- 140369589223944&#45;&gt;140369589227080 -->\n",
       "<g id=\"edge9\" class=\"edge\"><title>140369589223944&#45;&gt;140369589227080</title>\n",
       "<path fill=\"none\" stroke=\"black\" d=\"M315.5,-577.891C315.5,-569.366 315.5,-556.639 315.5,-545.923\"/>\n",
       "<polygon fill=\"black\" stroke=\"black\" points=\"319,-545.745 315.5,-535.745 312,-545.745 319,-545.745\"/>\n",
       "</g>\n",
       "<!-- 140369589225456 -->\n",
       "<g id=\"node11\" class=\"node\"><title>140369589225456</title>\n",
       "<polygon fill=\"lightgrey\" stroke=\"black\" points=\"270,-662.5 89,-662.5 89,-641.5 270,-641.5 270,-662.5\"/>\n",
       "<text text-anchor=\"middle\" x=\"179.5\" y=\"-648.9\" font-family=\"Times,serif\" font-size=\"12.00\">ThnnConvTranspose2DBackward</text>\n",
       "</g>\n",
       "<!-- 140369589225456&#45;&gt;140369589223944 -->\n",
       "<g id=\"edge10\" class=\"edge\"><title>140369589225456&#45;&gt;140369589223944</title>\n",
       "<path fill=\"none\" stroke=\"black\" d=\"M200.75,-641.391C223.405,-631.146 259.48,-614.833 285.129,-603.234\"/>\n",
       "<polygon fill=\"black\" stroke=\"black\" points=\"286.73,-606.351 294.399,-599.042 283.845,-599.973 286.73,-606.351\"/>\n",
       "</g>\n",
       "<!-- 140369589224168 -->\n",
       "<g id=\"node12\" class=\"node\"><title>140369589224168</title>\n",
       "<polygon fill=\"lightgrey\" stroke=\"black\" points=\"176.5,-732.5 84.5,-732.5 84.5,-711.5 176.5,-711.5 176.5,-732.5\"/>\n",
       "<text text-anchor=\"middle\" x=\"130.5\" y=\"-718.9\" font-family=\"Times,serif\" font-size=\"12.00\">ViewBackward</text>\n",
       "</g>\n",
       "<!-- 140369589224168&#45;&gt;140369589225456 -->\n",
       "<g id=\"edge11\" class=\"edge\"><title>140369589224168&#45;&gt;140369589225456</title>\n",
       "<path fill=\"none\" stroke=\"black\" d=\"M137.521,-711.257C145.089,-700.754 157.301,-683.807 166.607,-670.893\"/>\n",
       "<polygon fill=\"black\" stroke=\"black\" points=\"169.486,-672.884 172.493,-662.725 163.807,-668.792 169.486,-672.884\"/>\n",
       "</g>\n",
       "<!-- 140369589223888 -->\n",
       "<g id=\"node13\" class=\"node\"><title>140369589223888</title>\n",
       "<polygon fill=\"lightgrey\" stroke=\"black\" points=\"174.5,-796 86.5,-796 86.5,-775 174.5,-775 174.5,-796\"/>\n",
       "<text text-anchor=\"middle\" x=\"130.5\" y=\"-782.4\" font-family=\"Times,serif\" font-size=\"12.00\">ReluBackward</text>\n",
       "</g>\n",
       "<!-- 140369589223888&#45;&gt;140369589224168 -->\n",
       "<g id=\"edge12\" class=\"edge\"><title>140369589223888&#45;&gt;140369589224168</title>\n",
       "<path fill=\"none\" stroke=\"black\" d=\"M130.5,-774.891C130.5,-766.366 130.5,-753.639 130.5,-742.923\"/>\n",
       "<polygon fill=\"black\" stroke=\"black\" points=\"134,-742.745 130.5,-732.745 127,-742.745 134,-742.745\"/>\n",
       "</g>\n",
       "<!-- 140369589223664 -->\n",
       "<g id=\"node14\" class=\"node\"><title>140369589223664</title>\n",
       "<polygon fill=\"lightgrey\" stroke=\"black\" points=\"203.5,-853 57.5,-853 57.5,-832 203.5,-832 203.5,-853\"/>\n",
       "<text text-anchor=\"middle\" x=\"130.5\" y=\"-839.4\" font-family=\"Times,serif\" font-size=\"12.00\">ThnnBatchNormBackward</text>\n",
       "</g>\n",
       "<!-- 140369589223664&#45;&gt;140369589223888 -->\n",
       "<g id=\"edge13\" class=\"edge\"><title>140369589223664&#45;&gt;140369589223888</title>\n",
       "<path fill=\"none\" stroke=\"black\" d=\"M130.5,-831.92C130.5,-824.908 130.5,-815.144 130.5,-806.465\"/>\n",
       "<polygon fill=\"black\" stroke=\"black\" points=\"134,-806.341 130.5,-796.341 127,-806.341 134,-806.341\"/>\n",
       "</g>\n",
       "<!-- 140369589224392 -->\n",
       "<g id=\"node15\" class=\"node\"><title>140369589224392</title>\n",
       "<polygon fill=\"lightgrey\" stroke=\"black\" points=\"85,-916.5 0,-916.5 0,-895.5 85,-895.5 85,-916.5\"/>\n",
       "<text text-anchor=\"middle\" x=\"42.5\" y=\"-902.9\" font-family=\"Times,serif\" font-size=\"12.00\">MmBackward</text>\n",
       "</g>\n",
       "<!-- 140369589224392&#45;&gt;140369589223664 -->\n",
       "<g id=\"edge14\" class=\"edge\"><title>140369589224392&#45;&gt;140369589223664</title>\n",
       "<path fill=\"none\" stroke=\"black\" d=\"M56.25,-895.391C70.1991,-885.642 92.0098,-870.399 108.39,-858.952\"/>\n",
       "<polygon fill=\"black\" stroke=\"black\" points=\"110.655,-861.639 116.847,-853.042 106.645,-855.901 110.655,-861.639\"/>\n",
       "</g>\n",
       "<!-- 140369589470096 -->\n",
       "<g id=\"node16\" class=\"node\"><title>140369589470096</title>\n",
       "<polygon fill=\"lightgrey\" stroke=\"black\" points=\"79,-980 6,-980 6,-959 79,-959 79,-980\"/>\n",
       "<text text-anchor=\"middle\" x=\"42.5\" y=\"-966.4\" font-family=\"Times,serif\" font-size=\"12.00\">TBackward</text>\n",
       "</g>\n",
       "<!-- 140369589470096&#45;&gt;140369589224392 -->\n",
       "<g id=\"edge15\" class=\"edge\"><title>140369589470096&#45;&gt;140369589224392</title>\n",
       "<path fill=\"none\" stroke=\"black\" d=\"M42.5,-958.891C42.5,-950.366 42.5,-937.639 42.5,-926.923\"/>\n",
       "<polygon fill=\"black\" stroke=\"black\" points=\"46.0001,-926.745 42.5,-916.745 39.0001,-926.745 46.0001,-926.745\"/>\n",
       "</g>\n",
       "<!-- 140369589470488 -->\n",
       "<g id=\"node17\" class=\"node\"><title>140369589470488</title>\n",
       "<polygon fill=\"lightblue\" stroke=\"black\" points=\"74,-1050 11,-1050 11,-1016 74,-1016 74,-1050\"/>\n",
       "<text text-anchor=\"middle\" x=\"42.5\" y=\"-1036.4\" font-family=\"Times,serif\" font-size=\"12.00\">None</text>\n",
       "<text text-anchor=\"middle\" x=\"42.5\" y=\"-1023.4\" font-family=\"Times,serif\" font-size=\"12.00\"> (243, 25)</text>\n",
       "</g>\n",
       "<!-- 140369589470488&#45;&gt;140369589470096 -->\n",
       "<g id=\"edge16\" class=\"edge\"><title>140369589470488&#45;&gt;140369589470096</title>\n",
       "<path fill=\"none\" stroke=\"black\" d=\"M42.5,-1015.84C42.5,-1008.01 42.5,-998.54 42.5,-990.282\"/>\n",
       "<polygon fill=\"black\" stroke=\"black\" points=\"46.0001,-990.042 42.5,-980.042 39.0001,-990.042 46.0001,-990.042\"/>\n",
       "</g>\n",
       "<!-- 140369589223720 -->\n",
       "<g id=\"node18\" class=\"node\"><title>140369589223720</title>\n",
       "<polygon fill=\"lightblue\" stroke=\"black\" points=\"157.5,-923 103.5,-923 103.5,-889 157.5,-889 157.5,-923\"/>\n",
       "<text text-anchor=\"middle\" x=\"130.5\" y=\"-909.4\" font-family=\"Times,serif\" font-size=\"12.00\">None</text>\n",
       "<text text-anchor=\"middle\" x=\"130.5\" y=\"-896.4\" font-family=\"Times,serif\" font-size=\"12.00\"> (243)</text>\n",
       "</g>\n",
       "<!-- 140369589223720&#45;&gt;140369589223664 -->\n",
       "<g id=\"edge17\" class=\"edge\"><title>140369589223720&#45;&gt;140369589223664</title>\n",
       "<path fill=\"none\" stroke=\"black\" d=\"M130.5,-888.842C130.5,-881.012 130.5,-871.54 130.5,-863.282\"/>\n",
       "<polygon fill=\"black\" stroke=\"black\" points=\"134,-863.042 130.5,-853.042 127,-863.042 134,-863.042\"/>\n",
       "</g>\n",
       "<!-- 140369589226520 -->\n",
       "<g id=\"node19\" class=\"node\"><title>140369589226520</title>\n",
       "<polygon fill=\"lightblue\" stroke=\"black\" points=\"229.5,-923 175.5,-923 175.5,-889 229.5,-889 229.5,-923\"/>\n",
       "<text text-anchor=\"middle\" x=\"202.5\" y=\"-909.4\" font-family=\"Times,serif\" font-size=\"12.00\">None</text>\n",
       "<text text-anchor=\"middle\" x=\"202.5\" y=\"-896.4\" font-family=\"Times,serif\" font-size=\"12.00\"> (243)</text>\n",
       "</g>\n",
       "<!-- 140369589226520&#45;&gt;140369589223664 -->\n",
       "<g id=\"edge18\" class=\"edge\"><title>140369589226520&#45;&gt;140369589223664</title>\n",
       "<path fill=\"none\" stroke=\"black\" d=\"M183.583,-888.842C173.062,-879.855 160.008,-868.705 149.478,-859.711\"/>\n",
       "<polygon fill=\"black\" stroke=\"black\" points=\"151.548,-856.875 141.671,-853.042 147.002,-862.198 151.548,-856.875\"/>\n",
       "</g>\n",
       "<!-- 140369589227304 -->\n",
       "<g id=\"node20\" class=\"node\"><title>140369589227304</title>\n",
       "<polygon fill=\"lightblue\" stroke=\"black\" points=\"264,-739 195,-739 195,-705 264,-705 264,-739\"/>\n",
       "<text text-anchor=\"middle\" x=\"229.5\" y=\"-725.4\" font-family=\"Times,serif\" font-size=\"12.00\">None</text>\n",
       "<text text-anchor=\"middle\" x=\"229.5\" y=\"-712.4\" font-family=\"Times,serif\" font-size=\"12.00\"> (3, 6, 4, 4)</text>\n",
       "</g>\n",
       "<!-- 140369589227304&#45;&gt;140369589225456 -->\n",
       "<g id=\"edge19\" class=\"edge\"><title>140369589227304&#45;&gt;140369589225456</title>\n",
       "<path fill=\"none\" stroke=\"black\" d=\"M217.651,-704.885C210.16,-694.698 200.468,-681.517 192.728,-670.989\"/>\n",
       "<polygon fill=\"black\" stroke=\"black\" points=\"195.519,-668.878 186.775,-662.895 189.88,-673.025 195.519,-668.878\"/>\n",
       "</g>\n",
       "<!-- 140369589224448 -->\n",
       "<g id=\"node21\" class=\"node\"><title>140369589224448</title>\n",
       "<polygon fill=\"lightblue\" stroke=\"black\" points=\"342.5,-669 288.5,-669 288.5,-635 342.5,-635 342.5,-669\"/>\n",
       "<text text-anchor=\"middle\" x=\"315.5\" y=\"-655.4\" font-family=\"Times,serif\" font-size=\"12.00\">None</text>\n",
       "<text text-anchor=\"middle\" x=\"315.5\" y=\"-642.4\" font-family=\"Times,serif\" font-size=\"12.00\"> (6)</text>\n",
       "</g>\n",
       "<!-- 140369589224448&#45;&gt;140369589223944 -->\n",
       "<g id=\"edge20\" class=\"edge\"><title>140369589224448&#45;&gt;140369589223944</title>\n",
       "<path fill=\"none\" stroke=\"black\" d=\"M315.5,-634.842C315.5,-627.012 315.5,-617.54 315.5,-609.282\"/>\n",
       "<polygon fill=\"black\" stroke=\"black\" points=\"319,-609.042 315.5,-599.042 312,-609.042 319,-609.042\"/>\n",
       "</g>\n",
       "<!-- 140369589226632 -->\n",
       "<g id=\"node22\" class=\"node\"><title>140369589226632</title>\n",
       "<polygon fill=\"lightblue\" stroke=\"black\" points=\"414.5,-669 360.5,-669 360.5,-635 414.5,-635 414.5,-669\"/>\n",
       "<text text-anchor=\"middle\" x=\"387.5\" y=\"-655.4\" font-family=\"Times,serif\" font-size=\"12.00\">None</text>\n",
       "<text text-anchor=\"middle\" x=\"387.5\" y=\"-642.4\" font-family=\"Times,serif\" font-size=\"12.00\"> (6)</text>\n",
       "</g>\n",
       "<!-- 140369589226632&#45;&gt;140369589223944 -->\n",
       "<g id=\"edge21\" class=\"edge\"><title>140369589226632&#45;&gt;140369589223944</title>\n",
       "<path fill=\"none\" stroke=\"black\" d=\"M368.583,-634.842C358.062,-625.855 345.008,-614.705 334.478,-605.711\"/>\n",
       "<polygon fill=\"black\" stroke=\"black\" points=\"336.548,-602.875 326.671,-599.042 332.002,-608.198 336.548,-602.875\"/>\n",
       "</g>\n",
       "<!-- 140369589227360 -->\n",
       "<g id=\"node23\" class=\"node\"><title>140369589227360</title>\n",
       "<polygon fill=\"lightblue\" stroke=\"black\" points=\"447,-542 378,-542 378,-508 447,-508 447,-542\"/>\n",
       "<text text-anchor=\"middle\" x=\"412.5\" y=\"-528.4\" font-family=\"Times,serif\" font-size=\"12.00\">None</text>\n",
       "<text text-anchor=\"middle\" x=\"412.5\" y=\"-515.4\" font-family=\"Times,serif\" font-size=\"12.00\"> (6, 9, 4, 4)</text>\n",
       "</g>\n",
       "<!-- 140369589227360&#45;&gt;140369589826392 -->\n",
       "<g id=\"edge22\" class=\"edge\"><title>140369589227360&#45;&gt;140369589826392</title>\n",
       "<path fill=\"none\" stroke=\"black\" d=\"M400.888,-507.885C393.621,-497.8 384.239,-484.78 376.691,-474.306\"/>\n",
       "<polygon fill=\"black\" stroke=\"black\" points=\"379.316,-471.962 370.63,-465.895 373.637,-476.054 379.316,-471.962\"/>\n",
       "</g>\n",
       "<!-- 140369589829528 -->\n",
       "<g id=\"node24\" class=\"node\"><title>140369589829528</title>\n",
       "<polygon fill=\"lightblue\" stroke=\"black\" points=\"526.5,-472 472.5,-472 472.5,-438 526.5,-438 526.5,-472\"/>\n",
       "<text text-anchor=\"middle\" x=\"499.5\" y=\"-458.4\" font-family=\"Times,serif\" font-size=\"12.00\">None</text>\n",
       "<text text-anchor=\"middle\" x=\"499.5\" y=\"-445.4\" font-family=\"Times,serif\" font-size=\"12.00\"> (9)</text>\n",
       "</g>\n",
       "<!-- 140369589829528&#45;&gt;140369589827904 -->\n",
       "<g id=\"edge23\" class=\"edge\"><title>140369589829528&#45;&gt;140369589827904</title>\n",
       "<path fill=\"none\" stroke=\"black\" d=\"M499.5,-437.842C499.5,-430.012 499.5,-420.54 499.5,-412.282\"/>\n",
       "<polygon fill=\"black\" stroke=\"black\" points=\"503,-412.042 499.5,-402.042 496,-412.042 503,-412.042\"/>\n",
       "</g>\n",
       "<!-- 140369589829360 -->\n",
       "<g id=\"node25\" class=\"node\"><title>140369589829360</title>\n",
       "<polygon fill=\"lightblue\" stroke=\"black\" points=\"598.5,-472 544.5,-472 544.5,-438 598.5,-438 598.5,-472\"/>\n",
       "<text text-anchor=\"middle\" x=\"571.5\" y=\"-458.4\" font-family=\"Times,serif\" font-size=\"12.00\">None</text>\n",
       "<text text-anchor=\"middle\" x=\"571.5\" y=\"-445.4\" font-family=\"Times,serif\" font-size=\"12.00\"> (9)</text>\n",
       "</g>\n",
       "<!-- 140369589829360&#45;&gt;140369589827904 -->\n",
       "<g id=\"edge24\" class=\"edge\"><title>140369589829360&#45;&gt;140369589827904</title>\n",
       "<path fill=\"none\" stroke=\"black\" d=\"M552.583,-437.842C542.062,-428.855 529.008,-417.705 518.478,-408.711\"/>\n",
       "<polygon fill=\"black\" stroke=\"black\" points=\"520.548,-405.875 510.671,-402.042 516.002,-411.198 520.548,-405.875\"/>\n",
       "</g>\n",
       "<!-- 140369589197344 -->\n",
       "<g id=\"node26\" class=\"node\"><title>140369589197344</title>\n",
       "<polygon fill=\"lightblue\" stroke=\"black\" points=\"631,-345 562,-345 562,-311 631,-311 631,-345\"/>\n",
       "<text text-anchor=\"middle\" x=\"596.5\" y=\"-331.4\" font-family=\"Times,serif\" font-size=\"12.00\">None</text>\n",
       "<text text-anchor=\"middle\" x=\"596.5\" y=\"-318.4\" font-family=\"Times,serif\" font-size=\"12.00\"> (3, 9, 3, 3)</text>\n",
       "</g>\n",
       "<!-- 140369589197344&#45;&gt;140369589197736 -->\n",
       "<g id=\"edge25\" class=\"edge\"><title>140369589197344&#45;&gt;140369589197736</title>\n",
       "<path fill=\"none\" stroke=\"black\" d=\"M584.888,-310.885C577.621,-300.8 568.239,-287.78 560.691,-277.306\"/>\n",
       "<polygon fill=\"black\" stroke=\"black\" points=\"563.316,-274.962 554.63,-268.895 557.637,-279.054 563.316,-274.962\"/>\n",
       "</g>\n",
       "<!-- 140369589198688 -->\n",
       "<g id=\"node27\" class=\"node\"><title>140369589198688</title>\n",
       "<polygon fill=\"lightblue\" stroke=\"black\" points=\"685.5,-275 631.5,-275 631.5,-241 685.5,-241 685.5,-275\"/>\n",
       "<text text-anchor=\"middle\" x=\"658.5\" y=\"-261.4\" font-family=\"Times,serif\" font-size=\"12.00\">None</text>\n",
       "<text text-anchor=\"middle\" x=\"658.5\" y=\"-248.4\" font-family=\"Times,serif\" font-size=\"12.00\"> (3)</text>\n",
       "</g>\n",
       "<!-- 140369589198688&#45;&gt;140369589197848 -->\n",
       "<g id=\"edge26\" class=\"edge\"><title>140369589198688&#45;&gt;140369589197848</title>\n",
       "<path fill=\"none\" stroke=\"black\" d=\"M658.5,-240.842C658.5,-233.012 658.5,-223.54 658.5,-215.282\"/>\n",
       "<polygon fill=\"black\" stroke=\"black\" points=\"662,-215.042 658.5,-205.042 655,-215.042 662,-215.042\"/>\n",
       "</g>\n",
       "<!-- 140369589197624 -->\n",
       "<g id=\"node28\" class=\"node\"><title>140369589197624</title>\n",
       "<polygon fill=\"lightblue\" stroke=\"black\" points=\"757.5,-275 703.5,-275 703.5,-241 757.5,-241 757.5,-275\"/>\n",
       "<text text-anchor=\"middle\" x=\"730.5\" y=\"-261.4\" font-family=\"Times,serif\" font-size=\"12.00\">None</text>\n",
       "<text text-anchor=\"middle\" x=\"730.5\" y=\"-248.4\" font-family=\"Times,serif\" font-size=\"12.00\"> (3)</text>\n",
       "</g>\n",
       "<!-- 140369589197624&#45;&gt;140369589197848 -->\n",
       "<g id=\"edge27\" class=\"edge\"><title>140369589197624&#45;&gt;140369589197848</title>\n",
       "<path fill=\"none\" stroke=\"black\" d=\"M711.583,-240.842C701.062,-231.855 688.008,-220.705 677.478,-211.711\"/>\n",
       "<polygon fill=\"black\" stroke=\"black\" points=\"679.548,-208.875 669.671,-205.042 675.002,-214.198 679.548,-208.875\"/>\n",
       "</g>\n",
       "<!-- 140369589198016 -->\n",
       "<g id=\"node29\" class=\"node\"><title>140369589198016</title>\n",
       "<polygon fill=\"lightblue\" stroke=\"black\" points=\"790,-148 721,-148 721,-114 790,-114 790,-148\"/>\n",
       "<text text-anchor=\"middle\" x=\"755.5\" y=\"-134.4\" font-family=\"Times,serif\" font-size=\"12.00\">None</text>\n",
       "<text text-anchor=\"middle\" x=\"755.5\" y=\"-121.4\" font-family=\"Times,serif\" font-size=\"12.00\"> (1, 3, 3, 3)</text>\n",
       "</g>\n",
       "<!-- 140369589198016&#45;&gt;140369589197792 -->\n",
       "<g id=\"edge28\" class=\"edge\"><title>140369589198016&#45;&gt;140369589197792</title>\n",
       "<path fill=\"none\" stroke=\"black\" d=\"M742.626,-113.842C735.821,-105.3 727.457,-94.8037 720.492,-86.0617\"/>\n",
       "<polygon fill=\"black\" stroke=\"black\" points=\"723.071,-83.682 714.102,-78.0419 717.597,-88.044 723.071,-83.682\"/>\n",
       "</g>\n",
       "</g>\n",
       "</svg>\n"
      ],
      "text/plain": [
       "<graphviz.dot.Digraph at 0x7faa578129e8>"
      ]
     },
     "execution_count": 110,
     "metadata": {},
     "output_type": "execute_result"
    }
   ],
   "source": [
    "make_dot(X, generator.state_dict())"
   ]
  },
  {
   "cell_type": "code",
   "execution_count": 50,
   "metadata": {
    "slideshow": {
     "slide_type": "fragment"
    }
   },
   "outputs": [
    {
     "name": "stdout",
     "output_type": "stream",
     "text": [
      ".\n",
      ".\n",
      ".\n",
      ".\n",
      ".\n"
     ]
    }
   ],
   "source": [
    "for _ in range(5):\n",
    "    print('.')"
   ]
  },
  {
   "cell_type": "code",
   "execution_count": 162,
   "metadata": {
    "slideshow": {
     "slide_type": "subslide"
    }
   },
   "outputs": [
    {
     "name": "stdout",
     "output_type": "stream",
     "text": [
      "torch.Size([25])\n"
     ]
    },
    {
     "data": {
      "text/plain": [
       "tensor([ 0.5572,  0.5237,  0.4853,  0.7864,  0.4071,  0.3205,  0.4676,\n",
       "         0.6298,  0.6439,  0.6004,  0.5324,  0.5440,  0.4710,  0.5593,\n",
       "         0.3476,  0.5630,  0.3852,  0.4190,  0.5851,  0.5119,  0.5120,\n",
       "         0.3363,  0.5964,  0.5910,  0.4275])"
      ]
     },
     "execution_count": 162,
     "metadata": {},
     "output_type": "execute_result"
    }
   ],
   "source": [
    "class Discriminator(nn.Module):\n",
    "    \n",
    "    def __init__(self, input_width=28, input_height=28):\n",
    "        super(Discriminator, self).__init__()\n",
    "        self.seq_conv = nn.Sequential(\n",
    "            nn.Conv2d(1, 3, 4, 2, 0, bias=False),\n",
    "            nn.LeakyReLU(0.2, inplace=True),\n",
    "            nn.Conv2d(3, 6, 4, 2, 0, bias=False),\n",
    "            nn.BatchNorm2d(6),\n",
    "            nn.LeakyReLU(0.2, inplace=True),\n",
    "            nn.Conv2d(6, 12, 4, 2, 1, bias=False),\n",
    "            nn.BatchNorm2d(12),\n",
    "            nn.LeakyReLU(0.2, inplace=True),\n",
    "            nn.Conv2d(12, 24, 2, 1, 0, bias=False),\n",
    "            nn.BatchNorm2d(24),\n",
    "            nn.LeakyReLU(0.1, inplace=True),\n",
    "        )\n",
    "        self.linear = nn.Linear(24, 1, bias=False)        \n",
    "        \n",
    "    def forward(self, X):\n",
    "        X = self.seq_conv(X)\n",
    "        X = X.view(-1, 24)\n",
    "        X = self.linear(X)\n",
    "        return F.sigmoid(X).view(-1)\n",
    "    \n",
    "\n",
    "discriminator = Discriminator()\n",
    "discriminator.apply(weights_init)\n",
    "\n",
    "print(discriminator(X).shape)\n",
    "\n",
    "discriminator(X)"
   ]
  },
  {
   "cell_type": "code",
   "execution_count": 52,
   "metadata": {
    "slideshow": {
     "slide_type": "fragment"
    }
   },
   "outputs": [
    {
     "name": "stdout",
     "output_type": "stream",
     "text": [
      ".\n",
      ".\n",
      ".\n",
      ".\n",
      ".\n"
     ]
    }
   ],
   "source": [
    "for _ in range(5):\n",
    "    print('.')"
   ]
  },
  {
   "cell_type": "code",
   "execution_count": 80,
   "metadata": {
    "slideshow": {
     "slide_type": "subslide"
    }
   },
   "outputs": [
    {
     "name": "stdout",
     "output_type": "stream",
     "text": [
      "{140369731961984: 'seq_conv.0.weight', 140370429968672: 'seq_conv.2.weight', 140368992368176: 'seq_conv.9.running_var', 140369732034920: 'seq_conv.3.running_var', 140368992368248: 'seq_conv.5.weight', 140368992366736: 'seq_conv.9.running_mean', 140368992367888: 'seq_conv.9.bias', 140368992366880: 'seq_conv.6.running_var', 140368992367312: 'seq_conv.6.running_mean', 140368992823480: 'seq_conv.3.weight', 140368992368536: 'seq_conv.9.weight', 140368992367168: 'seq_conv.8.weight', 140368992370192: 'linear.weight', 140368992367672: 'seq_conv.6.bias', 140368992367384: 'seq_conv.6.weight', 140368992368824: 'seq_conv.3.bias', 140368992825208: 'seq_conv.3.running_mean'}\n"
     ]
    },
    {
     "data": {
      "image/svg+xml": [
       "<?xml version=\"1.0\" encoding=\"UTF-8\" standalone=\"no\"?>\n",
       "<!DOCTYPE svg PUBLIC \"-//W3C//DTD SVG 1.1//EN\"\n",
       " \"http://www.w3.org/Graphics/SVG/1.1/DTD/svg11.dtd\">\n",
       "<!-- Generated by graphviz version 2.38.0 (20140413.2041)\n",
       " -->\n",
       "<!-- Title: %3 Pages: 1 -->\n",
       "<svg width=\"605pt\" height=\"864pt\"\n",
       " viewBox=\"0.00 0.00 605.27 864.00\" xmlns=\"http://www.w3.org/2000/svg\" xmlns:xlink=\"http://www.w3.org/1999/xlink\">\n",
       "<g id=\"graph0\" class=\"graph\" transform=\"scale(0.428359 0.428359) rotate(0) translate(4 2013)\">\n",
       "<title>%3</title>\n",
       "<polygon fill=\"white\" stroke=\"none\" points=\"-4,4 -4,-2013 1409,-2013 1409,4 -4,4\"/>\n",
       "<!-- 140368992922312 -->\n",
       "<g id=\"node1\" class=\"node\"><title>140368992922312</title>\n",
       "<polygon fill=\"lightgrey\" stroke=\"black\" points=\"1362.5,-21 1270.5,-21 1270.5,-0 1362.5,-0 1362.5,-21\"/>\n",
       "<text text-anchor=\"middle\" x=\"1316.5\" y=\"-7.4\" font-family=\"Times,serif\" font-size=\"12.00\">ViewBackward</text>\n",
       "</g>\n",
       "<!-- 140368992923096 -->\n",
       "<g id=\"node2\" class=\"node\"><title>140368992923096</title>\n",
       "<polygon fill=\"lightgrey\" stroke=\"black\" points=\"1369,-78 1264,-78 1264,-57 1369,-57 1369,-78\"/>\n",
       "<text text-anchor=\"middle\" x=\"1316.5\" y=\"-64.4\" font-family=\"Times,serif\" font-size=\"12.00\">SigmoidBackward</text>\n",
       "</g>\n",
       "<!-- 140368992923096&#45;&gt;140368992922312 -->\n",
       "<g id=\"edge1\" class=\"edge\"><title>140368992923096&#45;&gt;140368992922312</title>\n",
       "<path fill=\"none\" stroke=\"black\" d=\"M1316.5,-56.9197C1316.5,-49.9083 1316.5,-40.1442 1316.5,-31.4652\"/>\n",
       "<polygon fill=\"black\" stroke=\"black\" points=\"1320,-31.3408 1316.5,-21.3408 1313,-31.3409 1320,-31.3408\"/>\n",
       "</g>\n",
       "<!-- 140368992920408 -->\n",
       "<g id=\"node3\" class=\"node\"><title>140368992920408</title>\n",
       "<polygon fill=\"lightgrey\" stroke=\"black\" points=\"1359,-135 1274,-135 1274,-114 1359,-114 1359,-135\"/>\n",
       "<text text-anchor=\"middle\" x=\"1316.5\" y=\"-121.4\" font-family=\"Times,serif\" font-size=\"12.00\">MmBackward</text>\n",
       "</g>\n",
       "<!-- 140368992920408&#45;&gt;140368992923096 -->\n",
       "<g id=\"edge2\" class=\"edge\"><title>140368992920408&#45;&gt;140368992923096</title>\n",
       "<path fill=\"none\" stroke=\"black\" d=\"M1316.5,-113.92C1316.5,-106.908 1316.5,-97.1442 1316.5,-88.4652\"/>\n",
       "<polygon fill=\"black\" stroke=\"black\" points=\"1320,-88.3408 1316.5,-78.3408 1313,-88.3409 1320,-88.3408\"/>\n",
       "</g>\n",
       "<!-- 140370429864312 -->\n",
       "<g id=\"node4\" class=\"node\"><title>140370429864312</title>\n",
       "<polygon fill=\"lightgrey\" stroke=\"black\" points=\"1310.5,-192 1218.5,-192 1218.5,-171 1310.5,-171 1310.5,-192\"/>\n",
       "<text text-anchor=\"middle\" x=\"1264.5\" y=\"-178.4\" font-family=\"Times,serif\" font-size=\"12.00\">ViewBackward</text>\n",
       "</g>\n",
       "<!-- 140370429864312&#45;&gt;140368992920408 -->\n",
       "<g id=\"edge3\" class=\"edge\"><title>140370429864312&#45;&gt;140368992920408</title>\n",
       "<path fill=\"none\" stroke=\"black\" d=\"M1273.56,-170.92C1280.92,-163.129 1291.5,-151.94 1300.32,-142.618\"/>\n",
       "<polygon fill=\"black\" stroke=\"black\" points=\"1302.87,-145.012 1307.2,-135.341 1297.78,-140.203 1302.87,-145.012\"/>\n",
       "</g>\n",
       "<!-- 140371626738688 -->\n",
       "<g id=\"node5\" class=\"node\"><title>140371626738688</title>\n",
       "<polygon fill=\"lightgrey\" stroke=\"black\" points=\"1325.5,-255.5 1201.5,-255.5 1201.5,-234.5 1325.5,-234.5 1325.5,-255.5\"/>\n",
       "<text text-anchor=\"middle\" x=\"1263.5\" y=\"-241.9\" font-family=\"Times,serif\" font-size=\"12.00\">LeakyReluBackward1</text>\n",
       "</g>\n",
       "<!-- 140371626738688&#45;&gt;140370429864312 -->\n",
       "<g id=\"edge4\" class=\"edge\"><title>140371626738688&#45;&gt;140370429864312</title>\n",
       "<path fill=\"none\" stroke=\"black\" d=\"M1263.66,-234.391C1263.79,-225.866 1264,-213.139 1264.18,-202.423\"/>\n",
       "<polygon fill=\"black\" stroke=\"black\" points=\"1267.68,-202.3 1264.34,-192.245 1260.68,-202.187 1267.68,-202.3\"/>\n",
       "</g>\n",
       "<!-- 140370430057664 -->\n",
       "<g id=\"node6\" class=\"node\"><title>140370430057664</title>\n",
       "<polygon fill=\"lightgrey\" stroke=\"black\" points=\"1336.5,-319 1190.5,-319 1190.5,-298 1336.5,-298 1336.5,-319\"/>\n",
       "<text text-anchor=\"middle\" x=\"1263.5\" y=\"-305.4\" font-family=\"Times,serif\" font-size=\"12.00\">ThnnBatchNormBackward</text>\n",
       "</g>\n",
       "<!-- 140370430057664&#45;&gt;140371626738688 -->\n",
       "<g id=\"edge5\" class=\"edge\"><title>140370430057664&#45;&gt;140371626738688</title>\n",
       "<path fill=\"none\" stroke=\"black\" d=\"M1263.5,-297.891C1263.5,-289.366 1263.5,-276.639 1263.5,-265.923\"/>\n",
       "<polygon fill=\"black\" stroke=\"black\" points=\"1267,-265.745 1263.5,-255.745 1260,-265.745 1267,-265.745\"/>\n",
       "</g>\n",
       "<!-- 140368992747248 -->\n",
       "<g id=\"node7\" class=\"node\"><title>140368992747248</title>\n",
       "<polygon fill=\"lightgrey\" stroke=\"black\" points=\"1218.5,-382.5 1086.5,-382.5 1086.5,-361.5 1218.5,-361.5 1218.5,-382.5\"/>\n",
       "<text text-anchor=\"middle\" x=\"1152.5\" y=\"-368.9\" font-family=\"Times,serif\" font-size=\"12.00\">ThnnConv2DBackward</text>\n",
       "</g>\n",
       "<!-- 140368992747248&#45;&gt;140370430057664 -->\n",
       "<g id=\"edge6\" class=\"edge\"><title>140368992747248&#45;&gt;140370430057664</title>\n",
       "<path fill=\"none\" stroke=\"black\" d=\"M1169.84,-361.391C1187.93,-351.371 1216.49,-335.548 1237.32,-324.007\"/>\n",
       "<polygon fill=\"black\" stroke=\"black\" points=\"1239.23,-326.95 1246.28,-319.042 1235.83,-320.827 1239.23,-326.95\"/>\n",
       "</g>\n",
       "<!-- 140368992746968 -->\n",
       "<g id=\"node8\" class=\"node\"><title>140368992746968</title>\n",
       "<polygon fill=\"lightgrey\" stroke=\"black\" points=\"1154.5,-452.5 1030.5,-452.5 1030.5,-431.5 1154.5,-431.5 1154.5,-452.5\"/>\n",
       "<text text-anchor=\"middle\" x=\"1092.5\" y=\"-438.9\" font-family=\"Times,serif\" font-size=\"12.00\">LeakyReluBackward1</text>\n",
       "</g>\n",
       "<!-- 140368992746968&#45;&gt;140368992747248 -->\n",
       "<g id=\"edge7\" class=\"edge\"><title>140368992746968&#45;&gt;140368992747248</title>\n",
       "<path fill=\"none\" stroke=\"black\" d=\"M1101.1,-431.257C1110.45,-420.653 1125.61,-403.481 1137.04,-390.521\"/>\n",
       "<polygon fill=\"black\" stroke=\"black\" points=\"1139.93,-392.539 1143.92,-382.725 1134.68,-387.907 1139.93,-392.539\"/>\n",
       "</g>\n",
       "<!-- 140368992744560 -->\n",
       "<g id=\"node9\" class=\"node\"><title>140368992744560</title>\n",
       "<polygon fill=\"lightgrey\" stroke=\"black\" points=\"1165.5,-516 1019.5,-516 1019.5,-495 1165.5,-495 1165.5,-516\"/>\n",
       "<text text-anchor=\"middle\" x=\"1092.5\" y=\"-502.4\" font-family=\"Times,serif\" font-size=\"12.00\">ThnnBatchNormBackward</text>\n",
       "</g>\n",
       "<!-- 140368992744560&#45;&gt;140368992746968 -->\n",
       "<g id=\"edge8\" class=\"edge\"><title>140368992744560&#45;&gt;140368992746968</title>\n",
       "<path fill=\"none\" stroke=\"black\" d=\"M1092.5,-494.891C1092.5,-486.366 1092.5,-473.639 1092.5,-462.923\"/>\n",
       "<polygon fill=\"black\" stroke=\"black\" points=\"1096,-462.745 1092.5,-452.745 1089,-462.745 1096,-462.745\"/>\n",
       "</g>\n",
       "<!-- 140368992743888 -->\n",
       "<g id=\"node10\" class=\"node\"><title>140368992743888</title>\n",
       "<polygon fill=\"lightgrey\" stroke=\"black\" points=\"1047.5,-579.5 915.5,-579.5 915.5,-558.5 1047.5,-558.5 1047.5,-579.5\"/>\n",
       "<text text-anchor=\"middle\" x=\"981.5\" y=\"-565.9\" font-family=\"Times,serif\" font-size=\"12.00\">ThnnConv2DBackward</text>\n",
       "</g>\n",
       "<!-- 140368992743888&#45;&gt;140368992744560 -->\n",
       "<g id=\"edge9\" class=\"edge\"><title>140368992743888&#45;&gt;140368992744560</title>\n",
       "<path fill=\"none\" stroke=\"black\" d=\"M998.844,-558.391C1016.93,-548.371 1045.49,-532.548 1066.32,-521.007\"/>\n",
       "<polygon fill=\"black\" stroke=\"black\" points=\"1068.23,-523.95 1075.28,-516.042 1064.83,-517.827 1068.23,-523.95\"/>\n",
       "</g>\n",
       "<!-- 140368992743832 -->\n",
       "<g id=\"node11\" class=\"node\"><title>140368992743832</title>\n",
       "<polygon fill=\"lightgrey\" stroke=\"black\" points=\"985.5,-649.5 861.5,-649.5 861.5,-628.5 985.5,-628.5 985.5,-649.5\"/>\n",
       "<text text-anchor=\"middle\" x=\"923.5\" y=\"-635.9\" font-family=\"Times,serif\" font-size=\"12.00\">LeakyReluBackward1</text>\n",
       "</g>\n",
       "<!-- 140368992743832&#45;&gt;140368992743888 -->\n",
       "<g id=\"edge10\" class=\"edge\"><title>140368992743832&#45;&gt;140368992743888</title>\n",
       "<path fill=\"none\" stroke=\"black\" d=\"M931.81,-628.257C940.855,-617.653 955.502,-600.481 966.555,-587.521\"/>\n",
       "<polygon fill=\"black\" stroke=\"black\" points=\"969.379,-589.604 973.205,-579.725 964.053,-585.062 969.379,-589.604\"/>\n",
       "</g>\n",
       "<!-- 140369627221968 -->\n",
       "<g id=\"node12\" class=\"node\"><title>140369627221968</title>\n",
       "<polygon fill=\"lightgrey\" stroke=\"black\" points=\"996.5,-713 850.5,-713 850.5,-692 996.5,-692 996.5,-713\"/>\n",
       "<text text-anchor=\"middle\" x=\"923.5\" y=\"-699.4\" font-family=\"Times,serif\" font-size=\"12.00\">ThnnBatchNormBackward</text>\n",
       "</g>\n",
       "<!-- 140369627221968&#45;&gt;140368992743832 -->\n",
       "<g id=\"edge11\" class=\"edge\"><title>140369627221968&#45;&gt;140368992743832</title>\n",
       "<path fill=\"none\" stroke=\"black\" d=\"M923.5,-691.891C923.5,-683.366 923.5,-670.639 923.5,-659.923\"/>\n",
       "<polygon fill=\"black\" stroke=\"black\" points=\"927,-659.745 923.5,-649.745 920,-659.745 927,-659.745\"/>\n",
       "</g>\n",
       "<!-- 140369627219000 -->\n",
       "<g id=\"node13\" class=\"node\"><title>140369627219000</title>\n",
       "<polygon fill=\"lightgrey\" stroke=\"black\" points=\"878.5,-776.5 746.5,-776.5 746.5,-755.5 878.5,-755.5 878.5,-776.5\"/>\n",
       "<text text-anchor=\"middle\" x=\"812.5\" y=\"-762.9\" font-family=\"Times,serif\" font-size=\"12.00\">ThnnConv2DBackward</text>\n",
       "</g>\n",
       "<!-- 140369627219000&#45;&gt;140369627221968 -->\n",
       "<g id=\"edge12\" class=\"edge\"><title>140369627219000&#45;&gt;140369627221968</title>\n",
       "<path fill=\"none\" stroke=\"black\" d=\"M829.844,-755.391C847.927,-745.371 876.486,-729.548 897.316,-718.007\"/>\n",
       "<polygon fill=\"black\" stroke=\"black\" points=\"899.227,-720.95 906.278,-713.042 895.835,-714.827 899.227,-720.95\"/>\n",
       "</g>\n",
       "<!-- 140369627221800 -->\n",
       "<g id=\"node14\" class=\"node\"><title>140369627221800</title>\n",
       "<polygon fill=\"lightgrey\" stroke=\"black\" points=\"817.5,-846.5 693.5,-846.5 693.5,-825.5 817.5,-825.5 817.5,-846.5\"/>\n",
       "<text text-anchor=\"middle\" x=\"755.5\" y=\"-832.9\" font-family=\"Times,serif\" font-size=\"12.00\">LeakyReluBackward1</text>\n",
       "</g>\n",
       "<!-- 140369627221800&#45;&gt;140369627219000 -->\n",
       "<g id=\"edge13\" class=\"edge\"><title>140369627221800&#45;&gt;140369627219000</title>\n",
       "<path fill=\"none\" stroke=\"black\" d=\"M763.667,-825.257C772.555,-814.653 786.95,-797.481 797.813,-784.521\"/>\n",
       "<polygon fill=\"black\" stroke=\"black\" points=\"800.607,-786.637 804.348,-776.725 795.242,-782.14 800.607,-786.637\"/>\n",
       "</g>\n",
       "<!-- 140369627221688 -->\n",
       "<g id=\"node15\" class=\"node\"><title>140369627221688</title>\n",
       "<polygon fill=\"lightgrey\" stroke=\"black\" points=\"821.5,-910 689.5,-910 689.5,-889 821.5,-889 821.5,-910\"/>\n",
       "<text text-anchor=\"middle\" x=\"755.5\" y=\"-896.4\" font-family=\"Times,serif\" font-size=\"12.00\">ThnnConv2DBackward</text>\n",
       "</g>\n",
       "<!-- 140369627221688&#45;&gt;140369627221800 -->\n",
       "<g id=\"edge14\" class=\"edge\"><title>140369627221688&#45;&gt;140369627221800</title>\n",
       "<path fill=\"none\" stroke=\"black\" d=\"M755.5,-888.891C755.5,-880.366 755.5,-867.639 755.5,-856.923\"/>\n",
       "<polygon fill=\"black\" stroke=\"black\" points=\"759,-856.745 755.5,-846.745 752,-856.745 759,-856.745\"/>\n",
       "</g>\n",
       "<!-- 140369627220232 -->\n",
       "<g id=\"node16\" class=\"node\"><title>140369627220232</title>\n",
       "<polygon fill=\"lightgrey\" stroke=\"black\" points=\"751.5,-973.5 661.5,-973.5 661.5,-952.5 751.5,-952.5 751.5,-973.5\"/>\n",
       "<text text-anchor=\"middle\" x=\"706.5\" y=\"-959.9\" font-family=\"Times,serif\" font-size=\"12.00\">TanhBackward</text>\n",
       "</g>\n",
       "<!-- 140369627220232&#45;&gt;140369627221688 -->\n",
       "<g id=\"edge15\" class=\"edge\"><title>140369627220232&#45;&gt;140369627221688</title>\n",
       "<path fill=\"none\" stroke=\"black\" d=\"M714.156,-952.391C721.449,-943.238 732.601,-929.241 741.485,-918.09\"/>\n",
       "<polygon fill=\"black\" stroke=\"black\" points=\"744.242,-920.247 747.736,-910.245 738.767,-915.885 744.242,-920.247\"/>\n",
       "</g>\n",
       "<!-- 140369627219224 -->\n",
       "<g id=\"node17\" class=\"node\"><title>140369627219224</title>\n",
       "<polygon fill=\"lightgrey\" stroke=\"black\" points=\"772.5,-1037 640.5,-1037 640.5,-1016 772.5,-1016 772.5,-1037\"/>\n",
       "<text text-anchor=\"middle\" x=\"706.5\" y=\"-1023.4\" font-family=\"Times,serif\" font-size=\"12.00\">ThnnConv2DBackward</text>\n",
       "</g>\n",
       "<!-- 140369627219224&#45;&gt;140369627220232 -->\n",
       "<g id=\"edge16\" class=\"edge\"><title>140369627219224&#45;&gt;140369627220232</title>\n",
       "<path fill=\"none\" stroke=\"black\" d=\"M706.5,-1015.89C706.5,-1007.37 706.5,-994.639 706.5,-983.923\"/>\n",
       "<polygon fill=\"black\" stroke=\"black\" points=\"710,-983.745 706.5,-973.745 703,-983.745 710,-983.745\"/>\n",
       "</g>\n",
       "<!-- 140369627218496 -->\n",
       "<g id=\"node18\" class=\"node\"><title>140369627218496</title>\n",
       "<polygon fill=\"lightgrey\" stroke=\"black\" points=\"702.5,-1100.5 614.5,-1100.5 614.5,-1079.5 702.5,-1079.5 702.5,-1100.5\"/>\n",
       "<text text-anchor=\"middle\" x=\"658.5\" y=\"-1086.9\" font-family=\"Times,serif\" font-size=\"12.00\">ReluBackward</text>\n",
       "</g>\n",
       "<!-- 140369627218496&#45;&gt;140369627219224 -->\n",
       "<g id=\"edge17\" class=\"edge\"><title>140369627218496&#45;&gt;140369627219224</title>\n",
       "<path fill=\"none\" stroke=\"black\" d=\"M666,-1079.39C673.074,-1070.33 683.854,-1056.51 692.515,-1045.42\"/>\n",
       "<polygon fill=\"black\" stroke=\"black\" points=\"695.501,-1047.28 698.894,-1037.24 689.982,-1042.97 695.501,-1047.28\"/>\n",
       "</g>\n",
       "<!-- 140369627219168 -->\n",
       "<g id=\"node19\" class=\"node\"><title>140369627219168</title>\n",
       "<polygon fill=\"lightgrey\" stroke=\"black\" points=\"731.5,-1164 585.5,-1164 585.5,-1143 731.5,-1143 731.5,-1164\"/>\n",
       "<text text-anchor=\"middle\" x=\"658.5\" y=\"-1150.4\" font-family=\"Times,serif\" font-size=\"12.00\">ThnnBatchNormBackward</text>\n",
       "</g>\n",
       "<!-- 140369627219168&#45;&gt;140369627218496 -->\n",
       "<g id=\"edge18\" class=\"edge\"><title>140369627219168&#45;&gt;140369627218496</title>\n",
       "<path fill=\"none\" stroke=\"black\" d=\"M658.5,-1142.89C658.5,-1134.37 658.5,-1121.64 658.5,-1110.92\"/>\n",
       "<polygon fill=\"black\" stroke=\"black\" points=\"662,-1110.74 658.5,-1100.74 655,-1110.74 662,-1110.74\"/>\n",
       "</g>\n",
       "<!-- 140369627219280 -->\n",
       "<g id=\"node20\" class=\"node\"><title>140369627219280</title>\n",
       "<polygon fill=\"lightgrey\" stroke=\"black\" points=\"613.5,-1227.5 481.5,-1227.5 481.5,-1206.5 613.5,-1206.5 613.5,-1227.5\"/>\n",
       "<text text-anchor=\"middle\" x=\"547.5\" y=\"-1213.9\" font-family=\"Times,serif\" font-size=\"12.00\">ThnnConv2DBackward</text>\n",
       "</g>\n",
       "<!-- 140369627219280&#45;&gt;140369627219168 -->\n",
       "<g id=\"edge19\" class=\"edge\"><title>140369627219280&#45;&gt;140369627219168</title>\n",
       "<path fill=\"none\" stroke=\"black\" d=\"M564.844,-1206.39C582.927,-1196.37 611.486,-1180.55 632.316,-1169.01\"/>\n",
       "<polygon fill=\"black\" stroke=\"black\" points=\"634.227,-1171.95 641.278,-1164.04 630.835,-1165.83 634.227,-1171.95\"/>\n",
       "</g>\n",
       "<!-- 140369627219840 -->\n",
       "<g id=\"node21\" class=\"node\"><title>140369627219840</title>\n",
       "<polygon fill=\"lightgrey\" stroke=\"black\" points=\"543.5,-1297.5 455.5,-1297.5 455.5,-1276.5 543.5,-1276.5 543.5,-1297.5\"/>\n",
       "<text text-anchor=\"middle\" x=\"499.5\" y=\"-1283.9\" font-family=\"Times,serif\" font-size=\"12.00\">ReluBackward</text>\n",
       "</g>\n",
       "<!-- 140369627219840&#45;&gt;140369627219280 -->\n",
       "<g id=\"edge20\" class=\"edge\"><title>140369627219840&#45;&gt;140369627219280</title>\n",
       "<path fill=\"none\" stroke=\"black\" d=\"M506.377,-1276.26C513.72,-1265.86 525.524,-1249.13 534.606,-1236.27\"/>\n",
       "<polygon fill=\"black\" stroke=\"black\" points=\"537.728,-1237.91 540.636,-1227.72 532.009,-1233.88 537.728,-1237.91\"/>\n",
       "</g>\n",
       "<!-- 140369627221912 -->\n",
       "<g id=\"node22\" class=\"node\"><title>140369627221912</title>\n",
       "<polygon fill=\"lightgrey\" stroke=\"black\" points=\"572.5,-1361 426.5,-1361 426.5,-1340 572.5,-1340 572.5,-1361\"/>\n",
       "<text text-anchor=\"middle\" x=\"499.5\" y=\"-1347.4\" font-family=\"Times,serif\" font-size=\"12.00\">ThnnBatchNormBackward</text>\n",
       "</g>\n",
       "<!-- 140369627221912&#45;&gt;140369627219840 -->\n",
       "<g id=\"edge21\" class=\"edge\"><title>140369627221912&#45;&gt;140369627219840</title>\n",
       "<path fill=\"none\" stroke=\"black\" d=\"M499.5,-1339.89C499.5,-1331.37 499.5,-1318.64 499.5,-1307.92\"/>\n",
       "<polygon fill=\"black\" stroke=\"black\" points=\"503,-1307.74 499.5,-1297.74 496,-1307.74 503,-1307.74\"/>\n",
       "</g>\n",
       "<!-- 140369627220456 -->\n",
       "<g id=\"node23\" class=\"node\"><title>140369627220456</title>\n",
       "<polygon fill=\"lightgrey\" stroke=\"black\" points=\"454,-1424.5 273,-1424.5 273,-1403.5 454,-1403.5 454,-1424.5\"/>\n",
       "<text text-anchor=\"middle\" x=\"363.5\" y=\"-1410.9\" font-family=\"Times,serif\" font-size=\"12.00\">ThnnConvTranspose2DBackward</text>\n",
       "</g>\n",
       "<!-- 140369627220456&#45;&gt;140369627221912 -->\n",
       "<g id=\"edge22\" class=\"edge\"><title>140369627220456&#45;&gt;140369627221912</title>\n",
       "<path fill=\"none\" stroke=\"black\" d=\"M384.75,-1403.39C407.405,-1393.15 443.48,-1376.83 469.129,-1365.23\"/>\n",
       "<polygon fill=\"black\" stroke=\"black\" points=\"470.73,-1368.35 478.399,-1361.04 467.845,-1361.97 470.73,-1368.35\"/>\n",
       "</g>\n",
       "<!-- 140368992865528 -->\n",
       "<g id=\"node24\" class=\"node\"><title>140368992865528</title>\n",
       "<polygon fill=\"lightgrey\" stroke=\"black\" points=\"359.5,-1494.5 271.5,-1494.5 271.5,-1473.5 359.5,-1473.5 359.5,-1494.5\"/>\n",
       "<text text-anchor=\"middle\" x=\"315.5\" y=\"-1480.9\" font-family=\"Times,serif\" font-size=\"12.00\">ReluBackward</text>\n",
       "</g>\n",
       "<!-- 140368992865528&#45;&gt;140369627220456 -->\n",
       "<g id=\"edge23\" class=\"edge\"><title>140368992865528&#45;&gt;140369627220456</title>\n",
       "<path fill=\"none\" stroke=\"black\" d=\"M322.377,-1473.26C329.72,-1462.86 341.524,-1446.13 350.606,-1433.27\"/>\n",
       "<polygon fill=\"black\" stroke=\"black\" points=\"353.728,-1434.91 356.636,-1424.72 348.009,-1430.88 353.728,-1434.91\"/>\n",
       "</g>\n",
       "<!-- 140368992862952 -->\n",
       "<g id=\"node25\" class=\"node\"><title>140368992862952</title>\n",
       "<polygon fill=\"lightgrey\" stroke=\"black\" points=\"388.5,-1558 242.5,-1558 242.5,-1537 388.5,-1537 388.5,-1558\"/>\n",
       "<text text-anchor=\"middle\" x=\"315.5\" y=\"-1544.4\" font-family=\"Times,serif\" font-size=\"12.00\">ThnnBatchNormBackward</text>\n",
       "</g>\n",
       "<!-- 140368992862952&#45;&gt;140368992865528 -->\n",
       "<g id=\"edge24\" class=\"edge\"><title>140368992862952&#45;&gt;140368992865528</title>\n",
       "<path fill=\"none\" stroke=\"black\" d=\"M315.5,-1536.89C315.5,-1528.37 315.5,-1515.64 315.5,-1504.92\"/>\n",
       "<polygon fill=\"black\" stroke=\"black\" points=\"319,-1504.74 315.5,-1494.74 312,-1504.74 319,-1504.74\"/>\n",
       "</g>\n",
       "<!-- 140368992863400 -->\n",
       "<g id=\"node26\" class=\"node\"><title>140368992863400</title>\n",
       "<polygon fill=\"lightgrey\" stroke=\"black\" points=\"270,-1621.5 89,-1621.5 89,-1600.5 270,-1600.5 270,-1621.5\"/>\n",
       "<text text-anchor=\"middle\" x=\"179.5\" y=\"-1607.9\" font-family=\"Times,serif\" font-size=\"12.00\">ThnnConvTranspose2DBackward</text>\n",
       "</g>\n",
       "<!-- 140368992863400&#45;&gt;140368992862952 -->\n",
       "<g id=\"edge25\" class=\"edge\"><title>140368992863400&#45;&gt;140368992862952</title>\n",
       "<path fill=\"none\" stroke=\"black\" d=\"M200.75,-1600.39C223.405,-1590.15 259.48,-1573.83 285.129,-1562.23\"/>\n",
       "<polygon fill=\"black\" stroke=\"black\" points=\"286.73,-1565.35 294.399,-1558.04 283.845,-1558.97 286.73,-1565.35\"/>\n",
       "</g>\n",
       "<!-- 140368992863680 -->\n",
       "<g id=\"node27\" class=\"node\"><title>140368992863680</title>\n",
       "<polygon fill=\"lightgrey\" stroke=\"black\" points=\"176.5,-1691.5 84.5,-1691.5 84.5,-1670.5 176.5,-1670.5 176.5,-1691.5\"/>\n",
       "<text text-anchor=\"middle\" x=\"130.5\" y=\"-1677.9\" font-family=\"Times,serif\" font-size=\"12.00\">ViewBackward</text>\n",
       "</g>\n",
       "<!-- 140368992863680&#45;&gt;140368992863400 -->\n",
       "<g id=\"edge26\" class=\"edge\"><title>140368992863680&#45;&gt;140368992863400</title>\n",
       "<path fill=\"none\" stroke=\"black\" d=\"M137.521,-1670.26C145.089,-1659.75 157.301,-1642.81 166.607,-1629.89\"/>\n",
       "<polygon fill=\"black\" stroke=\"black\" points=\"169.486,-1631.88 172.493,-1621.72 163.807,-1627.79 169.486,-1631.88\"/>\n",
       "</g>\n",
       "<!-- 140368992862336 -->\n",
       "<g id=\"node28\" class=\"node\"><title>140368992862336</title>\n",
       "<polygon fill=\"lightgrey\" stroke=\"black\" points=\"174.5,-1755 86.5,-1755 86.5,-1734 174.5,-1734 174.5,-1755\"/>\n",
       "<text text-anchor=\"middle\" x=\"130.5\" y=\"-1741.4\" font-family=\"Times,serif\" font-size=\"12.00\">ReluBackward</text>\n",
       "</g>\n",
       "<!-- 140368992862336&#45;&gt;140368992863680 -->\n",
       "<g id=\"edge27\" class=\"edge\"><title>140368992862336&#45;&gt;140368992863680</title>\n",
       "<path fill=\"none\" stroke=\"black\" d=\"M130.5,-1733.89C130.5,-1725.37 130.5,-1712.64 130.5,-1701.92\"/>\n",
       "<polygon fill=\"black\" stroke=\"black\" points=\"134,-1701.74 130.5,-1691.74 127,-1701.74 134,-1701.74\"/>\n",
       "</g>\n",
       "<!-- 140368992862672 -->\n",
       "<g id=\"node29\" class=\"node\"><title>140368992862672</title>\n",
       "<polygon fill=\"lightgrey\" stroke=\"black\" points=\"203.5,-1812 57.5,-1812 57.5,-1791 203.5,-1791 203.5,-1812\"/>\n",
       "<text text-anchor=\"middle\" x=\"130.5\" y=\"-1798.4\" font-family=\"Times,serif\" font-size=\"12.00\">ThnnBatchNormBackward</text>\n",
       "</g>\n",
       "<!-- 140368992862672&#45;&gt;140368992862336 -->\n",
       "<g id=\"edge28\" class=\"edge\"><title>140368992862672&#45;&gt;140368992862336</title>\n",
       "<path fill=\"none\" stroke=\"black\" d=\"M130.5,-1790.92C130.5,-1783.91 130.5,-1774.14 130.5,-1765.47\"/>\n",
       "<polygon fill=\"black\" stroke=\"black\" points=\"134,-1765.34 130.5,-1755.34 127,-1765.34 134,-1765.34\"/>\n",
       "</g>\n",
       "<!-- 140368992863064 -->\n",
       "<g id=\"node30\" class=\"node\"><title>140368992863064</title>\n",
       "<polygon fill=\"lightgrey\" stroke=\"black\" points=\"85,-1875.5 0,-1875.5 0,-1854.5 85,-1854.5 85,-1875.5\"/>\n",
       "<text text-anchor=\"middle\" x=\"42.5\" y=\"-1861.9\" font-family=\"Times,serif\" font-size=\"12.00\">MmBackward</text>\n",
       "</g>\n",
       "<!-- 140368992863064&#45;&gt;140368992862672 -->\n",
       "<g id=\"edge29\" class=\"edge\"><title>140368992863064&#45;&gt;140368992862672</title>\n",
       "<path fill=\"none\" stroke=\"black\" d=\"M56.25,-1854.39C70.1991,-1844.64 92.0098,-1829.4 108.39,-1817.95\"/>\n",
       "<polygon fill=\"black\" stroke=\"black\" points=\"110.655,-1820.64 116.847,-1812.04 106.645,-1814.9 110.655,-1820.64\"/>\n",
       "</g>\n",
       "<!-- 140368992864184 -->\n",
       "<g id=\"node31\" class=\"node\"><title>140368992864184</title>\n",
       "<polygon fill=\"lightgrey\" stroke=\"black\" points=\"79,-1939 6,-1939 6,-1918 79,-1918 79,-1939\"/>\n",
       "<text text-anchor=\"middle\" x=\"42.5\" y=\"-1925.4\" font-family=\"Times,serif\" font-size=\"12.00\">TBackward</text>\n",
       "</g>\n",
       "<!-- 140368992864184&#45;&gt;140368992863064 -->\n",
       "<g id=\"edge30\" class=\"edge\"><title>140368992864184&#45;&gt;140368992863064</title>\n",
       "<path fill=\"none\" stroke=\"black\" d=\"M42.5,-1917.89C42.5,-1909.37 42.5,-1896.64 42.5,-1885.92\"/>\n",
       "<polygon fill=\"black\" stroke=\"black\" points=\"46.0001,-1885.74 42.5,-1875.74 39.0001,-1885.74 46.0001,-1885.74\"/>\n",
       "</g>\n",
       "<!-- 140368992864016 -->\n",
       "<g id=\"node32\" class=\"node\"><title>140368992864016</title>\n",
       "<polygon fill=\"lightblue\" stroke=\"black\" points=\"74,-2009 11,-2009 11,-1975 74,-1975 74,-2009\"/>\n",
       "<text text-anchor=\"middle\" x=\"42.5\" y=\"-1995.4\" font-family=\"Times,serif\" font-size=\"12.00\">None</text>\n",
       "<text text-anchor=\"middle\" x=\"42.5\" y=\"-1982.4\" font-family=\"Times,serif\" font-size=\"12.00\"> (243, 25)</text>\n",
       "</g>\n",
       "<!-- 140368992864016&#45;&gt;140368992864184 -->\n",
       "<g id=\"edge31\" class=\"edge\"><title>140368992864016&#45;&gt;140368992864184</title>\n",
       "<path fill=\"none\" stroke=\"black\" d=\"M42.5,-1974.84C42.5,-1967.01 42.5,-1957.54 42.5,-1949.28\"/>\n",
       "<polygon fill=\"black\" stroke=\"black\" points=\"46.0001,-1949.04 42.5,-1939.04 39.0001,-1949.04 46.0001,-1949.04\"/>\n",
       "</g>\n",
       "<!-- 140368992863344 -->\n",
       "<g id=\"node33\" class=\"node\"><title>140368992863344</title>\n",
       "<polygon fill=\"lightblue\" stroke=\"black\" points=\"157.5,-1882 103.5,-1882 103.5,-1848 157.5,-1848 157.5,-1882\"/>\n",
       "<text text-anchor=\"middle\" x=\"130.5\" y=\"-1868.4\" font-family=\"Times,serif\" font-size=\"12.00\">None</text>\n",
       "<text text-anchor=\"middle\" x=\"130.5\" y=\"-1855.4\" font-family=\"Times,serif\" font-size=\"12.00\"> (243)</text>\n",
       "</g>\n",
       "<!-- 140368992863344&#45;&gt;140368992862672 -->\n",
       "<g id=\"edge32\" class=\"edge\"><title>140368992863344&#45;&gt;140368992862672</title>\n",
       "<path fill=\"none\" stroke=\"black\" d=\"M130.5,-1847.84C130.5,-1840.01 130.5,-1830.54 130.5,-1822.28\"/>\n",
       "<polygon fill=\"black\" stroke=\"black\" points=\"134,-1822.04 130.5,-1812.04 127,-1822.04 134,-1822.04\"/>\n",
       "</g>\n",
       "<!-- 140368992863232 -->\n",
       "<g id=\"node34\" class=\"node\"><title>140368992863232</title>\n",
       "<polygon fill=\"lightblue\" stroke=\"black\" points=\"229.5,-1882 175.5,-1882 175.5,-1848 229.5,-1848 229.5,-1882\"/>\n",
       "<text text-anchor=\"middle\" x=\"202.5\" y=\"-1868.4\" font-family=\"Times,serif\" font-size=\"12.00\">None</text>\n",
       "<text text-anchor=\"middle\" x=\"202.5\" y=\"-1855.4\" font-family=\"Times,serif\" font-size=\"12.00\"> (243)</text>\n",
       "</g>\n",
       "<!-- 140368992863232&#45;&gt;140368992862672 -->\n",
       "<g id=\"edge33\" class=\"edge\"><title>140368992863232&#45;&gt;140368992862672</title>\n",
       "<path fill=\"none\" stroke=\"black\" d=\"M183.583,-1847.84C173.062,-1838.86 160.008,-1827.71 149.478,-1818.71\"/>\n",
       "<polygon fill=\"black\" stroke=\"black\" points=\"151.548,-1815.88 141.671,-1812.04 147.002,-1821.2 151.548,-1815.88\"/>\n",
       "</g>\n",
       "<!-- 140368992862448 -->\n",
       "<g id=\"node35\" class=\"node\"><title>140368992862448</title>\n",
       "<polygon fill=\"lightblue\" stroke=\"black\" points=\"264,-1698 195,-1698 195,-1664 264,-1664 264,-1698\"/>\n",
       "<text text-anchor=\"middle\" x=\"229.5\" y=\"-1684.4\" font-family=\"Times,serif\" font-size=\"12.00\">None</text>\n",
       "<text text-anchor=\"middle\" x=\"229.5\" y=\"-1671.4\" font-family=\"Times,serif\" font-size=\"12.00\"> (3, 6, 4, 4)</text>\n",
       "</g>\n",
       "<!-- 140368992862448&#45;&gt;140368992863400 -->\n",
       "<g id=\"edge34\" class=\"edge\"><title>140368992862448&#45;&gt;140368992863400</title>\n",
       "<path fill=\"none\" stroke=\"black\" d=\"M217.651,-1663.88C210.16,-1653.7 200.468,-1640.52 192.728,-1629.99\"/>\n",
       "<polygon fill=\"black\" stroke=\"black\" points=\"195.519,-1627.88 186.775,-1621.89 189.88,-1632.02 195.519,-1627.88\"/>\n",
       "</g>\n",
       "<!-- 140368992862728 -->\n",
       "<g id=\"node36\" class=\"node\"><title>140368992862728</title>\n",
       "<polygon fill=\"lightblue\" stroke=\"black\" points=\"342.5,-1628 288.5,-1628 288.5,-1594 342.5,-1594 342.5,-1628\"/>\n",
       "<text text-anchor=\"middle\" x=\"315.5\" y=\"-1614.4\" font-family=\"Times,serif\" font-size=\"12.00\">None</text>\n",
       "<text text-anchor=\"middle\" x=\"315.5\" y=\"-1601.4\" font-family=\"Times,serif\" font-size=\"12.00\"> (6)</text>\n",
       "</g>\n",
       "<!-- 140368992862728&#45;&gt;140368992862952 -->\n",
       "<g id=\"edge35\" class=\"edge\"><title>140368992862728&#45;&gt;140368992862952</title>\n",
       "<path fill=\"none\" stroke=\"black\" d=\"M315.5,-1593.84C315.5,-1586.01 315.5,-1576.54 315.5,-1568.28\"/>\n",
       "<polygon fill=\"black\" stroke=\"black\" points=\"319,-1568.04 315.5,-1558.04 312,-1568.04 319,-1568.04\"/>\n",
       "</g>\n",
       "<!-- 140368992865976 -->\n",
       "<g id=\"node37\" class=\"node\"><title>140368992865976</title>\n",
       "<polygon fill=\"lightblue\" stroke=\"black\" points=\"414.5,-1628 360.5,-1628 360.5,-1594 414.5,-1594 414.5,-1628\"/>\n",
       "<text text-anchor=\"middle\" x=\"387.5\" y=\"-1614.4\" font-family=\"Times,serif\" font-size=\"12.00\">None</text>\n",
       "<text text-anchor=\"middle\" x=\"387.5\" y=\"-1601.4\" font-family=\"Times,serif\" font-size=\"12.00\"> (6)</text>\n",
       "</g>\n",
       "<!-- 140368992865976&#45;&gt;140368992862952 -->\n",
       "<g id=\"edge36\" class=\"edge\"><title>140368992865976&#45;&gt;140368992862952</title>\n",
       "<path fill=\"none\" stroke=\"black\" d=\"M368.583,-1593.84C358.062,-1584.86 345.008,-1573.71 334.478,-1564.71\"/>\n",
       "<polygon fill=\"black\" stroke=\"black\" points=\"336.548,-1561.88 326.671,-1558.04 332.002,-1567.2 336.548,-1561.88\"/>\n",
       "</g>\n",
       "<!-- 140368992862896 -->\n",
       "<g id=\"node38\" class=\"node\"><title>140368992862896</title>\n",
       "<polygon fill=\"lightblue\" stroke=\"black\" points=\"447,-1501 378,-1501 378,-1467 447,-1467 447,-1501\"/>\n",
       "<text text-anchor=\"middle\" x=\"412.5\" y=\"-1487.4\" font-family=\"Times,serif\" font-size=\"12.00\">None</text>\n",
       "<text text-anchor=\"middle\" x=\"412.5\" y=\"-1474.4\" font-family=\"Times,serif\" font-size=\"12.00\"> (6, 9, 4, 4)</text>\n",
       "</g>\n",
       "<!-- 140368992862896&#45;&gt;140369627220456 -->\n",
       "<g id=\"edge37\" class=\"edge\"><title>140368992862896&#45;&gt;140369627220456</title>\n",
       "<path fill=\"none\" stroke=\"black\" d=\"M400.888,-1466.88C393.621,-1456.8 384.239,-1443.78 376.691,-1433.31\"/>\n",
       "<polygon fill=\"black\" stroke=\"black\" points=\"379.316,-1430.96 370.63,-1424.89 373.637,-1435.05 379.316,-1430.96\"/>\n",
       "</g>\n",
       "<!-- 140369627220848 -->\n",
       "<g id=\"node39\" class=\"node\"><title>140369627220848</title>\n",
       "<polygon fill=\"lightblue\" stroke=\"black\" points=\"526.5,-1431 472.5,-1431 472.5,-1397 526.5,-1397 526.5,-1431\"/>\n",
       "<text text-anchor=\"middle\" x=\"499.5\" y=\"-1417.4\" font-family=\"Times,serif\" font-size=\"12.00\">None</text>\n",
       "<text text-anchor=\"middle\" x=\"499.5\" y=\"-1404.4\" font-family=\"Times,serif\" font-size=\"12.00\"> (9)</text>\n",
       "</g>\n",
       "<!-- 140369627220848&#45;&gt;140369627221912 -->\n",
       "<g id=\"edge38\" class=\"edge\"><title>140369627220848&#45;&gt;140369627221912</title>\n",
       "<path fill=\"none\" stroke=\"black\" d=\"M499.5,-1396.84C499.5,-1389.01 499.5,-1379.54 499.5,-1371.28\"/>\n",
       "<polygon fill=\"black\" stroke=\"black\" points=\"503,-1371.04 499.5,-1361.04 496,-1371.04 503,-1371.04\"/>\n",
       "</g>\n",
       "<!-- 140368992862504 -->\n",
       "<g id=\"node40\" class=\"node\"><title>140368992862504</title>\n",
       "<polygon fill=\"lightblue\" stroke=\"black\" points=\"598.5,-1431 544.5,-1431 544.5,-1397 598.5,-1397 598.5,-1431\"/>\n",
       "<text text-anchor=\"middle\" x=\"571.5\" y=\"-1417.4\" font-family=\"Times,serif\" font-size=\"12.00\">None</text>\n",
       "<text text-anchor=\"middle\" x=\"571.5\" y=\"-1404.4\" font-family=\"Times,serif\" font-size=\"12.00\"> (9)</text>\n",
       "</g>\n",
       "<!-- 140368992862504&#45;&gt;140369627221912 -->\n",
       "<g id=\"edge39\" class=\"edge\"><title>140368992862504&#45;&gt;140369627221912</title>\n",
       "<path fill=\"none\" stroke=\"black\" d=\"M552.583,-1396.84C542.062,-1387.86 529.008,-1376.71 518.478,-1367.71\"/>\n",
       "<polygon fill=\"black\" stroke=\"black\" points=\"520.548,-1364.88 510.671,-1361.04 516.002,-1370.2 520.548,-1364.88\"/>\n",
       "</g>\n",
       "<!-- 140369627218384 -->\n",
       "<g id=\"node41\" class=\"node\"><title>140369627218384</title>\n",
       "<polygon fill=\"lightblue\" stroke=\"black\" points=\"631,-1304 562,-1304 562,-1270 631,-1270 631,-1304\"/>\n",
       "<text text-anchor=\"middle\" x=\"596.5\" y=\"-1290.4\" font-family=\"Times,serif\" font-size=\"12.00\">None</text>\n",
       "<text text-anchor=\"middle\" x=\"596.5\" y=\"-1277.4\" font-family=\"Times,serif\" font-size=\"12.00\"> (3, 9, 3, 3)</text>\n",
       "</g>\n",
       "<!-- 140369627218384&#45;&gt;140369627219280 -->\n",
       "<g id=\"edge40\" class=\"edge\"><title>140369627218384&#45;&gt;140369627219280</title>\n",
       "<path fill=\"none\" stroke=\"black\" d=\"M584.888,-1269.88C577.621,-1259.8 568.239,-1246.78 560.691,-1236.31\"/>\n",
       "<polygon fill=\"black\" stroke=\"black\" points=\"563.316,-1233.96 554.63,-1227.89 557.637,-1238.05 563.316,-1233.96\"/>\n",
       "</g>\n",
       "<!-- 140369627218664 -->\n",
       "<g id=\"node42\" class=\"node\"><title>140369627218664</title>\n",
       "<polygon fill=\"lightblue\" stroke=\"black\" points=\"685.5,-1234 631.5,-1234 631.5,-1200 685.5,-1200 685.5,-1234\"/>\n",
       "<text text-anchor=\"middle\" x=\"658.5\" y=\"-1220.4\" font-family=\"Times,serif\" font-size=\"12.00\">None</text>\n",
       "<text text-anchor=\"middle\" x=\"658.5\" y=\"-1207.4\" font-family=\"Times,serif\" font-size=\"12.00\"> (3)</text>\n",
       "</g>\n",
       "<!-- 140369627218664&#45;&gt;140369627219168 -->\n",
       "<g id=\"edge41\" class=\"edge\"><title>140369627218664&#45;&gt;140369627219168</title>\n",
       "<path fill=\"none\" stroke=\"black\" d=\"M658.5,-1199.84C658.5,-1192.01 658.5,-1182.54 658.5,-1174.28\"/>\n",
       "<polygon fill=\"black\" stroke=\"black\" points=\"662,-1174.04 658.5,-1164.04 655,-1174.04 662,-1174.04\"/>\n",
       "</g>\n",
       "<!-- 140369627221408 -->\n",
       "<g id=\"node43\" class=\"node\"><title>140369627221408</title>\n",
       "<polygon fill=\"lightblue\" stroke=\"black\" points=\"757.5,-1234 703.5,-1234 703.5,-1200 757.5,-1200 757.5,-1234\"/>\n",
       "<text text-anchor=\"middle\" x=\"730.5\" y=\"-1220.4\" font-family=\"Times,serif\" font-size=\"12.00\">None</text>\n",
       "<text text-anchor=\"middle\" x=\"730.5\" y=\"-1207.4\" font-family=\"Times,serif\" font-size=\"12.00\"> (3)</text>\n",
       "</g>\n",
       "<!-- 140369627221408&#45;&gt;140369627219168 -->\n",
       "<g id=\"edge42\" class=\"edge\"><title>140369627221408&#45;&gt;140369627219168</title>\n",
       "<path fill=\"none\" stroke=\"black\" d=\"M711.583,-1199.84C701.062,-1190.86 688.008,-1179.71 677.478,-1170.71\"/>\n",
       "<polygon fill=\"black\" stroke=\"black\" points=\"679.548,-1167.88 669.671,-1164.04 675.002,-1173.2 679.548,-1167.88\"/>\n",
       "</g>\n",
       "<!-- 140369627221576 -->\n",
       "<g id=\"node44\" class=\"node\"><title>140369627221576</title>\n",
       "<polygon fill=\"lightblue\" stroke=\"black\" points=\"790,-1107 721,-1107 721,-1073 790,-1073 790,-1107\"/>\n",
       "<text text-anchor=\"middle\" x=\"755.5\" y=\"-1093.4\" font-family=\"Times,serif\" font-size=\"12.00\">None</text>\n",
       "<text text-anchor=\"middle\" x=\"755.5\" y=\"-1080.4\" font-family=\"Times,serif\" font-size=\"12.00\"> (1, 3, 3, 3)</text>\n",
       "</g>\n",
       "<!-- 140369627221576&#45;&gt;140369627219224 -->\n",
       "<g id=\"edge43\" class=\"edge\"><title>140369627221576&#45;&gt;140369627219224</title>\n",
       "<path fill=\"none\" stroke=\"black\" d=\"M742.626,-1072.84C735.821,-1064.3 727.457,-1053.8 720.492,-1045.06\"/>\n",
       "<polygon fill=\"black\" stroke=\"black\" points=\"723.071,-1042.68 714.102,-1037.04 717.597,-1047.04 723.071,-1042.68\"/>\n",
       "</g>\n",
       "<!-- 140369627221352 -->\n",
       "<g id=\"node45\" class=\"node\"><title>140369627221352</title>\n",
       "<polygon fill=\"lightblue\" stroke=\"black\" points=\"839,-980 770,-980 770,-946 839,-946 839,-980\"/>\n",
       "<text text-anchor=\"middle\" x=\"804.5\" y=\"-966.4\" font-family=\"Times,serif\" font-size=\"12.00\">None</text>\n",
       "<text text-anchor=\"middle\" x=\"804.5\" y=\"-953.4\" font-family=\"Times,serif\" font-size=\"12.00\"> (3, 1, 4, 4)</text>\n",
       "</g>\n",
       "<!-- 140369627221352&#45;&gt;140369627221688 -->\n",
       "<g id=\"edge44\" class=\"edge\"><title>140369627221352&#45;&gt;140369627221688</title>\n",
       "<path fill=\"none\" stroke=\"black\" d=\"M791.626,-945.842C784.821,-937.3 776.457,-926.804 769.492,-918.062\"/>\n",
       "<polygon fill=\"black\" stroke=\"black\" points=\"772.071,-915.682 763.102,-910.042 766.597,-920.044 772.071,-915.682\"/>\n",
       "</g>\n",
       "<!-- 140369627218944 -->\n",
       "<g id=\"node46\" class=\"node\"><title>140369627218944</title>\n",
       "<polygon fill=\"lightblue\" stroke=\"black\" points=\"905,-853 836,-853 836,-819 905,-819 905,-853\"/>\n",
       "<text text-anchor=\"middle\" x=\"870.5\" y=\"-839.4\" font-family=\"Times,serif\" font-size=\"12.00\">None</text>\n",
       "<text text-anchor=\"middle\" x=\"870.5\" y=\"-826.4\" font-family=\"Times,serif\" font-size=\"12.00\"> (6, 3, 4, 4)</text>\n",
       "</g>\n",
       "<!-- 140369627218944&#45;&gt;140369627219000 -->\n",
       "<g id=\"edge45\" class=\"edge\"><title>140369627218944&#45;&gt;140369627219000</title>\n",
       "<path fill=\"none\" stroke=\"black\" d=\"M856.755,-818.885C847.979,-808.596 836.598,-795.253 827.575,-784.674\"/>\n",
       "<polygon fill=\"black\" stroke=\"black\" points=\"830.092,-782.232 820.94,-776.895 824.766,-786.774 830.092,-782.232\"/>\n",
       "</g>\n",
       "<!-- 140369627219448 -->\n",
       "<g id=\"node47\" class=\"node\"><title>140369627219448</title>\n",
       "<polygon fill=\"lightblue\" stroke=\"black\" points=\"950.5,-783 896.5,-783 896.5,-749 950.5,-749 950.5,-783\"/>\n",
       "<text text-anchor=\"middle\" x=\"923.5\" y=\"-769.4\" font-family=\"Times,serif\" font-size=\"12.00\">None</text>\n",
       "<text text-anchor=\"middle\" x=\"923.5\" y=\"-756.4\" font-family=\"Times,serif\" font-size=\"12.00\"> (6)</text>\n",
       "</g>\n",
       "<!-- 140369627219448&#45;&gt;140369627221968 -->\n",
       "<g id=\"edge46\" class=\"edge\"><title>140369627219448&#45;&gt;140369627221968</title>\n",
       "<path fill=\"none\" stroke=\"black\" d=\"M923.5,-748.842C923.5,-741.012 923.5,-731.54 923.5,-723.282\"/>\n",
       "<polygon fill=\"black\" stroke=\"black\" points=\"927,-723.042 923.5,-713.042 920,-723.042 927,-723.042\"/>\n",
       "</g>\n",
       "<!-- 140369627221016 -->\n",
       "<g id=\"node48\" class=\"node\"><title>140369627221016</title>\n",
       "<polygon fill=\"lightblue\" stroke=\"black\" points=\"1022.5,-783 968.5,-783 968.5,-749 1022.5,-749 1022.5,-783\"/>\n",
       "<text text-anchor=\"middle\" x=\"995.5\" y=\"-769.4\" font-family=\"Times,serif\" font-size=\"12.00\">None</text>\n",
       "<text text-anchor=\"middle\" x=\"995.5\" y=\"-756.4\" font-family=\"Times,serif\" font-size=\"12.00\"> (6)</text>\n",
       "</g>\n",
       "<!-- 140369627221016&#45;&gt;140369627221968 -->\n",
       "<g id=\"edge47\" class=\"edge\"><title>140369627221016&#45;&gt;140369627221968</title>\n",
       "<path fill=\"none\" stroke=\"black\" d=\"M976.583,-748.842C966.062,-739.855 953.008,-728.705 942.478,-719.711\"/>\n",
       "<polygon fill=\"black\" stroke=\"black\" points=\"944.548,-716.875 934.671,-713.042 940.002,-722.198 944.548,-716.875\"/>\n",
       "</g>\n",
       "<!-- 140368992746520 -->\n",
       "<g id=\"node49\" class=\"node\"><title>140368992746520</title>\n",
       "<polygon fill=\"lightblue\" stroke=\"black\" points=\"1078,-656 1003,-656 1003,-622 1078,-622 1078,-656\"/>\n",
       "<text text-anchor=\"middle\" x=\"1040.5\" y=\"-642.4\" font-family=\"Times,serif\" font-size=\"12.00\">None</text>\n",
       "<text text-anchor=\"middle\" x=\"1040.5\" y=\"-629.4\" font-family=\"Times,serif\" font-size=\"12.00\"> (12, 6, 4, 4)</text>\n",
       "</g>\n",
       "<!-- 140368992746520&#45;&gt;140368992743888 -->\n",
       "<g id=\"edge48\" class=\"edge\"><title>140368992746520&#45;&gt;140368992743888</title>\n",
       "<path fill=\"none\" stroke=\"black\" d=\"M1026.52,-621.885C1017.59,-611.596 1006.01,-598.253 996.835,-587.674\"/>\n",
       "<polygon fill=\"black\" stroke=\"black\" points=\"999.282,-585.154 990.085,-579.895 993.995,-589.742 999.282,-585.154\"/>\n",
       "</g>\n",
       "<!-- 140368992746576 -->\n",
       "<g id=\"node50\" class=\"node\"><title>140368992746576</title>\n",
       "<polygon fill=\"lightblue\" stroke=\"black\" points=\"1119.5,-586 1065.5,-586 1065.5,-552 1119.5,-552 1119.5,-586\"/>\n",
       "<text text-anchor=\"middle\" x=\"1092.5\" y=\"-572.4\" font-family=\"Times,serif\" font-size=\"12.00\">None</text>\n",
       "<text text-anchor=\"middle\" x=\"1092.5\" y=\"-559.4\" font-family=\"Times,serif\" font-size=\"12.00\"> (12)</text>\n",
       "</g>\n",
       "<!-- 140368992746576&#45;&gt;140368992744560 -->\n",
       "<g id=\"edge49\" class=\"edge\"><title>140368992746576&#45;&gt;140368992744560</title>\n",
       "<path fill=\"none\" stroke=\"black\" d=\"M1092.5,-551.842C1092.5,-544.012 1092.5,-534.54 1092.5,-526.282\"/>\n",
       "<polygon fill=\"black\" stroke=\"black\" points=\"1096,-526.042 1092.5,-516.042 1089,-526.042 1096,-526.042\"/>\n",
       "</g>\n",
       "<!-- 140368992745176 -->\n",
       "<g id=\"node51\" class=\"node\"><title>140368992745176</title>\n",
       "<polygon fill=\"lightblue\" stroke=\"black\" points=\"1191.5,-586 1137.5,-586 1137.5,-552 1191.5,-552 1191.5,-586\"/>\n",
       "<text text-anchor=\"middle\" x=\"1164.5\" y=\"-572.4\" font-family=\"Times,serif\" font-size=\"12.00\">None</text>\n",
       "<text text-anchor=\"middle\" x=\"1164.5\" y=\"-559.4\" font-family=\"Times,serif\" font-size=\"12.00\"> (12)</text>\n",
       "</g>\n",
       "<!-- 140368992745176&#45;&gt;140368992744560 -->\n",
       "<g id=\"edge50\" class=\"edge\"><title>140368992745176&#45;&gt;140368992744560</title>\n",
       "<path fill=\"none\" stroke=\"black\" d=\"M1145.58,-551.842C1135.06,-542.855 1122.01,-531.705 1111.48,-522.711\"/>\n",
       "<polygon fill=\"black\" stroke=\"black\" points=\"1113.55,-519.875 1103.67,-516.042 1109,-525.198 1113.55,-519.875\"/>\n",
       "</g>\n",
       "<!-- 140368992745344 -->\n",
       "<g id=\"node52\" class=\"node\"><title>140368992745344</title>\n",
       "<polygon fill=\"lightblue\" stroke=\"black\" points=\"1254,-459 1173,-459 1173,-425 1254,-425 1254,-459\"/>\n",
       "<text text-anchor=\"middle\" x=\"1213.5\" y=\"-445.4\" font-family=\"Times,serif\" font-size=\"12.00\">None</text>\n",
       "<text text-anchor=\"middle\" x=\"1213.5\" y=\"-432.4\" font-family=\"Times,serif\" font-size=\"12.00\"> (24, 12, 2, 2)</text>\n",
       "</g>\n",
       "<!-- 140368992745344&#45;&gt;140368992747248 -->\n",
       "<g id=\"edge51\" class=\"edge\"><title>140368992745344&#45;&gt;140368992747248</title>\n",
       "<path fill=\"none\" stroke=\"black\" d=\"M1199.04,-424.885C1189.72,-414.494 1177.61,-400.988 1168.07,-390.361\"/>\n",
       "<polygon fill=\"black\" stroke=\"black\" points=\"1170.66,-388.001 1161.38,-382.895 1165.45,-392.676 1170.66,-388.001\"/>\n",
       "</g>\n",
       "<!-- 140368992744616 -->\n",
       "<g id=\"node53\" class=\"node\"><title>140368992744616</title>\n",
       "<polygon fill=\"lightblue\" stroke=\"black\" points=\"1290.5,-389 1236.5,-389 1236.5,-355 1290.5,-355 1290.5,-389\"/>\n",
       "<text text-anchor=\"middle\" x=\"1263.5\" y=\"-375.4\" font-family=\"Times,serif\" font-size=\"12.00\">None</text>\n",
       "<text text-anchor=\"middle\" x=\"1263.5\" y=\"-362.4\" font-family=\"Times,serif\" font-size=\"12.00\"> (24)</text>\n",
       "</g>\n",
       "<!-- 140368992744616&#45;&gt;140370430057664 -->\n",
       "<g id=\"edge52\" class=\"edge\"><title>140368992744616&#45;&gt;140370430057664</title>\n",
       "<path fill=\"none\" stroke=\"black\" d=\"M1263.5,-354.842C1263.5,-347.012 1263.5,-337.54 1263.5,-329.282\"/>\n",
       "<polygon fill=\"black\" stroke=\"black\" points=\"1267,-329.042 1263.5,-319.042 1260,-329.042 1267,-329.042\"/>\n",
       "</g>\n",
       "<!-- 140368992744336 -->\n",
       "<g id=\"node54\" class=\"node\"><title>140368992744336</title>\n",
       "<polygon fill=\"lightblue\" stroke=\"black\" points=\"1362.5,-389 1308.5,-389 1308.5,-355 1362.5,-355 1362.5,-389\"/>\n",
       "<text text-anchor=\"middle\" x=\"1335.5\" y=\"-375.4\" font-family=\"Times,serif\" font-size=\"12.00\">None</text>\n",
       "<text text-anchor=\"middle\" x=\"1335.5\" y=\"-362.4\" font-family=\"Times,serif\" font-size=\"12.00\"> (24)</text>\n",
       "</g>\n",
       "<!-- 140368992744336&#45;&gt;140370430057664 -->\n",
       "<g id=\"edge53\" class=\"edge\"><title>140368992744336&#45;&gt;140370430057664</title>\n",
       "<path fill=\"none\" stroke=\"black\" d=\"M1316.58,-354.842C1306.06,-345.855 1293.01,-334.705 1282.48,-325.711\"/>\n",
       "<polygon fill=\"black\" stroke=\"black\" points=\"1284.55,-322.875 1274.67,-319.042 1280,-328.198 1284.55,-322.875\"/>\n",
       "</g>\n",
       "<!-- 140369438074080 -->\n",
       "<g id=\"node55\" class=\"node\"><title>140369438074080</title>\n",
       "<polygon fill=\"lightgrey\" stroke=\"black\" points=\"1405,-192 1332,-192 1332,-171 1405,-171 1405,-192\"/>\n",
       "<text text-anchor=\"middle\" x=\"1368.5\" y=\"-178.4\" font-family=\"Times,serif\" font-size=\"12.00\">TBackward</text>\n",
       "</g>\n",
       "<!-- 140369438074080&#45;&gt;140368992920408 -->\n",
       "<g id=\"edge54\" class=\"edge\"><title>140369438074080&#45;&gt;140368992920408</title>\n",
       "<path fill=\"none\" stroke=\"black\" d=\"M1359.44,-170.92C1352.08,-163.129 1341.5,-151.94 1332.68,-142.618\"/>\n",
       "<polygon fill=\"black\" stroke=\"black\" points=\"1335.22,-140.203 1325.8,-135.341 1330.13,-145.012 1335.22,-140.203\"/>\n",
       "</g>\n",
       "<!-- 140368993056080 -->\n",
       "<g id=\"node56\" class=\"node\"><title>140368993056080</title>\n",
       "<polygon fill=\"lightblue\" stroke=\"black\" points=\"1397.5,-262 1343.5,-262 1343.5,-228 1397.5,-228 1397.5,-262\"/>\n",
       "<text text-anchor=\"middle\" x=\"1370.5\" y=\"-248.4\" font-family=\"Times,serif\" font-size=\"12.00\">None</text>\n",
       "<text text-anchor=\"middle\" x=\"1370.5\" y=\"-235.4\" font-family=\"Times,serif\" font-size=\"12.00\"> (1, 24)</text>\n",
       "</g>\n",
       "<!-- 140368993056080&#45;&gt;140369438074080 -->\n",
       "<g id=\"edge55\" class=\"edge\"><title>140368993056080&#45;&gt;140369438074080</title>\n",
       "<path fill=\"none\" stroke=\"black\" d=\"M1369.97,-227.842C1369.72,-220.012 1369.41,-210.54 1369.14,-202.282\"/>\n",
       "<polygon fill=\"black\" stroke=\"black\" points=\"1372.63,-201.923 1368.81,-192.042 1365.64,-202.15 1372.63,-201.923\"/>\n",
       "</g>\n",
       "</g>\n",
       "</svg>\n"
      ],
      "text/plain": [
       "<graphviz.dot.Digraph at 0x7faa33f39a20>"
      ]
     },
     "execution_count": 80,
     "metadata": {},
     "output_type": "execute_result"
    }
   ],
   "source": [
    "make_dot(discriminator(X), discriminator.state_dict())"
   ]
  },
  {
   "cell_type": "code",
   "execution_count": 51,
   "metadata": {
    "slideshow": {
     "slide_type": "fragment"
    }
   },
   "outputs": [
    {
     "name": "stdout",
     "output_type": "stream",
     "text": [
      ".\n",
      ".\n",
      ".\n",
      ".\n",
      ".\n"
     ]
    }
   ],
   "source": [
    "for _ in range(5):\n",
    "    print('.')"
   ]
  },
  {
   "cell_type": "code",
   "execution_count": 163,
   "metadata": {
    "slideshow": {
     "slide_type": "subslide"
    }
   },
   "outputs": [],
   "source": [
    "lr_d = 0.0002\n",
    "lr_g = 0.0005\n",
    "beta1 = 0.5\n",
    "\n",
    "# move models to GPU memory\n",
    "discriminator = discriminator.cuda()\n",
    "generator = generator.cuda()\n",
    "\n",
    "# create Binary Crossentropy loss and move it to GPU\n",
    "criterion = nn.BCELoss().cuda()\n",
    "\n",
    "# create optimizers\n",
    "optimizerD = optim.Adam(discriminator.parameters(), lr=lr_d, betas=(beta1, 0.999))\n",
    "optimizerG = optim.Adam(generator.parameters(), lr=lr_g, betas=(beta1, 0.999))"
   ]
  },
  {
   "cell_type": "code",
   "execution_count": 164,
   "metadata": {
    "slideshow": {
     "slide_type": "subslide"
    }
   },
   "outputs": [
    {
     "data": {
      "application/vnd.jupyter.widget-view+json": {
       "model_id": "4bb4956e97934e5599d2cec543f0d322",
       "version_major": 2,
       "version_minor": 0
      },
      "text/html": [
       "<p>Failed to display Jupyter Widget of type <code>HBox</code>.</p>\n",
       "<p>\n",
       "  If you're reading this message in the Jupyter Notebook or JupyterLab Notebook, it may mean\n",
       "  that the widgets JavaScript is still loading. If this message persists, it\n",
       "  likely means that the widgets JavaScript library is either not installed or\n",
       "  not enabled. See the <a href=\"https://ipywidgets.readthedocs.io/en/stable/user_install.html\">Jupyter\n",
       "  Widgets Documentation</a> for setup instructions.\n",
       "</p>\n",
       "<p>\n",
       "  If you're reading this message in another frontend (for example, a static\n",
       "  rendering on GitHub or <a href=\"https://nbviewer.jupyter.org/\">NBViewer</a>),\n",
       "  it may mean that your frontend doesn't currently support widgets.\n",
       "</p>\n"
      ],
      "text/plain": [
       "HBox(children=(IntProgress(value=0, max=5000), HTML(value='')))"
      ]
     },
     "metadata": {},
     "output_type": "display_data"
    },
    {
     "name": "stdout",
     "output_type": "stream",
     "text": [
      "\n"
     ]
    }
   ],
   "source": [
    "n_iters = 5000\n",
    "\n",
    "log_loss_d = []\n",
    "log_loss_g = []\n",
    "\n",
    "log_acc_d = []\n",
    "log_acc_g = []\n",
    "\n",
    "# switch models to train mode\n",
    "generator.train()\n",
    "discriminator.train()\n",
    "\n",
    "# go through data\n",
    "for ix_iter, (X, _) in tqdm_notebook(enumerate(data_loader_cycle), total=n_iters):\n",
    "    # maximize log(D(x)) + log(1 - D(G(z)))\n",
    "    # train with real\n",
    "    discriminator.zero_grad()\n",
    "    y_real = torch.ones(X.shape[0]).float().cuda()    \n",
    "    p_real = discriminator(Variable(X))\n",
    "    loss_d_real = criterion(p_real, y_real)\n",
    "    loss_d_real.backward()\n",
    "    p_real_mean = p_real.mean().item()\n",
    "\n",
    "    # train with fake\n",
    "    z_noise = torch.FloatTensor(X.shape[0], input_dim).normal_(0, 0.05).cuda()\n",
    "    X_fake = generator(z_noise)\n",
    "    y_fake = torch.zeros(X_fake.shape[0]).float().cuda()\n",
    "    p_fake = discriminator(X_fake.detach())\n",
    "    loss_d_fake = criterion(p_fake, y_fake)\n",
    "    loss_d_fake.backward()\n",
    "    p_fake_mean = p_fake.mean().item()\n",
    "    loss_d = loss_d_real + loss_d_fake\n",
    "    optimizerD.step()\n",
    "    \n",
    "    log_loss_d.append(loss_d.item())\n",
    "    log_acc_d.append(\n",
    "        ((p_real >= 0.5).float().mean().item() + (p_fake < 0.5).float().mean().item())/2\n",
    "    )\n",
    "\n",
    "    # maximize log(D(G(z)))\n",
    "    # train fake as real\n",
    "    log_loss_g_loc = []\n",
    "    log_acc_g_loc = []\n",
    "    for _ in range(2):\n",
    "        generator.zero_grad()\n",
    "\n",
    "        z_noise = torch.FloatTensor(X.shape[0]*2, input_dim).normal_(0, 0.05).cuda()\n",
    "        X_fake = generator(z_noise)\n",
    "\n",
    "        y_real_virt = torch.ones(X.shape[0]*2).float().cuda()\n",
    "        p_real_virt = discriminator(X_fake)\n",
    "        loss_g = criterion(p_real_virt, y_real_virt)\n",
    "        loss_g.backward()\n",
    "\n",
    "        for prm in discriminator.parameters():\n",
    "            prm.grad = torch.clamp(prm.grad, -10, 10)\n",
    "\n",
    "        p_real_virt_mean = p_real_virt.mean().item()\n",
    "        optimizerG.step()\n",
    "    \n",
    "        log_loss_g_loc.append(loss_g.item())\n",
    "        log_acc_g_loc.append(\n",
    "            (p_real_virt >= 0.5).float().mean().item()\n",
    "        )\n",
    "        \n",
    "    log_loss_g.append(np.mean(log_loss_g_loc))\n",
    "    log_acc_g.append(np.mean(log_acc_g_loc))\n",
    "\n",
    "    if ix_iter == n_iters:\n",
    "        break"
   ]
  },
  {
   "cell_type": "code",
   "execution_count": 53,
   "metadata": {
    "slideshow": {
     "slide_type": "fragment"
    }
   },
   "outputs": [
    {
     "name": "stdout",
     "output_type": "stream",
     "text": [
      ".\n",
      ".\n",
      ".\n",
      ".\n",
      ".\n"
     ]
    }
   ],
   "source": [
    "for _ in range(5):\n",
    "    print('.')"
   ]
  },
  {
   "cell_type": "code",
   "execution_count": 165,
   "metadata": {
    "slideshow": {
     "slide_type": "subslide"
    }
   },
   "outputs": [
    {
     "data": {
      "image/png": "[encoded data removed]",
      "text/plain": [
       "<matplotlib.figure.Figure at 0x7fa950d89f28>"
      ]
     },
     "metadata": {},
     "output_type": "display_data"
    }
   ],
   "source": [
    "plt.plot(log_loss_d, label='D', c='r')\n",
    "plt.plot(log_loss_g, label='G', c='b')\n",
    "plt.legend()\n",
    "plt.title('Loss')\n",
    "plt.show()"
   ]
  },
  {
   "cell_type": "code",
   "execution_count": 166,
   "metadata": {
    "slideshow": {
     "slide_type": "subslide"
    }
   },
   "outputs": [
    {
     "data": {
      "image/png": "[encoded data removed]",
      "text/plain": [
       "<matplotlib.figure.Figure at 0x7fa9517c8438>"
      ]
     },
     "metadata": {},
     "output_type": "display_data"
    }
   ],
   "source": [
    "plt.plot(log_acc_d, label='D', c='r')\n",
    "plt.plot(log_acc_g, label='G', c='b')\n",
    "plt.legend()\n",
    "plt.title('Accuracy')\n",
    "plt.show()"
   ]
  },
  {
   "cell_type": "code",
   "execution_count": 196,
   "metadata": {
    "slideshow": {
     "slide_type": "subslide"
    }
   },
   "outputs": [
    {
     "data": {
      "image/png": "[encoded data removed]",
      "text/plain": [
       "<PIL.Image.Image image mode=L size=160x160 at 0x7FAA578527F0>"
      ]
     },
     "execution_count": 196,
     "metadata": {},
     "output_type": "execute_result"
    }
   ],
   "source": [
    "generator.eval()\n",
    "discriminator.eval()\n",
    "\n",
    "z_noise = torch.FloatTensor(X.shape[0], input_dim).normal_(0, 0.05).cuda()\n",
    "X_fake = generator(Variable(z_noise))\n",
    "\n",
    "img = X_fake[0, 0, :].cpu().data.numpy()\n",
    "\n",
    "Image.fromarray((255*(img + 1)/2).astype(np.uint8)).resize((160, 160))"
   ]
  },
  {
   "cell_type": "markdown",
   "metadata": {
    "slideshow": {
     "slide_type": "subslide"
    }
   },
   "source": [
    "| Smaple 1  | Smaple 2  |\n",
    "|---|---|\n",
    "| <img src=\"images/gan1.png\" width=160 />  | <img src=\"images/gan2.png\" width=160 />  |\n",
    "\n",
    "###### .\n",
    "###### .\n",
    "###### .\n",
    "###### .\n",
    "###### .\n",
    "###### ."
   ]
  },
  {
   "cell_type": "markdown",
   "metadata": {
    "slideshow": {
     "slide_type": "subslide"
    }
   },
   "source": [
    "# Unsupervised Cross-Domain Image Generation\n",
    "- https://arxiv.org/abs/1611.02200\n",
    "\n",
    "<img src=\"images/gan3.png\" />\n",
    "\n",
    "###### .\n",
    "###### .\n",
    "###### .\n",
    "###### .\n",
    "###### .\n",
    "###### ."
   ]
  },
  {
   "cell_type": "code",
   "execution_count": 60,
   "metadata": {
    "scrolled": false,
    "slideshow": {
     "slide_type": "subslide"
    }
   },
   "outputs": [
    {
     "name": "stdout",
     "output_type": "stream",
     "text": [
      "{140251351927040: 'layer2.0.bn1.weight', 140251351925888: 'layer1.1.bn2.weight', 140251553263552: 'layer1.0.bn2.weight', 140251553261320: 'layer2.0.downsample.1.running_mean', 140251352048480: 'layer4.1.bn1.running_mean', 140251351962896: 'layer3.1.bn1.weight', 140251351962968: 'layer3.0.downsample.0.weight', 140251352049560: 'layer4.0.downsample.1.weight', 140251352048408: 'layer4.0.bn2.running_var', 140251553263408: 'layer1.0.conv2.weight', 140251351927328: 'layer2.0.conv2.weight', 140251553234736: 'layer1.0.bn1.running_mean', 140251351926824: 'layer2.0.bn1.bias', 140251352048768: 'layer4.1.bn1.running_var', 140251351965416: 'layer4.0.downsample.1.running_mean', 140251351926536: 'layer1.1.bn1.weight', 140251351928624: 'layer3.0.bn2.bias', 140251553260168: 'layer3.0.downsample.1.running_mean', 140251553261968: 'layer2.0.bn1.running_var', 140251351962032: 'layer4.1.conv1.weight', 140251351962680: 'layer3.1.conv1.weight', 140251553260888: 'layer2.0.downsample.1.running_var', 140251351928480: 'layer3.0.conv1.weight', 140251351964336: 'layer3.0.bn2.running_mean', 140251351925312: 'layer2.0.downsample.0.weight', 140251351925600: 'layer2.1.bn1.weight', 140251351961672: 'layer4.0.bn2.weight', 140251553259664: 'layer2.1.bn1.running_var', 140251352050424: 'fc.weight', 140251351961888: 'layer4.0.bn2.bias', 140251351963472: 'layer3.1.bn2.bias', 140251553234232: 'layer1.0.bn1.running_var', 140251351927688: 'layer3.0.bn1.bias', 140251351928336: 'layer2.1.bn2.bias', 140251351963184: 'layer3.0.downsample.1.bias', 140251553232216: 'bn1.bias', 140251352049416: 'layer4.0.downsample.0.weight', 140251351924952: 'layer2.1.conv1.weight', 140251351926464: 'layer1.1.conv2.weight', 140251351962464: 'layer3.1.conv2.weight', 140251351926032: 'layer1.1.bn2.bias', 140251352049128: 'layer4.1.bn2.running_var', 140251351964264: 'layer3.0.bn1.running_var', 140251351926896: 'layer2.0.conv1.weight', 140251553262328: 'layer2.0.bn2.running_var', 140251351963760: 'layer4.0.bn1.weight', 140251553234664: 'bn1.running_var', 140251351928192: 'layer2.1.bn2.weight', 140251351928696: 'layer3.0.bn2.weight', 140251553260960: 'layer1.1.bn2.running_mean', 140251553260096: 'layer2.1.bn2.running_var', 140251351964984: 'layer3.1.bn1.running_var', 140251351965056: 'layer3.1.bn2.running_mean', 140251351963328: 'layer3.1.bn2.weight', 140251553259736: 'layer2.1.bn2.running_mean', 140251351925384: 'layer2.1.bn1.bias', 140251352050280: 'layer4.1.bn2.bias', 140251352050496: 'fc.bias', 140251351928048: 'layer2.1.conv2.weight', 140251352047688: 'layer4.0.downsample.1.running_var', 140251351964048: 'layer4.0.conv2.weight', 140251351927832: 'layer3.0.conv2.weight', 140251351926680: 'layer1.1.bn1.bias', 140251352048840: 'layer4.1.bn2.running_mean', 140251351965344: 'layer3.1.bn2.running_var', 140251553260528: 'layer3.0.bn1.running_mean', 140251352050136: 'layer4.1.bn2.weight', 140251553260456: 'layer3.0.downsample.1.running_var', 140251553262688: 'layer1.1.bn1.running_mean', 140251352048048: 'layer4.0.bn1.running_var', 140251351924808: 'layer2.0.bn2.bias', 140251351964696: 'layer3.1.bn1.running_mean', 140251352049848: 'layer4.1.bn1.bias', 140251351925528: 'layer2.0.downsample.1.bias', 140251553261248: 'layer1.1.bn1.running_var', 140251258802112: 'layer2.0.bn1.running_mean', 140251553263264: 'layer1.0.bn1.bias', 140252224951280: 'bn1.running_mean', 140251553232072: 'bn1.weight', 140251351963904: 'layer4.0.bn1.bias', 140251351964624: 'layer3.0.bn2.running_var', 140251351963256: 'layer4.0.conv1.weight', 140251351926320: 'layer1.1.conv1.weight', 140251553262040: 'layer2.1.bn1.running_mean', 140251352049632: 'layer4.0.downsample.1.bias', 140251351925456: 'layer2.0.downsample.1.weight', 140251351928264: 'layer3.0.bn1.weight', 140251351963112: 'layer3.0.downsample.1.weight', 140251352047760: 'layer4.0.bn1.running_mean', 140251352049992: 'layer4.1.conv2.weight', 140251687635848: 'conv1.weight', 140251553261680: 'layer2.0.bn2.running_mean', 140251553262832: 'layer1.0.bn1.weight', 140251553262760: 'layer1.0.bn2.running_var', 140251553234304: 'layer1.0.bn2.running_mean', 140251351926176: 'layer1.0.bn2.bias', 140251553261608: 'layer1.1.bn2.running_var', 140251352048120: 'layer4.0.bn2.running_mean', 140251351927472: 'layer2.0.bn2.weight', 140251351962320: 'layer3.1.bn1.bias', 140251352049704: 'layer4.1.bn1.weight', 140251553262904: 'layer1.0.conv1.weight'}\n"
     ]
    },
    {
     "data": {
      "image/svg+xml": [
       "<?xml version=\"1.0\" encoding=\"UTF-8\" standalone=\"no\"?>\n",
       "<!DOCTYPE svg PUBLIC \"-//W3C//DTD SVG 1.1//EN\"\n",
       " \"http://www.w3.org/Graphics/SVG/1.1/DTD/svg11.dtd\">\n",
       "<!-- Generated by graphviz version 2.38.0 (20140413.2041)\n",
       " -->\n",
       "<!-- Title: %3 Pages: 1 -->\n",
       "<svg width=\"141pt\" height=\"864pt\"\n",
       " viewBox=\"0.00 0.00 140.78 864.00\" xmlns=\"http://www.w3.org/2000/svg\" xmlns:xlink=\"http://www.w3.org/1999/xlink\">\n",
       "<g id=\"graph0\" class=\"graph\" transform=\"scale(0.212025 0.212025) rotate(0) translate(4 4071)\">\n",
       "<title>%3</title>\n",
       "<polygon fill=\"white\" stroke=\"none\" points=\"-4,4 -4,-4071 660,-4071 660,4 -4,4\"/>\n",
       "<!-- 140251687582968 -->\n",
       "<g id=\"node1\" class=\"node\"><title>140251687582968</title>\n",
       "<polygon fill=\"lightgrey\" stroke=\"black\" points=\"455,-21 351,-21 351,-0 455,-0 455,-21\"/>\n",
       "<text text-anchor=\"middle\" x=\"403\" y=\"-7.4\" font-family=\"Times,serif\" font-size=\"12.00\">AddmmBackward</text>\n",
       "</g>\n",
       "<!-- 140251687580952 -->\n",
       "<g id=\"node2\" class=\"node\"><title>140251687580952</title>\n",
       "<polygon fill=\"lightgrey\" stroke=\"black\" points=\"339,-78 237,-78 237,-57 339,-57 339,-78\"/>\n",
       "<text text-anchor=\"middle\" x=\"288\" y=\"-64.4\" font-family=\"Times,serif\" font-size=\"12.00\">ExpandBackward</text>\n",
       "</g>\n",
       "<!-- 140251687580952&#45;&gt;140251687582968 -->\n",
       "<g id=\"edge1\" class=\"edge\"><title>140251687580952&#45;&gt;140251687582968</title>\n",
       "<path fill=\"none\" stroke=\"black\" d=\"M308.031,-56.9197C326.142,-48.2581 353.036,-35.3957 373.586,-25.5675\"/>\n",
       "<polygon fill=\"black\" stroke=\"black\" points=\"375.301,-28.6271 382.812,-21.155 372.281,-22.3122 375.301,-28.6271\"/>\n",
       "</g>\n",
       "<!-- 140251687581792 -->\n",
       "<g id=\"node3\" class=\"node\"><title>140251687581792</title>\n",
       "<polygon fill=\"lightblue\" stroke=\"black\" points=\"315,-148 261,-148 261,-114 315,-114 315,-148\"/>\n",
       "<text text-anchor=\"middle\" x=\"288\" y=\"-134.4\" font-family=\"Times,serif\" font-size=\"12.00\">None</text>\n",
       "<text text-anchor=\"middle\" x=\"288\" y=\"-121.4\" font-family=\"Times,serif\" font-size=\"12.00\"> (1000)</text>\n",
       "</g>\n",
       "<!-- 140251687581792&#45;&gt;140251687580952 -->\n",
       "<g id=\"edge2\" class=\"edge\"><title>140251687581792&#45;&gt;140251687580952</title>\n",
       "<path fill=\"none\" stroke=\"black\" d=\"M288,-113.842C288,-106.012 288,-96.5396 288,-88.2816\"/>\n",
       "<polygon fill=\"black\" stroke=\"black\" points=\"291.5,-88.0419 288,-78.0419 284.5,-88.0419 291.5,-88.0419\"/>\n",
       "</g>\n",
       "<!-- 140251687581288 -->\n",
       "<g id=\"node4\" class=\"node\"><title>140251687581288</title>\n",
       "<polygon fill=\"lightgrey\" stroke=\"black\" points=\"449,-78 357,-78 357,-57 449,-57 449,-78\"/>\n",
       "<text text-anchor=\"middle\" x=\"403\" y=\"-64.4\" font-family=\"Times,serif\" font-size=\"12.00\">ViewBackward</text>\n",
       "</g>\n",
       "<!-- 140251687581288&#45;&gt;140251687582968 -->\n",
       "<g id=\"edge3\" class=\"edge\"><title>140251687581288&#45;&gt;140251687582968</title>\n",
       "<path fill=\"none\" stroke=\"black\" d=\"M403,-56.9197C403,-49.9083 403,-40.1442 403,-31.4652\"/>\n",
       "<polygon fill=\"black\" stroke=\"black\" points=\"406.5,-31.3408 403,-21.3408 399.5,-31.3409 406.5,-31.3408\"/>\n",
       "</g>\n",
       "<!-- 140251687581008 -->\n",
       "<g id=\"node5\" class=\"node\"><title>140251687581008</title>\n",
       "<polygon fill=\"lightgrey\" stroke=\"black\" points=\"460.5,-141.5 337.5,-141.5 337.5,-120.5 460.5,-120.5 460.5,-141.5\"/>\n",
       "<text text-anchor=\"middle\" x=\"399\" y=\"-127.9\" font-family=\"Times,serif\" font-size=\"12.00\">AvgPool2DBackward</text>\n",
       "</g>\n",
       "<!-- 140251687581008&#45;&gt;140251687581288 -->\n",
       "<g id=\"edge4\" class=\"edge\"><title>140251687581008&#45;&gt;140251687581288</title>\n",
       "<path fill=\"none\" stroke=\"black\" d=\"M399.625,-120.391C400.179,-111.866 401.007,-99.1392 401.704,-88.4235\"/>\n",
       "<polygon fill=\"black\" stroke=\"black\" points=\"405.21,-88.451 402.366,-78.2449 398.224,-87.9966 405.21,-88.451\"/>\n",
       "</g>\n",
       "<!-- 140251687580280 -->\n",
       "<g id=\"node6\" class=\"node\"><title>140251687580280</title>\n",
       "<polygon fill=\"lightgrey\" stroke=\"black\" points=\"458.5,-205 339.5,-205 339.5,-184 458.5,-184 458.5,-205\"/>\n",
       "<text text-anchor=\"middle\" x=\"399\" y=\"-191.4\" font-family=\"Times,serif\" font-size=\"12.00\">ThresholdBackward1</text>\n",
       "</g>\n",
       "<!-- 140251687580280&#45;&gt;140251687581008 -->\n",
       "<g id=\"edge5\" class=\"edge\"><title>140251687580280&#45;&gt;140251687581008</title>\n",
       "<path fill=\"none\" stroke=\"black\" d=\"M399,-183.891C399,-175.366 399,-162.639 399,-151.923\"/>\n",
       "<polygon fill=\"black\" stroke=\"black\" points=\"402.5,-151.745 399,-141.745 395.5,-151.745 402.5,-151.745\"/>\n",
       "</g>\n",
       "<!-- 140251687580896 -->\n",
       "<g id=\"node7\" class=\"node\"><title>140251687580896</title>\n",
       "<polygon fill=\"lightgrey\" stroke=\"black\" points=\"445,-262 353,-262 353,-241 445,-241 445,-262\"/>\n",
       "<text text-anchor=\"middle\" x=\"399\" y=\"-248.4\" font-family=\"Times,serif\" font-size=\"12.00\">AddBackward1</text>\n",
       "</g>\n",
       "<!-- 140251687580896&#45;&gt;140251687580280 -->\n",
       "<g id=\"edge6\" class=\"edge\"><title>140251687580896&#45;&gt;140251687580280</title>\n",
       "<path fill=\"none\" stroke=\"black\" d=\"M399,-240.92C399,-233.908 399,-224.144 399,-215.465\"/>\n",
       "<polygon fill=\"black\" stroke=\"black\" points=\"402.5,-215.341 399,-205.341 395.5,-215.341 402.5,-215.341\"/>\n",
       "</g>\n",
       "<!-- 140251687582800 -->\n",
       "<g id=\"node8\" class=\"node\"><title>140251687582800</title>\n",
       "<polygon fill=\"lightgrey\" stroke=\"black\" points=\"575,-319 429,-319 429,-298 575,-298 575,-319\"/>\n",
       "<text text-anchor=\"middle\" x=\"502\" y=\"-305.4\" font-family=\"Times,serif\" font-size=\"12.00\">ThnnBatchNormBackward</text>\n",
       "</g>\n",
       "<!-- 140251687582800&#45;&gt;140251687580896 -->\n",
       "<g id=\"edge7\" class=\"edge\"><title>140251687582800&#45;&gt;140251687580896</title>\n",
       "<path fill=\"none\" stroke=\"black\" d=\"M484.059,-297.92C468.058,-289.376 444.403,-276.744 426.097,-266.969\"/>\n",
       "<polygon fill=\"black\" stroke=\"black\" points=\"427.551,-263.778 417.081,-262.155 424.254,-269.953 427.551,-263.778\"/>\n",
       "</g>\n",
       "<!-- 140251687582184 -->\n",
       "<g id=\"node9\" class=\"node\"><title>140251687582184</title>\n",
       "<polygon fill=\"lightgrey\" stroke=\"black\" points=\"512,-382.5 380,-382.5 380,-361.5 512,-361.5 512,-382.5\"/>\n",
       "<text text-anchor=\"middle\" x=\"446\" y=\"-368.9\" font-family=\"Times,serif\" font-size=\"12.00\">ThnnConv2DBackward</text>\n",
       "</g>\n",
       "<!-- 140251687582184&#45;&gt;140251687582800 -->\n",
       "<g id=\"edge8\" class=\"edge\"><title>140251687582184&#45;&gt;140251687582800</title>\n",
       "<path fill=\"none\" stroke=\"black\" d=\"M454.75,-361.391C463.166,-352.148 476.08,-337.966 486.281,-326.763\"/>\n",
       "<polygon fill=\"black\" stroke=\"black\" points=\"488.982,-328.995 493.127,-319.245 483.806,-324.282 488.982,-328.995\"/>\n",
       "</g>\n",
       "<!-- 140251687583024 -->\n",
       "<g id=\"node10\" class=\"node\"><title>140251687583024</title>\n",
       "<polygon fill=\"lightgrey\" stroke=\"black\" points=\"505.5,-452.5 386.5,-452.5 386.5,-431.5 505.5,-431.5 505.5,-452.5\"/>\n",
       "<text text-anchor=\"middle\" x=\"446\" y=\"-438.9\" font-family=\"Times,serif\" font-size=\"12.00\">ThresholdBackward1</text>\n",
       "</g>\n",
       "<!-- 140251687583024&#45;&gt;140251687582184 -->\n",
       "<g id=\"edge9\" class=\"edge\"><title>140251687583024&#45;&gt;140251687582184</title>\n",
       "<path fill=\"none\" stroke=\"black\" d=\"M446,-431.257C446,-421.259 446,-405.422 446,-392.782\"/>\n",
       "<polygon fill=\"black\" stroke=\"black\" points=\"449.5,-392.725 446,-382.725 442.5,-392.725 449.5,-392.725\"/>\n",
       "</g>\n",
       "<!-- 140251687579720 -->\n",
       "<g id=\"node11\" class=\"node\"><title>140251687579720</title>\n",
       "<polygon fill=\"lightgrey\" stroke=\"black\" points=\"575,-516 429,-516 429,-495 575,-495 575,-516\"/>\n",
       "<text text-anchor=\"middle\" x=\"502\" y=\"-502.4\" font-family=\"Times,serif\" font-size=\"12.00\">ThnnBatchNormBackward</text>\n",
       "</g>\n",
       "<!-- 140251687579720&#45;&gt;140251687583024 -->\n",
       "<g id=\"edge10\" class=\"edge\"><title>140251687579720&#45;&gt;140251687583024</title>\n",
       "<path fill=\"none\" stroke=\"black\" d=\"M493.25,-494.891C484.834,-485.648 471.92,-471.466 461.719,-460.263\"/>\n",
       "<polygon fill=\"black\" stroke=\"black\" points=\"464.194,-457.782 454.873,-452.745 459.018,-462.495 464.194,-457.782\"/>\n",
       "</g>\n",
       "<!-- 140251687580056 -->\n",
       "<g id=\"node12\" class=\"node\"><title>140251687580056</title>\n",
       "<polygon fill=\"lightgrey\" stroke=\"black\" points=\"509,-579.5 377,-579.5 377,-558.5 509,-558.5 509,-579.5\"/>\n",
       "<text text-anchor=\"middle\" x=\"443\" y=\"-565.9\" font-family=\"Times,serif\" font-size=\"12.00\">ThnnConv2DBackward</text>\n",
       "</g>\n",
       "<!-- 140251687580056&#45;&gt;140251687579720 -->\n",
       "<g id=\"edge11\" class=\"edge\"><title>140251687580056&#45;&gt;140251687579720</title>\n",
       "<path fill=\"none\" stroke=\"black\" d=\"M452.219,-558.391C461.086,-549.148 474.691,-534.966 485.439,-523.763\"/>\n",
       "<polygon fill=\"black\" stroke=\"black\" points=\"488.254,-525.884 492.651,-516.245 483.203,-521.038 488.254,-525.884\"/>\n",
       "</g>\n",
       "<!-- 140251687581904 -->\n",
       "<g id=\"node13\" class=\"node\"><title>140251687581904</title>\n",
       "<polygon fill=\"lightgrey\" stroke=\"black\" points=\"408.5,-649.5 289.5,-649.5 289.5,-628.5 408.5,-628.5 408.5,-649.5\"/>\n",
       "<text text-anchor=\"middle\" x=\"349\" y=\"-635.9\" font-family=\"Times,serif\" font-size=\"12.00\">ThresholdBackward1</text>\n",
       "</g>\n",
       "<!-- 140251687581904&#45;&gt;140251687580896 -->\n",
       "<g id=\"edge138\" class=\"edge\"><title>140251687581904&#45;&gt;140251687580896</title>\n",
       "<path fill=\"none\" stroke=\"black\" d=\"M349,-628.43C349,-606.737 349,-552.16 349,-506.5 349,-506.5 349,-506.5 349,-371 349,-332.901 371.211,-292.947 386.026,-270.536\"/>\n",
       "<polygon fill=\"black\" stroke=\"black\" points=\"389.068,-272.288 391.836,-262.061 383.295,-268.33 389.068,-272.288\"/>\n",
       "</g>\n",
       "<!-- 140251687581904&#45;&gt;140251687580056 -->\n",
       "<g id=\"edge12\" class=\"edge\"><title>140251687581904&#45;&gt;140251687580056</title>\n",
       "<path fill=\"none\" stroke=\"black\" d=\"M362.468,-628.257C377.912,-617.085 403.434,-598.622 421.606,-585.476\"/>\n",
       "<polygon fill=\"black\" stroke=\"black\" points=\"423.809,-588.202 429.86,-579.505 419.706,-582.531 423.809,-588.202\"/>\n",
       "</g>\n",
       "<!-- 140251687583528 -->\n",
       "<g id=\"node14\" class=\"node\"><title>140251687583528</title>\n",
       "<polygon fill=\"lightgrey\" stroke=\"black\" points=\"395,-713 303,-713 303,-692 395,-692 395,-713\"/>\n",
       "<text text-anchor=\"middle\" x=\"349\" y=\"-699.4\" font-family=\"Times,serif\" font-size=\"12.00\">AddBackward1</text>\n",
       "</g>\n",
       "<!-- 140251687583528&#45;&gt;140251687581904 -->\n",
       "<g id=\"edge13\" class=\"edge\"><title>140251687583528&#45;&gt;140251687581904</title>\n",
       "<path fill=\"none\" stroke=\"black\" d=\"M349,-691.891C349,-683.366 349,-670.639 349,-659.923\"/>\n",
       "<polygon fill=\"black\" stroke=\"black\" points=\"352.5,-659.745 349,-649.745 345.5,-659.745 352.5,-659.745\"/>\n",
       "</g>\n",
       "<!-- 140251687583640 -->\n",
       "<g id=\"node15\" class=\"node\"><title>140251687583640</title>\n",
       "<polygon fill=\"lightgrey\" stroke=\"black\" points=\"525,-770 379,-770 379,-749 525,-749 525,-770\"/>\n",
       "<text text-anchor=\"middle\" x=\"452\" y=\"-756.4\" font-family=\"Times,serif\" font-size=\"12.00\">ThnnBatchNormBackward</text>\n",
       "</g>\n",
       "<!-- 140251687583640&#45;&gt;140251687583528 -->\n",
       "<g id=\"edge14\" class=\"edge\"><title>140251687583640&#45;&gt;140251687583528</title>\n",
       "<path fill=\"none\" stroke=\"black\" d=\"M434.059,-748.92C418.058,-740.376 394.403,-727.744 376.097,-717.969\"/>\n",
       "<polygon fill=\"black\" stroke=\"black\" points=\"377.551,-714.778 367.081,-713.155 374.254,-720.953 377.551,-714.778\"/>\n",
       "</g>\n",
       "<!-- 140251553192088 -->\n",
       "<g id=\"node16\" class=\"node\"><title>140251553192088</title>\n",
       "<polygon fill=\"lightgrey\" stroke=\"black\" points=\"488,-833.5 356,-833.5 356,-812.5 488,-812.5 488,-833.5\"/>\n",
       "<text text-anchor=\"middle\" x=\"422\" y=\"-819.9\" font-family=\"Times,serif\" font-size=\"12.00\">ThnnConv2DBackward</text>\n",
       "</g>\n",
       "<!-- 140251553192088&#45;&gt;140251687583640 -->\n",
       "<g id=\"edge15\" class=\"edge\"><title>140251553192088&#45;&gt;140251687583640</title>\n",
       "<path fill=\"none\" stroke=\"black\" d=\"M426.688,-812.391C430.977,-803.596 437.448,-790.331 442.773,-779.415\"/>\n",
       "<polygon fill=\"black\" stroke=\"black\" points=\"446.008,-780.767 447.246,-770.245 439.716,-777.698 446.008,-780.767\"/>\n",
       "</g>\n",
       "<!-- 140251553192312 -->\n",
       "<g id=\"node17\" class=\"node\"><title>140251553192312</title>\n",
       "<polygon fill=\"lightgrey\" stroke=\"black\" points=\"481.5,-903.5 362.5,-903.5 362.5,-882.5 481.5,-882.5 481.5,-903.5\"/>\n",
       "<text text-anchor=\"middle\" x=\"422\" y=\"-889.9\" font-family=\"Times,serif\" font-size=\"12.00\">ThresholdBackward1</text>\n",
       "</g>\n",
       "<!-- 140251553192312&#45;&gt;140251553192088 -->\n",
       "<g id=\"edge16\" class=\"edge\"><title>140251553192312&#45;&gt;140251553192088</title>\n",
       "<path fill=\"none\" stroke=\"black\" d=\"M422,-882.257C422,-872.259 422,-856.422 422,-843.782\"/>\n",
       "<polygon fill=\"black\" stroke=\"black\" points=\"425.5,-843.725 422,-833.725 418.5,-843.725 425.5,-843.725\"/>\n",
       "</g>\n",
       "<!-- 140251553191864 -->\n",
       "<g id=\"node18\" class=\"node\"><title>140251553191864</title>\n",
       "<polygon fill=\"lightgrey\" stroke=\"black\" points=\"564,-967 418,-967 418,-946 564,-946 564,-967\"/>\n",
       "<text text-anchor=\"middle\" x=\"491\" y=\"-953.4\" font-family=\"Times,serif\" font-size=\"12.00\">ThnnBatchNormBackward</text>\n",
       "</g>\n",
       "<!-- 140251553191864&#45;&gt;140251553192312 -->\n",
       "<g id=\"edge17\" class=\"edge\"><title>140251553191864&#45;&gt;140251553192312</title>\n",
       "<path fill=\"none\" stroke=\"black\" d=\"M480.219,-945.891C469.647,-936.468 453.317,-921.913 440.64,-910.614\"/>\n",
       "<polygon fill=\"black\" stroke=\"black\" points=\"442.727,-907.786 432.933,-903.745 438.07,-913.011 442.727,-907.786\"/>\n",
       "</g>\n",
       "<!-- 140251553191976 -->\n",
       "<g id=\"node19\" class=\"node\"><title>140251553191976</title>\n",
       "<polygon fill=\"lightgrey\" stroke=\"black\" points=\"502,-1030.5 370,-1030.5 370,-1009.5 502,-1009.5 502,-1030.5\"/>\n",
       "<text text-anchor=\"middle\" x=\"436\" y=\"-1016.9\" font-family=\"Times,serif\" font-size=\"12.00\">ThnnConv2DBackward</text>\n",
       "</g>\n",
       "<!-- 140251553191976&#45;&gt;140251553191864 -->\n",
       "<g id=\"edge18\" class=\"edge\"><title>140251553191976&#45;&gt;140251553191864</title>\n",
       "<path fill=\"none\" stroke=\"black\" d=\"M444.594,-1009.39C452.86,-1000.15 465.543,-985.966 475.562,-974.763\"/>\n",
       "<polygon fill=\"black\" stroke=\"black\" points=\"478.228,-977.032 482.285,-967.245 473.01,-972.366 478.228,-977.032\"/>\n",
       "</g>\n",
       "<!-- 140251553192872 -->\n",
       "<g id=\"node20\" class=\"node\"><title>140251553192872</title>\n",
       "<polygon fill=\"lightgrey\" stroke=\"black\" points=\"420.5,-1100.5 301.5,-1100.5 301.5,-1079.5 420.5,-1079.5 420.5,-1100.5\"/>\n",
       "<text text-anchor=\"middle\" x=\"361\" y=\"-1086.9\" font-family=\"Times,serif\" font-size=\"12.00\">ThresholdBackward1</text>\n",
       "</g>\n",
       "<!-- 140251553192872&#45;&gt;140251553191976 -->\n",
       "<g id=\"edge19\" class=\"edge\"><title>140251553192872&#45;&gt;140251553191976</title>\n",
       "<path fill=\"none\" stroke=\"black\" d=\"M371.746,-1079.26C383.664,-1068.45 403.106,-1050.82 417.487,-1037.79\"/>\n",
       "<polygon fill=\"black\" stroke=\"black\" points=\"420.217,-1040.03 425.274,-1030.72 415.515,-1034.85 420.217,-1040.03\"/>\n",
       "</g>\n",
       "<!-- 140251553192536 -->\n",
       "<g id=\"node122\" class=\"node\"><title>140251553192536</title>\n",
       "<polygon fill=\"lightgrey\" stroke=\"black\" points=\"352,-1030.5 220,-1030.5 220,-1009.5 352,-1009.5 352,-1030.5\"/>\n",
       "<text text-anchor=\"middle\" x=\"286\" y=\"-1016.9\" font-family=\"Times,serif\" font-size=\"12.00\">ThnnConv2DBackward</text>\n",
       "</g>\n",
       "<!-- 140251553192872&#45;&gt;140251553192536 -->\n",
       "<g id=\"edge128\" class=\"edge\"><title>140251553192872&#45;&gt;140251553192536</title>\n",
       "<path fill=\"none\" stroke=\"black\" d=\"M350.254,-1079.26C338.336,-1068.45 318.894,-1050.82 304.513,-1037.79\"/>\n",
       "<polygon fill=\"black\" stroke=\"black\" points=\"306.485,-1034.85 296.726,-1030.72 301.783,-1040.03 306.485,-1034.85\"/>\n",
       "</g>\n",
       "<!-- 140251553193208 -->\n",
       "<g id=\"node21\" class=\"node\"><title>140251553193208</title>\n",
       "<polygon fill=\"lightgrey\" stroke=\"black\" points=\"407,-1164 315,-1164 315,-1143 407,-1143 407,-1164\"/>\n",
       "<text text-anchor=\"middle\" x=\"361\" y=\"-1150.4\" font-family=\"Times,serif\" font-size=\"12.00\">AddBackward1</text>\n",
       "</g>\n",
       "<!-- 140251553193208&#45;&gt;140251553192872 -->\n",
       "<g id=\"edge20\" class=\"edge\"><title>140251553193208&#45;&gt;140251553192872</title>\n",
       "<path fill=\"none\" stroke=\"black\" d=\"M361,-1142.89C361,-1134.37 361,-1121.64 361,-1110.92\"/>\n",
       "<polygon fill=\"black\" stroke=\"black\" points=\"364.5,-1110.74 361,-1100.74 357.5,-1110.74 364.5,-1110.74\"/>\n",
       "</g>\n",
       "<!-- 140251553193768 -->\n",
       "<g id=\"node22\" class=\"node\"><title>140251553193768</title>\n",
       "<polygon fill=\"lightgrey\" stroke=\"black\" points=\"537,-1221 391,-1221 391,-1200 537,-1200 537,-1221\"/>\n",
       "<text text-anchor=\"middle\" x=\"464\" y=\"-1207.4\" font-family=\"Times,serif\" font-size=\"12.00\">ThnnBatchNormBackward</text>\n",
       "</g>\n",
       "<!-- 140251553193768&#45;&gt;140251553193208 -->\n",
       "<g id=\"edge21\" class=\"edge\"><title>140251553193768&#45;&gt;140251553193208</title>\n",
       "<path fill=\"none\" stroke=\"black\" d=\"M446.059,-1199.92C430.058,-1191.38 406.403,-1178.74 388.097,-1168.97\"/>\n",
       "<polygon fill=\"black\" stroke=\"black\" points=\"389.551,-1165.78 379.081,-1164.16 386.254,-1171.95 389.551,-1165.78\"/>\n",
       "</g>\n",
       "<!-- 140251553190632 -->\n",
       "<g id=\"node23\" class=\"node\"><title>140251553190632</title>\n",
       "<polygon fill=\"lightgrey\" stroke=\"black\" points=\"474,-1284.5 342,-1284.5 342,-1263.5 474,-1263.5 474,-1284.5\"/>\n",
       "<text text-anchor=\"middle\" x=\"408\" y=\"-1270.9\" font-family=\"Times,serif\" font-size=\"12.00\">ThnnConv2DBackward</text>\n",
       "</g>\n",
       "<!-- 140251553190632&#45;&gt;140251553193768 -->\n",
       "<g id=\"edge22\" class=\"edge\"><title>140251553190632&#45;&gt;140251553193768</title>\n",
       "<path fill=\"none\" stroke=\"black\" d=\"M416.75,-1263.39C425.166,-1254.15 438.08,-1239.97 448.281,-1228.76\"/>\n",
       "<polygon fill=\"black\" stroke=\"black\" points=\"450.982,-1231 455.127,-1221.24 445.806,-1226.28 450.982,-1231\"/>\n",
       "</g>\n",
       "<!-- 140251553191304 -->\n",
       "<g id=\"node24\" class=\"node\"><title>140251553191304</title>\n",
       "<polygon fill=\"lightgrey\" stroke=\"black\" points=\"467.5,-1354.5 348.5,-1354.5 348.5,-1333.5 467.5,-1333.5 467.5,-1354.5\"/>\n",
       "<text text-anchor=\"middle\" x=\"408\" y=\"-1340.9\" font-family=\"Times,serif\" font-size=\"12.00\">ThresholdBackward1</text>\n",
       "</g>\n",
       "<!-- 140251553191304&#45;&gt;140251553190632 -->\n",
       "<g id=\"edge23\" class=\"edge\"><title>140251553191304&#45;&gt;140251553190632</title>\n",
       "<path fill=\"none\" stroke=\"black\" d=\"M408,-1333.26C408,-1323.26 408,-1307.42 408,-1294.78\"/>\n",
       "<polygon fill=\"black\" stroke=\"black\" points=\"411.5,-1294.72 408,-1284.72 404.5,-1294.72 411.5,-1294.72\"/>\n",
       "</g>\n",
       "<!-- 140251553189960 -->\n",
       "<g id=\"node25\" class=\"node\"><title>140251553189960</title>\n",
       "<polygon fill=\"lightgrey\" stroke=\"black\" points=\"537,-1418 391,-1418 391,-1397 537,-1397 537,-1418\"/>\n",
       "<text text-anchor=\"middle\" x=\"464\" y=\"-1404.4\" font-family=\"Times,serif\" font-size=\"12.00\">ThnnBatchNormBackward</text>\n",
       "</g>\n",
       "<!-- 140251553189960&#45;&gt;140251553191304 -->\n",
       "<g id=\"edge24\" class=\"edge\"><title>140251553189960&#45;&gt;140251553191304</title>\n",
       "<path fill=\"none\" stroke=\"black\" d=\"M455.25,-1396.89C446.834,-1387.65 433.92,-1373.47 423.719,-1362.26\"/>\n",
       "<polygon fill=\"black\" stroke=\"black\" points=\"426.194,-1359.78 416.873,-1354.74 421.018,-1364.5 426.194,-1359.78\"/>\n",
       "</g>\n",
       "<!-- 140251553190856 -->\n",
       "<g id=\"node26\" class=\"node\"><title>140251553190856</title>\n",
       "<polygon fill=\"lightgrey\" stroke=\"black\" points=\"471,-1481.5 339,-1481.5 339,-1460.5 471,-1460.5 471,-1481.5\"/>\n",
       "<text text-anchor=\"middle\" x=\"405\" y=\"-1467.9\" font-family=\"Times,serif\" font-size=\"12.00\">ThnnConv2DBackward</text>\n",
       "</g>\n",
       "<!-- 140251553190856&#45;&gt;140251553189960 -->\n",
       "<g id=\"edge25\" class=\"edge\"><title>140251553190856&#45;&gt;140251553189960</title>\n",
       "<path fill=\"none\" stroke=\"black\" d=\"M414.219,-1460.39C423.086,-1451.15 436.691,-1436.97 447.439,-1425.76\"/>\n",
       "<polygon fill=\"black\" stroke=\"black\" points=\"450.254,-1427.88 454.651,-1418.24 445.203,-1423.04 450.254,-1427.88\"/>\n",
       "</g>\n",
       "<!-- 140251553193432 -->\n",
       "<g id=\"node27\" class=\"node\"><title>140251553193432</title>\n",
       "<polygon fill=\"lightgrey\" stroke=\"black\" points=\"370.5,-1551.5 251.5,-1551.5 251.5,-1530.5 370.5,-1530.5 370.5,-1551.5\"/>\n",
       "<text text-anchor=\"middle\" x=\"311\" y=\"-1537.9\" font-family=\"Times,serif\" font-size=\"12.00\">ThresholdBackward1</text>\n",
       "</g>\n",
       "<!-- 140251553193432&#45;&gt;140251553193208 -->\n",
       "<g id=\"edge119\" class=\"edge\"><title>140251553193432&#45;&gt;140251553193208</title>\n",
       "<path fill=\"none\" stroke=\"black\" d=\"M311,-1530.43C311,-1508.74 311,-1454.16 311,-1408.5 311,-1408.5 311,-1408.5 311,-1273 311,-1234.9 333.211,-1194.95 348.026,-1172.54\"/>\n",
       "<polygon fill=\"black\" stroke=\"black\" points=\"351.068,-1174.29 353.836,-1164.06 345.295,-1170.33 351.068,-1174.29\"/>\n",
       "</g>\n",
       "<!-- 140251553193432&#45;&gt;140251553190856 -->\n",
       "<g id=\"edge26\" class=\"edge\"><title>140251553193432&#45;&gt;140251553190856</title>\n",
       "<path fill=\"none\" stroke=\"black\" d=\"M324.468,-1530.26C339.912,-1519.09 365.434,-1500.62 383.606,-1487.48\"/>\n",
       "<polygon fill=\"black\" stroke=\"black\" points=\"385.809,-1490.2 391.86,-1481.51 381.706,-1484.53 385.809,-1490.2\"/>\n",
       "</g>\n",
       "<!-- 140251553210152 -->\n",
       "<g id=\"node28\" class=\"node\"><title>140251553210152</title>\n",
       "<polygon fill=\"lightgrey\" stroke=\"black\" points=\"357,-1615 265,-1615 265,-1594 357,-1594 357,-1615\"/>\n",
       "<text text-anchor=\"middle\" x=\"311\" y=\"-1601.4\" font-family=\"Times,serif\" font-size=\"12.00\">AddBackward1</text>\n",
       "</g>\n",
       "<!-- 140251553210152&#45;&gt;140251553193432 -->\n",
       "<g id=\"edge27\" class=\"edge\"><title>140251553210152&#45;&gt;140251553193432</title>\n",
       "<path fill=\"none\" stroke=\"black\" d=\"M311,-1593.89C311,-1585.37 311,-1572.64 311,-1561.92\"/>\n",
       "<polygon fill=\"black\" stroke=\"black\" points=\"314.5,-1561.74 311,-1551.74 307.5,-1561.74 314.5,-1561.74\"/>\n",
       "</g>\n",
       "<!-- 140251553207128 -->\n",
       "<g id=\"node29\" class=\"node\"><title>140251553207128</title>\n",
       "<polygon fill=\"lightgrey\" stroke=\"black\" points=\"487,-1672 341,-1672 341,-1651 487,-1651 487,-1672\"/>\n",
       "<text text-anchor=\"middle\" x=\"414\" y=\"-1658.4\" font-family=\"Times,serif\" font-size=\"12.00\">ThnnBatchNormBackward</text>\n",
       "</g>\n",
       "<!-- 140251553207128&#45;&gt;140251553210152 -->\n",
       "<g id=\"edge28\" class=\"edge\"><title>140251553207128&#45;&gt;140251553210152</title>\n",
       "<path fill=\"none\" stroke=\"black\" d=\"M396.059,-1650.92C380.058,-1642.38 356.403,-1629.74 338.097,-1619.97\"/>\n",
       "<polygon fill=\"black\" stroke=\"black\" points=\"339.551,-1616.78 329.081,-1615.16 336.254,-1622.95 339.551,-1616.78\"/>\n",
       "</g>\n",
       "<!-- 140251553207576 -->\n",
       "<g id=\"node30\" class=\"node\"><title>140251553207576</title>\n",
       "<polygon fill=\"lightgrey\" stroke=\"black\" points=\"450,-1735.5 318,-1735.5 318,-1714.5 450,-1714.5 450,-1735.5\"/>\n",
       "<text text-anchor=\"middle\" x=\"384\" y=\"-1721.9\" font-family=\"Times,serif\" font-size=\"12.00\">ThnnConv2DBackward</text>\n",
       "</g>\n",
       "<!-- 140251553207576&#45;&gt;140251553207128 -->\n",
       "<g id=\"edge29\" class=\"edge\"><title>140251553207576&#45;&gt;140251553207128</title>\n",
       "<path fill=\"none\" stroke=\"black\" d=\"M388.688,-1714.39C392.977,-1705.6 399.448,-1692.33 404.773,-1681.41\"/>\n",
       "<polygon fill=\"black\" stroke=\"black\" points=\"408.008,-1682.77 409.246,-1672.24 401.716,-1679.7 408.008,-1682.77\"/>\n",
       "</g>\n",
       "<!-- 140251553206456 -->\n",
       "<g id=\"node31\" class=\"node\"><title>140251553206456</title>\n",
       "<polygon fill=\"lightgrey\" stroke=\"black\" points=\"443.5,-1805.5 324.5,-1805.5 324.5,-1784.5 443.5,-1784.5 443.5,-1805.5\"/>\n",
       "<text text-anchor=\"middle\" x=\"384\" y=\"-1791.9\" font-family=\"Times,serif\" font-size=\"12.00\">ThresholdBackward1</text>\n",
       "</g>\n",
       "<!-- 140251553206456&#45;&gt;140251553207576 -->\n",
       "<g id=\"edge30\" class=\"edge\"><title>140251553206456&#45;&gt;140251553207576</title>\n",
       "<path fill=\"none\" stroke=\"black\" d=\"M384,-1784.26C384,-1774.26 384,-1758.42 384,-1745.78\"/>\n",
       "<polygon fill=\"black\" stroke=\"black\" points=\"387.5,-1745.72 384,-1735.72 380.5,-1745.72 387.5,-1745.72\"/>\n",
       "</g>\n",
       "<!-- 140251553204152 -->\n",
       "<g id=\"node32\" class=\"node\"><title>140251553204152</title>\n",
       "<polygon fill=\"lightgrey\" stroke=\"black\" points=\"526,-1869 380,-1869 380,-1848 526,-1848 526,-1869\"/>\n",
       "<text text-anchor=\"middle\" x=\"453\" y=\"-1855.4\" font-family=\"Times,serif\" font-size=\"12.00\">ThnnBatchNormBackward</text>\n",
       "</g>\n",
       "<!-- 140251553204152&#45;&gt;140251553206456 -->\n",
       "<g id=\"edge31\" class=\"edge\"><title>140251553204152&#45;&gt;140251553206456</title>\n",
       "<path fill=\"none\" stroke=\"black\" d=\"M442.219,-1847.89C431.647,-1838.47 415.317,-1823.91 402.64,-1812.61\"/>\n",
       "<polygon fill=\"black\" stroke=\"black\" points=\"404.727,-1809.79 394.933,-1805.74 400.07,-1815.01 404.727,-1809.79\"/>\n",
       "</g>\n",
       "<!-- 140251553204600 -->\n",
       "<g id=\"node33\" class=\"node\"><title>140251553204600</title>\n",
       "<polygon fill=\"lightgrey\" stroke=\"black\" points=\"464,-1932.5 332,-1932.5 332,-1911.5 464,-1911.5 464,-1932.5\"/>\n",
       "<text text-anchor=\"middle\" x=\"398\" y=\"-1918.9\" font-family=\"Times,serif\" font-size=\"12.00\">ThnnConv2DBackward</text>\n",
       "</g>\n",
       "<!-- 140251553204600&#45;&gt;140251553204152 -->\n",
       "<g id=\"edge32\" class=\"edge\"><title>140251553204600&#45;&gt;140251553204152</title>\n",
       "<path fill=\"none\" stroke=\"black\" d=\"M406.594,-1911.39C414.86,-1902.15 427.543,-1887.97 437.562,-1876.76\"/>\n",
       "<polygon fill=\"black\" stroke=\"black\" points=\"440.228,-1879.03 444.285,-1869.24 435.01,-1874.37 440.228,-1879.03\"/>\n",
       "</g>\n",
       "<!-- 140251553204936 -->\n",
       "<g id=\"node34\" class=\"node\"><title>140251553204936</title>\n",
       "<polygon fill=\"lightgrey\" stroke=\"black\" points=\"382.5,-2002.5 263.5,-2002.5 263.5,-1981.5 382.5,-1981.5 382.5,-2002.5\"/>\n",
       "<text text-anchor=\"middle\" x=\"323\" y=\"-1988.9\" font-family=\"Times,serif\" font-size=\"12.00\">ThresholdBackward1</text>\n",
       "</g>\n",
       "<!-- 140251553204936&#45;&gt;140251553204600 -->\n",
       "<g id=\"edge33\" class=\"edge\"><title>140251553204936&#45;&gt;140251553204600</title>\n",
       "<path fill=\"none\" stroke=\"black\" d=\"M333.746,-1981.26C345.664,-1970.45 365.106,-1952.82 379.487,-1939.79\"/>\n",
       "<polygon fill=\"black\" stroke=\"black\" points=\"382.217,-1942.03 387.274,-1932.72 377.515,-1936.85 382.217,-1942.03\"/>\n",
       "</g>\n",
       "<!-- 140251553206344 -->\n",
       "<g id=\"node105\" class=\"node\"><title>140251553206344</title>\n",
       "<polygon fill=\"lightgrey\" stroke=\"black\" points=\"314,-1932.5 182,-1932.5 182,-1911.5 314,-1911.5 314,-1932.5\"/>\n",
       "<text text-anchor=\"middle\" x=\"248\" y=\"-1918.9\" font-family=\"Times,serif\" font-size=\"12.00\">ThnnConv2DBackward</text>\n",
       "</g>\n",
       "<!-- 140251553204936&#45;&gt;140251553206344 -->\n",
       "<g id=\"edge109\" class=\"edge\"><title>140251553204936&#45;&gt;140251553206344</title>\n",
       "<path fill=\"none\" stroke=\"black\" d=\"M312.254,-1981.26C300.336,-1970.45 280.894,-1952.82 266.513,-1939.79\"/>\n",
       "<polygon fill=\"black\" stroke=\"black\" points=\"268.485,-1936.85 258.726,-1932.72 263.783,-1942.03 268.485,-1936.85\"/>\n",
       "</g>\n",
       "<!-- 140251553205160 -->\n",
       "<g id=\"node35\" class=\"node\"><title>140251553205160</title>\n",
       "<polygon fill=\"lightgrey\" stroke=\"black\" points=\"369,-2066 277,-2066 277,-2045 369,-2045 369,-2066\"/>\n",
       "<text text-anchor=\"middle\" x=\"323\" y=\"-2052.4\" font-family=\"Times,serif\" font-size=\"12.00\">AddBackward1</text>\n",
       "</g>\n",
       "<!-- 140251553205160&#45;&gt;140251553204936 -->\n",
       "<g id=\"edge34\" class=\"edge\"><title>140251553205160&#45;&gt;140251553204936</title>\n",
       "<path fill=\"none\" stroke=\"black\" d=\"M323,-2044.89C323,-2036.37 323,-2023.64 323,-2012.92\"/>\n",
       "<polygon fill=\"black\" stroke=\"black\" points=\"326.5,-2012.74 323,-2002.74 319.5,-2012.74 326.5,-2012.74\"/>\n",
       "</g>\n",
       "<!-- 140251553203928 -->\n",
       "<g id=\"node36\" class=\"node\"><title>140251553203928</title>\n",
       "<polygon fill=\"lightgrey\" stroke=\"black\" points=\"499,-2123 353,-2123 353,-2102 499,-2102 499,-2123\"/>\n",
       "<text text-anchor=\"middle\" x=\"426\" y=\"-2109.4\" font-family=\"Times,serif\" font-size=\"12.00\">ThnnBatchNormBackward</text>\n",
       "</g>\n",
       "<!-- 140251553203928&#45;&gt;140251553205160 -->\n",
       "<g id=\"edge35\" class=\"edge\"><title>140251553203928&#45;&gt;140251553205160</title>\n",
       "<path fill=\"none\" stroke=\"black\" d=\"M408.059,-2101.92C392.058,-2093.38 368.403,-2080.74 350.097,-2070.97\"/>\n",
       "<polygon fill=\"black\" stroke=\"black\" points=\"351.551,-2067.78 341.081,-2066.16 348.254,-2073.95 351.551,-2067.78\"/>\n",
       "</g>\n",
       "<!-- 140251553202360 -->\n",
       "<g id=\"node37\" class=\"node\"><title>140251553202360</title>\n",
       "<polygon fill=\"lightgrey\" stroke=\"black\" points=\"436,-2186.5 304,-2186.5 304,-2165.5 436,-2165.5 436,-2186.5\"/>\n",
       "<text text-anchor=\"middle\" x=\"370\" y=\"-2172.9\" font-family=\"Times,serif\" font-size=\"12.00\">ThnnConv2DBackward</text>\n",
       "</g>\n",
       "<!-- 140251553202360&#45;&gt;140251553203928 -->\n",
       "<g id=\"edge36\" class=\"edge\"><title>140251553202360&#45;&gt;140251553203928</title>\n",
       "<path fill=\"none\" stroke=\"black\" d=\"M378.75,-2165.39C387.166,-2156.15 400.08,-2141.97 410.281,-2130.76\"/>\n",
       "<polygon fill=\"black\" stroke=\"black\" points=\"412.982,-2133 417.127,-2123.24 407.806,-2128.28 412.982,-2133\"/>\n",
       "</g>\n",
       "<!-- 140251553203256 -->\n",
       "<g id=\"node38\" class=\"node\"><title>140251553203256</title>\n",
       "<polygon fill=\"lightgrey\" stroke=\"black\" points=\"429.5,-2256.5 310.5,-2256.5 310.5,-2235.5 429.5,-2235.5 429.5,-2256.5\"/>\n",
       "<text text-anchor=\"middle\" x=\"370\" y=\"-2242.9\" font-family=\"Times,serif\" font-size=\"12.00\">ThresholdBackward1</text>\n",
       "</g>\n",
       "<!-- 140251553203256&#45;&gt;140251553202360 -->\n",
       "<g id=\"edge37\" class=\"edge\"><title>140251553203256&#45;&gt;140251553202360</title>\n",
       "<path fill=\"none\" stroke=\"black\" d=\"M370,-2235.26C370,-2225.26 370,-2209.42 370,-2196.78\"/>\n",
       "<polygon fill=\"black\" stroke=\"black\" points=\"373.5,-2196.72 370,-2186.72 366.5,-2196.72 373.5,-2196.72\"/>\n",
       "</g>\n",
       "<!-- 140251553203368 -->\n",
       "<g id=\"node39\" class=\"node\"><title>140251553203368</title>\n",
       "<polygon fill=\"lightgrey\" stroke=\"black\" points=\"499,-2320 353,-2320 353,-2299 499,-2299 499,-2320\"/>\n",
       "<text text-anchor=\"middle\" x=\"426\" y=\"-2306.4\" font-family=\"Times,serif\" font-size=\"12.00\">ThnnBatchNormBackward</text>\n",
       "</g>\n",
       "<!-- 140251553203368&#45;&gt;140251553203256 -->\n",
       "<g id=\"edge38\" class=\"edge\"><title>140251553203368&#45;&gt;140251553203256</title>\n",
       "<path fill=\"none\" stroke=\"black\" d=\"M417.25,-2298.89C408.834,-2289.65 395.92,-2275.47 385.719,-2264.26\"/>\n",
       "<polygon fill=\"black\" stroke=\"black\" points=\"388.194,-2261.78 378.873,-2256.74 383.018,-2266.5 388.194,-2261.78\"/>\n",
       "</g>\n",
       "<!-- 140251553202696 -->\n",
       "<g id=\"node40\" class=\"node\"><title>140251553202696</title>\n",
       "<polygon fill=\"lightgrey\" stroke=\"black\" points=\"433,-2383.5 301,-2383.5 301,-2362.5 433,-2362.5 433,-2383.5\"/>\n",
       "<text text-anchor=\"middle\" x=\"367\" y=\"-2369.9\" font-family=\"Times,serif\" font-size=\"12.00\">ThnnConv2DBackward</text>\n",
       "</g>\n",
       "<!-- 140251553202696&#45;&gt;140251553203368 -->\n",
       "<g id=\"edge39\" class=\"edge\"><title>140251553202696&#45;&gt;140251553203368</title>\n",
       "<path fill=\"none\" stroke=\"black\" d=\"M376.219,-2362.39C385.086,-2353.15 398.691,-2338.97 409.439,-2327.76\"/>\n",
       "<polygon fill=\"black\" stroke=\"black\" points=\"412.254,-2329.88 416.651,-2320.24 407.203,-2325.04 412.254,-2329.88\"/>\n",
       "</g>\n",
       "<!-- 140251553204040 -->\n",
       "<g id=\"node41\" class=\"node\"><title>140251553204040</title>\n",
       "<polygon fill=\"lightgrey\" stroke=\"black\" points=\"332.5,-2453.5 213.5,-2453.5 213.5,-2432.5 332.5,-2432.5 332.5,-2453.5\"/>\n",
       "<text text-anchor=\"middle\" x=\"273\" y=\"-2439.9\" font-family=\"Times,serif\" font-size=\"12.00\">ThresholdBackward1</text>\n",
       "</g>\n",
       "<!-- 140251553204040&#45;&gt;140251553205160 -->\n",
       "<g id=\"edge100\" class=\"edge\"><title>140251553204040&#45;&gt;140251553205160</title>\n",
       "<path fill=\"none\" stroke=\"black\" d=\"M273,-2432.43C273,-2410.74 273,-2356.16 273,-2310.5 273,-2310.5 273,-2310.5 273,-2175 273,-2136.9 295.211,-2096.95 310.026,-2074.54\"/>\n",
       "<polygon fill=\"black\" stroke=\"black\" points=\"313.068,-2076.29 315.836,-2066.06 307.295,-2072.33 313.068,-2076.29\"/>\n",
       "</g>\n",
       "<!-- 140251553204040&#45;&gt;140251553202696 -->\n",
       "<g id=\"edge40\" class=\"edge\"><title>140251553204040&#45;&gt;140251553202696</title>\n",
       "<path fill=\"none\" stroke=\"black\" d=\"M286.468,-2432.26C301.912,-2421.09 327.434,-2402.62 345.606,-2389.48\"/>\n",
       "<polygon fill=\"black\" stroke=\"black\" points=\"347.809,-2392.2 353.86,-2383.51 343.706,-2386.53 347.809,-2392.2\"/>\n",
       "</g>\n",
       "<!-- 140251553205608 -->\n",
       "<g id=\"node42\" class=\"node\"><title>140251553205608</title>\n",
       "<polygon fill=\"lightgrey\" stroke=\"black\" points=\"319,-2517 227,-2517 227,-2496 319,-2496 319,-2517\"/>\n",
       "<text text-anchor=\"middle\" x=\"273\" y=\"-2503.4\" font-family=\"Times,serif\" font-size=\"12.00\">AddBackward1</text>\n",
       "</g>\n",
       "<!-- 140251553205608&#45;&gt;140251553204040 -->\n",
       "<g id=\"edge41\" class=\"edge\"><title>140251553205608&#45;&gt;140251553204040</title>\n",
       "<path fill=\"none\" stroke=\"black\" d=\"M273,-2495.89C273,-2487.37 273,-2474.64 273,-2463.92\"/>\n",
       "<polygon fill=\"black\" stroke=\"black\" points=\"276.5,-2463.74 273,-2453.74 269.5,-2463.74 276.5,-2463.74\"/>\n",
       "</g>\n",
       "<!-- 140251553205944 -->\n",
       "<g id=\"node43\" class=\"node\"><title>140251553205944</title>\n",
       "<polygon fill=\"lightgrey\" stroke=\"black\" points=\"449,-2574 303,-2574 303,-2553 449,-2553 449,-2574\"/>\n",
       "<text text-anchor=\"middle\" x=\"376\" y=\"-2560.4\" font-family=\"Times,serif\" font-size=\"12.00\">ThnnBatchNormBackward</text>\n",
       "</g>\n",
       "<!-- 140251553205944&#45;&gt;140251553205608 -->\n",
       "<g id=\"edge42\" class=\"edge\"><title>140251553205944&#45;&gt;140251553205608</title>\n",
       "<path fill=\"none\" stroke=\"black\" d=\"M358.059,-2552.92C342.058,-2544.38 318.403,-2531.74 300.097,-2521.97\"/>\n",
       "<polygon fill=\"black\" stroke=\"black\" points=\"301.551,-2518.78 291.081,-2517.16 298.254,-2524.95 301.551,-2518.78\"/>\n",
       "</g>\n",
       "<!-- 140252224801872 -->\n",
       "<g id=\"node44\" class=\"node\"><title>140252224801872</title>\n",
       "<polygon fill=\"lightgrey\" stroke=\"black\" points=\"412,-2637.5 280,-2637.5 280,-2616.5 412,-2616.5 412,-2637.5\"/>\n",
       "<text text-anchor=\"middle\" x=\"346\" y=\"-2623.9\" font-family=\"Times,serif\" font-size=\"12.00\">ThnnConv2DBackward</text>\n",
       "</g>\n",
       "<!-- 140252224801872&#45;&gt;140251553205944 -->\n",
       "<g id=\"edge43\" class=\"edge\"><title>140252224801872&#45;&gt;140251553205944</title>\n",
       "<path fill=\"none\" stroke=\"black\" d=\"M350.688,-2616.39C354.977,-2607.6 361.448,-2594.33 366.773,-2583.41\"/>\n",
       "<polygon fill=\"black\" stroke=\"black\" points=\"370.008,-2584.77 371.246,-2574.24 363.716,-2581.7 370.008,-2584.77\"/>\n",
       "</g>\n",
       "<!-- 140252224801984 -->\n",
       "<g id=\"node45\" class=\"node\"><title>140252224801984</title>\n",
       "<polygon fill=\"lightgrey\" stroke=\"black\" points=\"405.5,-2707.5 286.5,-2707.5 286.5,-2686.5 405.5,-2686.5 405.5,-2707.5\"/>\n",
       "<text text-anchor=\"middle\" x=\"346\" y=\"-2693.9\" font-family=\"Times,serif\" font-size=\"12.00\">ThresholdBackward1</text>\n",
       "</g>\n",
       "<!-- 140252224801984&#45;&gt;140252224801872 -->\n",
       "<g id=\"edge44\" class=\"edge\"><title>140252224801984&#45;&gt;140252224801872</title>\n",
       "<path fill=\"none\" stroke=\"black\" d=\"M346,-2686.26C346,-2676.26 346,-2660.42 346,-2647.78\"/>\n",
       "<polygon fill=\"black\" stroke=\"black\" points=\"349.5,-2647.72 346,-2637.72 342.5,-2647.72 349.5,-2647.72\"/>\n",
       "</g>\n",
       "<!-- 140252224800584 -->\n",
       "<g id=\"node46\" class=\"node\"><title>140252224800584</title>\n",
       "<polygon fill=\"lightgrey\" stroke=\"black\" points=\"488,-2771 342,-2771 342,-2750 488,-2750 488,-2771\"/>\n",
       "<text text-anchor=\"middle\" x=\"415\" y=\"-2757.4\" font-family=\"Times,serif\" font-size=\"12.00\">ThnnBatchNormBackward</text>\n",
       "</g>\n",
       "<!-- 140252224800584&#45;&gt;140252224801984 -->\n",
       "<g id=\"edge45\" class=\"edge\"><title>140252224800584&#45;&gt;140252224801984</title>\n",
       "<path fill=\"none\" stroke=\"black\" d=\"M404.219,-2749.89C393.647,-2740.47 377.317,-2725.91 364.64,-2714.61\"/>\n",
       "<polygon fill=\"black\" stroke=\"black\" points=\"366.727,-2711.79 356.933,-2707.74 362.07,-2717.01 366.727,-2711.79\"/>\n",
       "</g>\n",
       "<!-- 140252224800808 -->\n",
       "<g id=\"node47\" class=\"node\"><title>140252224800808</title>\n",
       "<polygon fill=\"lightgrey\" stroke=\"black\" points=\"426,-2834.5 294,-2834.5 294,-2813.5 426,-2813.5 426,-2834.5\"/>\n",
       "<text text-anchor=\"middle\" x=\"360\" y=\"-2820.9\" font-family=\"Times,serif\" font-size=\"12.00\">ThnnConv2DBackward</text>\n",
       "</g>\n",
       "<!-- 140252224800808&#45;&gt;140252224800584 -->\n",
       "<g id=\"edge46\" class=\"edge\"><title>140252224800808&#45;&gt;140252224800584</title>\n",
       "<path fill=\"none\" stroke=\"black\" d=\"M368.594,-2813.39C376.86,-2804.15 389.543,-2789.97 399.562,-2778.76\"/>\n",
       "<polygon fill=\"black\" stroke=\"black\" points=\"402.228,-2781.03 406.285,-2771.24 397.01,-2776.37 402.228,-2781.03\"/>\n",
       "</g>\n",
       "<!-- 140252224799856 -->\n",
       "<g id=\"node48\" class=\"node\"><title>140252224799856</title>\n",
       "<polygon fill=\"lightgrey\" stroke=\"black\" points=\"344.5,-2904.5 225.5,-2904.5 225.5,-2883.5 344.5,-2883.5 344.5,-2904.5\"/>\n",
       "<text text-anchor=\"middle\" x=\"285\" y=\"-2890.9\" font-family=\"Times,serif\" font-size=\"12.00\">ThresholdBackward1</text>\n",
       "</g>\n",
       "<!-- 140252224799856&#45;&gt;140252224800808 -->\n",
       "<g id=\"edge47\" class=\"edge\"><title>140252224799856&#45;&gt;140252224800808</title>\n",
       "<path fill=\"none\" stroke=\"black\" d=\"M295.746,-2883.26C307.664,-2872.45 327.106,-2854.82 341.487,-2841.79\"/>\n",
       "<polygon fill=\"black\" stroke=\"black\" points=\"344.217,-2844.03 349.274,-2834.72 339.515,-2838.85 344.217,-2844.03\"/>\n",
       "</g>\n",
       "<!-- 140252224800528 -->\n",
       "<g id=\"node88\" class=\"node\"><title>140252224800528</title>\n",
       "<polygon fill=\"lightgrey\" stroke=\"black\" points=\"276,-2834.5 144,-2834.5 144,-2813.5 276,-2813.5 276,-2834.5\"/>\n",
       "<text text-anchor=\"middle\" x=\"210\" y=\"-2820.9\" font-family=\"Times,serif\" font-size=\"12.00\">ThnnConv2DBackward</text>\n",
       "</g>\n",
       "<!-- 140252224799856&#45;&gt;140252224800528 -->\n",
       "<g id=\"edge90\" class=\"edge\"><title>140252224799856&#45;&gt;140252224800528</title>\n",
       "<path fill=\"none\" stroke=\"black\" d=\"M274.254,-2883.26C262.336,-2872.45 242.894,-2854.82 228.513,-2841.79\"/>\n",
       "<polygon fill=\"black\" stroke=\"black\" points=\"230.485,-2838.85 220.726,-2834.72 225.783,-2844.03 230.485,-2838.85\"/>\n",
       "</g>\n",
       "<!-- 140252224800752 -->\n",
       "<g id=\"node49\" class=\"node\"><title>140252224800752</title>\n",
       "<polygon fill=\"lightgrey\" stroke=\"black\" points=\"331,-2968 239,-2968 239,-2947 331,-2947 331,-2968\"/>\n",
       "<text text-anchor=\"middle\" x=\"285\" y=\"-2954.4\" font-family=\"Times,serif\" font-size=\"12.00\">AddBackward1</text>\n",
       "</g>\n",
       "<!-- 140252224800752&#45;&gt;140252224799856 -->\n",
       "<g id=\"edge48\" class=\"edge\"><title>140252224800752&#45;&gt;140252224799856</title>\n",
       "<path fill=\"none\" stroke=\"black\" d=\"M285,-2946.89C285,-2938.37 285,-2925.64 285,-2914.92\"/>\n",
       "<polygon fill=\"black\" stroke=\"black\" points=\"288.5,-2914.74 285,-2904.74 281.5,-2914.74 288.5,-2914.74\"/>\n",
       "</g>\n",
       "<!-- 140252224801592 -->\n",
       "<g id=\"node50\" class=\"node\"><title>140252224801592</title>\n",
       "<polygon fill=\"lightgrey\" stroke=\"black\" points=\"461,-3025 315,-3025 315,-3004 461,-3004 461,-3025\"/>\n",
       "<text text-anchor=\"middle\" x=\"388\" y=\"-3011.4\" font-family=\"Times,serif\" font-size=\"12.00\">ThnnBatchNormBackward</text>\n",
       "</g>\n",
       "<!-- 140252224801592&#45;&gt;140252224800752 -->\n",
       "<g id=\"edge49\" class=\"edge\"><title>140252224801592&#45;&gt;140252224800752</title>\n",
       "<path fill=\"none\" stroke=\"black\" d=\"M370.059,-3003.92C354.058,-2995.38 330.403,-2982.74 312.097,-2972.97\"/>\n",
       "<polygon fill=\"black\" stroke=\"black\" points=\"313.551,-2969.78 303.081,-2968.16 310.254,-2975.95 313.551,-2969.78\"/>\n",
       "</g>\n",
       "<!-- 140252224801032 -->\n",
       "<g id=\"node51\" class=\"node\"><title>140252224801032</title>\n",
       "<polygon fill=\"lightgrey\" stroke=\"black\" points=\"398,-3088.5 266,-3088.5 266,-3067.5 398,-3067.5 398,-3088.5\"/>\n",
       "<text text-anchor=\"middle\" x=\"332\" y=\"-3074.9\" font-family=\"Times,serif\" font-size=\"12.00\">ThnnConv2DBackward</text>\n",
       "</g>\n",
       "<!-- 140252224801032&#45;&gt;140252224801592 -->\n",
       "<g id=\"edge50\" class=\"edge\"><title>140252224801032&#45;&gt;140252224801592</title>\n",
       "<path fill=\"none\" stroke=\"black\" d=\"M340.75,-3067.39C349.166,-3058.15 362.08,-3043.97 372.281,-3032.76\"/>\n",
       "<polygon fill=\"black\" stroke=\"black\" points=\"374.982,-3035 379.127,-3025.24 369.806,-3030.28 374.982,-3035\"/>\n",
       "</g>\n",
       "<!-- 140251553197640 -->\n",
       "<g id=\"node52\" class=\"node\"><title>140251553197640</title>\n",
       "<polygon fill=\"lightgrey\" stroke=\"black\" points=\"391.5,-3158.5 272.5,-3158.5 272.5,-3137.5 391.5,-3137.5 391.5,-3158.5\"/>\n",
       "<text text-anchor=\"middle\" x=\"332\" y=\"-3144.9\" font-family=\"Times,serif\" font-size=\"12.00\">ThresholdBackward1</text>\n",
       "</g>\n",
       "<!-- 140251553197640&#45;&gt;140252224801032 -->\n",
       "<g id=\"edge51\" class=\"edge\"><title>140251553197640&#45;&gt;140252224801032</title>\n",
       "<path fill=\"none\" stroke=\"black\" d=\"M332,-3137.26C332,-3127.26 332,-3111.42 332,-3098.78\"/>\n",
       "<polygon fill=\"black\" stroke=\"black\" points=\"335.5,-3098.72 332,-3088.72 328.5,-3098.72 335.5,-3098.72\"/>\n",
       "</g>\n",
       "<!-- 140251553197976 -->\n",
       "<g id=\"node53\" class=\"node\"><title>140251553197976</title>\n",
       "<polygon fill=\"lightgrey\" stroke=\"black\" points=\"461,-3222 315,-3222 315,-3201 461,-3201 461,-3222\"/>\n",
       "<text text-anchor=\"middle\" x=\"388\" y=\"-3208.4\" font-family=\"Times,serif\" font-size=\"12.00\">ThnnBatchNormBackward</text>\n",
       "</g>\n",
       "<!-- 140251553197976&#45;&gt;140251553197640 -->\n",
       "<g id=\"edge52\" class=\"edge\"><title>140251553197976&#45;&gt;140251553197640</title>\n",
       "<path fill=\"none\" stroke=\"black\" d=\"M379.25,-3200.89C370.834,-3191.65 357.92,-3177.47 347.719,-3166.26\"/>\n",
       "<polygon fill=\"black\" stroke=\"black\" points=\"350.194,-3163.78 340.873,-3158.74 345.018,-3168.5 350.194,-3163.78\"/>\n",
       "</g>\n",
       "<!-- 140251553196968 -->\n",
       "<g id=\"node54\" class=\"node\"><title>140251553196968</title>\n",
       "<polygon fill=\"lightgrey\" stroke=\"black\" points=\"395,-3285.5 263,-3285.5 263,-3264.5 395,-3264.5 395,-3285.5\"/>\n",
       "<text text-anchor=\"middle\" x=\"329\" y=\"-3271.9\" font-family=\"Times,serif\" font-size=\"12.00\">ThnnConv2DBackward</text>\n",
       "</g>\n",
       "<!-- 140251553196968&#45;&gt;140251553197976 -->\n",
       "<g id=\"edge53\" class=\"edge\"><title>140251553196968&#45;&gt;140251553197976</title>\n",
       "<path fill=\"none\" stroke=\"black\" d=\"M338.219,-3264.39C347.086,-3255.15 360.691,-3240.97 371.439,-3229.76\"/>\n",
       "<polygon fill=\"black\" stroke=\"black\" points=\"374.254,-3231.88 378.651,-3222.24 369.203,-3227.04 374.254,-3231.88\"/>\n",
       "</g>\n",
       "<!-- 140252224800304 -->\n",
       "<g id=\"node55\" class=\"node\"><title>140252224800304</title>\n",
       "<polygon fill=\"lightgrey\" stroke=\"black\" points=\"294.5,-3355.5 175.5,-3355.5 175.5,-3334.5 294.5,-3334.5 294.5,-3355.5\"/>\n",
       "<text text-anchor=\"middle\" x=\"235\" y=\"-3341.9\" font-family=\"Times,serif\" font-size=\"12.00\">ThresholdBackward1</text>\n",
       "</g>\n",
       "<!-- 140252224800304&#45;&gt;140252224800752 -->\n",
       "<g id=\"edge81\" class=\"edge\"><title>140252224800304&#45;&gt;140252224800752</title>\n",
       "<path fill=\"none\" stroke=\"black\" d=\"M235,-3334.43C235,-3312.74 235,-3258.16 235,-3212.5 235,-3212.5 235,-3212.5 235,-3077 235,-3038.9 257.211,-2998.95 272.026,-2976.54\"/>\n",
       "<polygon fill=\"black\" stroke=\"black\" points=\"275.068,-2978.29 277.836,-2968.06 269.295,-2974.33 275.068,-2978.29\"/>\n",
       "</g>\n",
       "<!-- 140252224800304&#45;&gt;140251553196968 -->\n",
       "<g id=\"edge54\" class=\"edge\"><title>140252224800304&#45;&gt;140251553196968</title>\n",
       "<path fill=\"none\" stroke=\"black\" d=\"M248.468,-3334.26C263.912,-3323.09 289.434,-3304.62 307.606,-3291.48\"/>\n",
       "<polygon fill=\"black\" stroke=\"black\" points=\"309.809,-3294.2 315.86,-3285.51 305.706,-3288.53 309.809,-3294.2\"/>\n",
       "</g>\n",
       "<!-- 140251553195288 -->\n",
       "<g id=\"node56\" class=\"node\"><title>140251553195288</title>\n",
       "<polygon fill=\"lightgrey\" stroke=\"black\" points=\"281,-3419 189,-3419 189,-3398 281,-3398 281,-3419\"/>\n",
       "<text text-anchor=\"middle\" x=\"235\" y=\"-3405.4\" font-family=\"Times,serif\" font-size=\"12.00\">AddBackward1</text>\n",
       "</g>\n",
       "<!-- 140251553195288&#45;&gt;140252224800304 -->\n",
       "<g id=\"edge55\" class=\"edge\"><title>140251553195288&#45;&gt;140252224800304</title>\n",
       "<path fill=\"none\" stroke=\"black\" d=\"M235,-3397.89C235,-3389.37 235,-3376.64 235,-3365.92\"/>\n",
       "<polygon fill=\"black\" stroke=\"black\" points=\"238.5,-3365.74 235,-3355.74 231.5,-3365.74 238.5,-3365.74\"/>\n",
       "</g>\n",
       "<!-- 140251553195512 -->\n",
       "<g id=\"node57\" class=\"node\"><title>140251553195512</title>\n",
       "<polygon fill=\"lightgrey\" stroke=\"black\" points=\"411,-3476 265,-3476 265,-3455 411,-3455 411,-3476\"/>\n",
       "<text text-anchor=\"middle\" x=\"338\" y=\"-3462.4\" font-family=\"Times,serif\" font-size=\"12.00\">ThnnBatchNormBackward</text>\n",
       "</g>\n",
       "<!-- 140251553195512&#45;&gt;140251553195288 -->\n",
       "<g id=\"edge56\" class=\"edge\"><title>140251553195512&#45;&gt;140251553195288</title>\n",
       "<path fill=\"none\" stroke=\"black\" d=\"M320.059,-3454.92C304.058,-3446.38 280.403,-3433.74 262.097,-3423.97\"/>\n",
       "<polygon fill=\"black\" stroke=\"black\" points=\"263.551,-3420.78 253.081,-3419.16 260.254,-3426.95 263.551,-3420.78\"/>\n",
       "</g>\n",
       "<!-- 140251553196184 -->\n",
       "<g id=\"node58\" class=\"node\"><title>140251553196184</title>\n",
       "<polygon fill=\"lightgrey\" stroke=\"black\" points=\"348,-3539.5 216,-3539.5 216,-3518.5 348,-3518.5 348,-3539.5\"/>\n",
       "<text text-anchor=\"middle\" x=\"282\" y=\"-3525.9\" font-family=\"Times,serif\" font-size=\"12.00\">ThnnConv2DBackward</text>\n",
       "</g>\n",
       "<!-- 140251553196184&#45;&gt;140251553195512 -->\n",
       "<g id=\"edge57\" class=\"edge\"><title>140251553196184&#45;&gt;140251553195512</title>\n",
       "<path fill=\"none\" stroke=\"black\" d=\"M290.75,-3518.39C299.166,-3509.15 312.08,-3494.97 322.281,-3483.76\"/>\n",
       "<polygon fill=\"black\" stroke=\"black\" points=\"324.982,-3486 329.127,-3476.24 319.806,-3481.28 324.982,-3486\"/>\n",
       "</g>\n",
       "<!-- 140251553195064 -->\n",
       "<g id=\"node59\" class=\"node\"><title>140251553195064</title>\n",
       "<polygon fill=\"lightgrey\" stroke=\"black\" points=\"341.5,-3609.5 222.5,-3609.5 222.5,-3588.5 341.5,-3588.5 341.5,-3609.5\"/>\n",
       "<text text-anchor=\"middle\" x=\"282\" y=\"-3595.9\" font-family=\"Times,serif\" font-size=\"12.00\">ThresholdBackward1</text>\n",
       "</g>\n",
       "<!-- 140251553195064&#45;&gt;140251553196184 -->\n",
       "<g id=\"edge58\" class=\"edge\"><title>140251553195064&#45;&gt;140251553196184</title>\n",
       "<path fill=\"none\" stroke=\"black\" d=\"M282,-3588.26C282,-3578.26 282,-3562.42 282,-3549.78\"/>\n",
       "<polygon fill=\"black\" stroke=\"black\" points=\"285.5,-3549.72 282,-3539.72 278.5,-3549.72 285.5,-3549.72\"/>\n",
       "</g>\n",
       "<!-- 140251553196744 -->\n",
       "<g id=\"node60\" class=\"node\"><title>140251553196744</title>\n",
       "<polygon fill=\"lightgrey\" stroke=\"black\" points=\"411,-3673 265,-3673 265,-3652 411,-3652 411,-3673\"/>\n",
       "<text text-anchor=\"middle\" x=\"338\" y=\"-3659.4\" font-family=\"Times,serif\" font-size=\"12.00\">ThnnBatchNormBackward</text>\n",
       "</g>\n",
       "<!-- 140251553196744&#45;&gt;140251553195064 -->\n",
       "<g id=\"edge59\" class=\"edge\"><title>140251553196744&#45;&gt;140251553195064</title>\n",
       "<path fill=\"none\" stroke=\"black\" d=\"M329.25,-3651.89C320.834,-3642.65 307.92,-3628.47 297.719,-3617.26\"/>\n",
       "<polygon fill=\"black\" stroke=\"black\" points=\"300.194,-3614.78 290.873,-3609.74 295.018,-3619.5 300.194,-3614.78\"/>\n",
       "</g>\n",
       "<!-- 140251553197080 -->\n",
       "<g id=\"node61\" class=\"node\"><title>140251553197080</title>\n",
       "<polygon fill=\"lightgrey\" stroke=\"black\" points=\"345,-3736.5 213,-3736.5 213,-3715.5 345,-3715.5 345,-3736.5\"/>\n",
       "<text text-anchor=\"middle\" x=\"279\" y=\"-3722.9\" font-family=\"Times,serif\" font-size=\"12.00\">ThnnConv2DBackward</text>\n",
       "</g>\n",
       "<!-- 140251553197080&#45;&gt;140251553196744 -->\n",
       "<g id=\"edge60\" class=\"edge\"><title>140251553197080&#45;&gt;140251553196744</title>\n",
       "<path fill=\"none\" stroke=\"black\" d=\"M288.219,-3715.39C297.086,-3706.15 310.691,-3691.97 321.439,-3680.76\"/>\n",
       "<polygon fill=\"black\" stroke=\"black\" points=\"324.254,-3682.88 328.651,-3673.24 319.203,-3678.04 324.254,-3682.88\"/>\n",
       "</g>\n",
       "<!-- 140251553195624 -->\n",
       "<g id=\"node62\" class=\"node\"><title>140251553195624</title>\n",
       "<polygon fill=\"lightgrey\" stroke=\"black\" points=\"247,-3806.5 123,-3806.5 123,-3785.5 247,-3785.5 247,-3806.5\"/>\n",
       "<text text-anchor=\"middle\" x=\"185\" y=\"-3792.9\" font-family=\"Times,serif\" font-size=\"12.00\">MaxPool2DBackward</text>\n",
       "</g>\n",
       "<!-- 140251553195624&#45;&gt;140251553195288 -->\n",
       "<g id=\"edge74\" class=\"edge\"><title>140251553195624&#45;&gt;140251553195288</title>\n",
       "<path fill=\"none\" stroke=\"black\" d=\"M185,-3785.43C185,-3763.74 185,-3709.16 185,-3663.5 185,-3663.5 185,-3663.5 185,-3528 185,-3489.9 207.211,-3449.95 222.026,-3427.54\"/>\n",
       "<polygon fill=\"black\" stroke=\"black\" points=\"225.068,-3429.29 227.836,-3419.06 219.295,-3425.33 225.068,-3429.29\"/>\n",
       "</g>\n",
       "<!-- 140251553195624&#45;&gt;140251553197080 -->\n",
       "<g id=\"edge61\" class=\"edge\"><title>140251553195624&#45;&gt;140251553197080</title>\n",
       "<path fill=\"none\" stroke=\"black\" d=\"M198.468,-3785.26C213.912,-3774.09 239.434,-3755.62 257.606,-3742.48\"/>\n",
       "<polygon fill=\"black\" stroke=\"black\" points=\"259.809,-3745.2 265.86,-3736.51 255.706,-3739.53 259.809,-3745.2\"/>\n",
       "</g>\n",
       "<!-- 140251553194504 -->\n",
       "<g id=\"node63\" class=\"node\"><title>140251553194504</title>\n",
       "<polygon fill=\"lightgrey\" stroke=\"black\" points=\"244.5,-3870 125.5,-3870 125.5,-3849 244.5,-3849 244.5,-3870\"/>\n",
       "<text text-anchor=\"middle\" x=\"185\" y=\"-3856.4\" font-family=\"Times,serif\" font-size=\"12.00\">ThresholdBackward1</text>\n",
       "</g>\n",
       "<!-- 140251553194504&#45;&gt;140251553195624 -->\n",
       "<g id=\"edge62\" class=\"edge\"><title>140251553194504&#45;&gt;140251553195624</title>\n",
       "<path fill=\"none\" stroke=\"black\" d=\"M185,-3848.89C185,-3840.37 185,-3827.64 185,-3816.92\"/>\n",
       "<polygon fill=\"black\" stroke=\"black\" points=\"188.5,-3816.74 185,-3806.74 181.5,-3816.74 188.5,-3816.74\"/>\n",
       "</g>\n",
       "<!-- 140251553194728 -->\n",
       "<g id=\"node64\" class=\"node\"><title>140251553194728</title>\n",
       "<polygon fill=\"lightgrey\" stroke=\"black\" points=\"258,-3927 112,-3927 112,-3906 258,-3906 258,-3927\"/>\n",
       "<text text-anchor=\"middle\" x=\"185\" y=\"-3913.4\" font-family=\"Times,serif\" font-size=\"12.00\">ThnnBatchNormBackward</text>\n",
       "</g>\n",
       "<!-- 140251553194728&#45;&gt;140251553194504 -->\n",
       "<g id=\"edge63\" class=\"edge\"><title>140251553194728&#45;&gt;140251553194504</title>\n",
       "<path fill=\"none\" stroke=\"black\" d=\"M185,-3905.92C185,-3898.91 185,-3889.14 185,-3880.47\"/>\n",
       "<polygon fill=\"black\" stroke=\"black\" points=\"188.5,-3880.34 185,-3870.34 181.5,-3880.34 188.5,-3880.34\"/>\n",
       "</g>\n",
       "<!-- 140252761713800 -->\n",
       "<g id=\"node65\" class=\"node\"><title>140252761713800</title>\n",
       "<polygon fill=\"lightgrey\" stroke=\"black\" points=\"140,-3990.5 8,-3990.5 8,-3969.5 140,-3969.5 140,-3990.5\"/>\n",
       "<text text-anchor=\"middle\" x=\"74\" y=\"-3976.9\" font-family=\"Times,serif\" font-size=\"12.00\">ThnnConv2DBackward</text>\n",
       "</g>\n",
       "<!-- 140252761713800&#45;&gt;140251553194728 -->\n",
       "<g id=\"edge64\" class=\"edge\"><title>140252761713800&#45;&gt;140251553194728</title>\n",
       "<path fill=\"none\" stroke=\"black\" d=\"M91.3438,-3969.39C109.427,-3959.37 137.986,-3943.55 158.816,-3932.01\"/>\n",
       "<polygon fill=\"black\" stroke=\"black\" points=\"160.727,-3934.95 167.778,-3927.04 157.335,-3928.83 160.727,-3934.95\"/>\n",
       "</g>\n",
       "<!-- 140251553214304 -->\n",
       "<g id=\"node66\" class=\"node\"><title>140251553214304</title>\n",
       "<polygon fill=\"lightblue\" stroke=\"black\" points=\"111.5,-4067 36.5,-4067 36.5,-4033 111.5,-4033 111.5,-4067\"/>\n",
       "<text text-anchor=\"middle\" x=\"74\" y=\"-4053.4\" font-family=\"Times,serif\" font-size=\"12.00\">None</text>\n",
       "<text text-anchor=\"middle\" x=\"74\" y=\"-4040.4\" font-family=\"Times,serif\" font-size=\"12.00\"> (64, 3, 7, 7)</text>\n",
       "</g>\n",
       "<!-- 140251553214304&#45;&gt;140252761713800 -->\n",
       "<g id=\"edge65\" class=\"edge\"><title>140251553214304&#45;&gt;140252761713800</title>\n",
       "<path fill=\"none\" stroke=\"black\" d=\"M74,-4032.88C74,-4023.31 74,-4011.09 74,-4000.91\"/>\n",
       "<polygon fill=\"black\" stroke=\"black\" points=\"77.5001,-4000.89 74,-3990.89 70.5001,-4000.89 77.5001,-4000.89\"/>\n",
       "</g>\n",
       "<!-- 140252761711336 -->\n",
       "<g id=\"node67\" class=\"node\"><title>140252761711336</title>\n",
       "<polygon fill=\"lightblue\" stroke=\"black\" points=\"212,-3997 158,-3997 158,-3963 212,-3963 212,-3997\"/>\n",
       "<text text-anchor=\"middle\" x=\"185\" y=\"-3983.4\" font-family=\"Times,serif\" font-size=\"12.00\">None</text>\n",
       "<text text-anchor=\"middle\" x=\"185\" y=\"-3970.4\" font-family=\"Times,serif\" font-size=\"12.00\"> (64)</text>\n",
       "</g>\n",
       "<!-- 140252761711336&#45;&gt;140251553194728 -->\n",
       "<g id=\"edge66\" class=\"edge\"><title>140252761711336&#45;&gt;140251553194728</title>\n",
       "<path fill=\"none\" stroke=\"black\" d=\"M185,-3962.84C185,-3955.01 185,-3945.54 185,-3937.28\"/>\n",
       "<polygon fill=\"black\" stroke=\"black\" points=\"188.5,-3937.04 185,-3927.04 181.5,-3937.04 188.5,-3937.04\"/>\n",
       "</g>\n",
       "<!-- 140252761712008 -->\n",
       "<g id=\"node68\" class=\"node\"><title>140252761712008</title>\n",
       "<polygon fill=\"lightblue\" stroke=\"black\" points=\"284,-3997 230,-3997 230,-3963 284,-3963 284,-3997\"/>\n",
       "<text text-anchor=\"middle\" x=\"257\" y=\"-3983.4\" font-family=\"Times,serif\" font-size=\"12.00\">None</text>\n",
       "<text text-anchor=\"middle\" x=\"257\" y=\"-3970.4\" font-family=\"Times,serif\" font-size=\"12.00\"> (64)</text>\n",
       "</g>\n",
       "<!-- 140252761712008&#45;&gt;140251553194728 -->\n",
       "<g id=\"edge67\" class=\"edge\"><title>140252761712008&#45;&gt;140251553194728</title>\n",
       "<path fill=\"none\" stroke=\"black\" d=\"M238.083,-3962.84C227.562,-3953.86 214.508,-3942.71 203.978,-3933.71\"/>\n",
       "<polygon fill=\"black\" stroke=\"black\" points=\"206.048,-3930.88 196.171,-3927.04 201.502,-3936.2 206.048,-3930.88\"/>\n",
       "</g>\n",
       "<!-- 140251553194056 -->\n",
       "<g id=\"node69\" class=\"node\"><title>140251553194056</title>\n",
       "<polygon fill=\"lightblue\" stroke=\"black\" points=\"346.5,-3813 265.5,-3813 265.5,-3779 346.5,-3779 346.5,-3813\"/>\n",
       "<text text-anchor=\"middle\" x=\"306\" y=\"-3799.4\" font-family=\"Times,serif\" font-size=\"12.00\">None</text>\n",
       "<text text-anchor=\"middle\" x=\"306\" y=\"-3786.4\" font-family=\"Times,serif\" font-size=\"12.00\"> (64, 64, 3, 3)</text>\n",
       "</g>\n",
       "<!-- 140251553194056&#45;&gt;140251553197080 -->\n",
       "<g id=\"edge68\" class=\"edge\"><title>140251553194056&#45;&gt;140251553197080</title>\n",
       "<path fill=\"none\" stroke=\"black\" d=\"M299.601,-3778.88C295.718,-3769.11 290.74,-3756.57 286.649,-3746.27\"/>\n",
       "<polygon fill=\"black\" stroke=\"black\" points=\"289.872,-3744.9 282.929,-3736.89 283.366,-3747.48 289.872,-3744.9\"/>\n",
       "</g>\n",
       "<!-- 140251553197192 -->\n",
       "<g id=\"node70\" class=\"node\"><title>140251553197192</title>\n",
       "<polygon fill=\"lightblue\" stroke=\"black\" points=\"417,-3743 363,-3743 363,-3709 417,-3709 417,-3743\"/>\n",
       "<text text-anchor=\"middle\" x=\"390\" y=\"-3729.4\" font-family=\"Times,serif\" font-size=\"12.00\">None</text>\n",
       "<text text-anchor=\"middle\" x=\"390\" y=\"-3716.4\" font-family=\"Times,serif\" font-size=\"12.00\"> (64)</text>\n",
       "</g>\n",
       "<!-- 140251553197192&#45;&gt;140251553196744 -->\n",
       "<g id=\"edge69\" class=\"edge\"><title>140251553197192&#45;&gt;140251553196744</title>\n",
       "<path fill=\"none\" stroke=\"black\" d=\"M376.338,-3708.84C369.04,-3700.21 360.055,-3689.58 352.618,-3680.79\"/>\n",
       "<polygon fill=\"black\" stroke=\"black\" points=\"355.197,-3678.42 346.068,-3673.04 349.852,-3682.94 355.197,-3678.42\"/>\n",
       "</g>\n",
       "<!-- 140251553194952 -->\n",
       "<g id=\"node71\" class=\"node\"><title>140251553194952</title>\n",
       "<polygon fill=\"lightblue\" stroke=\"black\" points=\"489,-3743 435,-3743 435,-3709 489,-3709 489,-3743\"/>\n",
       "<text text-anchor=\"middle\" x=\"462\" y=\"-3729.4\" font-family=\"Times,serif\" font-size=\"12.00\">None</text>\n",
       "<text text-anchor=\"middle\" x=\"462\" y=\"-3716.4\" font-family=\"Times,serif\" font-size=\"12.00\"> (64)</text>\n",
       "</g>\n",
       "<!-- 140251553194952&#45;&gt;140251553196744 -->\n",
       "<g id=\"edge70\" class=\"edge\"><title>140251553194952&#45;&gt;140251553196744</title>\n",
       "<path fill=\"none\" stroke=\"black\" d=\"M434.788,-3711.5C414.601,-3701.49 387.14,-3687.87 366.624,-3677.7\"/>\n",
       "<polygon fill=\"black\" stroke=\"black\" points=\"367.97,-3674.46 357.456,-3673.15 364.859,-3680.73 367.97,-3674.46\"/>\n",
       "</g>\n",
       "<!-- 140251553194392 -->\n",
       "<g id=\"node72\" class=\"node\"><title>140251553194392</title>\n",
       "<polygon fill=\"lightblue\" stroke=\"black\" points=\"440.5,-3616 359.5,-3616 359.5,-3582 440.5,-3582 440.5,-3616\"/>\n",
       "<text text-anchor=\"middle\" x=\"400\" y=\"-3602.4\" font-family=\"Times,serif\" font-size=\"12.00\">None</text>\n",
       "<text text-anchor=\"middle\" x=\"400\" y=\"-3589.4\" font-family=\"Times,serif\" font-size=\"12.00\"> (64, 64, 3, 3)</text>\n",
       "</g>\n",
       "<!-- 140251553194392&#45;&gt;140251553196184 -->\n",
       "<g id=\"edge71\" class=\"edge\"><title>140251553194392&#45;&gt;140251553196184</title>\n",
       "<path fill=\"none\" stroke=\"black\" d=\"M372.036,-3581.88C352.474,-3570.61 326.548,-3555.67 307.542,-3544.72\"/>\n",
       "<polygon fill=\"black\" stroke=\"black\" points=\"309.238,-3541.66 298.826,-3539.7 305.743,-3547.72 309.238,-3541.66\"/>\n",
       "</g>\n",
       "<!-- 140251553195736 -->\n",
       "<g id=\"node73\" class=\"node\"><title>140251553195736</title>\n",
       "<polygon fill=\"lightblue\" stroke=\"black\" points=\"420,-3546 366,-3546 366,-3512 420,-3512 420,-3546\"/>\n",
       "<text text-anchor=\"middle\" x=\"393\" y=\"-3532.4\" font-family=\"Times,serif\" font-size=\"12.00\">None</text>\n",
       "<text text-anchor=\"middle\" x=\"393\" y=\"-3519.4\" font-family=\"Times,serif\" font-size=\"12.00\"> (64)</text>\n",
       "</g>\n",
       "<!-- 140251553195736&#45;&gt;140251553195512 -->\n",
       "<g id=\"edge72\" class=\"edge\"><title>140251553195736&#45;&gt;140251553195512</title>\n",
       "<path fill=\"none\" stroke=\"black\" d=\"M378.549,-3511.84C370.752,-3503.12 361.132,-3492.37 353.219,-3483.52\"/>\n",
       "<polygon fill=\"black\" stroke=\"black\" points=\"355.809,-3481.16 346.533,-3476.04 350.591,-3485.83 355.809,-3481.16\"/>\n",
       "</g>\n",
       "<!-- 140251553195848 -->\n",
       "<g id=\"node74\" class=\"node\"><title>140251553195848</title>\n",
       "<polygon fill=\"lightblue\" stroke=\"black\" points=\"492,-3546 438,-3546 438,-3512 492,-3512 492,-3546\"/>\n",
       "<text text-anchor=\"middle\" x=\"465\" y=\"-3532.4\" font-family=\"Times,serif\" font-size=\"12.00\">None</text>\n",
       "<text text-anchor=\"middle\" x=\"465\" y=\"-3519.4\" font-family=\"Times,serif\" font-size=\"12.00\"> (64)</text>\n",
       "</g>\n",
       "<!-- 140251553195848&#45;&gt;140251553195512 -->\n",
       "<g id=\"edge73\" class=\"edge\"><title>140251553195848&#45;&gt;140251553195512</title>\n",
       "<path fill=\"none\" stroke=\"black\" d=\"M437.755,-3514.81C416.898,-3504.71 388.192,-3490.81 366.928,-3480.51\"/>\n",
       "<polygon fill=\"black\" stroke=\"black\" points=\"368.262,-3477.27 357.736,-3476.06 365.211,-3483.57 368.262,-3477.27\"/>\n",
       "</g>\n",
       "<!-- 140251553194280 -->\n",
       "<g id=\"node75\" class=\"node\"><title>140251553194280</title>\n",
       "<polygon fill=\"lightblue\" stroke=\"black\" points=\"393.5,-3362 312.5,-3362 312.5,-3328 393.5,-3328 393.5,-3362\"/>\n",
       "<text text-anchor=\"middle\" x=\"353\" y=\"-3348.4\" font-family=\"Times,serif\" font-size=\"12.00\">None</text>\n",
       "<text text-anchor=\"middle\" x=\"353\" y=\"-3335.4\" font-family=\"Times,serif\" font-size=\"12.00\"> (64, 64, 3, 3)</text>\n",
       "</g>\n",
       "<!-- 140251553194280&#45;&gt;140251553196968 -->\n",
       "<g id=\"edge75\" class=\"edge\"><title>140251553194280&#45;&gt;140251553196968</title>\n",
       "<path fill=\"none\" stroke=\"black\" d=\"M347.312,-3327.88C343.897,-3318.21 339.527,-3305.83 335.913,-3295.59\"/>\n",
       "<polygon fill=\"black\" stroke=\"black\" points=\"339.121,-3294.16 332.492,-3285.89 332.52,-3296.49 339.121,-3294.16\"/>\n",
       "</g>\n",
       "<!-- 140251553196632 -->\n",
       "<g id=\"node76\" class=\"node\"><title>140251553196632</title>\n",
       "<polygon fill=\"lightblue\" stroke=\"black\" points=\"467,-3292 413,-3292 413,-3258 467,-3258 467,-3292\"/>\n",
       "<text text-anchor=\"middle\" x=\"440\" y=\"-3278.4\" font-family=\"Times,serif\" font-size=\"12.00\">None</text>\n",
       "<text text-anchor=\"middle\" x=\"440\" y=\"-3265.4\" font-family=\"Times,serif\" font-size=\"12.00\"> (64)</text>\n",
       "</g>\n",
       "<!-- 140251553196632&#45;&gt;140251553197976 -->\n",
       "<g id=\"edge76\" class=\"edge\"><title>140251553196632&#45;&gt;140251553197976</title>\n",
       "<path fill=\"none\" stroke=\"black\" d=\"M426.338,-3257.84C419.04,-3249.21 410.055,-3238.58 402.618,-3229.79\"/>\n",
       "<polygon fill=\"black\" stroke=\"black\" points=\"405.197,-3227.42 396.068,-3222.04 399.852,-3231.94 405.197,-3227.42\"/>\n",
       "</g>\n",
       "<!-- 140251553194168 -->\n",
       "<g id=\"node77\" class=\"node\"><title>140251553194168</title>\n",
       "<polygon fill=\"lightblue\" stroke=\"black\" points=\"539,-3292 485,-3292 485,-3258 539,-3258 539,-3292\"/>\n",
       "<text text-anchor=\"middle\" x=\"512\" y=\"-3278.4\" font-family=\"Times,serif\" font-size=\"12.00\">None</text>\n",
       "<text text-anchor=\"middle\" x=\"512\" y=\"-3265.4\" font-family=\"Times,serif\" font-size=\"12.00\"> (64)</text>\n",
       "</g>\n",
       "<!-- 140251553194168&#45;&gt;140251553197976 -->\n",
       "<g id=\"edge77\" class=\"edge\"><title>140251553194168&#45;&gt;140251553197976</title>\n",
       "<path fill=\"none\" stroke=\"black\" d=\"M484.788,-3260.5C464.601,-3250.49 437.14,-3236.87 416.624,-3226.7\"/>\n",
       "<polygon fill=\"black\" stroke=\"black\" points=\"417.97,-3223.46 407.456,-3222.15 414.859,-3229.73 417.97,-3223.46\"/>\n",
       "</g>\n",
       "<!-- 140251553197752 -->\n",
       "<g id=\"node78\" class=\"node\"><title>140251553197752</title>\n",
       "<polygon fill=\"lightblue\" stroke=\"black\" points=\"490.5,-3165 409.5,-3165 409.5,-3131 490.5,-3131 490.5,-3165\"/>\n",
       "<text text-anchor=\"middle\" x=\"450\" y=\"-3151.4\" font-family=\"Times,serif\" font-size=\"12.00\">None</text>\n",
       "<text text-anchor=\"middle\" x=\"450\" y=\"-3138.4\" font-family=\"Times,serif\" font-size=\"12.00\"> (64, 64, 3, 3)</text>\n",
       "</g>\n",
       "<!-- 140251553197752&#45;&gt;140252224801032 -->\n",
       "<g id=\"edge78\" class=\"edge\"><title>140251553197752&#45;&gt;140252224801032</title>\n",
       "<path fill=\"none\" stroke=\"black\" d=\"M422.036,-3130.88C402.474,-3119.61 376.548,-3104.67 357.542,-3093.72\"/>\n",
       "<polygon fill=\"black\" stroke=\"black\" points=\"359.238,-3090.66 348.826,-3088.7 355.743,-3096.72 359.238,-3090.66\"/>\n",
       "</g>\n",
       "<!-- 140252224801088 -->\n",
       "<g id=\"node79\" class=\"node\"><title>140252224801088</title>\n",
       "<polygon fill=\"lightblue\" stroke=\"black\" points=\"470,-3095 416,-3095 416,-3061 470,-3061 470,-3095\"/>\n",
       "<text text-anchor=\"middle\" x=\"443\" y=\"-3081.4\" font-family=\"Times,serif\" font-size=\"12.00\">None</text>\n",
       "<text text-anchor=\"middle\" x=\"443\" y=\"-3068.4\" font-family=\"Times,serif\" font-size=\"12.00\"> (64)</text>\n",
       "</g>\n",
       "<!-- 140252224801088&#45;&gt;140252224801592 -->\n",
       "<g id=\"edge79\" class=\"edge\"><title>140252224801088&#45;&gt;140252224801592</title>\n",
       "<path fill=\"none\" stroke=\"black\" d=\"M428.549,-3060.84C420.752,-3052.12 411.132,-3041.37 403.219,-3032.52\"/>\n",
       "<polygon fill=\"black\" stroke=\"black\" points=\"405.809,-3030.16 396.533,-3025.04 400.591,-3034.83 405.809,-3030.16\"/>\n",
       "</g>\n",
       "<!-- 140251553197304 -->\n",
       "<g id=\"node80\" class=\"node\"><title>140251553197304</title>\n",
       "<polygon fill=\"lightblue\" stroke=\"black\" points=\"542,-3095 488,-3095 488,-3061 542,-3061 542,-3095\"/>\n",
       "<text text-anchor=\"middle\" x=\"515\" y=\"-3081.4\" font-family=\"Times,serif\" font-size=\"12.00\">None</text>\n",
       "<text text-anchor=\"middle\" x=\"515\" y=\"-3068.4\" font-family=\"Times,serif\" font-size=\"12.00\"> (64)</text>\n",
       "</g>\n",
       "<!-- 140251553197304&#45;&gt;140252224801592 -->\n",
       "<g id=\"edge80\" class=\"edge\"><title>140251553197304&#45;&gt;140252224801592</title>\n",
       "<path fill=\"none\" stroke=\"black\" d=\"M487.755,-3063.81C466.898,-3053.71 438.192,-3039.81 416.928,-3029.51\"/>\n",
       "<polygon fill=\"black\" stroke=\"black\" points=\"418.262,-3026.27 407.736,-3025.06 415.211,-3032.57 418.262,-3026.27\"/>\n",
       "</g>\n",
       "<!-- 140252224800864 -->\n",
       "<g id=\"node81\" class=\"node\"><title>140252224800864</title>\n",
       "<polygon fill=\"lightblue\" stroke=\"black\" points=\"449.5,-2911 362.5,-2911 362.5,-2877 449.5,-2877 449.5,-2911\"/>\n",
       "<text text-anchor=\"middle\" x=\"406\" y=\"-2897.4\" font-family=\"Times,serif\" font-size=\"12.00\">None</text>\n",
       "<text text-anchor=\"middle\" x=\"406\" y=\"-2884.4\" font-family=\"Times,serif\" font-size=\"12.00\"> (128, 64, 3, 3)</text>\n",
       "</g>\n",
       "<!-- 140252224800864&#45;&gt;140252224800808 -->\n",
       "<g id=\"edge82\" class=\"edge\"><title>140252224800864&#45;&gt;140252224800808</title>\n",
       "<path fill=\"none\" stroke=\"black\" d=\"M395.099,-2876.88C388.276,-2866.8 379.469,-2853.78 372.384,-2843.31\"/>\n",
       "<polygon fill=\"black\" stroke=\"black\" points=\"375.196,-2841.22 366.693,-2834.89 369.398,-2845.14 375.196,-2841.22\"/>\n",
       "</g>\n",
       "<!-- 140252224800696 -->\n",
       "<g id=\"node82\" class=\"node\"><title>140252224800696</title>\n",
       "<polygon fill=\"lightblue\" stroke=\"black\" points=\"498,-2841 444,-2841 444,-2807 498,-2807 498,-2841\"/>\n",
       "<text text-anchor=\"middle\" x=\"471\" y=\"-2827.4\" font-family=\"Times,serif\" font-size=\"12.00\">None</text>\n",
       "<text text-anchor=\"middle\" x=\"471\" y=\"-2814.4\" font-family=\"Times,serif\" font-size=\"12.00\"> (128)</text>\n",
       "</g>\n",
       "<!-- 140252224800696&#45;&gt;140252224800584 -->\n",
       "<g id=\"edge83\" class=\"edge\"><title>140252224800696&#45;&gt;140252224800584</title>\n",
       "<path fill=\"none\" stroke=\"black\" d=\"M456.287,-2806.84C448.347,-2798.12 438.552,-2787.37 430.496,-2778.52\"/>\n",
       "<polygon fill=\"black\" stroke=\"black\" points=\"433.009,-2776.08 423.689,-2771.04 427.833,-2780.79 433.009,-2776.08\"/>\n",
       "</g>\n",
       "<!-- 140252224801480 -->\n",
       "<g id=\"node83\" class=\"node\"><title>140252224801480</title>\n",
       "<polygon fill=\"lightblue\" stroke=\"black\" points=\"570,-2841 516,-2841 516,-2807 570,-2807 570,-2841\"/>\n",
       "<text text-anchor=\"middle\" x=\"543\" y=\"-2827.4\" font-family=\"Times,serif\" font-size=\"12.00\">None</text>\n",
       "<text text-anchor=\"middle\" x=\"543\" y=\"-2814.4\" font-family=\"Times,serif\" font-size=\"12.00\"> (128)</text>\n",
       "</g>\n",
       "<!-- 140252224801480&#45;&gt;140252224800584 -->\n",
       "<g id=\"edge84\" class=\"edge\"><title>140252224801480&#45;&gt;140252224800584</title>\n",
       "<path fill=\"none\" stroke=\"black\" d=\"M515.854,-2809.96C494.759,-2799.82 465.56,-2785.79 444.006,-2775.44\"/>\n",
       "<polygon fill=\"black\" stroke=\"black\" points=\"445.521,-2772.28 434.991,-2771.11 442.489,-2778.59 445.521,-2772.28\"/>\n",
       "</g>\n",
       "<!-- 140252224800640 -->\n",
       "<g id=\"node84\" class=\"node\"><title>140252224800640</title>\n",
       "<polygon fill=\"lightblue\" stroke=\"black\" points=\"516.5,-2714 423.5,-2714 423.5,-2680 516.5,-2680 516.5,-2714\"/>\n",
       "<text text-anchor=\"middle\" x=\"470\" y=\"-2700.4\" font-family=\"Times,serif\" font-size=\"12.00\">None</text>\n",
       "<text text-anchor=\"middle\" x=\"470\" y=\"-2687.4\" font-family=\"Times,serif\" font-size=\"12.00\"> (128, 128, 3, 3)</text>\n",
       "</g>\n",
       "<!-- 140252224800640&#45;&gt;140252224801872 -->\n",
       "<g id=\"edge85\" class=\"edge\"><title>140252224800640&#45;&gt;140252224801872</title>\n",
       "<path fill=\"none\" stroke=\"black\" d=\"M440.614,-2679.88C419.964,-2668.56 392.566,-2653.54 372.569,-2642.57\"/>\n",
       "<polygon fill=\"black\" stroke=\"black\" points=\"374.133,-2639.44 363.682,-2637.7 370.767,-2645.57 374.133,-2639.44\"/>\n",
       "</g>\n",
       "<!-- 140252224800976 -->\n",
       "<g id=\"node85\" class=\"node\"><title>140252224800976</title>\n",
       "<polygon fill=\"lightblue\" stroke=\"black\" points=\"484,-2644 430,-2644 430,-2610 484,-2610 484,-2644\"/>\n",
       "<text text-anchor=\"middle\" x=\"457\" y=\"-2630.4\" font-family=\"Times,serif\" font-size=\"12.00\">None</text>\n",
       "<text text-anchor=\"middle\" x=\"457\" y=\"-2617.4\" font-family=\"Times,serif\" font-size=\"12.00\"> (128)</text>\n",
       "</g>\n",
       "<!-- 140252224800976&#45;&gt;140251553205944 -->\n",
       "<g id=\"edge86\" class=\"edge\"><title>140252224800976&#45;&gt;140251553205944</title>\n",
       "<path fill=\"none\" stroke=\"black\" d=\"M435.718,-2609.84C423.648,-2600.68 408.614,-2589.26 396.65,-2580.18\"/>\n",
       "<polygon fill=\"black\" stroke=\"black\" points=\"398.648,-2577.3 388.567,-2574.04 394.415,-2582.88 398.648,-2577.3\"/>\n",
       "</g>\n",
       "<!-- 140252224798792 -->\n",
       "<g id=\"node86\" class=\"node\"><title>140252224798792</title>\n",
       "<polygon fill=\"lightblue\" stroke=\"black\" points=\"556,-2644 502,-2644 502,-2610 556,-2610 556,-2644\"/>\n",
       "<text text-anchor=\"middle\" x=\"529\" y=\"-2630.4\" font-family=\"Times,serif\" font-size=\"12.00\">None</text>\n",
       "<text text-anchor=\"middle\" x=\"529\" y=\"-2617.4\" font-family=\"Times,serif\" font-size=\"12.00\"> (128)</text>\n",
       "</g>\n",
       "<!-- 140252224798792&#45;&gt;140251553205944 -->\n",
       "<g id=\"edge87\" class=\"edge\"><title>140252224798792&#45;&gt;140251553205944</title>\n",
       "<path fill=\"none\" stroke=\"black\" d=\"M501.933,-2613.81C498.927,-2612.5 495.904,-2611.21 493,-2610 465.712,-2598.64 434.499,-2586.54 411.179,-2577.68\"/>\n",
       "<polygon fill=\"black\" stroke=\"black\" points=\"412.294,-2574.36 401.702,-2574.09 409.815,-2580.91 412.294,-2574.36\"/>\n",
       "</g>\n",
       "<!-- 140251553206056 -->\n",
       "<g id=\"node87\" class=\"node\"><title>140251553206056</title>\n",
       "<polygon fill=\"lightgrey\" stroke=\"black\" points=\"227,-2771 81,-2771 81,-2750 227,-2750 227,-2771\"/>\n",
       "<text text-anchor=\"middle\" x=\"154\" y=\"-2757.4\" font-family=\"Times,serif\" font-size=\"12.00\">ThnnBatchNormBackward</text>\n",
       "</g>\n",
       "<!-- 140251553206056&#45;&gt;140251553205608 -->\n",
       "<g id=\"edge88\" class=\"edge\"><title>140251553206056&#45;&gt;140251553205608</title>\n",
       "<path fill=\"none\" stroke=\"black\" d=\"M158.52,-2749.93C176.155,-2712.58 240.526,-2576.27 264.193,-2526.15\"/>\n",
       "<polygon fill=\"black\" stroke=\"black\" points=\"267.371,-2527.62 268.476,-2517.08 261.041,-2524.63 267.371,-2527.62\"/>\n",
       "</g>\n",
       "<!-- 140252224800528&#45;&gt;140251553206056 -->\n",
       "<g id=\"edge89\" class=\"edge\"><title>140252224800528&#45;&gt;140251553206056</title>\n",
       "<path fill=\"none\" stroke=\"black\" d=\"M201.25,-2813.39C192.834,-2804.15 179.92,-2789.97 169.719,-2778.76\"/>\n",
       "<polygon fill=\"black\" stroke=\"black\" points=\"172.194,-2776.28 162.873,-2771.24 167.018,-2781 172.194,-2776.28\"/>\n",
       "</g>\n",
       "<!-- 140252224801256 -->\n",
       "<g id=\"node89\" class=\"node\"><title>140252224801256</title>\n",
       "<polygon fill=\"lightblue\" stroke=\"black\" points=\"207.5,-2911 120.5,-2911 120.5,-2877 207.5,-2877 207.5,-2911\"/>\n",
       "<text text-anchor=\"middle\" x=\"164\" y=\"-2897.4\" font-family=\"Times,serif\" font-size=\"12.00\">None</text>\n",
       "<text text-anchor=\"middle\" x=\"164\" y=\"-2884.4\" font-family=\"Times,serif\" font-size=\"12.00\"> (128, 64, 1, 1)</text>\n",
       "</g>\n",
       "<!-- 140252224801256&#45;&gt;140252224800528 -->\n",
       "<g id=\"edge91\" class=\"edge\"><title>140252224801256&#45;&gt;140252224800528</title>\n",
       "<path fill=\"none\" stroke=\"black\" d=\"M174.901,-2876.88C181.724,-2866.8 190.531,-2853.78 197.616,-2843.31\"/>\n",
       "<polygon fill=\"black\" stroke=\"black\" points=\"200.602,-2845.14 203.307,-2834.89 194.804,-2841.22 200.602,-2845.14\"/>\n",
       "</g>\n",
       "<!-- 140252224801312 -->\n",
       "<g id=\"node90\" class=\"node\"><title>140252224801312</title>\n",
       "<polygon fill=\"lightblue\" stroke=\"black\" points=\"54,-2841 0,-2841 0,-2807 54,-2807 54,-2841\"/>\n",
       "<text text-anchor=\"middle\" x=\"27\" y=\"-2827.4\" font-family=\"Times,serif\" font-size=\"12.00\">None</text>\n",
       "<text text-anchor=\"middle\" x=\"27\" y=\"-2814.4\" font-family=\"Times,serif\" font-size=\"12.00\"> (128)</text>\n",
       "</g>\n",
       "<!-- 140252224801312&#45;&gt;140251553206056 -->\n",
       "<g id=\"edge92\" class=\"edge\"><title>140252224801312&#45;&gt;140251553206056</title>\n",
       "<path fill=\"none\" stroke=\"black\" d=\"M54.2447,-2809.81C75.1021,-2799.71 103.808,-2785.81 125.072,-2775.51\"/>\n",
       "<polygon fill=\"black\" stroke=\"black\" points=\"126.789,-2778.57 134.264,-2771.06 123.738,-2772.27 126.789,-2778.57\"/>\n",
       "</g>\n",
       "<!-- 140252224800472 -->\n",
       "<g id=\"node91\" class=\"node\"><title>140252224800472</title>\n",
       "<polygon fill=\"lightblue\" stroke=\"black\" points=\"126,-2841 72,-2841 72,-2807 126,-2807 126,-2841\"/>\n",
       "<text text-anchor=\"middle\" x=\"99\" y=\"-2827.4\" font-family=\"Times,serif\" font-size=\"12.00\">None</text>\n",
       "<text text-anchor=\"middle\" x=\"99\" y=\"-2814.4\" font-family=\"Times,serif\" font-size=\"12.00\"> (128)</text>\n",
       "</g>\n",
       "<!-- 140252224800472&#45;&gt;140251553206056 -->\n",
       "<g id=\"edge93\" class=\"edge\"><title>140252224800472&#45;&gt;140251553206056</title>\n",
       "<path fill=\"none\" stroke=\"black\" d=\"M113.451,-2806.84C121.248,-2798.12 130.868,-2787.37 138.781,-2778.52\"/>\n",
       "<polygon fill=\"black\" stroke=\"black\" points=\"141.409,-2780.83 145.467,-2771.04 136.191,-2776.16 141.409,-2780.83\"/>\n",
       "</g>\n",
       "<!-- 140251553205496 -->\n",
       "<g id=\"node92\" class=\"node\"><title>140251553205496</title>\n",
       "<polygon fill=\"lightblue\" stroke=\"black\" points=\"443.5,-2460 350.5,-2460 350.5,-2426 443.5,-2426 443.5,-2460\"/>\n",
       "<text text-anchor=\"middle\" x=\"397\" y=\"-2446.4\" font-family=\"Times,serif\" font-size=\"12.00\">None</text>\n",
       "<text text-anchor=\"middle\" x=\"397\" y=\"-2433.4\" font-family=\"Times,serif\" font-size=\"12.00\"> (128, 128, 3, 3)</text>\n",
       "</g>\n",
       "<!-- 140251553205496&#45;&gt;140251553202696 -->\n",
       "<g id=\"edge94\" class=\"edge\"><title>140251553205496&#45;&gt;140251553202696</title>\n",
       "<path fill=\"none\" stroke=\"black\" d=\"M389.89,-2425.88C385.576,-2416.11 380.044,-2403.57 375.499,-2393.27\"/>\n",
       "<polygon fill=\"black\" stroke=\"black\" points=\"378.604,-2391.63 371.365,-2383.89 372.2,-2394.46 378.604,-2391.63\"/>\n",
       "</g>\n",
       "<!-- 140251553203480 -->\n",
       "<g id=\"node93\" class=\"node\"><title>140251553203480</title>\n",
       "<polygon fill=\"lightblue\" stroke=\"black\" points=\"505,-2390 451,-2390 451,-2356 505,-2356 505,-2390\"/>\n",
       "<text text-anchor=\"middle\" x=\"478\" y=\"-2376.4\" font-family=\"Times,serif\" font-size=\"12.00\">None</text>\n",
       "<text text-anchor=\"middle\" x=\"478\" y=\"-2363.4\" font-family=\"Times,serif\" font-size=\"12.00\"> (128)</text>\n",
       "</g>\n",
       "<!-- 140251553203480&#45;&gt;140251553203368 -->\n",
       "<g id=\"edge95\" class=\"edge\"><title>140251553203480&#45;&gt;140251553203368</title>\n",
       "<path fill=\"none\" stroke=\"black\" d=\"M464.338,-2355.84C457.04,-2347.21 448.055,-2336.58 440.618,-2327.79\"/>\n",
       "<polygon fill=\"black\" stroke=\"black\" points=\"443.197,-2325.42 434.068,-2320.04 437.852,-2329.94 443.197,-2325.42\"/>\n",
       "</g>\n",
       "<!-- 140251553203592 -->\n",
       "<g id=\"node94\" class=\"node\"><title>140251553203592</title>\n",
       "<polygon fill=\"lightblue\" stroke=\"black\" points=\"577,-2390 523,-2390 523,-2356 577,-2356 577,-2390\"/>\n",
       "<text text-anchor=\"middle\" x=\"550\" y=\"-2376.4\" font-family=\"Times,serif\" font-size=\"12.00\">None</text>\n",
       "<text text-anchor=\"middle\" x=\"550\" y=\"-2363.4\" font-family=\"Times,serif\" font-size=\"12.00\"> (128)</text>\n",
       "</g>\n",
       "<!-- 140251553203592&#45;&gt;140251553203368 -->\n",
       "<g id=\"edge96\" class=\"edge\"><title>140251553203592&#45;&gt;140251553203368</title>\n",
       "<path fill=\"none\" stroke=\"black\" d=\"M522.788,-2358.5C502.601,-2348.49 475.14,-2334.87 454.624,-2324.7\"/>\n",
       "<polygon fill=\"black\" stroke=\"black\" points=\"455.97,-2321.46 445.456,-2320.15 452.859,-2327.73 455.97,-2321.46\"/>\n",
       "</g>\n",
       "<!-- 140251553203144 -->\n",
       "<g id=\"node95\" class=\"node\"><title>140251553203144</title>\n",
       "<polygon fill=\"lightblue\" stroke=\"black\" points=\"540.5,-2263 447.5,-2263 447.5,-2229 540.5,-2229 540.5,-2263\"/>\n",
       "<text text-anchor=\"middle\" x=\"494\" y=\"-2249.4\" font-family=\"Times,serif\" font-size=\"12.00\">None</text>\n",
       "<text text-anchor=\"middle\" x=\"494\" y=\"-2236.4\" font-family=\"Times,serif\" font-size=\"12.00\"> (128, 128, 3, 3)</text>\n",
       "</g>\n",
       "<!-- 140251553203144&#45;&gt;140251553202360 -->\n",
       "<g id=\"edge97\" class=\"edge\"><title>140251553203144&#45;&gt;140251553202360</title>\n",
       "<path fill=\"none\" stroke=\"black\" d=\"M464.614,-2228.88C443.964,-2217.56 416.566,-2202.54 396.569,-2191.57\"/>\n",
       "<polygon fill=\"black\" stroke=\"black\" points=\"398.133,-2188.44 387.682,-2186.7 394.767,-2194.57 398.133,-2188.44\"/>\n",
       "</g>\n",
       "<!-- 140251553202472 -->\n",
       "<g id=\"node96\" class=\"node\"><title>140251553202472</title>\n",
       "<polygon fill=\"lightblue\" stroke=\"black\" points=\"508,-2193 454,-2193 454,-2159 508,-2159 508,-2193\"/>\n",
       "<text text-anchor=\"middle\" x=\"481\" y=\"-2179.4\" font-family=\"Times,serif\" font-size=\"12.00\">None</text>\n",
       "<text text-anchor=\"middle\" x=\"481\" y=\"-2166.4\" font-family=\"Times,serif\" font-size=\"12.00\"> (128)</text>\n",
       "</g>\n",
       "<!-- 140251553202472&#45;&gt;140251553203928 -->\n",
       "<g id=\"edge98\" class=\"edge\"><title>140251553202472&#45;&gt;140251553203928</title>\n",
       "<path fill=\"none\" stroke=\"black\" d=\"M466.549,-2158.84C458.752,-2150.12 449.132,-2139.37 441.219,-2130.52\"/>\n",
       "<polygon fill=\"black\" stroke=\"black\" points=\"443.809,-2128.16 434.533,-2123.04 438.591,-2132.83 443.809,-2128.16\"/>\n",
       "</g>\n",
       "<!-- 140251553202808 -->\n",
       "<g id=\"node97\" class=\"node\"><title>140251553202808</title>\n",
       "<polygon fill=\"lightblue\" stroke=\"black\" points=\"580,-2193 526,-2193 526,-2159 580,-2159 580,-2193\"/>\n",
       "<text text-anchor=\"middle\" x=\"553\" y=\"-2179.4\" font-family=\"Times,serif\" font-size=\"12.00\">None</text>\n",
       "<text text-anchor=\"middle\" x=\"553\" y=\"-2166.4\" font-family=\"Times,serif\" font-size=\"12.00\"> (128)</text>\n",
       "</g>\n",
       "<!-- 140251553202808&#45;&gt;140251553203928 -->\n",
       "<g id=\"edge99\" class=\"edge\"><title>140251553202808&#45;&gt;140251553203928</title>\n",
       "<path fill=\"none\" stroke=\"black\" d=\"M525.755,-2161.81C504.898,-2151.71 476.192,-2137.81 454.928,-2127.51\"/>\n",
       "<polygon fill=\"black\" stroke=\"black\" points=\"456.262,-2124.27 445.736,-2123.06 453.211,-2130.57 456.262,-2124.27\"/>\n",
       "</g>\n",
       "<!-- 140251553205048 -->\n",
       "<g id=\"node98\" class=\"node\"><title>140251553205048</title>\n",
       "<polygon fill=\"lightblue\" stroke=\"black\" points=\"493.5,-2009 400.5,-2009 400.5,-1975 493.5,-1975 493.5,-2009\"/>\n",
       "<text text-anchor=\"middle\" x=\"447\" y=\"-1995.4\" font-family=\"Times,serif\" font-size=\"12.00\">None</text>\n",
       "<text text-anchor=\"middle\" x=\"447\" y=\"-1982.4\" font-family=\"Times,serif\" font-size=\"12.00\"> (256, 128, 3, 3)</text>\n",
       "</g>\n",
       "<!-- 140251553205048&#45;&gt;140251553204600 -->\n",
       "<g id=\"edge101\" class=\"edge\"><title>140251553205048&#45;&gt;140251553204600</title>\n",
       "<path fill=\"none\" stroke=\"black\" d=\"M435.388,-1974.88C428.121,-1964.8 418.739,-1951.78 411.191,-1941.31\"/>\n",
       "<polygon fill=\"black\" stroke=\"black\" points=\"413.816,-1938.96 405.13,-1932.89 408.137,-1943.05 413.816,-1938.96\"/>\n",
       "</g>\n",
       "<!-- 140251553204488 -->\n",
       "<g id=\"node99\" class=\"node\"><title>140251553204488</title>\n",
       "<polygon fill=\"lightblue\" stroke=\"black\" points=\"536,-1939 482,-1939 482,-1905 536,-1905 536,-1939\"/>\n",
       "<text text-anchor=\"middle\" x=\"509\" y=\"-1925.4\" font-family=\"Times,serif\" font-size=\"12.00\">None</text>\n",
       "<text text-anchor=\"middle\" x=\"509\" y=\"-1912.4\" font-family=\"Times,serif\" font-size=\"12.00\"> (256)</text>\n",
       "</g>\n",
       "<!-- 140251553204488&#45;&gt;140251553204152 -->\n",
       "<g id=\"edge102\" class=\"edge\"><title>140251553204488&#45;&gt;140251553204152</title>\n",
       "<path fill=\"none\" stroke=\"black\" d=\"M494.287,-1904.84C486.347,-1896.12 476.552,-1885.37 468.496,-1876.52\"/>\n",
       "<polygon fill=\"black\" stroke=\"black\" points=\"471.009,-1874.08 461.689,-1869.04 465.833,-1878.79 471.009,-1874.08\"/>\n",
       "</g>\n",
       "<!-- 140251553204264 -->\n",
       "<g id=\"node100\" class=\"node\"><title>140251553204264</title>\n",
       "<polygon fill=\"lightblue\" stroke=\"black\" points=\"608,-1939 554,-1939 554,-1905 608,-1905 608,-1939\"/>\n",
       "<text text-anchor=\"middle\" x=\"581\" y=\"-1925.4\" font-family=\"Times,serif\" font-size=\"12.00\">None</text>\n",
       "<text text-anchor=\"middle\" x=\"581\" y=\"-1912.4\" font-family=\"Times,serif\" font-size=\"12.00\"> (256)</text>\n",
       "</g>\n",
       "<!-- 140251553204264&#45;&gt;140251553204152 -->\n",
       "<g id=\"edge103\" class=\"edge\"><title>140251553204264&#45;&gt;140251553204152</title>\n",
       "<path fill=\"none\" stroke=\"black\" d=\"M553.854,-1907.96C532.759,-1897.82 503.56,-1883.79 482.006,-1873.44\"/>\n",
       "<polygon fill=\"black\" stroke=\"black\" points=\"483.521,-1870.28 472.991,-1869.11 480.489,-1876.59 483.521,-1870.28\"/>\n",
       "</g>\n",
       "<!-- 140251553203704 -->\n",
       "<g id=\"node101\" class=\"node\"><title>140251553203704</title>\n",
       "<polygon fill=\"lightblue\" stroke=\"black\" points=\"554.5,-1812 461.5,-1812 461.5,-1778 554.5,-1778 554.5,-1812\"/>\n",
       "<text text-anchor=\"middle\" x=\"508\" y=\"-1798.4\" font-family=\"Times,serif\" font-size=\"12.00\">None</text>\n",
       "<text text-anchor=\"middle\" x=\"508\" y=\"-1785.4\" font-family=\"Times,serif\" font-size=\"12.00\"> (256, 256, 3, 3)</text>\n",
       "</g>\n",
       "<!-- 140251553203704&#45;&gt;140251553207576 -->\n",
       "<g id=\"edge104\" class=\"edge\"><title>140251553203704&#45;&gt;140251553207576</title>\n",
       "<path fill=\"none\" stroke=\"black\" d=\"M478.614,-1777.88C457.964,-1766.56 430.566,-1751.54 410.569,-1740.57\"/>\n",
       "<polygon fill=\"black\" stroke=\"black\" points=\"412.133,-1737.44 401.682,-1735.7 408.767,-1743.57 412.133,-1737.44\"/>\n",
       "</g>\n",
       "<!-- 140251553207352 -->\n",
       "<g id=\"node102\" class=\"node\"><title>140251553207352</title>\n",
       "<polygon fill=\"lightblue\" stroke=\"black\" points=\"522,-1742 468,-1742 468,-1708 522,-1708 522,-1742\"/>\n",
       "<text text-anchor=\"middle\" x=\"495\" y=\"-1728.4\" font-family=\"Times,serif\" font-size=\"12.00\">None</text>\n",
       "<text text-anchor=\"middle\" x=\"495\" y=\"-1715.4\" font-family=\"Times,serif\" font-size=\"12.00\"> (256)</text>\n",
       "</g>\n",
       "<!-- 140251553207352&#45;&gt;140251553207128 -->\n",
       "<g id=\"edge105\" class=\"edge\"><title>140251553207352&#45;&gt;140251553207128</title>\n",
       "<path fill=\"none\" stroke=\"black\" d=\"M473.718,-1707.84C461.648,-1698.68 446.614,-1687.26 434.65,-1678.18\"/>\n",
       "<polygon fill=\"black\" stroke=\"black\" points=\"436.648,-1675.3 426.567,-1672.04 432.415,-1680.88 436.648,-1675.3\"/>\n",
       "</g>\n",
       "<!-- 140251553207688 -->\n",
       "<g id=\"node103\" class=\"node\"><title>140251553207688</title>\n",
       "<polygon fill=\"lightblue\" stroke=\"black\" points=\"594,-1742 540,-1742 540,-1708 594,-1708 594,-1742\"/>\n",
       "<text text-anchor=\"middle\" x=\"567\" y=\"-1728.4\" font-family=\"Times,serif\" font-size=\"12.00\">None</text>\n",
       "<text text-anchor=\"middle\" x=\"567\" y=\"-1715.4\" font-family=\"Times,serif\" font-size=\"12.00\"> (256)</text>\n",
       "</g>\n",
       "<!-- 140251553207688&#45;&gt;140251553207128 -->\n",
       "<g id=\"edge106\" class=\"edge\"><title>140251553207688&#45;&gt;140251553207128</title>\n",
       "<path fill=\"none\" stroke=\"black\" d=\"M539.933,-1711.81C536.927,-1710.5 533.904,-1709.21 531,-1708 503.712,-1696.64 472.499,-1684.54 449.179,-1675.68\"/>\n",
       "<polygon fill=\"black\" stroke=\"black\" points=\"450.294,-1672.36 439.702,-1672.09 447.815,-1678.91 450.294,-1672.36\"/>\n",
       "</g>\n",
       "<!-- 140251553207240 -->\n",
       "<g id=\"node104\" class=\"node\"><title>140251553207240</title>\n",
       "<polygon fill=\"lightgrey\" stroke=\"black\" points=\"265,-1869 119,-1869 119,-1848 265,-1848 265,-1869\"/>\n",
       "<text text-anchor=\"middle\" x=\"192\" y=\"-1855.4\" font-family=\"Times,serif\" font-size=\"12.00\">ThnnBatchNormBackward</text>\n",
       "</g>\n",
       "<!-- 140251553207240&#45;&gt;140251553210152 -->\n",
       "<g id=\"edge107\" class=\"edge\"><title>140251553207240&#45;&gt;140251553210152</title>\n",
       "<path fill=\"none\" stroke=\"black\" d=\"M196.52,-1847.93C214.155,-1810.58 278.526,-1674.27 302.193,-1624.15\"/>\n",
       "<polygon fill=\"black\" stroke=\"black\" points=\"305.371,-1625.62 306.476,-1615.08 299.041,-1622.63 305.371,-1625.62\"/>\n",
       "</g>\n",
       "<!-- 140251553206344&#45;&gt;140251553207240 -->\n",
       "<g id=\"edge108\" class=\"edge\"><title>140251553206344&#45;&gt;140251553207240</title>\n",
       "<path fill=\"none\" stroke=\"black\" d=\"M239.25,-1911.39C230.834,-1902.15 217.92,-1887.97 207.719,-1876.76\"/>\n",
       "<polygon fill=\"black\" stroke=\"black\" points=\"210.194,-1874.28 200.873,-1869.24 205.018,-1879 210.194,-1874.28\"/>\n",
       "</g>\n",
       "<!-- 140251553204376 -->\n",
       "<g id=\"node106\" class=\"node\"><title>140251553204376</title>\n",
       "<polygon fill=\"lightblue\" stroke=\"black\" points=\"245.5,-2009 152.5,-2009 152.5,-1975 245.5,-1975 245.5,-2009\"/>\n",
       "<text text-anchor=\"middle\" x=\"199\" y=\"-1995.4\" font-family=\"Times,serif\" font-size=\"12.00\">None</text>\n",
       "<text text-anchor=\"middle\" x=\"199\" y=\"-1982.4\" font-family=\"Times,serif\" font-size=\"12.00\"> (256, 128, 1, 1)</text>\n",
       "</g>\n",
       "<!-- 140251553204376&#45;&gt;140251553206344 -->\n",
       "<g id=\"edge110\" class=\"edge\"><title>140251553204376&#45;&gt;140251553206344</title>\n",
       "<path fill=\"none\" stroke=\"black\" d=\"M210.612,-1974.88C217.879,-1964.8 227.261,-1951.78 234.809,-1941.31\"/>\n",
       "<polygon fill=\"black\" stroke=\"black\" points=\"237.863,-1943.05 240.87,-1932.89 232.184,-1938.96 237.863,-1943.05\"/>\n",
       "</g>\n",
       "<!-- 140251553203816 -->\n",
       "<g id=\"node107\" class=\"node\"><title>140251553203816</title>\n",
       "<polygon fill=\"lightblue\" stroke=\"black\" points=\"92,-1939 38,-1939 38,-1905 92,-1905 92,-1939\"/>\n",
       "<text text-anchor=\"middle\" x=\"65\" y=\"-1925.4\" font-family=\"Times,serif\" font-size=\"12.00\">None</text>\n",
       "<text text-anchor=\"middle\" x=\"65\" y=\"-1912.4\" font-family=\"Times,serif\" font-size=\"12.00\"> (256)</text>\n",
       "</g>\n",
       "<!-- 140251553203816&#45;&gt;140251553207240 -->\n",
       "<g id=\"edge111\" class=\"edge\"><title>140251553203816&#45;&gt;140251553207240</title>\n",
       "<path fill=\"none\" stroke=\"black\" d=\"M92.2447,-1907.81C113.102,-1897.71 141.808,-1883.81 163.072,-1873.51\"/>\n",
       "<polygon fill=\"black\" stroke=\"black\" points=\"164.789,-1876.57 172.264,-1869.06 161.738,-1870.27 164.789,-1876.57\"/>\n",
       "</g>\n",
       "<!-- 140251553204712 -->\n",
       "<g id=\"node108\" class=\"node\"><title>140251553204712</title>\n",
       "<polygon fill=\"lightblue\" stroke=\"black\" points=\"164,-1939 110,-1939 110,-1905 164,-1905 164,-1939\"/>\n",
       "<text text-anchor=\"middle\" x=\"137\" y=\"-1925.4\" font-family=\"Times,serif\" font-size=\"12.00\">None</text>\n",
       "<text text-anchor=\"middle\" x=\"137\" y=\"-1912.4\" font-family=\"Times,serif\" font-size=\"12.00\"> (256)</text>\n",
       "</g>\n",
       "<!-- 140251553204712&#45;&gt;140251553207240 -->\n",
       "<g id=\"edge112\" class=\"edge\"><title>140251553204712&#45;&gt;140251553207240</title>\n",
       "<path fill=\"none\" stroke=\"black\" d=\"M151.451,-1904.84C159.248,-1896.12 168.868,-1885.37 176.781,-1876.52\"/>\n",
       "<polygon fill=\"black\" stroke=\"black\" points=\"179.409,-1878.83 183.467,-1869.04 174.191,-1874.16 179.409,-1878.83\"/>\n",
       "</g>\n",
       "<!-- 140251553210040 -->\n",
       "<g id=\"node109\" class=\"node\"><title>140251553210040</title>\n",
       "<polygon fill=\"lightblue\" stroke=\"black\" points=\"481.5,-1558 388.5,-1558 388.5,-1524 481.5,-1524 481.5,-1558\"/>\n",
       "<text text-anchor=\"middle\" x=\"435\" y=\"-1544.4\" font-family=\"Times,serif\" font-size=\"12.00\">None</text>\n",
       "<text text-anchor=\"middle\" x=\"435\" y=\"-1531.4\" font-family=\"Times,serif\" font-size=\"12.00\"> (256, 256, 3, 3)</text>\n",
       "</g>\n",
       "<!-- 140251553210040&#45;&gt;140251553190856 -->\n",
       "<g id=\"edge113\" class=\"edge\"><title>140251553210040&#45;&gt;140251553190856</title>\n",
       "<path fill=\"none\" stroke=\"black\" d=\"M427.89,-1523.88C423.576,-1514.11 418.044,-1501.57 413.499,-1491.27\"/>\n",
       "<polygon fill=\"black\" stroke=\"black\" points=\"416.604,-1489.63 409.365,-1481.89 410.2,-1492.46 416.604,-1489.63\"/>\n",
       "</g>\n",
       "<!-- 140251553190968 -->\n",
       "<g id=\"node110\" class=\"node\"><title>140251553190968</title>\n",
       "<polygon fill=\"lightblue\" stroke=\"black\" points=\"543,-1488 489,-1488 489,-1454 543,-1454 543,-1488\"/>\n",
       "<text text-anchor=\"middle\" x=\"516\" y=\"-1474.4\" font-family=\"Times,serif\" font-size=\"12.00\">None</text>\n",
       "<text text-anchor=\"middle\" x=\"516\" y=\"-1461.4\" font-family=\"Times,serif\" font-size=\"12.00\"> (256)</text>\n",
       "</g>\n",
       "<!-- 140251553190968&#45;&gt;140251553189960 -->\n",
       "<g id=\"edge114\" class=\"edge\"><title>140251553190968&#45;&gt;140251553189960</title>\n",
       "<path fill=\"none\" stroke=\"black\" d=\"M502.338,-1453.84C495.04,-1445.21 486.055,-1434.58 478.618,-1425.79\"/>\n",
       "<polygon fill=\"black\" stroke=\"black\" points=\"481.197,-1423.42 472.068,-1418.04 475.852,-1427.94 481.197,-1423.42\"/>\n",
       "</g>\n",
       "<!-- 140251553191416 -->\n",
       "<g id=\"node111\" class=\"node\"><title>140251553191416</title>\n",
       "<polygon fill=\"lightblue\" stroke=\"black\" points=\"615,-1488 561,-1488 561,-1454 615,-1454 615,-1488\"/>\n",
       "<text text-anchor=\"middle\" x=\"588\" y=\"-1474.4\" font-family=\"Times,serif\" font-size=\"12.00\">None</text>\n",
       "<text text-anchor=\"middle\" x=\"588\" y=\"-1461.4\" font-family=\"Times,serif\" font-size=\"12.00\"> (256)</text>\n",
       "</g>\n",
       "<!-- 140251553191416&#45;&gt;140251553189960 -->\n",
       "<g id=\"edge115\" class=\"edge\"><title>140251553191416&#45;&gt;140251553189960</title>\n",
       "<path fill=\"none\" stroke=\"black\" d=\"M560.788,-1456.5C540.601,-1446.49 513.14,-1432.87 492.624,-1422.7\"/>\n",
       "<polygon fill=\"black\" stroke=\"black\" points=\"493.97,-1419.46 483.456,-1418.15 490.859,-1425.73 493.97,-1419.46\"/>\n",
       "</g>\n",
       "<!-- 140251553190408 -->\n",
       "<g id=\"node112\" class=\"node\"><title>140251553190408</title>\n",
       "<polygon fill=\"lightblue\" stroke=\"black\" points=\"578.5,-1361 485.5,-1361 485.5,-1327 578.5,-1327 578.5,-1361\"/>\n",
       "<text text-anchor=\"middle\" x=\"532\" y=\"-1347.4\" font-family=\"Times,serif\" font-size=\"12.00\">None</text>\n",
       "<text text-anchor=\"middle\" x=\"532\" y=\"-1334.4\" font-family=\"Times,serif\" font-size=\"12.00\"> (256, 256, 3, 3)</text>\n",
       "</g>\n",
       "<!-- 140251553190408&#45;&gt;140251553190632 -->\n",
       "<g id=\"edge116\" class=\"edge\"><title>140251553190408&#45;&gt;140251553190632</title>\n",
       "<path fill=\"none\" stroke=\"black\" d=\"M502.614,-1326.88C481.964,-1315.56 454.566,-1300.54 434.569,-1289.57\"/>\n",
       "<polygon fill=\"black\" stroke=\"black\" points=\"436.133,-1286.44 425.682,-1284.7 432.767,-1292.57 436.133,-1286.44\"/>\n",
       "</g>\n",
       "<!-- 140251553190184 -->\n",
       "<g id=\"node113\" class=\"node\"><title>140251553190184</title>\n",
       "<polygon fill=\"lightblue\" stroke=\"black\" points=\"546,-1291 492,-1291 492,-1257 546,-1257 546,-1291\"/>\n",
       "<text text-anchor=\"middle\" x=\"519\" y=\"-1277.4\" font-family=\"Times,serif\" font-size=\"12.00\">None</text>\n",
       "<text text-anchor=\"middle\" x=\"519\" y=\"-1264.4\" font-family=\"Times,serif\" font-size=\"12.00\"> (256)</text>\n",
       "</g>\n",
       "<!-- 140251553190184&#45;&gt;140251553193768 -->\n",
       "<g id=\"edge117\" class=\"edge\"><title>140251553190184&#45;&gt;140251553193768</title>\n",
       "<path fill=\"none\" stroke=\"black\" d=\"M504.549,-1256.84C496.752,-1248.12 487.132,-1237.37 479.219,-1228.52\"/>\n",
       "<polygon fill=\"black\" stroke=\"black\" points=\"481.809,-1226.16 472.533,-1221.04 476.591,-1230.83 481.809,-1226.16\"/>\n",
       "</g>\n",
       "<!-- 140251553190296 -->\n",
       "<g id=\"node114\" class=\"node\"><title>140251553190296</title>\n",
       "<polygon fill=\"lightblue\" stroke=\"black\" points=\"618,-1291 564,-1291 564,-1257 618,-1257 618,-1291\"/>\n",
       "<text text-anchor=\"middle\" x=\"591\" y=\"-1277.4\" font-family=\"Times,serif\" font-size=\"12.00\">None</text>\n",
       "<text text-anchor=\"middle\" x=\"591\" y=\"-1264.4\" font-family=\"Times,serif\" font-size=\"12.00\"> (256)</text>\n",
       "</g>\n",
       "<!-- 140251553190296&#45;&gt;140251553193768 -->\n",
       "<g id=\"edge118\" class=\"edge\"><title>140251553190296&#45;&gt;140251553193768</title>\n",
       "<path fill=\"none\" stroke=\"black\" d=\"M563.755,-1259.81C542.898,-1249.71 514.192,-1235.81 492.928,-1225.51\"/>\n",
       "<polygon fill=\"black\" stroke=\"black\" points=\"494.262,-1222.27 483.736,-1221.06 491.211,-1228.57 494.262,-1222.27\"/>\n",
       "</g>\n",
       "<!-- 140251553192984 -->\n",
       "<g id=\"node115\" class=\"node\"><title>140251553192984</title>\n",
       "<polygon fill=\"lightblue\" stroke=\"black\" points=\"531.5,-1107 438.5,-1107 438.5,-1073 531.5,-1073 531.5,-1107\"/>\n",
       "<text text-anchor=\"middle\" x=\"485\" y=\"-1093.4\" font-family=\"Times,serif\" font-size=\"12.00\">None</text>\n",
       "<text text-anchor=\"middle\" x=\"485\" y=\"-1080.4\" font-family=\"Times,serif\" font-size=\"12.00\"> (512, 256, 3, 3)</text>\n",
       "</g>\n",
       "<!-- 140251553192984&#45;&gt;140251553191976 -->\n",
       "<g id=\"edge120\" class=\"edge\"><title>140251553192984&#45;&gt;140251553191976</title>\n",
       "<path fill=\"none\" stroke=\"black\" d=\"M473.388,-1072.88C466.121,-1062.8 456.739,-1049.78 449.191,-1039.31\"/>\n",
       "<polygon fill=\"black\" stroke=\"black\" points=\"451.816,-1036.96 443.13,-1030.89 446.137,-1041.05 451.816,-1036.96\"/>\n",
       "</g>\n",
       "<!-- 140251553193544 -->\n",
       "<g id=\"node116\" class=\"node\"><title>140251553193544</title>\n",
       "<polygon fill=\"lightblue\" stroke=\"black\" points=\"574,-1037 520,-1037 520,-1003 574,-1003 574,-1037\"/>\n",
       "<text text-anchor=\"middle\" x=\"547\" y=\"-1023.4\" font-family=\"Times,serif\" font-size=\"12.00\">None</text>\n",
       "<text text-anchor=\"middle\" x=\"547\" y=\"-1010.4\" font-family=\"Times,serif\" font-size=\"12.00\"> (512)</text>\n",
       "</g>\n",
       "<!-- 140251553193544&#45;&gt;140251553191864 -->\n",
       "<g id=\"edge121\" class=\"edge\"><title>140251553193544&#45;&gt;140251553191864</title>\n",
       "<path fill=\"none\" stroke=\"black\" d=\"M532.287,-1002.84C524.347,-994.122 514.552,-983.366 506.496,-974.518\"/>\n",
       "<polygon fill=\"black\" stroke=\"black\" points=\"509.009,-972.079 499.689,-967.042 503.833,-976.792 509.009,-972.079\"/>\n",
       "</g>\n",
       "<!-- 140251553192648 -->\n",
       "<g id=\"node117\" class=\"node\"><title>140251553192648</title>\n",
       "<polygon fill=\"lightblue\" stroke=\"black\" points=\"646,-1037 592,-1037 592,-1003 646,-1003 646,-1037\"/>\n",
       "<text text-anchor=\"middle\" x=\"619\" y=\"-1023.4\" font-family=\"Times,serif\" font-size=\"12.00\">None</text>\n",
       "<text text-anchor=\"middle\" x=\"619\" y=\"-1010.4\" font-family=\"Times,serif\" font-size=\"12.00\"> (512)</text>\n",
       "</g>\n",
       "<!-- 140251553192648&#45;&gt;140251553191864 -->\n",
       "<g id=\"edge122\" class=\"edge\"><title>140251553192648&#45;&gt;140251553191864</title>\n",
       "<path fill=\"none\" stroke=\"black\" d=\"M591.854,-1005.96C570.759,-995.822 541.56,-981.792 520.006,-971.437\"/>\n",
       "<polygon fill=\"black\" stroke=\"black\" points=\"521.521,-968.281 510.991,-967.105 518.489,-974.591 521.521,-968.281\"/>\n",
       "</g>\n",
       "<!-- 140251553191640 -->\n",
       "<g id=\"node118\" class=\"node\"><title>140251553191640</title>\n",
       "<polygon fill=\"lightblue\" stroke=\"black\" points=\"592.5,-910 499.5,-910 499.5,-876 592.5,-876 592.5,-910\"/>\n",
       "<text text-anchor=\"middle\" x=\"546\" y=\"-896.4\" font-family=\"Times,serif\" font-size=\"12.00\">None</text>\n",
       "<text text-anchor=\"middle\" x=\"546\" y=\"-883.4\" font-family=\"Times,serif\" font-size=\"12.00\"> (512, 512, 3, 3)</text>\n",
       "</g>\n",
       "<!-- 140251553191640&#45;&gt;140251553192088 -->\n",
       "<g id=\"edge123\" class=\"edge\"><title>140251553191640&#45;&gt;140251553192088</title>\n",
       "<path fill=\"none\" stroke=\"black\" d=\"M516.614,-875.885C495.964,-864.561 468.566,-849.536 448.569,-838.57\"/>\n",
       "<polygon fill=\"black\" stroke=\"black\" points=\"450.133,-835.436 439.682,-833.696 446.767,-841.574 450.133,-835.436\"/>\n",
       "</g>\n",
       "<!-- 140251553192200 -->\n",
       "<g id=\"node119\" class=\"node\"><title>140251553192200</title>\n",
       "<polygon fill=\"lightblue\" stroke=\"black\" points=\"560,-840 506,-840 506,-806 560,-806 560,-840\"/>\n",
       "<text text-anchor=\"middle\" x=\"533\" y=\"-826.4\" font-family=\"Times,serif\" font-size=\"12.00\">None</text>\n",
       "<text text-anchor=\"middle\" x=\"533\" y=\"-813.4\" font-family=\"Times,serif\" font-size=\"12.00\"> (512)</text>\n",
       "</g>\n",
       "<!-- 140251553192200&#45;&gt;140251687583640 -->\n",
       "<g id=\"edge124\" class=\"edge\"><title>140251553192200&#45;&gt;140251687583640</title>\n",
       "<path fill=\"none\" stroke=\"black\" d=\"M511.718,-805.842C499.648,-796.678 484.614,-785.263 472.65,-776.179\"/>\n",
       "<polygon fill=\"black\" stroke=\"black\" points=\"474.648,-773.301 464.567,-770.042 470.415,-778.877 474.648,-773.301\"/>\n",
       "</g>\n",
       "<!-- 140251553192424 -->\n",
       "<g id=\"node120\" class=\"node\"><title>140251553192424</title>\n",
       "<polygon fill=\"lightblue\" stroke=\"black\" points=\"632,-840 578,-840 578,-806 632,-806 632,-840\"/>\n",
       "<text text-anchor=\"middle\" x=\"605\" y=\"-826.4\" font-family=\"Times,serif\" font-size=\"12.00\">None</text>\n",
       "<text text-anchor=\"middle\" x=\"605\" y=\"-813.4\" font-family=\"Times,serif\" font-size=\"12.00\"> (512)</text>\n",
       "</g>\n",
       "<!-- 140251553192424&#45;&gt;140251687583640 -->\n",
       "<g id=\"edge125\" class=\"edge\"><title>140251553192424&#45;&gt;140251687583640</title>\n",
       "<path fill=\"none\" stroke=\"black\" d=\"M577.933,-809.806C574.927,-808.501 571.904,-807.209 569,-806 541.712,-794.638 510.499,-782.544 487.179,-773.683\"/>\n",
       "<polygon fill=\"black\" stroke=\"black\" points=\"488.294,-770.362 477.702,-770.095 485.815,-776.909 488.294,-770.362\"/>\n",
       "</g>\n",
       "<!-- 140251553193320 -->\n",
       "<g id=\"node121\" class=\"node\"><title>140251553193320</title>\n",
       "<polygon fill=\"lightgrey\" stroke=\"black\" points=\"303,-967 157,-967 157,-946 303,-946 303,-967\"/>\n",
       "<text text-anchor=\"middle\" x=\"230\" y=\"-953.4\" font-family=\"Times,serif\" font-size=\"12.00\">ThnnBatchNormBackward</text>\n",
       "</g>\n",
       "<!-- 140251553193320&#45;&gt;140251687583528 -->\n",
       "<g id=\"edge126\" class=\"edge\"><title>140251553193320&#45;&gt;140251687583528</title>\n",
       "<path fill=\"none\" stroke=\"black\" d=\"M234.52,-945.929C252.155,-908.584 316.526,-772.268 340.193,-722.151\"/>\n",
       "<polygon fill=\"black\" stroke=\"black\" points=\"343.371,-723.618 344.476,-713.081 337.041,-720.628 343.371,-723.618\"/>\n",
       "</g>\n",
       "<!-- 140251553192536&#45;&gt;140251553193320 -->\n",
       "<g id=\"edge127\" class=\"edge\"><title>140251553192536&#45;&gt;140251553193320</title>\n",
       "<path fill=\"none\" stroke=\"black\" d=\"M277.25,-1009.39C268.834,-1000.15 255.92,-985.966 245.719,-974.763\"/>\n",
       "<polygon fill=\"black\" stroke=\"black\" points=\"248.194,-972.282 238.873,-967.245 243.018,-976.995 248.194,-972.282\"/>\n",
       "</g>\n",
       "<!-- 140251553191528 -->\n",
       "<g id=\"node123\" class=\"node\"><title>140251553191528</title>\n",
       "<polygon fill=\"lightblue\" stroke=\"black\" points=\"283.5,-1107 190.5,-1107 190.5,-1073 283.5,-1073 283.5,-1107\"/>\n",
       "<text text-anchor=\"middle\" x=\"237\" y=\"-1093.4\" font-family=\"Times,serif\" font-size=\"12.00\">None</text>\n",
       "<text text-anchor=\"middle\" x=\"237\" y=\"-1080.4\" font-family=\"Times,serif\" font-size=\"12.00\"> (512, 256, 1, 1)</text>\n",
       "</g>\n",
       "<!-- 140251553191528&#45;&gt;140251553192536 -->\n",
       "<g id=\"edge129\" class=\"edge\"><title>140251553191528&#45;&gt;140251553192536</title>\n",
       "<path fill=\"none\" stroke=\"black\" d=\"M248.612,-1072.88C255.879,-1062.8 265.261,-1049.78 272.809,-1039.31\"/>\n",
       "<polygon fill=\"black\" stroke=\"black\" points=\"275.863,-1041.05 278.87,-1030.89 270.184,-1036.96 275.863,-1041.05\"/>\n",
       "</g>\n",
       "<!-- 140251553191192 -->\n",
       "<g id=\"node124\" class=\"node\"><title>140251553191192</title>\n",
       "<polygon fill=\"lightblue\" stroke=\"black\" points=\"130,-1037 76,-1037 76,-1003 130,-1003 130,-1037\"/>\n",
       "<text text-anchor=\"middle\" x=\"103\" y=\"-1023.4\" font-family=\"Times,serif\" font-size=\"12.00\">None</text>\n",
       "<text text-anchor=\"middle\" x=\"103\" y=\"-1010.4\" font-family=\"Times,serif\" font-size=\"12.00\"> (512)</text>\n",
       "</g>\n",
       "<!-- 140251553191192&#45;&gt;140251553193320 -->\n",
       "<g id=\"edge130\" class=\"edge\"><title>140251553191192&#45;&gt;140251553193320</title>\n",
       "<path fill=\"none\" stroke=\"black\" d=\"M130.245,-1005.81C151.102,-995.706 179.808,-981.806 201.072,-971.508\"/>\n",
       "<polygon fill=\"black\" stroke=\"black\" points=\"202.789,-974.566 210.264,-967.057 199.738,-968.266 202.789,-974.566\"/>\n",
       "</g>\n",
       "<!-- 140251553192760 -->\n",
       "<g id=\"node125\" class=\"node\"><title>140251553192760</title>\n",
       "<polygon fill=\"lightblue\" stroke=\"black\" points=\"202,-1037 148,-1037 148,-1003 202,-1003 202,-1037\"/>\n",
       "<text text-anchor=\"middle\" x=\"175\" y=\"-1023.4\" font-family=\"Times,serif\" font-size=\"12.00\">None</text>\n",
       "<text text-anchor=\"middle\" x=\"175\" y=\"-1010.4\" font-family=\"Times,serif\" font-size=\"12.00\"> (512)</text>\n",
       "</g>\n",
       "<!-- 140251553192760&#45;&gt;140251553193320 -->\n",
       "<g id=\"edge131\" class=\"edge\"><title>140251553192760&#45;&gt;140251553193320</title>\n",
       "<path fill=\"none\" stroke=\"black\" d=\"M189.451,-1002.84C197.248,-994.122 206.868,-983.366 214.781,-974.518\"/>\n",
       "<polygon fill=\"black\" stroke=\"black\" points=\"217.409,-976.829 221.467,-967.042 212.191,-972.163 217.409,-976.829\"/>\n",
       "</g>\n",
       "<!-- 140251687583304 -->\n",
       "<g id=\"node126\" class=\"node\"><title>140251687583304</title>\n",
       "<polygon fill=\"lightblue\" stroke=\"black\" points=\"519.5,-656 426.5,-656 426.5,-622 519.5,-622 519.5,-656\"/>\n",
       "<text text-anchor=\"middle\" x=\"473\" y=\"-642.4\" font-family=\"Times,serif\" font-size=\"12.00\">None</text>\n",
       "<text text-anchor=\"middle\" x=\"473\" y=\"-629.4\" font-family=\"Times,serif\" font-size=\"12.00\"> (512, 512, 3, 3)</text>\n",
       "</g>\n",
       "<!-- 140251687583304&#45;&gt;140251687580056 -->\n",
       "<g id=\"edge132\" class=\"edge\"><title>140251687583304&#45;&gt;140251687580056</title>\n",
       "<path fill=\"none\" stroke=\"black\" d=\"M465.89,-621.885C461.576,-612.106 456.044,-599.567 451.499,-589.265\"/>\n",
       "<polygon fill=\"black\" stroke=\"black\" points=\"454.604,-587.631 447.365,-579.895 448.2,-590.457 454.604,-587.631\"/>\n",
       "</g>\n",
       "<!-- 140251687580616 -->\n",
       "<g id=\"node127\" class=\"node\"><title>140251687580616</title>\n",
       "<polygon fill=\"lightblue\" stroke=\"black\" points=\"581,-586 527,-586 527,-552 581,-552 581,-586\"/>\n",
       "<text text-anchor=\"middle\" x=\"554\" y=\"-572.4\" font-family=\"Times,serif\" font-size=\"12.00\">None</text>\n",
       "<text text-anchor=\"middle\" x=\"554\" y=\"-559.4\" font-family=\"Times,serif\" font-size=\"12.00\"> (512)</text>\n",
       "</g>\n",
       "<!-- 140251687580616&#45;&gt;140251687579720 -->\n",
       "<g id=\"edge133\" class=\"edge\"><title>140251687580616&#45;&gt;140251687579720</title>\n",
       "<path fill=\"none\" stroke=\"black\" d=\"M540.338,-551.842C533.04,-543.211 524.055,-532.585 516.618,-523.789\"/>\n",
       "<polygon fill=\"black\" stroke=\"black\" points=\"519.197,-521.418 510.068,-516.042 513.852,-525.938 519.197,-521.418\"/>\n",
       "</g>\n",
       "<!-- 140251687583416 -->\n",
       "<g id=\"node128\" class=\"node\"><title>140251687583416</title>\n",
       "<polygon fill=\"lightblue\" stroke=\"black\" points=\"653,-586 599,-586 599,-552 653,-552 653,-586\"/>\n",
       "<text text-anchor=\"middle\" x=\"626\" y=\"-572.4\" font-family=\"Times,serif\" font-size=\"12.00\">None</text>\n",
       "<text text-anchor=\"middle\" x=\"626\" y=\"-559.4\" font-family=\"Times,serif\" font-size=\"12.00\"> (512)</text>\n",
       "</g>\n",
       "<!-- 140251687583416&#45;&gt;140251687579720 -->\n",
       "<g id=\"edge134\" class=\"edge\"><title>140251687583416&#45;&gt;140251687579720</title>\n",
       "<path fill=\"none\" stroke=\"black\" d=\"M598.788,-554.504C578.601,-544.492 551.14,-530.872 530.624,-520.697\"/>\n",
       "<polygon fill=\"black\" stroke=\"black\" points=\"531.97,-517.457 521.456,-516.15 528.859,-523.728 531.97,-517.457\"/>\n",
       "</g>\n",
       "<!-- 140251687580168 -->\n",
       "<g id=\"node129\" class=\"node\"><title>140251687580168</title>\n",
       "<polygon fill=\"lightblue\" stroke=\"black\" points=\"616.5,-459 523.5,-459 523.5,-425 616.5,-425 616.5,-459\"/>\n",
       "<text text-anchor=\"middle\" x=\"570\" y=\"-445.4\" font-family=\"Times,serif\" font-size=\"12.00\">None</text>\n",
       "<text text-anchor=\"middle\" x=\"570\" y=\"-432.4\" font-family=\"Times,serif\" font-size=\"12.00\"> (512, 512, 3, 3)</text>\n",
       "</g>\n",
       "<!-- 140251687580168&#45;&gt;140251687582184 -->\n",
       "<g id=\"edge135\" class=\"edge\"><title>140251687580168&#45;&gt;140251687582184</title>\n",
       "<path fill=\"none\" stroke=\"black\" d=\"M540.614,-424.885C519.964,-413.561 492.566,-398.536 472.569,-387.57\"/>\n",
       "<polygon fill=\"black\" stroke=\"black\" points=\"474.133,-384.436 463.682,-382.696 470.767,-390.574 474.133,-384.436\"/>\n",
       "</g>\n",
       "<!-- 140251687582296 -->\n",
       "<g id=\"node130\" class=\"node\"><title>140251687582296</title>\n",
       "<polygon fill=\"lightblue\" stroke=\"black\" points=\"584,-389 530,-389 530,-355 584,-355 584,-389\"/>\n",
       "<text text-anchor=\"middle\" x=\"557\" y=\"-375.4\" font-family=\"Times,serif\" font-size=\"12.00\">None</text>\n",
       "<text text-anchor=\"middle\" x=\"557\" y=\"-362.4\" font-family=\"Times,serif\" font-size=\"12.00\"> (512)</text>\n",
       "</g>\n",
       "<!-- 140251687582296&#45;&gt;140251687582800 -->\n",
       "<g id=\"edge136\" class=\"edge\"><title>140251687582296&#45;&gt;140251687582800</title>\n",
       "<path fill=\"none\" stroke=\"black\" d=\"M542.549,-354.842C534.752,-346.122 525.132,-335.366 517.219,-326.518\"/>\n",
       "<polygon fill=\"black\" stroke=\"black\" points=\"519.809,-324.163 510.533,-319.042 514.591,-328.829 519.809,-324.163\"/>\n",
       "</g>\n",
       "<!-- 140251687582576 -->\n",
       "<g id=\"node131\" class=\"node\"><title>140251687582576</title>\n",
       "<polygon fill=\"lightblue\" stroke=\"black\" points=\"656,-389 602,-389 602,-355 656,-355 656,-389\"/>\n",
       "<text text-anchor=\"middle\" x=\"629\" y=\"-375.4\" font-family=\"Times,serif\" font-size=\"12.00\">None</text>\n",
       "<text text-anchor=\"middle\" x=\"629\" y=\"-362.4\" font-family=\"Times,serif\" font-size=\"12.00\"> (512)</text>\n",
       "</g>\n",
       "<!-- 140251687582576&#45;&gt;140251687582800 -->\n",
       "<g id=\"edge137\" class=\"edge\"><title>140251687582576&#45;&gt;140251687582800</title>\n",
       "<path fill=\"none\" stroke=\"black\" d=\"M601.755,-357.807C580.898,-347.706 552.192,-333.806 530.928,-323.508\"/>\n",
       "<polygon fill=\"black\" stroke=\"black\" points=\"532.262,-320.266 521.736,-319.057 529.211,-326.566 532.262,-320.266\"/>\n",
       "</g>\n",
       "<!-- 140251687581400 -->\n",
       "<g id=\"node132\" class=\"node\"><title>140251687581400</title>\n",
       "<polygon fill=\"lightgrey\" stroke=\"black\" points=\"544.5,-78 471.5,-78 471.5,-57 544.5,-57 544.5,-78\"/>\n",
       "<text text-anchor=\"middle\" x=\"508\" y=\"-64.4\" font-family=\"Times,serif\" font-size=\"12.00\">TBackward</text>\n",
       "</g>\n",
       "<!-- 140251687581400&#45;&gt;140251687582968 -->\n",
       "<g id=\"edge139\" class=\"edge\"><title>140251687581400&#45;&gt;140251687582968</title>\n",
       "<path fill=\"none\" stroke=\"black\" d=\"M489.71,-56.9197C473.324,-48.3365 449.063,-35.6281 430.367,-25.8351\"/>\n",
       "<polygon fill=\"black\" stroke=\"black\" points=\"431.915,-22.6947 421.432,-21.155 428.667,-28.8956 431.915,-22.6947\"/>\n",
       "</g>\n",
       "<!-- 140251687580728 -->\n",
       "<g id=\"node133\" class=\"node\"><title>140251687580728</title>\n",
       "<polygon fill=\"lightblue\" stroke=\"black\" points=\"553.5,-148 478.5,-148 478.5,-114 553.5,-114 553.5,-148\"/>\n",
       "<text text-anchor=\"middle\" x=\"516\" y=\"-134.4\" font-family=\"Times,serif\" font-size=\"12.00\">None</text>\n",
       "<text text-anchor=\"middle\" x=\"516\" y=\"-121.4\" font-family=\"Times,serif\" font-size=\"12.00\"> (1000, 512)</text>\n",
       "</g>\n",
       "<!-- 140251687580728&#45;&gt;140251687581400 -->\n",
       "<g id=\"edge140\" class=\"edge\"><title>140251687580728&#45;&gt;140251687581400</title>\n",
       "<path fill=\"none\" stroke=\"black\" d=\"M513.898,-113.842C512.868,-105.923 511.619,-96.3241 510.537,-88.0006\"/>\n",
       "<polygon fill=\"black\" stroke=\"black\" points=\"514.002,-87.5068 509.241,-78.0419 507.06,-88.4099 514.002,-87.5068\"/>\n",
       "</g>\n",
       "</g>\n",
       "</svg>\n"
      ],
      "text/plain": [
       "<graphviz.dot.Digraph at 0x7f8ee40449e8>"
      ]
     },
     "execution_count": 60,
     "metadata": {},
     "output_type": "execute_result"
    }
   ],
   "source": [
    "from torchvision.models import resnet18\n",
    "\n",
    "model = resnet18()\n",
    "\n",
    "X = torch.FloatTensor(10, 3, 224, 224).normal_(0, 1)\n",
    "\n",
    "make_dot(model(X), model.state_dict())"
   ]
  },
  {
   "cell_type": "code",
   "execution_count": 61,
   "metadata": {
    "slideshow": {
     "slide_type": "fragment"
    }
   },
   "outputs": [
    {
     "name": "stdout",
     "output_type": "stream",
     "text": [
      ".\n",
      ".\n",
      ".\n",
      ".\n",
      ".\n"
     ]
    }
   ],
   "source": [
    "for _ in range(5):\n",
    "    print('.')"
   ]
  },
  {
   "cell_type": "markdown",
   "metadata": {
    "slideshow": {
     "slide_type": "slide"
    }
   },
   "source": [
    "<img src=\"images/dl.png\" />\n",
    "\n",
    "###### .\n",
    "###### .\n",
    "###### .\n",
    "###### .\n",
    "###### .\n",
    "###### ."
   ]
  }
 ],
 "metadata": {
  "celltoolbar": "Slideshow",
  "kernelspec": {
   "display_name": "Python 3",
   "language": "python",
   "name": "python3"
  },
  "language_info": {
   "codemirror_mode": {
    "name": "ipython",
    "version": 3
   },
   "file_extension": ".py",
   "mimetype": "text/x-python",
   "name": "python",
   "nbconvert_exporter": "python",
   "pygments_lexer": "ipython3",
   "version": "3.6.5"
  }
 },
 "nbformat": 4,
 "nbformat_minor": 2
}
